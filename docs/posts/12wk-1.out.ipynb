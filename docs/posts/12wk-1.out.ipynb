{
  "cells": [
    {
      "cell_type": "markdown",
      "metadata": {},
      "source": [
        "# 12wk-1: 순환신경망 (2) – 순환신경망의 이해, `rNNCell`, `RNNCell`\n",
        "\n",
        "최규빈  \n",
        "2024-05-20\n",
        "\n",
        "<a href=\"https://colab.research.google.com/github/guebin/DL2025/blob/main/posts/12wk-1.ipynb\"><img src=\"https://colab.research.google.com/assets/colab-badge.svg\" style=\"text-align: left\"></a>\n",
        "\n",
        "# 1. 강의영상\n",
        "\n",
        "<https://youtu.be/playlist?list=PLQqh36zP38-xq0bBQn8ZP607mS0ZKI8Sg&si=-cQULuc2x7noftgE>\n",
        "\n",
        "# 2. Import"
      ],
      "id": "76b66237-778c-4342-8c74-482b911da960"
    },
    {
      "cell_type": "code",
      "execution_count": 177,
      "metadata": {
        "tags": []
      },
      "outputs": [],
      "source": [
        "import torch\n",
        "import pandas as pd\n",
        "import matplotlib.pyplot as plt"
      ],
      "id": "68a71a91-0657-43d7-8cfc-e72fc147979e"
    },
    {
      "cell_type": "code",
      "execution_count": 178,
      "metadata": {
        "tags": []
      },
      "outputs": [],
      "source": [
        "soft = torch.nn.Softmax(dim=1)"
      ],
      "id": "1fbd5352-e660-4eda-9543-a84e6e92a3f2"
    },
    {
      "cell_type": "markdown",
      "metadata": {},
      "source": [
        "# 3. AbAcAd – 실패\n",
        "\n",
        "## A. Data\n",
        "\n",
        "`-` 데이터 정리"
      ],
      "id": "9765da1d-38b2-4bc3-bfdf-37425fddc232"
    },
    {
      "cell_type": "code",
      "execution_count": 179,
      "metadata": {
        "tags": []
      },
      "outputs": [],
      "source": [
        "txt = list('AbAcAd'*50)\n",
        "txt[:10]"
      ],
      "id": "e78e111f-fc9e-4ae8-8f56-501e12c4825d"
    },
    {
      "cell_type": "code",
      "execution_count": 180,
      "metadata": {
        "tags": []
      },
      "outputs": [],
      "source": [
        "df_train = pd.DataFrame({'x':txt[:-1], 'y':txt[1:]})\n",
        "df_train[:5]"
      ],
      "id": "1e07fd45-4b69-4d7f-91e8-ff57735da758"
    },
    {
      "cell_type": "code",
      "execution_count": 181,
      "metadata": {
        "tags": []
      },
      "outputs": [],
      "source": [
        "x = torch.tensor(df_train.x.map({'A':0,'b':1,'c':2,'d':3}))\n",
        "y = torch.tensor(df_train.y.map({'A':0,'b':1,'c':2,'d':3}))"
      ],
      "id": "ba5f69ec-12b0-4dc2-8e53-9548e6ae5979"
    },
    {
      "cell_type": "code",
      "execution_count": 182,
      "metadata": {
        "tags": []
      },
      "outputs": [],
      "source": [
        "x[:8],y[:8]"
      ],
      "id": "3da4f678-9e3a-4e6c-b5a1-9a36342011da"
    },
    {
      "cell_type": "markdown",
      "metadata": {},
      "source": [
        "## B. 풀이 – 실패"
      ],
      "id": "ce2b85fa-4c83-4df5-8937-4988e40828d5"
    },
    {
      "cell_type": "code",
      "execution_count": 183,
      "metadata": {
        "tags": []
      },
      "outputs": [],
      "source": [
        "net = torch.nn.Sequential(\n",
        "    torch.nn.Embedding(4,2),\n",
        "    torch.nn.Tanh(),\n",
        "    torch.nn.Linear(2,4)\n",
        ")\n",
        "ebdd,tanh,linr = net\n",
        "ebdd.weight.data = ebdd.weight.data*0 +0.1\n",
        "linr.weight.data = linr.weight.data*0 +0.1\n",
        "linr.bias.data = linr.bias.data*0 +0.1\n",
        "#\n",
        "loss_fn = torch.nn.CrossEntropyLoss()\n",
        "optimizr = torch.optim.Adam(net.parameters(),lr=0.1)\n",
        "#---#\n",
        "for epoc in range(200):\n",
        "    # 1 \n",
        "    netout = net(x)\n",
        "    # 2 \n",
        "    loss = loss_fn(netout,y)\n",
        "    # 3 \n",
        "    loss.backward()\n",
        "    # 4 \n",
        "    optimizr.step()\n",
        "    optimizr.zero_grad()"
      ],
      "id": "929ff988-258e-4253-9303-a4ac1ca78cca"
    },
    {
      "cell_type": "code",
      "execution_count": 169,
      "metadata": {
        "tags": []
      },
      "outputs": [
        {
          "output_type": "display_data",
          "metadata": {},
          "data": {
            "image/png": "[encoded data removed]"
          }
        }
      ],
      "source": [
        "h = tanh(ebdd(x))\n",
        "yhat = soft(net(x))\n",
        "mat = torch.concat([h,yhat],axis=1).data[:10]\n",
        "plt.matshow(mat,cmap=\"bwr\",vmin=-1,vmax=1)\n",
        "plt.axvline(1.5,color=\"lime\")\n",
        "plt.xticks(ticks=range(6),labels=[r\"$h_1$\",r\"$h_2$\",r\"$P_A$\",r\"$P_b$\",r\"$P_c$\",r\"$P_d$\"]);"
      ],
      "id": "ba1aad55-5a72-481e-889b-248aef03db34"
    },
    {
      "cell_type": "markdown",
      "metadata": {},
      "source": [
        "-   망했음\n",
        "-   왜?\n",
        "\n",
        "`-` 일단 망한건 망한거고 분석을 위해서 숫자좀 체크하자."
      ],
      "id": "4a9da017-e522-4d08-8590-beeb938a8f13"
    },
    {
      "cell_type": "code",
      "execution_count": 168,
      "metadata": {
        "tags": []
      },
      "outputs": [],
      "source": [
        "net(x)"
      ],
      "id": "64139efc-eec1-4cc8-b335-2c86264e4b88"
    },
    {
      "cell_type": "markdown",
      "metadata": {},
      "source": [
        "## C. 실패한 풀이의 다른구현1\n",
        "\n",
        "`-` B를 다른방식으로 구현해보자.\n",
        "\n",
        "`-` 새로운 방식의 데이터 정리"
      ],
      "id": "95fac856-1bb3-4d64-b4df-e8f3bad1ac19"
    },
    {
      "cell_type": "code",
      "execution_count": 40,
      "metadata": {
        "tags": []
      },
      "outputs": [],
      "source": [
        "x = torch.tensor(df_train.x.map({'A':0,'b':1,'c':2,'d':3}))\n",
        "y = torch.tensor(df_train.y.map({'A':0,'b':1,'c':2,'d':3}))\n",
        "X = torch.nn.functional.one_hot(x).float()\n",
        "y = torch.nn.functional.one_hot(y).float()"
      ],
      "id": "865f058a-1b21-4d82-a50d-bee58b535c8e"
    },
    {
      "cell_type": "markdown",
      "metadata": {},
      "source": [
        "`-` 사용자 정의 Hnet를 사용"
      ],
      "id": "2335c75b-5444-4865-81c2-0a87d2b0e0fc"
    },
    {
      "cell_type": "code",
      "execution_count": 41,
      "metadata": {
        "tags": []
      },
      "outputs": [],
      "source": [
        "class Hnet(torch.nn.Module):\n",
        "    def __init__(self):\n",
        "        super().__init__()\n",
        "        self.i2h = torch.nn.Linear(4,2,bias=False)\n",
        "        self.tanh = torch.nn.Tanh()\n",
        "    def forward(self,X):\n",
        "        h = self.tanh(self.i2h(X))\n",
        "        return h\n",
        "hnet = Hnet()\n",
        "linr = torch.nn.Linear(2,4)\n",
        "hnet.i2h.weight.data = hnet.i2h.weight.data*0 + 0.1\n",
        "linr.weight.data = linr.weight.data*0 + 0.1\n",
        "linr.bias.data = linr.bias.data*0 + 0.1\n",
        "# \n",
        "loss_fn = torch.nn.CrossEntropyLoss()\n",
        "optimizr = torch.optim.Adam(list(hnet.parameters())+list(linr.parameters()),lr=0.1)\n",
        "#---#\n",
        "for epoc in range(200):\n",
        "    # 1 \n",
        "    h = hnet(X)\n",
        "    netout = linr(h)\n",
        "    # 2 \n",
        "    loss = loss_fn(netout,y)\n",
        "    # 3 \n",
        "    loss.backward()\n",
        "    # 4 \n",
        "    optimizr.step()\n",
        "    optimizr.zero_grad()"
      ],
      "id": "91bb1b4d-8671-44da-8f0e-6576df02496e"
    },
    {
      "cell_type": "markdown",
      "metadata": {},
      "source": [
        "`-` 이것도 숫자좀 체크해보자."
      ],
      "id": "38de438b-0b93-4472-8e1c-5217f1da6c34"
    },
    {
      "cell_type": "code",
      "execution_count": 42,
      "metadata": {
        "tags": []
      },
      "outputs": [],
      "source": [
        "linr(hnet(X))"
      ],
      "id": "aee6eda1-6939-48a0-a929-eb105982b367"
    },
    {
      "cell_type": "markdown",
      "metadata": {},
      "source": [
        "-   이전코드와 결과가 같음\n",
        "\n",
        "## D. 실패한 풀이의 다른구현2\n",
        "\n",
        "`# 예비학습` – 아래를 관찰하자."
      ],
      "id": "941634b9-c429-42a4-984e-c4d67a52cccd"
    },
    {
      "cell_type": "code",
      "execution_count": 43,
      "metadata": {
        "tags": []
      },
      "outputs": [],
      "source": [
        "X = torch.tensor(\n",
        "    [[1., 0., 0., 0.],\n",
        "     [0., 1., 0., 0.]]\n",
        ")\n",
        "linr = torch.nn.Linear(4,2)"
      ],
      "id": "058e9ca0-4bf0-49d6-a968-010284db3388"
    },
    {
      "cell_type": "code",
      "execution_count": 44,
      "metadata": {
        "tags": []
      },
      "outputs": [],
      "source": [
        "linr(X)"
      ],
      "id": "a42696f7-11c7-4d06-9ae2-9d3d0acfedbf"
    },
    {
      "cell_type": "code",
      "execution_count": 45,
      "metadata": {
        "tags": []
      },
      "outputs": [],
      "source": [
        "linr(X[[0]]),linr(X[[1]])"
      ],
      "id": "6f7c7d53-d9bd-45f2-94f9-20d81609e825"
    },
    {
      "cell_type": "code",
      "execution_count": 46,
      "metadata": {
        "tags": []
      },
      "outputs": [],
      "source": [
        "linr(X[0]),linr(X[1])"
      ],
      "id": "b3df9f9a-06d2-430b-82cc-63689ae8d204"
    },
    {
      "cell_type": "markdown",
      "metadata": {},
      "source": [
        "`#`\n",
        "\n",
        "`-` 또 다른방식의 구현"
      ],
      "id": "9eaf3fbb-8a79-4849-b0b7-fd03d6e21335"
    },
    {
      "cell_type": "code",
      "execution_count": 47,
      "metadata": {
        "tags": []
      },
      "outputs": [],
      "source": [
        "x = torch.tensor(df_train.x.map({'A':0,'b':1,'c':2,'d':3}))\n",
        "y = torch.tensor(df_train.y.map({'A':0,'b':1,'c':2,'d':3}))\n",
        "X = torch.nn.functional.one_hot(x).float()\n",
        "y = torch.nn.functional.one_hot(y).float()"
      ],
      "id": "602c9df3-02d9-4bc2-a0f3-79f6808bc61d"
    },
    {
      "cell_type": "code",
      "execution_count": 48,
      "metadata": {
        "tags": []
      },
      "outputs": [],
      "source": [
        "class Hnet(torch.nn.Module):\n",
        "    def __init__(self):\n",
        "        super().__init__()\n",
        "        self.i2h = torch.nn.Linear(4,2,bias=False)\n",
        "        self.tanh = torch.nn.Tanh()\n",
        "    def forward(self,X):\n",
        "        h = self.tanh(self.i2h(X))\n",
        "        return h\n",
        "hnet = Hnet()\n",
        "linr = torch.nn.Linear(2,4)\n",
        "hnet.i2h.weight.data = hnet.i2h.weight.data*0 + 0.1\n",
        "linr.weight.data = linr.weight.data*0 + 0.1\n",
        "linr.bias.data = linr.bias.data*0 + 0.1\n",
        "# \n",
        "loss_fn = torch.nn.CrossEntropyLoss()\n",
        "optimizr = torch.optim.Adam(list(hnet.parameters())+list(linr.parameters()),lr=0.1)\n",
        "#---#\n",
        "L = len(X)\n",
        "for epoc in range(200):\n",
        "    # 1~2 \n",
        "    loss = 0 \n",
        "    for t in range(L):\n",
        "        Xt,yt = X[t],y[t]\n",
        "        ht = hnet(Xt)\n",
        "        ot = linr(ht)\n",
        "        loss = loss + loss_fn(ot,yt)\n",
        "    loss = loss/L\n",
        "    # 3 \n",
        "    loss.backward()\n",
        "    # 4 \n",
        "    optimizr.step()\n",
        "    optimizr.zero_grad()"
      ],
      "id": "0561d418-68d7-45a1-a72c-f6ed06c8f9ef"
    },
    {
      "cell_type": "markdown",
      "metadata": {},
      "source": [
        "`-` 이것도 숫자좀 체크해보자."
      ],
      "id": "4933f454-a63b-4594-99b2-e437bae8b493"
    },
    {
      "cell_type": "code",
      "execution_count": 49,
      "metadata": {
        "tags": []
      },
      "outputs": [],
      "source": [
        "linr(hnet(X))"
      ],
      "id": "5453fd9f-8824-4e3d-93af-2e634ccb3fc8"
    },
    {
      "cell_type": "markdown",
      "metadata": {},
      "source": [
        "`-` 임베딩공간의 해석"
      ],
      "id": "b26ba722-7fa2-42e0-a3d0-aba3f407584a"
    },
    {
      "cell_type": "code",
      "execution_count": 50,
      "metadata": {
        "tags": []
      },
      "outputs": [],
      "source": [
        "h = hnet(X)"
      ],
      "id": "189bc840-a27b-40da-87ce-f35ac91d1574"
    },
    {
      "cell_type": "code",
      "execution_count": 51,
      "metadata": {
        "tags": []
      },
      "outputs": [],
      "source": [
        "h.shape"
      ],
      "id": "d62b1a49-a9d2-4680-b300-f39e011b77b7"
    },
    {
      "cell_type": "code",
      "execution_count": 52,
      "metadata": {
        "tags": []
      },
      "outputs": [],
      "source": [
        "h1,h2 = h.T.data\n",
        "# h1 = h[:,0].data\n",
        "# h2 = h[:,1].data"
      ],
      "id": "1f01d3f4-ae66-408f-9975-a1d8067098e9"
    },
    {
      "cell_type": "code",
      "execution_count": 53,
      "metadata": {
        "tags": []
      },
      "outputs": [
        {
          "output_type": "display_data",
          "metadata": {},
          "data": {
            "image/png": "[encoded data removed]"
          }
        }
      ],
      "source": [
        "plt.plot(h1[::6],h2[::6],'X',label=\"A\")\n",
        "plt.plot(h1[1::6],h2[1::6],'X',label=\"b\")\n",
        "plt.plot(h1[2::6],h2[2::6],'X',label=\"A\")\n",
        "plt.plot(h1[3::6],h2[3::6],'X',label=\"c\")\n",
        "plt.plot(h1[4::6],h2[4::6],'X',label=\"A\")\n",
        "plt.plot(h1[5::6],h2[5::6],'X',label=\"d\")\n",
        "plt.legend()"
      ],
      "id": "75938155-6b21-404e-805e-bbdb707201bf"
    },
    {
      "cell_type": "markdown",
      "metadata": {},
      "source": [
        "> 임베딩공간의 해석? b,c,d는 사실상 같은 문자로 취급한다.\n",
        "\n",
        "# 4. `AbAcAd` – 성공\n",
        "\n",
        "## A. 순환신경망의 모티브\n",
        "\n",
        "***(예비생각1) ${\\boldsymbol h}$에 대한 이해***\n",
        "\n",
        "`-` ${\\boldsymbol h}$는 사실 문자열 “Abcd”들을 숫자로 바꾼 표현이라\n",
        "해석할 수 있음. 즉 원핫인코딩과 다른 또 다른 형태의 숫자표현이라 해석할\n",
        "수 있다.\n",
        "\n",
        "`-` 사실 ${\\boldsymbol h}$는 원핫인코딩보다 약간 더 (1) 액기스만 남은\n",
        "느낌 + (2) 숙성된 느낌을 준다\n",
        "\n",
        "-   (why1) ${\\boldsymbol h}$는 ${\\boldsymbol x}$ 보다\n",
        "    ${\\boldsymbol y}$를 예측함에 좀 더 직접적인 역할을 한다. 즉\n",
        "    ${\\boldsymbol x}$ 숫자보다 ${\\boldsymbol h}$ 숫자가 잘 정리되어 있고\n",
        "    (차원이 낮고) 입력의 특징을 잘 정리한 (추천시스템의 MBTI처럼)\n",
        "    의미있는 숫자이다.\n",
        "-   (why2) ${\\boldsymbol x}$는 학습없이 그냥 얻어지는 숫자표현이지만,\n",
        "    ${\\boldsymbol h}$는 학습을 통하여 고치고 고치고 고친 숫자표현이다.\n",
        "\n",
        "결론: 사실 ${\\boldsymbol h}$는 잘 숙성되어있는 입력정보\n",
        "${\\boldsymbol x}$ 그 자체로 해석 할 수 있다.\n",
        "\n",
        "***(예비생각2) [수백년전통을 이어가는\n",
        "방법](https://www.joongang.co.kr/article/24087690#home)***\n",
        "\n",
        "    “1리터에 500만원에 낙찰된 적 있습니다.”\n",
        "    “2kg에 1억원 정도 추산됩니다.”\n",
        "    “20여 종 종자장을 블렌딩해 100ml에 5000만원씩 분양 예정입니다.”\n",
        "\n",
        "    모두 씨간장(종자장) 가격에 관한 실제 일화다.\n",
        "\n",
        "    (중략...)\n",
        "\n",
        "    위스키나 와인처럼 블렌딩을 하기도 한다. \n",
        "    새로 담근 간장에 씨간장을 넣거나, 씨간장독에 햇간장을 넣어 맛을 유지하기도 한다. \n",
        "    이를 겹장(또는 덧장)이라 한다. \n",
        "    몇몇 종갓집에선 씨간장 잇기를 몇백 년째 해오고 있다. \n",
        "    매년 새로 간장을 담가야 이어갈 수 있으니 불씨 꺼트리지 않는 것처럼 굉장히 어려운 일이다.\n",
        "    이렇게 하는 이유는 집집마다 내려오는 고유 장맛을 잃지 않기 위함이다. \n",
        "    씨간장이란 그만큼 소중한 주방의 자산이며 정체성이다.\n",
        "\n",
        "덧장: 새로운간장을 만들때, 옛날간장을 섞어서 만듬\n",
        "\n",
        "`*` 기존방식 -\n",
        "$\\text{콩물} \\overset{\\text{숙성}}{\\longrightarrow} \\text{간장}$\n",
        "\n",
        "`*` 수백년 전통의 간장맛을 유지하는 방식\n",
        "\n",
        "-   $\\text{콩물}_1 \\overset{\\text{숙성}}{\\longrightarrow} \\text{간장}_1$\n",
        "-   $\\text{콩물}_2, \\text{간장}_1 \\overset{\\text{숙성}}{\\longrightarrow} \\text{간장}_2$\n",
        "-   $\\text{콩물}_3, \\text{간장}_2 \\overset{\\text{숙성}}{\\longrightarrow} \\text{간장}_3$\n",
        "\n",
        "`*` 수백년 전통의 간장맛을 유지하면서 조리를 한다면?\n",
        "\n",
        "-   $\\text{콩물}_1 \\overset{\\text{숙성}}{\\longrightarrow} \\text{간장}_1 \\overset{\\text{조리}}{\\longrightarrow} \\text{간장계란밥}_1$\n",
        "-   $\\text{콩물}_2, \\text{간장}_1 \\overset{\\text{숙성}}{\\longrightarrow} \\text{간장}_2 \\overset{\\text{조리}}{\\longrightarrow} \\text{간장계란밥}_2$\n",
        "-   $\\text{콩물}_3, \\text{간장}_2 \\overset{\\text{숙성}}{\\longrightarrow} \\text{간장}_3 \\overset{\\text{조리}}{\\longrightarrow} \\text{간장계란밥}_3$\n",
        "\n",
        "점점 맛있는 간장계란밥이 탄생함\n",
        "\n",
        "`*` 알고리즘의 편의상 아래와 같이 생각해도 무방\n",
        "\n",
        "-   $\\text{콩물}_1, \\text{간장}_0 \\overset{\\text{숙성}}{\\longrightarrow} \\text{간장}_1 \\overset{\\text{조리}}{\\longrightarrow} \\text{간장계란밥}_1$,\n",
        "    $\\text{간장}_0=\\text{맹물}$\n",
        "-   $\\text{콩물}_2, \\text{간장}_1 \\overset{\\text{숙성}}{\\longrightarrow} \\text{간장}_2 \\overset{\\text{조리}}{\\longrightarrow} \\text{간장계란밥}_2$\n",
        "-   $\\text{콩물}_3, \\text{간장}_2 \\overset{\\text{숙성}}{\\longrightarrow} \\text{간장}_3 \\overset{\\text{조리}}{\\longrightarrow} \\text{간장계란밥}_3$\n",
        "\n",
        "***아이디어***\n",
        "\n",
        "`*` 수백년 전통의 간장맛을 유지하면서 조리하는 과정을 수식으로? (콩물을\n",
        "$x$로, 간장을 $h$로!!)\n",
        "\n",
        "-   $\\boldsymbol{x}_1, \\boldsymbol{h}_0 \\overset{\\text{숙성}}{\\longrightarrow} \\boldsymbol{h}_1 \\overset{\\text{조리}}{\\longrightarrow} \\hat{\\boldsymbol y}_1$\n",
        "-   $\\boldsymbol{x}_2, \\boldsymbol{h}_1 \\overset{\\text{숙성}}{\\longrightarrow} \\boldsymbol{h}_2 \\overset{\\text{조리}}{\\longrightarrow} \\hat{\\boldsymbol y}_2$\n",
        "-   $\\boldsymbol{x}_3, \\boldsymbol{h}_2 \\overset{\\text{숙성}}{\\longrightarrow} \\boldsymbol{h}_3 \\overset{\\text{조리}}{\\longrightarrow} \\hat{\\boldsymbol y}_3$\n",
        "\n",
        "이제 우리가 배울것은 (1) “$\\text{콩물}_{t}$”와 “$\\text{간장}_{t-1}$”로\n",
        "“$\\text{간장}_t$”를 `숙성`하는 방법 (2) “$\\text{간장}_t$”로\n",
        "“$\\text{간장계란밥}_t$를 `조리`하는 방법이다\n",
        "\n",
        "즉 `숙성`담당 네트워크와 `조리`담당 네트워크를 각각 만들어 학습하면\n",
        "된다.\n",
        "\n",
        "## B. 순환신경망 알고리즘\n",
        "\n",
        "***`# 버전1`***\n",
        "\n",
        "**step 1**: 일단 $\\text{간장}_0(={\\boldsymbol h}_0)$을 맹물로 초기화\n",
        "한다. 즉 아래를 수행한다.\n",
        "\n",
        "$${\\boldsymbol h}_0 = [[0,0]]$$\n",
        "\n",
        "이때 ${\\boldsymbol h}_0 = [[0,0]]$ 은 이론상에서는 shape이 (1,2) 이지만\n",
        "알고리즘 상에서는 shape 을 (2,)로 생각해도 무방하다.\n",
        "\n",
        "**step 2**: $\\text{콩물}_1(={\\boldsymbol x}_1)$,\n",
        "$\\text{간장}_0(={\\boldsymbol h}_0)$ 을 이용하여\n",
        "$\\text{간장}_1(={\\boldsymbol h}_1)$을 숙성한다. 즉 아래를 수행한다.\n",
        "\n",
        "$${\\boldsymbol h}_1= \\tanh({\\boldsymbol x}_1{\\bf W}_{ih}+{\\boldsymbol h}_0{\\bf W}_{hh}+{\\boldsymbol b}_{ih}+{\\boldsymbol b}_{hh})$$\n",
        "\n",
        "이때 변수들의 차원은 아래와 같다.\n",
        "\n",
        "-   ${\\boldsymbol x}_1$: (1,4) 이지만 (4,) 로 생각한다.\n",
        "-   ${\\boldsymbol h}_0$,${\\boldsymbol h}_1$: (1,2) 이지만 (2,) 로\n",
        "    생각한다.\n",
        "-   ${\\bf W}_{ih}$: (4,2) // ${\\bf W}_{hh}$: (2,2) //\n",
        "    ${\\boldsymbol b}_{ih}$: (1,2) // ${\\boldsymbol b}_{hh}$: (1,2) 로\n",
        "    생각한다.\n",
        "\n",
        "**step 3:** $\\text{간장}_1$을 이용하여 $\\text{간장계란밥}_1$을 만든다.\n",
        "그리고 $\\hat{\\boldsymbol y}_1$을 만든다.\n",
        "\n",
        "$${\\boldsymbol o}_1= {\\bf W}_{ho}{\\boldsymbol h}_1+{\\boldsymbol b}_{ho}$$\n",
        "\n",
        "$$\\hat{\\boldsymbol y}_1 = \\text{soft}({\\boldsymbol o}_1)$$\n",
        "\n",
        "**step 4**: $t=2,3,4,5,\\dots,L$ 에 대하여 step2-3을 반복한다.\n",
        "\n",
        "`#`\n",
        "\n",
        "***`# 버전2`***\n",
        "\n",
        "init $\\boldsymbol{h}_0$\n",
        "\n",
        "for $t$ in $1:L$\n",
        "\n",
        "-   ${\\boldsymbol h}_t= \\tanh({\\boldsymbol x}_t{\\bf W}_{ih}+{\\boldsymbol h}_{t-1}{\\bf W}_{hh}+{\\boldsymbol b}_{ih}+{\\boldsymbol b}_{hh})$\n",
        "-   ${\\boldsymbol o}_t= {\\bf W}_{ho}{\\boldsymbol h}_1+{\\boldsymbol b}_{ho}$\n",
        "-   $\\hat{\\boldsymbol y}_t = \\text{soft}({\\boldsymbol o}_t)$\n",
        "\n",
        "`#`\n",
        "\n",
        "***`# 버전3`***\n",
        "\n",
        "``` python\n",
        "ht = [0,0]\n",
        "for t in 1:T \n",
        "    ht = tanh(linr(xt)+linr(ht))\n",
        "    ot = linr(ht)\n",
        "    yt_hat = soft(ot)\n",
        "```\n",
        "\n",
        "-   코드상으로는 $h_t$와 $h_{t-1}$의 구분이 교모하게 사라진다. (그래서\n",
        "    오히려 좋아)\n",
        "\n",
        "`#`\n",
        "\n",
        "`-` 따라서 실질적인 전체코드는 아래와 같은 방식으로 구현할 수 있다.\n",
        "\n",
        "``` python\n",
        "class rNNCell(torch.nn.Module):\n",
        "    def __init__(self):\n",
        "        super().__init__()\n",
        "        linr1 = torch.nn.Linear(?,?) \n",
        "        linr2 = torch.nn.Linear(?,?) \n",
        "        tanh = torch.nn.Tanh()\n",
        "    def forward(self,Xt,ht):\n",
        "        ht = tanh(lrnr1(Xt)+lrnr2(ht))\n",
        "        return ht\n",
        "\n",
        "init ht\n",
        "rnncell = rNNCell()\n",
        "\n",
        "for t in 1:L \n",
        "    Xt, yt = X[t], y[t]\n",
        "    ht = rnncell(Xt, ht)\n",
        "    ot = linr(ht) \n",
        "    loss = loss + loss_fn(ot, yt)\n",
        "```\n",
        "\n",
        "## C. 구현1 – rNNCell\n",
        "\n",
        "`-` 데이터정리"
      ],
      "id": "8d1b9f0b-1c4d-4d56-896c-13bf64ff81af"
    },
    {
      "cell_type": "code",
      "execution_count": 184,
      "metadata": {
        "tags": []
      },
      "outputs": [],
      "source": [
        "x = torch.tensor(df_train.x.map({'A':0,'b':1,'c':2,'d':3}))\n",
        "y = torch.tensor(df_train.y.map({'A':0,'b':1,'c':2,'d':3}))\n",
        "X = torch.nn.functional.one_hot(x).float()\n",
        "y = torch.nn.functional.one_hot(y).float()"
      ],
      "id": "a330fa04-c5aa-4b49-a039-aea2c021fde7"
    },
    {
      "cell_type": "markdown",
      "metadata": {},
      "source": [
        "`-` 순환신경망으로 적합"
      ],
      "id": "6e595af6-5496-4a78-b409-6d0c3a3eddcb"
    },
    {
      "cell_type": "code",
      "execution_count": 185,
      "metadata": {
        "tags": []
      },
      "outputs": [],
      "source": [
        "class rNNCell(torch.nn.Module):\n",
        "    def __init__(self):\n",
        "        super().__init__()\n",
        "        self.i2h = torch.nn.Linear(4,2) \n",
        "        self.h2h = torch.nn.Linear(2,2) \n",
        "        self.tanh = torch.nn.Tanh()\n",
        "    def forward(self,Xt,ht):\n",
        "        ht = self.tanh(self.i2h(Xt)+self.h2h(ht))\n",
        "        return ht\n",
        "torch.manual_seed(43052) # 시드고정해야만 답나옴 --> 임베딩공간이 부족하다는 의미 (사실상 6개의 문자니까!)\n",
        "rnncell = rNNCell() # 너는 간장숙성을 담당해라\n",
        "cook = torch.nn.Linear(2,4) # 너는 요리를 담당해라. \n",
        "#\n",
        "loss_fn = torch.nn.CrossEntropyLoss()\n",
        "optimizr = torch.optim.Adam(list(rnncell.parameters())+ list(cook.parameters()),lr=0.1)\n",
        "#---#\n",
        "L = len(X)\n",
        "for epoc in range(200):\n",
        "    ## 1~2 \n",
        "    ht = torch.zeros(2) # 첫간장은 맹물\n",
        "    loss = 0\n",
        "    for t in range(L):\n",
        "        Xt, yt = X[t], y[t]\n",
        "        ht = rnncell(Xt, ht)\n",
        "        ot = cook(ht) \n",
        "        loss = loss + loss_fn(ot, yt)\n",
        "    loss = loss/L\n",
        "    ## 3 \n",
        "    loss.backward()\n",
        "    ## 4 \n",
        "    optimizr.step()\n",
        "    optimizr.zero_grad()"
      ],
      "id": "c3342da3-e525-423a-bd86-650417ef23cc"
    },
    {
      "cell_type": "markdown",
      "metadata": {},
      "source": [
        "`-` 결과 확인 및 시각화"
      ],
      "id": "a26c91c7-f927-4a21-a0bc-bd09b818c46d"
    },
    {
      "cell_type": "code",
      "execution_count": 186,
      "metadata": {
        "tags": []
      },
      "outputs": [],
      "source": [
        "h = torch.zeros(L,2)\n",
        "water = torch.zeros(2)\n",
        "h[0] = rnncell(X[0],water)\n",
        "for t in range(1,L):\n",
        "    h[t] = rnncell(X[t],h[t-1])\n",
        "yhat = soft(cook(h))\n",
        "yhat    "
      ],
      "id": "b4363fca-4577-41eb-bcbb-3d2dff7fd6ab"
    },
    {
      "cell_type": "code",
      "execution_count": 187,
      "metadata": {
        "tags": []
      },
      "outputs": [
        {
          "output_type": "display_data",
          "metadata": {},
          "data": {
            "image/png": "[encoded data removed]"
          }
        }
      ],
      "source": [
        "mat = torch.concat([h,yhat],axis=1).data[:10]\n",
        "plt.matshow(mat,cmap='bwr',vmin=-1,vmax=1)\n",
        "plt.axvline(x=1.5,color='lime')\n",
        "plt.xticks(range(6),[r'$h_1$',r'$h_2$',r'$P_A$',r'$P_b$',r'$P_c$',r'$P_d$']);"
      ],
      "id": "bf3ab824-4b5a-4065-bd9f-337862e4264c"
    },
    {
      "cell_type": "markdown",
      "metadata": {},
      "source": [
        "`-` yhat 값 분석"
      ],
      "id": "6d65a502-bf97-4f39-951b-8d4371ba411c"
    },
    {
      "cell_type": "code",
      "execution_count": 188,
      "metadata": {
        "tags": []
      },
      "outputs": [],
      "source": [
        "yhat.data.numpy().round(3)[:10]"
      ],
      "id": "d51a242e-0ad0-456f-bd50-56cc6cc5696b"
    },
    {
      "cell_type": "markdown",
      "metadata": {},
      "source": [
        "-   미세하지만 뒤로갈수록 좀 더 성능이 좋다.\n",
        "\n",
        "`-` h1,h2 분석 (= 임베딩스페이스 분석)"
      ],
      "id": "1aa27b74-beeb-408a-aa76-684536aa1509"
    },
    {
      "cell_type": "code",
      "execution_count": 189,
      "metadata": {
        "tags": []
      },
      "outputs": [
        {
          "output_type": "display_data",
          "metadata": {},
          "data": {
            "image/png": "[encoded data removed]"
          }
        }
      ],
      "source": [
        "h1,h2 = h.T.data\n",
        "plt.plot(h1[::6],h2[::6],'X',label=\"A\")\n",
        "plt.plot(h1[1::6],h2[1::6],'X',label=\"b\")\n",
        "plt.plot(h1[2::6],h2[2::6],'X',label=\"A\")\n",
        "plt.plot(h1[3::6],h2[3::6],'X',label=\"c\")\n",
        "plt.plot(h1[4::6],h2[4::6],'X',label=\"A\")\n",
        "plt.plot(h1[5::6],h2[5::6],'X',label=\"d\")\n",
        "plt.legend()"
      ],
      "id": "266df1a1-73a6-49e2-9e92-d27486b3dbef"
    },
    {
      "cell_type": "markdown",
      "metadata": {},
      "source": [
        "## D. 구현2 – RNNCell\n",
        "\n",
        "ref: <https://pytorch.org/docs/stable/generated/torch.nn.RNNCell.html>\n",
        "\n",
        "`-` 데이터정리"
      ],
      "id": "0699a4d0-0735-4a8e-9c00-2c6858532986"
    },
    {
      "cell_type": "code",
      "execution_count": 190,
      "metadata": {
        "tags": []
      },
      "outputs": [],
      "source": [
        "x = torch.tensor(df_train.x.map({'A':0,'b':1,'c':2,'d':3}))\n",
        "y = torch.tensor(df_train.y.map({'A':0,'b':1,'c':2,'d':3}))\n",
        "X = torch.nn.functional.one_hot(x).float()\n",
        "y = torch.nn.functional.one_hot(y).float()"
      ],
      "id": "8b8daf72-5ac5-4c74-8a72-7ef25200118c"
    },
    {
      "cell_type": "markdown",
      "metadata": {},
      "source": [
        "`-` Net설계 및 가중치 설정 (구현1과 동일하도록 가중치 초기화)"
      ],
      "id": "a8bf6fe2-f082-42d3-b910-8cb8ffcc5ad0"
    },
    {
      "cell_type": "code",
      "execution_count": 191,
      "metadata": {
        "tags": []
      },
      "outputs": [],
      "source": [
        "torch.manual_seed(43052) \n",
        "_rnncell = rNNCell()\n",
        "cook = torch.nn.Linear(2,4)"
      ],
      "id": "1fbc71da-14ff-4c76-b720-76219e68b0fb"
    },
    {
      "cell_type": "code",
      "execution_count": 192,
      "metadata": {
        "tags": []
      },
      "outputs": [],
      "source": [
        "rnncell = torch.nn.RNNCell(4,2)\n",
        "rnncell.weight_ih.data = _rnncell.i2h.weight.data \n",
        "rnncell.weight_hh.data = _rnncell.h2h.weight.data \n",
        "rnncell.bias_ih.data = _rnncell.i2h.bias.data \n",
        "rnncell.bias_hh.data = _rnncell.h2h.bias.data "
      ],
      "id": "8dcb7639-e51e-4d87-bcb4-8e99796fbe5e"
    },
    {
      "cell_type": "markdown",
      "metadata": {},
      "source": [
        "`-` 손실함수 및 옵티마이저 설정"
      ],
      "id": "5df39390-59f1-45b5-9dda-81cc5fb2f051"
    },
    {
      "cell_type": "code",
      "execution_count": 193,
      "metadata": {
        "tags": []
      },
      "outputs": [],
      "source": [
        "loss_fn = torch.nn.CrossEntropyLoss() \n",
        "optimizr = torch.optim.Adam(list(rnncell.parameters())+list(cook.parameters()),lr=0.1)"
      ],
      "id": "340c3efc-7c07-4d98-90c2-6a153cf0c02e"
    },
    {
      "cell_type": "markdown",
      "metadata": {},
      "source": [
        "`-` 학습"
      ],
      "id": "23b78adf-21e2-419e-8fed-faea025f0e0f"
    },
    {
      "cell_type": "code",
      "execution_count": 194,
      "metadata": {
        "tags": []
      },
      "outputs": [],
      "source": [
        "L = len(X)\n",
        "for epoc in range(200):\n",
        "    ## 1~2 \n",
        "    ht = torch.zeros(2) # 첫간장은 맹물\n",
        "    loss = 0\n",
        "    for t in range(L):\n",
        "        Xt, yt = X[t], y[t]\n",
        "        ht = rnncell(Xt, ht)\n",
        "        ot = cook(ht) \n",
        "        loss = loss + loss_fn(ot, yt)\n",
        "    loss = loss/L\n",
        "    ## 3 \n",
        "    loss.backward()\n",
        "    ## 4 \n",
        "    optimizr.step()\n",
        "    optimizr.zero_grad()"
      ],
      "id": "80f84d12-df66-4b34-a5ee-8561dafeb636"
    },
    {
      "cell_type": "markdown",
      "metadata": {},
      "source": [
        "`-` 결과확인"
      ],
      "id": "a1a7beb2-1602-4965-98c9-af57bc741f1b"
    },
    {
      "cell_type": "code",
      "execution_count": 195,
      "metadata": {
        "tags": []
      },
      "outputs": [],
      "source": [
        "h = torch.zeros(L,2)\n",
        "water = torch.zeros(2)\n",
        "h[0] = rnncell(X[0],water)\n",
        "for t in range(1,L):\n",
        "    h[t] = rnncell(X[t],h[t-1])\n",
        "yhat = soft(cook(h))\n",
        "yhat"
      ],
      "id": "21017b68-d5b7-4cc4-b9cc-b31835db7cc2"
    },
    {
      "cell_type": "markdown",
      "metadata": {},
      "source": [
        "-   구현1과 같은 결과\n",
        "\n",
        "# 5. HW: hello\n",
        "\n",
        "아래와 같이 hello가 반복되는 자료가 있다고 하자."
      ],
      "id": "4bb6229e-1cbe-4145-9878-0d4e10b5bb8b"
    },
    {
      "cell_type": "code",
      "execution_count": 176,
      "metadata": {
        "tags": []
      },
      "outputs": [],
      "source": [
        "txt = list('hello'*100)\n",
        "txt[:10]"
      ],
      "id": "a0d23169-85b2-4c86-93d8-b702ca18995e"
    },
    {
      "cell_type": "markdown",
      "metadata": {},
      "source": [
        "`(1)` `rNNCell`을 이용하여 학습하라. (적절한 은닉노드수를 설정할 것)\n",
        "\n",
        "`(2)` `torch.nn.RNNCell`을 이용하여 (1)의 결과를 재현하라."
      ],
      "id": "967b7cbb-c3a3-4726-a71e-45625426f56c"
    }
  ],
  "nbformat": 4,
  "nbformat_minor": 5,
  "metadata": {
    "kernelspec": {
      "name": "python3",
      "display_name": "Python 3 (ipykernel)",
      "language": "python"
    },
    "language_info": {
      "name": "python",
      "codemirror_mode": {
        "name": "ipython",
        "version": "3"
      },
      "file_extension": ".py",
      "mimetype": "text/x-python",
      "nbconvert_exporter": "python",
      "pygments_lexer": "ipython3",
      "version": "3.10.13"
    }
  }
}