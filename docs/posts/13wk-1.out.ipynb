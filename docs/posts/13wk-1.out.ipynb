{
  "cells": [
    {
      "cell_type": "markdown",
      "metadata": {},
      "source": [
        "# 13wk-1: 순환신경망 (4) – LSTM 계산과정 재현, LSTM은 왜 강한가?\n",
        "\n",
        "최규빈  \n",
        "2024-05-27\n",
        "\n",
        "<a href=\"https://colab.research.google.com/github/guebin/DL2025/blob/main/posts/13wk-1.ipynb\"><img src=\"https://colab.research.google.com/assets/colab-badge.svg\" style=\"text-align: left\"></a>\n",
        "\n",
        "# 1. 강의영상\n",
        "\n",
        "<https://youtu.be/playlist?list=PLQqh36zP38-x9DomHaojnXVqjdb0nqd_c&si=sh8nkPmHQb9ofrrL>\n",
        "\n",
        "# 2. Import"
      ],
      "id": "022862fc-030a-410e-be81-39570659518f"
    },
    {
      "cell_type": "code",
      "execution_count": 33,
      "metadata": {
        "tags": []
      },
      "outputs": [],
      "source": [
        "import torch\n",
        "import pandas as pd\n",
        "import matplotlib.pyplot as plt"
      ],
      "id": "46662b63-dee5-453b-8539-9d1d0e7929c2"
    },
    {
      "cell_type": "code",
      "execution_count": 34,
      "metadata": {
        "tags": []
      },
      "outputs": [],
      "source": [
        "soft = torch.nn.Softmax(dim=1)\n",
        "sig = torch.nn.Sigmoid()\n",
        "tanh = torch.nn.Tanh()"
      ],
      "id": "61756f58-25dc-4f07-8f93-0ed355f58c02"
    },
    {
      "cell_type": "markdown",
      "metadata": {},
      "source": [
        "# 3. Data – `abcabC`"
      ],
      "id": "fe959c74-4177-4448-a99a-03573110e26a"
    },
    {
      "cell_type": "code",
      "execution_count": 35,
      "metadata": {
        "tags": []
      },
      "outputs": [],
      "source": [
        "txt = list('abcabC')*50\n",
        "txt[:10]"
      ],
      "id": "86a18822-5d02-4b72-915d-f434ba4a5a69"
    },
    {
      "cell_type": "code",
      "execution_count": 36,
      "metadata": {
        "tags": []
      },
      "outputs": [],
      "source": [
        "df_train = pd.DataFrame({'x':txt[:-1], 'y':txt[1:]})\n",
        "df_train[:5]"
      ],
      "id": "94c9e9bc-e4e4-4e04-b717-a3080d09f2e4"
    },
    {
      "cell_type": "code",
      "execution_count": 37,
      "metadata": {
        "tags": []
      },
      "outputs": [],
      "source": [
        "x = torch.tensor(df_train.x.map({'a':0,'b':1,'c':2,'C':3}))\n",
        "y = torch.tensor(df_train.y.map({'a':0,'b':1,'c':2,'C':3}))\n",
        "X = torch.nn.functional.one_hot(x).float()\n",
        "y = torch.nn.functional.one_hot(y).float()"
      ],
      "id": "910fd73a-46c9-4545-b2bc-db0e1720d441"
    },
    {
      "cell_type": "markdown",
      "metadata": {},
      "source": [
        "# 4. LSTM 계산과정 재현\n",
        "\n",
        "## A. `torch.nn.LSTMCell`"
      ],
      "id": "a2ab0fee-7618-48ba-814b-1bb05ab439d7"
    },
    {
      "cell_type": "code",
      "execution_count": 38,
      "metadata": {
        "tags": []
      },
      "outputs": [],
      "source": [
        "torch.manual_seed(43052)\n",
        "lstmcell = torch.nn.LSTMCell(4,2) # 숙성담당\n",
        "cook = torch.nn.Linear(2,4)\n",
        "loss_fn = torch.nn.CrossEntropyLoss()\n",
        "optimizr = torch.optim.Adam(list(lstmcell.parameters())+list(cook.parameters()),lr=0.1) \n",
        "#---#\n",
        "L = len(X)\n",
        "for epoc in range(1):\n",
        "    # 1~2 \n",
        "    loss = 0 \n",
        "    ht = torch.zeros(2)\n",
        "    ct = torch.zeros(2)\n",
        "    for t in range(L):\n",
        "        Xt,yt = X[t],y[t]\n",
        "        ht,ct = lstmcell(Xt,(ht,ct))\n",
        "        netout_t = cook(ht)\n",
        "        loss = loss + loss_fn(netout_t,yt) \n",
        "    loss = loss/L\n",
        "    # 3\n",
        "    loss.backward()\n",
        "    # 4 \n",
        "    optimizr.step()\n",
        "    optimizr.zero_grad()"
      ],
      "id": "5ab20de4-0757-45a2-82b0-71ca68896365"
    },
    {
      "cell_type": "code",
      "execution_count": 39,
      "metadata": {
        "tags": []
      },
      "outputs": [],
      "source": [
        "ht,ct"
      ],
      "id": "c92202a8-2847-48e5-86f8-771b497bc3cc"
    },
    {
      "cell_type": "markdown",
      "metadata": {},
      "source": [
        "## B. 직접구현\n",
        "\n",
        "### ***t=0 $\\to$ t=1***\n",
        "\n",
        "`-` `lstmcell`을 이용하여 $t=0 \\to t=1$을 구현해보자. (결과비교용)"
      ],
      "id": "815cfcfe-f1cc-4481-9dd9-aa9843e0ead7"
    },
    {
      "cell_type": "code",
      "execution_count": 40,
      "metadata": {
        "tags": []
      },
      "outputs": [],
      "source": [
        "torch.manual_seed(43052)\n",
        "lstmcell = torch.nn.LSTMCell(4,2) # 숙성담당\n",
        "cook = torch.nn.Linear(2,4)\n",
        "loss_fn = torch.nn.CrossEntropyLoss()\n",
        "optimizr = torch.optim.Adam(list(lstmcell.parameters())+list(cook.parameters()),lr=0.1) \n",
        "#---#\n",
        "L = len(X)\n",
        "for epoc in range(1):\n",
        "    # 1~2 \n",
        "    loss = 0 \n",
        "    ht = torch.zeros(2)\n",
        "    ct = torch.zeros(2)\n",
        "    for t in range(1):\n",
        "        Xt,yt = X[t],y[t]\n",
        "        ht,ct = lstmcell(Xt,(ht,ct))\n",
        "        netout_t = cook(ht)\n",
        "        loss = loss + loss_fn(netout_t,yt) \n",
        "    loss = loss/L\n",
        "    # 3\n",
        "    loss.backward()\n",
        "    # 4 \n",
        "    optimizr.step()\n",
        "    optimizr.zero_grad()"
      ],
      "id": "206cb5a9-00c4-409b-9d1b-6e3bf3c54b97"
    },
    {
      "cell_type": "code",
      "execution_count": 41,
      "metadata": {
        "tags": []
      },
      "outputs": [],
      "source": [
        "ht,ct"
      ],
      "id": "a714f717-0571-4c61-8ba4-9e737891a8e9"
    },
    {
      "cell_type": "markdown",
      "metadata": {},
      "source": [
        "-   이런결과를 어떻게 만드는걸까?\n",
        "-   <https://pytorch.org/docs/stable/generated/torch.nn.LSTM.html>\n",
        "\n",
        "`-` 직접계산\n",
        "(${\\boldsymbol i}_t, {\\boldsymbol f}_t, {\\boldsymbol g}_t, {\\boldsymbol o}_t$)"
      ],
      "id": "2c0868f5-8416-4672-89c2-0c5bfa3fa8ee"
    },
    {
      "cell_type": "code",
      "execution_count": 42,
      "metadata": {
        "tags": []
      },
      "outputs": [],
      "source": [
        "torch.manual_seed(43052)\n",
        "lstmcell = torch.nn.LSTMCell(4,2) # 숙성담당"
      ],
      "id": "32fc61c5-071d-4f1e-91e2-4a1d66661040"
    },
    {
      "cell_type": "code",
      "execution_count": 43,
      "metadata": {
        "tags": []
      },
      "outputs": [],
      "source": [
        "Wih = lstmcell.weight_ih.T\n",
        "Wih02 = Wih[:,0:2]\n",
        "Wih24 = Wih[:,2:4]\n",
        "Wih46 = Wih[:,4:6]\n",
        "Wih68 = Wih[:,6:8]\n",
        "#--#\n",
        "Whh = lstmcell.weight_hh.T\n",
        "Whh02 = Whh[:,0:2]\n",
        "Whh24 = Whh[:,2:4]\n",
        "Whh46 = Whh[:,4:6]\n",
        "Whh68 = Whh[:,6:8]\n",
        "#--#\n",
        "bih02 = lstmcell.bias_ih[0:2]\n",
        "bih24 = lstmcell.bias_ih[2:4]\n",
        "bih46 = lstmcell.bias_ih[4:6]\n",
        "bih68 = lstmcell.bias_ih[6:8]\n",
        "#--#\n",
        "bhh02 = lstmcell.bias_hh[0:2]\n",
        "bhh24 = lstmcell.bias_hh[2:4]\n",
        "bhh46 = lstmcell.bias_hh[4:6]\n",
        "bhh68 = lstmcell.bias_hh[6:8]"
      ],
      "id": "bd84a2d6-23a7-4e88-be20-b4649b4f2a65"
    },
    {
      "cell_type": "code",
      "execution_count": 44,
      "metadata": {
        "tags": []
      },
      "outputs": [],
      "source": [
        "ht = torch.zeros(2)\n",
        "ct = torch.zeros(2)\n",
        "#--#\n",
        "it = sig(Xt@Wih02 + bih02 + ht@Whh02 + bhh02)\n",
        "ft = sig(Xt@Wih24 + bih24 + ht@Whh24 + bhh24)\n",
        "gt = tanh(Xt@Wih46 + bih46 + ht@Whh46 + bhh46)\n",
        "ot = sig(Xt@Wih68 + bih68 + ht@Whh68 + bhh68)"
      ],
      "id": "081f8f9b-cc35-4cb9-9cfe-58117ab96309"
    },
    {
      "cell_type": "code",
      "execution_count": 45,
      "metadata": {
        "tags": []
      },
      "outputs": [],
      "source": [
        "it,ft,gt,ot"
      ],
      "id": "6a6f42e8-47f2-486c-81c0-cddf869a51a5"
    },
    {
      "cell_type": "markdown",
      "metadata": {},
      "source": [
        "그런데 아래와 같이 계산할수도 있음."
      ],
      "id": "8615a80d-f334-4b88-bed7-9dda700d697c"
    },
    {
      "cell_type": "code",
      "execution_count": 46,
      "metadata": {
        "tags": []
      },
      "outputs": [],
      "source": [
        "ifgo = Xt @ lstmcell.weight_ih.T +  lstmcell.bias_ih +\\\n",
        "ht @ lstmcell.weight_hh.T +  lstmcell.bias_hh"
      ],
      "id": "b00426c0-d330-4e1a-b41a-a097b58904fb"
    },
    {
      "cell_type": "code",
      "execution_count": 47,
      "metadata": {
        "tags": []
      },
      "outputs": [
        {
          "output_type": "stream",
          "name": "stdout",
          "text": [
            "it = tensor([0.3081, 0.5949], grad_fn=<SigmoidBackward0>)\n",
            "ft = tensor([0.5065, 0.4264], grad_fn=<SigmoidBackward0>)\n",
            "gt = tensor([0.5629, 0.4518], grad_fn=<TanhBackward0>)\n",
            "ot = tensor([0.6216, 0.4072], grad_fn=<SigmoidBackward0>)"
          ]
        }
      ],
      "source": [
        "print(f\"it = {sig(ifgo[0:2])}\")\n",
        "print(f\"ft = {sig(ifgo[2:4])}\")\n",
        "print(f\"gt = {tanh(ifgo[4:6])}\")\n",
        "print(f\"ot = {sig(ifgo[6:8])}\")"
      ],
      "id": "986e497c-ce5d-4be0-8a69-b2b85b40908e"
    },
    {
      "cell_type": "markdown",
      "metadata": {},
      "source": [
        "`-` 직접계산 (${\\boldsymbol c}_t, {\\boldsymbol h}_t$)"
      ],
      "id": "ed38830a-95ff-441e-a932-ddde67079afd"
    },
    {
      "cell_type": "code",
      "execution_count": 48,
      "metadata": {
        "tags": []
      },
      "outputs": [],
      "source": [
        "ct = it*gt + ft*ct \n",
        "ht = ot*tanh(ct)"
      ],
      "id": "af028ce3-a056-4083-b6bd-e33fe00f98f0"
    },
    {
      "cell_type": "code",
      "execution_count": 49,
      "metadata": {
        "tags": []
      },
      "outputs": [],
      "source": [
        "ht,ct"
      ],
      "id": "735c92bf-d197-4a63-946f-fcfe54c138df"
    },
    {
      "cell_type": "markdown",
      "metadata": {},
      "source": [
        "### `#` ***t=0 $\\to$ t=L***\n",
        "\n",
        "`-` `lstmcell`을 이용하여 구현해보자. (결과비교용)"
      ],
      "id": "86fcb3e5-df79-49e1-8221-19f14bb3f982"
    },
    {
      "cell_type": "code",
      "execution_count": 52,
      "metadata": {
        "tags": []
      },
      "outputs": [],
      "source": [
        "torch.manual_seed(43052)\n",
        "lstmcell = torch.nn.LSTMCell(4,2) # 숙성담당\n",
        "cook = torch.nn.Linear(2,4)\n",
        "loss_fn = torch.nn.CrossEntropyLoss()\n",
        "optimizr = torch.optim.Adam(list(lstmcell.parameters())+list(cook.parameters()),lr=0.1) \n",
        "#---#\n",
        "L = len(X)\n",
        "for epoc in range(1):\n",
        "    # 1~2 \n",
        "    loss = 0 \n",
        "    ht = torch.zeros(2)\n",
        "    ct = torch.zeros(2)\n",
        "    for t in range(L):\n",
        "        Xt,yt = X[t],y[t]\n",
        "        ht,ct = lstmcell(Xt,(ht,ct))\n",
        "        netout_t = cook(ht)\n",
        "        loss = loss + loss_fn(netout_t,yt) \n",
        "    loss = loss/L\n",
        "    # 3\n",
        "    loss.backward()\n",
        "    # 4 \n",
        "    optimizr.step()\n",
        "    optimizr.zero_grad()"
      ],
      "id": "4219bb6f-0275-41f4-81d9-c97b35803feb"
    },
    {
      "cell_type": "code",
      "execution_count": 53,
      "metadata": {
        "tags": []
      },
      "outputs": [],
      "source": [
        "ht,ct"
      ],
      "id": "0aa701ff-b7e6-4036-b8c6-ee4cd69b80a9"
    },
    {
      "cell_type": "markdown",
      "metadata": {},
      "source": [
        "`-` 직접구현"
      ],
      "id": "4f385799-af06-48d8-8294-61b16165d4ee"
    },
    {
      "cell_type": "code",
      "execution_count": 54,
      "metadata": {
        "tags": []
      },
      "outputs": [],
      "source": [
        "torch.manual_seed(43052)\n",
        "lstmcell = torch.nn.LSTMCell(4,2) # 숙성담당\n",
        "cook = torch.nn.Linear(2,4)\n",
        "loss_fn = torch.nn.CrossEntropyLoss()\n",
        "optimizr = torch.optim.Adam(list(lstmcell.parameters())+list(cook.parameters()),lr=0.1) \n",
        "#---#\n",
        "L = len(X)\n",
        "for epoc in range(1):\n",
        "    # 1~2 \n",
        "    loss = 0 \n",
        "    ht = torch.zeros(2)\n",
        "    ct = torch.zeros(2)\n",
        "    for t in range(L):\n",
        "        Xt,yt = X[t],y[t]\n",
        "        ifgo = Xt @ lstmcell.weight_ih.T +  lstmcell.bias_ih +\\\n",
        "                ht @ lstmcell.weight_hh.T +  lstmcell.bias_hh\n",
        "        it,ft,gt,ot = sig(ifgo[0:2]),sig(ifgo[2:4]),tanh(ifgo[4:6]),sig(ifgo[6:8])\n",
        "        ct = it*gt + ft*ct\n",
        "        ht = ot*tanh(ct)\n",
        "        netout_t = cook(ht)\n",
        "        loss = loss + loss_fn(netout_t,yt) \n",
        "    loss = loss/L\n",
        "    # 3\n",
        "    loss.backward()\n",
        "    # 4 \n",
        "    optimizr.step()\n",
        "    optimizr.zero_grad()"
      ],
      "id": "46c85c22-20c5-4648-b362-7b706fc69ff2"
    },
    {
      "cell_type": "code",
      "execution_count": 55,
      "metadata": {
        "tags": []
      },
      "outputs": [],
      "source": [
        "ht,ct"
      ],
      "id": "aa871391-e37a-4f3d-aa5d-7dad101f6f1c"
    },
    {
      "cell_type": "markdown",
      "metadata": {},
      "source": [
        "## C. `torch.nn.LSTM`"
      ],
      "id": "76571753-033c-4986-8727-4e50993c436e"
    },
    {
      "cell_type": "code",
      "execution_count": 80,
      "metadata": {
        "tags": []
      },
      "outputs": [],
      "source": [
        "torch.manual_seed(43052)\n",
        "lstmcell = torch.nn.LSTMCell(4,2) # 숙성담당\n",
        "cook = torch.nn.Linear(2,4)\n",
        "lstm = torch.nn.LSTM(4,2) # <-- 이거로 학습\n",
        "lstm.weight_ih_l0.data = lstmcell.weight_ih.data\n",
        "lstm.weight_hh_l0.data = lstmcell.weight_hh.data\n",
        "lstm.bias_ih_l0.data = lstmcell.bias_ih.data\n",
        "lstm.bias_hh_l0.data = lstmcell.bias_hh.data\n",
        "loss_fn = torch.nn.CrossEntropyLoss()\n",
        "optimizr = torch.optim.Adam(list(lstm.parameters())+list(cook.parameters()),lr=0.1) \n",
        "#---#\n",
        "L = len(X)\n",
        "Water = torch.zeros(1,2)\n",
        "for epoc in range(1):\n",
        "    # 1 \n",
        "    h,(hL,cL) = lstm(X,(Water,Water))\n",
        "    netout = cook(h)\n",
        "    # 2 \n",
        "    loss = loss_fn(netout,y)\n",
        "    # 3\n",
        "    loss.backward()\n",
        "    # 4 \n",
        "    optimizr.step()\n",
        "    optimizr.zero_grad()"
      ],
      "id": "3bc756ae-a856-46e0-989f-89bd3ab24be4"
    },
    {
      "cell_type": "code",
      "execution_count": 76,
      "metadata": {
        "tags": []
      },
      "outputs": [],
      "source": [
        "hL,cL"
      ],
      "id": "7f78e4d4-91ec-44a9-a72a-e2f203601eb2"
    },
    {
      "cell_type": "markdown",
      "metadata": {},
      "source": [
        "# 5. LSTM은 왜 강한가?\n",
        "\n",
        "## A. 적합 및 시각화\n",
        "\n",
        "`-` 적합"
      ],
      "id": "39dc1f18-d0ac-456d-8637-daadb66c3be5"
    },
    {
      "cell_type": "code",
      "execution_count": 27,
      "metadata": {
        "tags": []
      },
      "outputs": [],
      "source": [
        "torch.manual_seed(43052)\n",
        "lstm = torch.nn.LSTM(4,2)\n",
        "cook = torch.nn.Linear(2,4)\n",
        "loss_fn = torch.nn.CrossEntropyLoss() \n",
        "optimizr = torch.optim.Adam(list(lstm.parameters())+ list(cook.parameters()),lr=0.1)\n",
        "#--#\n",
        "Water = torch.zeros(1,2) \n",
        "for epoc in range(200): \n",
        "    ## step1 \n",
        "    h, (hL,cL) = lstm(X,(Water,Water))\n",
        "    netout = cook(h)\n",
        "    ## step2\n",
        "    loss = loss_fn(netout,y) \n",
        "    ## step3\n",
        "    loss.backward()\n",
        "    ## step4 \n",
        "    optimizr.step()\n",
        "    optimizr.zero_grad() "
      ],
      "id": "bced9cca-dcf7-4471-9bcf-99e30264db34"
    },
    {
      "cell_type": "markdown",
      "metadata": {},
      "source": [
        "`-` 시각화"
      ],
      "id": "d7ab1c12-0f8d-4352-a7f5-7bf7fb9c7112"
    },
    {
      "cell_type": "code",
      "execution_count": 28,
      "metadata": {
        "tags": []
      },
      "outputs": [],
      "source": [
        "L = len(X)\n",
        "i = input_gate = torch.zeros(L,2)\n",
        "f = forget_gate = torch.zeros(L,2)\n",
        "g = gihhen_state = torch.zeros(L,2)\n",
        "o = output_gate = torch.zeros(L,2)\n",
        "c = cell_state = torch.zeros(L,2)\n",
        "h = hidden_state = torch.zeros(L,2) \n",
        "#--#\n",
        "water = torch.zeros(2)\n",
        "ifgo = X[0] @ lstm.weight_ih_l0.T + lstm.bias_ih_l0 +\\\n",
        "        water @ lstm.weight_hh_l0.T + lstm.bias_hh_l0 \n",
        "# 위에서 water는 h0에 대응\n",
        "i[0] = sig(ifgo[0:2])\n",
        "f[0] = sig(ifgo[2:4])\n",
        "g[0] = tanh(ifgo[4:6])\n",
        "o[0] = sig(ifgo[6:8])\n",
        "c[0] = f[0] * water + i[0] * g[0] # water는 c0에 대응 \n",
        "h[0] = o[0] * tanh(c[0])\n",
        "#--#\n",
        "for t in range(1,L): \n",
        "    ## 1: calculate ifgo \n",
        "    ifgo = X[t] @ lstm.weight_ih_l0.T + lstm.bias_ih_l0 +\\\n",
        "            h[t-1] @ lstm.weight_hh_l0.T +  lstm.bias_hh_l0 \n",
        "    ## 2: decompose ifgo \n",
        "    i[t] = sig(ifgo[0:2])\n",
        "    f[t] = sig(ifgo[2:4])\n",
        "    g[t] = tanh(ifgo[4:6])\n",
        "    o[t] = sig(ifgo[6:8])\n",
        "    ## 3: calculate ht,ct \n",
        "    c[t] = f[t] * c[t-1] + i[t] * g[t]\n",
        "    h[t] = o[t] * tanh(c[t])"
      ],
      "id": "92933a9f-34e7-48af-93a2-214369af9a89"
    },
    {
      "cell_type": "code",
      "execution_count": 29,
      "metadata": {
        "tags": []
      },
      "outputs": [
        {
          "output_type": "display_data",
          "metadata": {},
          "data": {
            "image/png": "[encoded data removed]"
          }
        }
      ],
      "source": [
        "mat = torch.concat([g,h,soft(netout)],axis=1)[:8].data\n",
        "plt.matshow(mat,cmap='bwr',vmin=-1,vmax=1);\n",
        "plt.axvline(x=3.5,color=\"lime\")\n",
        "plt.xticks(\n",
        "    ticks=range(mat.shape[-1]),\n",
        "    labels=[r\"$g_0$\",r\"$g_1$\",r\"$h_0$\",r\"$h_1$\",\n",
        "            r\"$P_a$\",r\"$P_b$\",r\"$P_c$\",r\"$P_C$\"]\n",
        ")\n",
        "plt.colorbar()"
      ],
      "id": "2a840f6a-c978-4a9e-9fa2-a9982e405fb9"
    },
    {
      "cell_type": "markdown",
      "metadata": {},
      "source": [
        "## B. 시각화1: $({\\boldsymbol g}_t, {\\boldsymbol c}_{t-1}) \\to {\\boldsymbol c}_{t}$"
      ],
      "id": "a0d2e96c-935f-483b-9b28-3d50f4d47c3b"
    },
    {
      "cell_type": "code",
      "execution_count": 30,
      "metadata": {
        "tags": []
      },
      "outputs": [],
      "source": [
        "mat1 = torch.concat([g[1:9],i[1:9],g[1:9]*i[1:9]],axis=1).data\n",
        "mat2 = torch.concat([c[:8],f[1:9],c[:8]*f[1:9]],axis=1).data\n",
        "mat3 = torch.concat([g[1:9]*i[1:9],c[:8]*f[1:9],c[1:9]],axis=1).data"
      ],
      "id": "3dd1ed7b-47af-4cbf-84fb-9762ec630baf"
    },
    {
      "cell_type": "code",
      "execution_count": 32,
      "metadata": {
        "tags": []
      },
      "outputs": [],
      "source": [
        "c[:8].min(),c[:8].max() "
      ],
      "id": "60a3f9bc-998c-49c6-a36e-8ebdc6409014"
    },
    {
      "cell_type": "markdown",
      "metadata": {},
      "source": [
        "-   ${\\boldsymbol c}_t$의 경우 원래 출력값이 -1, 1 사이라는 보장은\n",
        "    없으나, 이 예제의 경우에는 거의 -1, 1 사이임.\n",
        "-   `matshow`로 시각화할때 `vmin=-1`, `vmax=1`로 설정해도\n",
        "    ${\\boldsymbol c}_t$를 표현함에 부족함이 없을듯"
      ],
      "id": "938c8eff-ce80-4546-ac1c-0521776f9bc8"
    },
    {
      "cell_type": "code",
      "execution_count": 33,
      "metadata": {
        "tags": []
      },
      "outputs": [
        {
          "output_type": "display_data",
          "metadata": {},
          "data": {
            "image/png": "[encoded data removed]"
          }
        }
      ],
      "source": [
        "fig,ax = plt.subplots(1,3,figsize=(10,10))\n",
        "ax[0].matshow(mat1,cmap='bwr',vmin=-1,vmax=1);\n",
        "ax[0].axvline(x=1.5,linestyle=\"dashed\",color=\"lime\")\n",
        "ax[0].axvline(x=3.5,linestyle=\"dashed\",color=\"lime\")\n",
        "ax[0].set_xticks(ticks= [0.5,2.5,4.5],labels=[r'${\\bf g}_t$',r'${\\bf i}_t$',r'${\\bf g}_t \\odot {\\bf i}_t$']);\n",
        "ax[1].matshow(mat2,cmap='bwr',vmin=-1,vmax=1);\n",
        "ax[1].axvline(x=1.5,linestyle=\"dashed\",color=\"lime\")\n",
        "ax[1].axvline(x=3.5,linestyle=\"dashed\",color=\"lime\")\n",
        "ax[1].set_xticks(ticks= [0.5,2.5,4.5],labels=[r'${\\bf c}_{t-1}$',r'${\\bf f}_t$',r'${\\bf c}_{t-1} \\odot {\\bf f}_t$']);\n",
        "ax[2].matshow(mat3,cmap='bwr',vmin=-1,vmax=1);\n",
        "ax[2].axvline(x=1.5,linestyle=\"dashed\",color=\"lime\")\n",
        "ax[2].axvline(x=3.5,linestyle=\"dashed\",color=\"lime\")\n",
        "ax[2].set_xticks(ticks= [0.5,2.5,4.5],labels=[r'${\\bf g}_t \\odot {\\bf i}_t$',r'${\\bf c}_{t-1} \\odot {\\bf f}_t$',r'${\\bf c}_t$']);\n",
        "fig.tight_layout()"
      ],
      "id": "20c4d4a6-2449-4540-a458-7993f1f58bbc"
    },
    {
      "cell_type": "markdown",
      "metadata": {},
      "source": [
        "`-` ${\\boldsymbol g}_t$ 특징: 보통 -1,1 중 하나의 값을 가지도록 학습되어\n",
        "있다. (마치 RNN의 hidden node처럼!)\n",
        "\n",
        "-   $\\boldsymbol{g}_t = \\tanh({\\boldsymbol x}_t {\\bf W}_{ig} + {\\boldsymbol h}_{t-1} {\\bf W}_{hg}+ {\\boldsymbol b}_{ig}+{\\boldsymbol b}_{hg})$\n",
        "\n",
        "`-` ${\\boldsymbol c}_t$ 특징: ${\\boldsymbol g}_t$와 매우 비슷하지만 약간\n",
        "다른값을 가진다. 그래서 ${\\boldsymbol g}_t$와는 달리 -1,1 이외의 값도\n",
        "종종 등장.\n",
        "\n",
        "-   ${\\boldsymbol c}_t$의 값은 이론상 제한이 없음. (꼭 -1,1 사이에 있지\n",
        "    않음)\n",
        "\n",
        "## C. 시각화2: ${\\boldsymbol g}_t \\to {\\boldsymbol h}_{t}$"
      ],
      "id": "9db41d76-ba04-4486-8ca6-609a07ce0efb"
    },
    {
      "cell_type": "code",
      "execution_count": 44,
      "metadata": {
        "tags": []
      },
      "outputs": [],
      "source": [
        "mat = torch.concat([g[:8],tanh(c[:8]),o[:8],h[:8]],axis=1).data"
      ],
      "id": "42001553-4640-4a69-a8ec-69b8f0e0846a"
    },
    {
      "cell_type": "code",
      "execution_count": 46,
      "metadata": {
        "tags": []
      },
      "outputs": [
        {
          "output_type": "display_data",
          "metadata": {},
          "data": {
            "image/png": "[encoded data removed]"
          }
        }
      ],
      "source": [
        "plt.matshow(mat.data,cmap='bwr',vmin=-1,vmax=1)\n",
        "plt.xticks([0.5,2.5,4.5,6.5],[r'${\\bf g}_t$',r'$tanh({\\bf c}_t)$',r'${\\bf o}_t$',r'${\\bf h}_t$']);\n",
        "plt.axvline(x=1.5,color=\"lime\",linewidth=3)\n",
        "plt.axvline(x=3.5,linestyle=\"dashed\",color=\"lime\")\n",
        "plt.axvline(x=5.5,linestyle=\"dashed\",color=\"lime\")\n",
        "plt.axvline(x=7.5,color=\"lime\",linewidth=3)"
      ],
      "id": "2dc8a94f-ecfc-46ec-9874-e6ce310b78a0"
    },
    {
      "cell_type": "markdown",
      "metadata": {},
      "source": [
        "`-` ${\\boldsymbol h}_t$ 특징: (1) ${\\boldsymbol c}_t$에서 원하는 것만\n",
        "선택적으로 특징으로 삼은 느낌. (2) $c_t$보다 훨씬 값을 다양하게 가진다.\n",
        "($\\odot$ 의 효과 )\n",
        "\n",
        "## D. LSTM의 알고리즘 리뷰 I (수식위주)\n",
        "\n",
        "**(step1)** calculate ${\\tt ifgo}$\n",
        "\n",
        "${\\tt ifgo} = {\\boldsymbol x}_t  \\big[{\\bf W}_{ii} | {\\bf W}_{if}| {\\bf W}_{ig} |{\\bf W}_{io}\\big] + {\\boldsymbol h}_{t-1}  \\big[ {\\bf W}_{hi}|{\\bf W}_{hf} |{\\bf W}_{hg} | {\\bf W}_{ho} \\big] + bias$\n",
        "\n",
        "$=\\big[{\\boldsymbol x}_t{\\bf W}_{ii} + {\\boldsymbol h}_{t-1}{\\bf W}_{hi} ~\\big|~ {\\boldsymbol x}_t{\\bf W}_{if}+ {\\boldsymbol h}_{t-1}{\\bf W}_{hf}~ \\big|~ {\\boldsymbol x}_t{\\bf W}_{ig} + {\\boldsymbol h}_{t-1}{\\bf W}_{hg}  ~\\big|~ {\\boldsymbol x}_t{\\bf W}_{io} + {\\boldsymbol h}_{t-1}{\\bf W}_{ho} \\big] + bias$\n",
        "\n",
        "참고: 위의 수식은 아래코드에 해당하는 부분\n",
        "\n",
        "``` python\n",
        "ifgo = Xt @ lstm_cell.weight_ih.T +\\\n",
        "       ht @ lstm_cell.weight_hh.T +\\\n",
        "       lstm_cell.bias_ih + lstm_cell.bias_hh\n",
        "```\n",
        "\n",
        "**(step2)** decompose ${\\tt ifgo}$ and get ${\\boldsymbol i}_t$,\n",
        "${\\boldsymbol f}_t$, ${\\boldsymbol g}_t$, ${\\boldsymbol o}_t$\n",
        "\n",
        "${\\boldsymbol i}_t = \\sigma({\\boldsymbol x}_t {\\bf W}_{ii} + {\\boldsymbol h}_{t-1} {\\bf W}_{hi} +bias )$\n",
        "\n",
        "${\\boldsymbol f}_t = \\sigma({\\boldsymbol x}_t {\\bf W}_{if} + {\\boldsymbol h}_{t-1} {\\bf W}_{hf} +bias )$\n",
        "\n",
        "${\\boldsymbol g}_t = \\tanh({\\boldsymbol x}_t {\\bf W}_{ig} + {\\boldsymbol h}_{t-1} {\\bf W}_{hg} +bias )$\n",
        "\n",
        "${\\boldsymbol o}_t = \\sigma({\\boldsymbol x}_t {\\bf W}_{io} + {\\boldsymbol h}_{t-1} {\\bf W}_{ho} +bias )$\n",
        "\n",
        "**(step3)** calculate ${\\boldsymbol c}_t$ and ${\\boldsymbol h}_t$\n",
        "\n",
        "${\\boldsymbol c}_t = {\\boldsymbol i}_t \\odot {\\boldsymbol g}_t+ {\\boldsymbol f}_t \\odot {\\boldsymbol c}_{t-1}$\n",
        "\n",
        "${\\boldsymbol h}_t = {\\boldsymbol o}_t \\odot \\tanh({\\boldsymbol c}_t)$\n",
        "\n",
        "## E. LSTM의 알고리즘 리뷰 II (느낌위주)\n",
        "\n",
        "-   이해 및 암기를 돕기위해서 비유적으로 설명한 챕터입니다..\n",
        "\n",
        "`-` 느낌: RNN이 콩물에서 간장을 한번에 숙성시키는 방법이라면 LSTM은\n",
        "콩물에서 간장을 단계를 나누어 숙성하는 느낌이다.\n",
        "\n",
        "-   RNN:\n",
        "    ${\\boldsymbol x}_t \\overset{{\\boldsymbol h}_{t-1}}{\\longrightarrow} {\\boldsymbol h}_t$\n",
        "-   LSTM:\n",
        "    ${\\boldsymbol x}_t \\overset{{\\boldsymbol h}_{t-1}}{\\longrightarrow} {\\boldsymbol g}_t \\overset{{\\boldsymbol c}_{t-1}}{\\longrightarrow} \\Big({\\boldsymbol c}_t \\to {\\boldsymbol h}_t \\Big)$\n",
        "\n",
        "`-` ${\\boldsymbol g}_t$에 대하여\n",
        "\n",
        "-   과거와 현재의 결합 (선형변환): ${\\boldsymbol x}_t$와\n",
        "    ${\\boldsymbol h}_{t-1}$를 ${\\bf W}_{ig}, {\\bf W}_{hg}$를 이용해\n",
        "    선형결합\n",
        "-   숙성(비선형변환): $\\tanh$\n",
        "-   느낌: RNN에서 간장을 만들던 그 수식에서 $h_t$를 $g_t$로 바꾼것\n",
        "    그래서 RNN의 간장과 비슷하다고 생각하면 된다.\n",
        "-   노트: RNN의 간장은 한계를 가지고 있는데 그 한계를 극복하기 위해 만든\n",
        "    것이 ${\\boldsymbol c}_t$\n",
        "\n",
        "`-` ${\\boldsymbol c}_t$에 대하여\n",
        "\n",
        "-   과거와 현재의 결합 (선형변환): ${\\boldsymbol g}_{t}$와\n",
        "    ${\\boldsymbol c}_{t-1}$를 요소별로 선택하고 더하는 과정\n",
        "-   숙성 (비선형변환): 없음.\n",
        "-   느낌: 과거와 현재의 정보중 유리한것만 기억하여 선택적으로 결합함.\n",
        "    이때 결합방식에 대한 노하우는 ${\\tt input-gate}$,\n",
        "    ${\\tt forget-gate}$ 에 있으며 그러한 결합의 결과가\n",
        "    ${\\boldsymbol c}_t$에 있음. 이 ${\\boldsymbol c}_t$에 대한 정보는\n",
        "    그대로 “냉동보관(?)”되어 다음세대로 내려옴.\n",
        "-   비고: ${\\boldsymbol c}_t$는 사실상 LSTM 알고리즘의 꽃이라 할 수\n",
        "    있음. LSTM은 long short term memory의 약자임. 기존의 RNN은\n",
        "    장기기억을 활용함에 약점이 있는데 LSTM은 단기기억/장기기억 모두 잘\n",
        "    활용함. LSTM이 장기기억을 잘 활용하는 비법은 바로\n",
        "    ${\\boldsymbol c}_t$에 있다.\n",
        "\n",
        "`-` ${\\boldsymbol h}_t$에 대하여\n",
        "\n",
        "-   과거와 현재의 결합 (선형변환): 없음\n",
        "-   숙성 (비선형변환): $\\tanh({\\boldsymbol c}_t)$를 요소별로 선택하여\n",
        "    숙성\n",
        "\n",
        "> RNN은 기억할 과거정보가 ${\\boldsymbol h}_{t-1}$ 하나이지만 LSTM은\n",
        "> ${\\boldsymbol c}_{t-1}$, ${\\boldsymbol h}_{t-1}$ 2개이다.\n",
        "\n",
        "## F. LSTM이 강한이유\n",
        "\n",
        "`-` 답변1: LSTM이 장기기억에 유리함. 그 이유는 input, forget, output\n",
        "gate 들이 장기기억을 위한 역할을 하기 때문.\n",
        "\n",
        "-   비판: 아키텍처에 대한 이론적 근거는 없음. 장기기억을 위하여 꼭\n",
        "    LSTM같은 구조일 필요는 없음. (게이트는 꼭3개이어야 하는지?)\n",
        "\n",
        "`-` 답변2: 저는 사실 아까 살펴본 아래의 이유로 이해하고 있습니다.\n",
        "\n",
        "-   실험적으로 살펴보니 LSTM이 RNN보다 장기기억에 유리했음.\n",
        "-   그 이유: RNN은 ${\\boldsymbol h}_t$의 값이 -1 혹은 1로 결정되는\n",
        "    경우가 많았음. 그러나 경우에 따라서는 ${\\boldsymbol h}_t$이 -1~1의\n",
        "    값을 가지는 것이 문맥적 뉘앙스를 포착하기에는 유리한데 LSTM이 이러한\n",
        "    방식으로 학습되는 경우가 많았음.\n",
        "-   왜 LSTM의 ${\\boldsymbol h}_t$은 -1,1 이외의 값을 쉽게 가질 수\n",
        "    있는가? $\\odot$ 때문에.. 즉 게이트때문에..\n",
        "\n",
        "# 6. Ref\n",
        "\n",
        "`-` 참고자료들\n",
        "\n",
        "-   <https://colah.github.io/posts/2015-08-Understanding-LSTMs/>\n",
        "-   <https://pytorch.org/docs/stable/generated/torch.nn.LSTM.html>\n",
        "-   <https://arxiv.org/abs/1402.1128>"
      ],
      "id": "219faed6-313c-41e2-b04f-fcaf60512802"
    }
  ],
  "nbformat": 4,
  "nbformat_minor": 5,
  "metadata": {
    "kernelspec": {
      "name": "python3",
      "display_name": "Python 3 (ipykernel)",
      "language": "python"
    },
    "language_info": {
      "name": "python",
      "codemirror_mode": {
        "name": "ipython",
        "version": "3"
      },
      "file_extension": ".py",
      "mimetype": "text/x-python",
      "nbconvert_exporter": "python",
      "pygments_lexer": "ipython3",
      "version": "3.11.8"
    }
  }
}