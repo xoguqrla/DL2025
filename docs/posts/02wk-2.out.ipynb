{
  "cells": [
    {
      "cell_type": "markdown",
      "metadata": {},
      "source": [
        "# 02wk-2: 학습률, MSE, 파이토치식 코딩패턴\n",
        "\n",
        "최규빈  \n",
        "2025-03-17\n",
        "\n",
        "<a href=\"https://colab.research.google.com/github/guebin/DL2025/blob/main/posts/02wk-2.ipynb\"><img src=\"https://colab.research.google.com/assets/colab-badge.svg\" style=\"text-align: left\"></a>\n",
        "\n",
        "# 1. 강의영상"
      ],
      "id": "2ff15d65-c031-420f-9a87-9124c26a3f2d"
    },
    {
      "cell_type": "code",
      "execution_count": 1,
      "metadata": {},
      "outputs": [],
      "source": [
        "# {{<video https://youtu.be/playlist?list=PLQqh36zP38-zoOoXFPBCjKP7ipWth43-N&si=Rg6xrZA1peD-w_Q6 >}}"
      ],
      "id": "6a6015fe-1ec8-49ee-b219-72f05de65280"
    },
    {
      "cell_type": "markdown",
      "metadata": {},
      "source": [
        "# 2. Imports"
      ],
      "id": "dba7cc4a-d5f0-4b70-b27d-ad710f69eb67"
    },
    {
      "cell_type": "code",
      "execution_count": 12,
      "metadata": {},
      "outputs": [],
      "source": [
        "import torch\n",
        "import numpy as np\n",
        "import matplotlib.pyplot as plt "
      ],
      "id": "67f9426c-765c-4416-b597-8f6660c1e73f"
    },
    {
      "cell_type": "code",
      "execution_count": 13,
      "metadata": {},
      "outputs": [],
      "source": [
        "plt.rcParams['figure.figsize'] = (4.5, 3.0)"
      ],
      "id": "f818119e-6854-42f8-910a-705be493ad79"
    },
    {
      "cell_type": "markdown",
      "metadata": {},
      "source": [
        "# 3. 선택학습: 데이터시각화\n",
        "\n",
        "`-` 데이터시각화2023: <https://guebin.github.io/DV2023/>\n",
        "\n",
        "-   01wk-2: <https://guebin.github.io/DV2023/posts/01wk-2.html>\n",
        "-   02wk-1: <https://guebin.github.io/DV2023/posts/02wk-1.html>\n",
        "\n",
        "# 4. 파라메터의 학습과정 음미"
      ],
      "id": "5f09bfd5-2d3f-4017-8c05-188bb8cc121e"
    },
    {
      "cell_type": "code",
      "execution_count": 14,
      "metadata": {},
      "outputs": [],
      "source": [
        "torch.manual_seed(43052)\n",
        "x,_ = torch.randn(100).sort()\n",
        "eps = torch.randn(100)*0.5\n",
        "X = torch.stack([torch.ones(100),x],axis=1)\n",
        "W = torch.tensor([[2.5],[4.0]])\n",
        "y = X@W + eps.reshape(100,1)\n",
        "x = X[:,[1]]"
      ],
      "id": "4c38ab41-27b6-4b73-abcf-fa2fedb9a67e"
    },
    {
      "cell_type": "markdown",
      "metadata": {},
      "source": [
        "## A. print"
      ],
      "id": "985f44f0-ce7a-46dc-8460-6ea9f279757c"
    },
    {
      "cell_type": "code",
      "execution_count": 18,
      "metadata": {
        "tags": []
      },
      "outputs": [
        {
          "output_type": "stream",
          "name": "stdout",
          "text": [
            "시작값 = tensor([-5., 10.])\n",
            "loss = 8587.69   업데이트폭 = tensor([ 1.3423, -1.1889])      업데이트결과: tensor([-3.6577,  8.8111])\n",
            "loss = 5675.21   업데이트폭 = tensor([ 1.1029, -0.9499])      업데이트결과: tensor([-2.5548,  7.8612])\n",
            "loss = 3755.64   업데이트폭 = tensor([ 0.9056, -0.7596])      업데이트결과: tensor([-1.6492,  7.1016])\n",
            "loss = 2489.58   업데이트폭 = tensor([ 0.7431, -0.6081])      업데이트결과: tensor([-0.9061,  6.4935])\n",
            "loss = 1654.04   업데이트폭 = tensor([ 0.6094, -0.4872])      업데이트결과: tensor([-0.2967,  6.0063])\n",
            "loss = 1102.32   업데이트폭 = tensor([ 0.4995, -0.3907])      업데이트결과: tensor([0.2028, 5.6156])\n",
            "loss = 737.84    업데이트폭 = tensor([ 0.4091, -0.3136])      업데이트결과: tensor([0.6119, 5.3020])\n",
            "loss = 496.97    업데이트폭 = tensor([ 0.3350, -0.2519])      업데이트결과: tensor([0.9469, 5.0501])\n",
            "loss = 337.71    업데이트폭 = tensor([ 0.2742, -0.2025])      업데이트결과: tensor([1.2211, 4.8477])\n",
            "loss = 232.40    업데이트폭 = tensor([ 0.2243, -0.1629])      업데이트결과: tensor([1.4454, 4.6848])\n",
            "loss = 162.73    업데이트폭 = tensor([ 0.1834, -0.1311])      업데이트결과: tensor([1.6288, 4.5537])\n",
            "loss = 116.63    업데이트폭 = tensor([ 0.1500, -0.1056])      업데이트결과: tensor([1.7787, 4.4480])\n",
            "loss = 86.13     업데이트폭 = tensor([ 0.1226, -0.0851])      업데이트결과: tensor([1.9013, 4.3629])\n",
            "loss = 65.93     업데이트폭 = tensor([ 0.1001, -0.0687])      업데이트결과: tensor([2.0014, 4.2942])\n",
            "loss = 52.57     업데이트폭 = tensor([ 0.0818, -0.0554])      업데이트결과: tensor([2.0832, 4.2388])\n",
            "loss = 43.72     업데이트폭 = tensor([ 0.0668, -0.0447])      업데이트결과: tensor([2.1500, 4.1941])\n",
            "loss = 37.86     업데이트폭 = tensor([ 0.0545, -0.0361])      업데이트결과: tensor([2.2045, 4.1579])\n",
            "loss = 33.97     업데이트폭 = tensor([ 0.0445, -0.0292])      업데이트결과: tensor([2.2490, 4.1287])\n",
            "loss = 31.40     업데이트폭 = tensor([ 0.0363, -0.0236])      업데이트결과: tensor([2.2853, 4.1051])\n",
            "loss = 29.70     업데이트폭 = tensor([ 0.0296, -0.0191])      업데이트결과: tensor([2.3150, 4.0860])\n",
            "loss = 28.57     업데이트폭 = tensor([ 0.0242, -0.0155])      업데이트결과: tensor([2.3392, 4.0705])\n",
            "loss = 27.83     업데이트폭 = tensor([ 0.0197, -0.0125])      업데이트결과: tensor([2.3589, 4.0580])\n",
            "loss = 27.33     업데이트폭 = tensor([ 0.0161, -0.0101])      업데이트결과: tensor([2.3750, 4.0479])\n",
            "loss = 27.00     업데이트폭 = tensor([ 0.0131, -0.0082])      업데이트결과: tensor([2.3881, 4.0396])\n",
            "loss = 26.79     업데이트폭 = tensor([ 0.0107, -0.0067])      업데이트결과: tensor([2.3988, 4.0330])\n",
            "loss = 26.64     업데이트폭 = tensor([ 0.0087, -0.0054])      업데이트결과: tensor([2.4075, 4.0276])\n",
            "loss = 26.55     업데이트폭 = tensor([ 0.0071, -0.0044])      업데이트결과: tensor([2.4146, 4.0232])\n",
            "loss = 26.48     업데이트폭 = tensor([ 0.0058, -0.0035])      업데이트결과: tensor([2.4204, 4.0197])\n",
            "loss = 26.44     업데이트폭 = tensor([ 0.0047, -0.0029])      업데이트결과: tensor([2.4251, 4.0168])\n",
            "loss = 26.41     업데이트폭 = tensor([ 0.0038, -0.0023])      업데이트결과: tensor([2.4290, 4.0144])"
          ]
        }
      ],
      "source": [
        "What = torch.tensor([[-5.0],[10.0]],requires_grad=True)\n",
        "alpha = 0.001\n",
        "print(f\"시작값 = {What.data.reshape(-1)}\")\n",
        "for epoc in range(30):\n",
        "    yhat = X @ What\n",
        "    loss = torch.sum((y-yhat)**2)\n",
        "    loss.backward()\n",
        "    What.data = What.data - alpha * What.grad\n",
        "    print(f'loss = {loss:.2f} \\t 업데이트폭 = {-alpha * What.grad.reshape(-1)} \\t 업데이트결과: {What.data.reshape(-1)}')\n",
        "    What.grad = None"
      ],
      "id": "b40a3e3f-90ec-4b0c-b9c8-21c29d9c6853"
    },
    {
      "cell_type": "markdown",
      "metadata": {},
      "source": [
        "## B. 시각화 – yhat의 관점에서!"
      ],
      "id": "e9d68215-4b36-462e-a11e-1d6f94c8a68d"
    },
    {
      "cell_type": "code",
      "execution_count": 19,
      "metadata": {
        "tags": []
      },
      "outputs": [
        {
          "output_type": "display_data",
          "metadata": {},
          "data": {
            "image/png": "[encoded data removed]"
          }
        }
      ],
      "source": [
        "What = torch.tensor([[-5.0],[10.0]],requires_grad=True)\n",
        "alpha = 0.001\n",
        "plt.plot(x,y,'o',label = \"observed\")\n",
        "fig = plt.gcf()\n",
        "ax = fig.gca()\n",
        "ax.plot(x,X@What.data,'--',color=\"C1\")\n",
        "for epoc in range(30):\n",
        "    yhat = X @ What\n",
        "    loss = torch.sum((y-yhat)**2)\n",
        "    loss.backward()\n",
        "    What.data = What.data - alpha * What.grad\n",
        "    ax.plot(x,X@What.data,'--',color=\"C1\",alpha=0.1)\n",
        "    What.grad = None"
      ],
      "id": "00849d12-722c-4eae-96ab-1a0124d032d9"
    },
    {
      "cell_type": "markdown",
      "metadata": {},
      "source": [
        "## C. 시각화 – loss의 관점에서!!"
      ],
      "id": "47a65063-1b75-427d-9f27-b6460a4cdd63"
    },
    {
      "cell_type": "code",
      "execution_count": 20,
      "metadata": {
        "tags": []
      },
      "outputs": [],
      "source": [
        "def plot_loss():\n",
        "    fig = plt.figure()\n",
        "    ax = fig.add_subplot(projection='3d')\n",
        "    w0 = np.arange(-6, 11, 0.5) \n",
        "    w1 = np.arange(-6, 11, 0.5)\n",
        "    W1,W0 = np.meshgrid(w1,w0)\n",
        "    LOSS=W0*0\n",
        "    for i in range(len(w0)):\n",
        "        for j in range(len(w1)):\n",
        "            LOSS[i,j]=torch.sum((y-w0[i]-w1[j]*x)**2)\n",
        "    ax.plot_surface(W0, W1, LOSS, rstride=1, cstride=1, color='b',alpha=0.1)\n",
        "    ax.azim = 30  ## 3d plot의 view 조절 \n",
        "    ax.dist = 8   ## 3d plot의 view 조절 \n",
        "    ax.elev = 5   ## 3d plot의 view 조절 \n",
        "    ax.set_xlabel(r'$w_0$')  # x축 레이블 설정\n",
        "    ax.set_ylabel(r'$w_1$')  # y축 레이블 설정\n",
        "    ax.set_xticks([-5,0,5,10])  # x축 틱 간격 설정\n",
        "    ax.set_yticks([-5,0,5,10])  # y축 틱 간격 설정\n",
        "    plt.close(fig)  # 자동 출력 방지\n",
        "    return fig"
      ],
      "id": "ab58ee01-ca67-4e71-bbc7-6af534a6cb75"
    },
    {
      "cell_type": "code",
      "execution_count": 21,
      "metadata": {},
      "outputs": [],
      "source": [
        "# 손실 8587.6875 를 계산하는 또 다른 방식\n",
        "def l(w0hat,w1hat):\n",
        "    yhat = w0hat + w1hat*x\n",
        "    return torch.sum((y-yhat)**2)"
      ],
      "id": "d3bf7d82-fd1f-4168-86c2-917a61ab0d03"
    },
    {
      "cell_type": "code",
      "execution_count": 29,
      "metadata": {
        "tags": []
      },
      "outputs": [
        {
          "output_type": "display_data",
          "metadata": {},
          "data": {
            "image/png": "[encoded data removed]"
          }
        }
      ],
      "source": [
        "fig = plot_loss()\n",
        "ax = fig.gca()\n",
        "ax.scatter(2.5, 4, l(2.5,4), s=200, marker='*', color='red', label=r\"${\\bf W}=[2.5, 4]'$\")\n",
        "ax.scatter(-5, 10, l(-5,10), s=200, marker='*', color='blue', label=r\"initial $\\hat{\\bf W}=[-5, 10]'$\")\n",
        "ax.legend()\n",
        "fig"
      ],
      "id": "00fe1e33-17ea-43f2-af39-b04484cbd27d"
    },
    {
      "cell_type": "code",
      "execution_count": 30,
      "metadata": {
        "tags": []
      },
      "outputs": [],
      "source": [
        "w0,w1 = What.data.reshape(-1)"
      ],
      "id": "08626a62-5b1c-46f1-8687-ad3f3475e734"
    },
    {
      "cell_type": "code",
      "execution_count": 31,
      "metadata": {
        "tags": []
      },
      "outputs": [],
      "source": [
        "What.data"
      ],
      "id": "0eeaf994-b1d5-4d4a-8337-a645d70ad6d6"
    },
    {
      "cell_type": "code",
      "execution_count": 32,
      "metadata": {
        "tags": []
      },
      "outputs": [],
      "source": [
        "w0,w1"
      ],
      "id": "50767541-9a37-428a-84a5-c822a17d9640"
    },
    {
      "cell_type": "code",
      "execution_count": 33,
      "metadata": {
        "tags": []
      },
      "outputs": [],
      "source": [
        "What = torch.tensor([[-5.0],[10.0]],requires_grad=True)\n",
        "alpha = 0.001\n",
        "for epoc in range(30):\n",
        "    yhat = X @ What\n",
        "    loss = torch.sum((y-yhat)**2)\n",
        "    loss.backward()\n",
        "    What.data = What.data - 0.001 * What.grad\n",
        "    w0,w1 = What.data.reshape(-1) \n",
        "    ax.scatter(w0,w1,l(w0,w1),s=5,marker='o',color='blue')\n",
        "    What.grad = None"
      ],
      "id": "c5671b7f-7721-478e-8df3-7b9bbc79146c"
    },
    {
      "cell_type": "code",
      "execution_count": 34,
      "metadata": {
        "tags": []
      },
      "outputs": [
        {
          "output_type": "display_data",
          "metadata": {},
          "data": {
            "image/png": "[encoded data removed]"
          }
        }
      ],
      "source": [
        "fig"
      ],
      "id": "89def609-e9b1-4024-82de-f68b24dc45d8"
    },
    {
      "cell_type": "markdown",
      "metadata": {},
      "source": [
        "## D. 애니메이션"
      ],
      "id": "0890a2cc-8174-4021-91c1-b119f67ae2a1"
    },
    {
      "cell_type": "code",
      "execution_count": 35,
      "metadata": {
        "tags": []
      },
      "outputs": [],
      "source": [
        "from matplotlib import animation"
      ],
      "id": "94794a65-1d29-44f4-b761-d337e1534879"
    },
    {
      "cell_type": "code",
      "execution_count": 36,
      "metadata": {
        "tags": []
      },
      "outputs": [],
      "source": [
        "plt.rcParams['figure.figsize'] = (7.5,2.5)\n",
        "plt.rcParams[\"animation.html\"] = \"jshtml\" "
      ],
      "id": "87f27671-885f-4dd9-9e46-5f1892b51380"
    },
    {
      "cell_type": "code",
      "execution_count": 37,
      "metadata": {
        "tags": []
      },
      "outputs": [],
      "source": [
        "def show_animation(alpha=0.001):\n",
        "    ## 1. 히스토리 기록을 위한 list 초기화\n",
        "    loss_history = [] \n",
        "    yhat_history = [] \n",
        "    What_history = [] \n",
        "\n",
        "    ## 2. 학습 + 학습과정기록\n",
        "    What= torch.tensor([[-5.0],[10.0]],requires_grad=True)\n",
        "    What_history.append(What.data.tolist())\n",
        "    for epoc in range(30): \n",
        "        yhat=X@What ; yhat_history.append(yhat.data.tolist())\n",
        "        loss=torch.sum((y-yhat)**2); loss_history.append(loss.item())\n",
        "        loss.backward() \n",
        "        What.data = What.data - alpha * What.grad; What_history.append(What.data.tolist())\n",
        "        What.grad = None    \n",
        "\n",
        "    ## 3. 시각화 \n",
        "    fig = plt.figure()\n",
        "    ax1 = fig.add_subplot(1, 2, 1)\n",
        "    ax2 = fig.add_subplot(1, 2, 2, projection='3d')\n",
        "\n",
        "    #### ax1: yhat의 관점에서.. \n",
        "    ax1.plot(x,y,'o',label=r\"$(x_i,y_i)$\")\n",
        "    line, = ax1.plot(x,yhat_history[0],label=r\"$(x_i,\\hat{y}_i)$\") \n",
        "    ax1.legend()\n",
        "    #### ax2: loss의 관점에서.. \n",
        "    w0 = np.arange(-6, 11, 0.5) \n",
        "    w1 = np.arange(-6, 11, 0.5)\n",
        "    W1,W0 = np.meshgrid(w1,w0)\n",
        "    LOSS=W0*0\n",
        "    for i in range(len(w0)):\n",
        "        for j in range(len(w1)):\n",
        "            LOSS[i,j]=torch.sum((y-w0[i]-w1[j]*x)**2)\n",
        "    ax2.plot_surface(W0, W1, LOSS, rstride=1, cstride=1, color='b',alpha=0.1)\n",
        "    ax2.azim = 30  ## 3d plot의 view 조절 \n",
        "    ax2.dist = 8   ## 3d plot의 view 조절 \n",
        "    ax2.elev = 5   ## 3d plot의 view 조절 \n",
        "    ax2.set_xlabel(r'$w_0$')  # x축 레이블 설정\n",
        "    ax2.set_ylabel(r'$w_1$')  # y축 레이블 설정\n",
        "    ax2.set_xticks([-5,0,5,10])  # x축 틱 간격 설정\n",
        "    ax2.set_yticks([-5,0,5,10])  # y축 틱 간격 설정\n",
        "    ax2.scatter(2.5, 4, l(2.5,4), s=200, marker='*', color='red', label=r\"${\\bf W}=[2.5, 4]'$\")\n",
        "    ax2.scatter(-5, 10, l(-5,10), s=200, marker='*', color='blue')\n",
        "    ax2.legend()\n",
        "    def animate(epoc):\n",
        "        line.set_ydata(yhat_history[epoc])\n",
        "        ax2.scatter(np.array(What_history)[epoc,0],np.array(What_history)[epoc,1],loss_history[epoc],color='grey')\n",
        "        fig.suptitle(f\"alpha = {alpha} / epoch = {epoc}\")\n",
        "        return line\n",
        "\n",
        "    ani = animation.FuncAnimation(fig, animate, frames=30)\n",
        "    plt.close()\n",
        "    return ani"
      ],
      "id": "a34fb693-27b2-4c03-b4a6-45a914a76342"
    },
    {
      "cell_type": "code",
      "execution_count": 38,
      "metadata": {
        "tags": []
      },
      "outputs": [],
      "source": [
        "ani = show_animation(alpha=0.001)\n",
        "ani"
      ],
      "id": "1e38e4e1-77ba-4c20-808f-c98b88bd35b7"
    },
    {
      "cell_type": "markdown",
      "metadata": {},
      "source": [
        "## E. 학습률에 따른 시각화\n",
        "\n",
        "`-` $\\alpha$가 너무 작다면 비효율적임"
      ],
      "id": "20c111e4-2621-4b77-8bbb-ad31a9779947"
    },
    {
      "cell_type": "code",
      "execution_count": 39,
      "metadata": {
        "tags": []
      },
      "outputs": [],
      "source": [
        "show_animation(alpha=0.0001)"
      ],
      "id": "68cde5da-7057-4683-8318-ad51256d38e7"
    },
    {
      "cell_type": "markdown",
      "metadata": {},
      "source": [
        "`-` $\\alpha$가 크다고 무조건 좋은건 또 아님"
      ],
      "id": "d18db009-cced-4224-98f0-98a7c4f9e2ee"
    },
    {
      "cell_type": "code",
      "execution_count": 40,
      "metadata": {
        "tags": []
      },
      "outputs": [],
      "source": [
        "show_animation(alpha=0.0083)"
      ],
      "id": "f7053c11-b686-4767-babe-450f67805736"
    },
    {
      "cell_type": "markdown",
      "metadata": {},
      "source": [
        "`-` 수틀리면 수렴안할수도??"
      ],
      "id": "c0a8a60b-6c47-472b-b7ec-080829001d91"
    },
    {
      "cell_type": "code",
      "execution_count": 41,
      "metadata": {
        "tags": []
      },
      "outputs": [],
      "source": [
        "show_animation(alpha=0.0085)"
      ],
      "id": "68d169fe-90f9-410e-b169-8efc436f6b8e"
    },
    {
      "cell_type": "markdown",
      "metadata": {},
      "source": [
        "`-` 그냥 망할수도??"
      ],
      "id": "ddde2986-098d-49ff-9558-12d9d149af4e"
    },
    {
      "cell_type": "code",
      "execution_count": 42,
      "metadata": {
        "tags": []
      },
      "outputs": [],
      "source": [
        "show_animation(alpha=0.01)"
      ],
      "id": "d578f207-96d1-4439-a004-30bbfaea4213"
    },
    {
      "cell_type": "markdown",
      "metadata": {},
      "source": [
        "------------------------------------------------------------------------"
      ],
      "id": "1410fcaf-9d82-4675-909c-c24e16197e64"
    },
    {
      "cell_type": "code",
      "execution_count": 46,
      "metadata": {},
      "outputs": [],
      "source": [
        "plt.rcdefaults()\n",
        "plt.rcParams['figure.figsize'] = 4.5,3.0 "
      ],
      "id": "96511a24-7017-40d1-aeb8-c8e71b8b56cc"
    },
    {
      "cell_type": "markdown",
      "metadata": {},
      "source": [
        "------------------------------------------------------------------------\n",
        "\n",
        "# 5. SSE $\\to$ MSE\n",
        "\n",
        "`-` 학습률을 잘 선택하는 것이 중요함\n",
        "\n",
        "`-` 손실함수를 SSE로 설정하면 학습률 선택이 비효율적 $\\to$ SSE말고 MSE를\n",
        "써야함"
      ],
      "id": "464a00cc-bb26-42d7-9980-0bd09db9a113"
    },
    {
      "cell_type": "code",
      "execution_count": 47,
      "metadata": {
        "tags": []
      },
      "outputs": [],
      "source": [
        "What = torch.tensor([[-5.0],[10.0]],requires_grad = True)\n",
        "for epoc in range(30):\n",
        "    # step1: yhat \n",
        "    yhat = X@What \n",
        "    # step2: loss\n",
        "    loss = torch.sum((y-yhat)**2)/100\n",
        "    # step3: 미분\n",
        "    loss.backward()\n",
        "    # step4: update\n",
        "    What.data = What.data - 0.1 * What.grad\n",
        "    What.grad = None"
      ],
      "id": "eccb23a1-fd49-430d-b3ee-3d58ecc4b879"
    },
    {
      "cell_type": "markdown",
      "metadata": {},
      "source": [
        "# 6. 파이토치식 코딩패턴"
      ],
      "id": "296d2d99-ef13-42f3-b7b0-c1e3a0a1ea5d"
    },
    {
      "cell_type": "code",
      "execution_count": 49,
      "metadata": {},
      "outputs": [],
      "source": [
        "torch.manual_seed(43052)\n",
        "x,_ = torch.randn(100).sort()\n",
        "eps = torch.randn(100)*0.5\n",
        "X = torch.stack([torch.ones(100),x],axis=1)\n",
        "W = torch.tensor([[2.5],[4.0]])\n",
        "y = X@W + eps.reshape(100,1)\n",
        "x = X[:,[1]]"
      ],
      "id": "0a956747-0f84-4f03-aa1a-e14ca4df313d"
    },
    {
      "cell_type": "markdown",
      "metadata": {},
      "source": [
        "## A. 기본패턴"
      ],
      "id": "2dfe1889-068c-4f57-9900-4d41780f29bb"
    },
    {
      "cell_type": "code",
      "execution_count": 54,
      "metadata": {
        "tags": []
      },
      "outputs": [],
      "source": [
        "## -- 외우세요!!! -- ##\n",
        "What = torch.tensor([[-5.0],[10.0]],requires_grad = True)\n",
        "for epoc in range(30):\n",
        "    # step1: yhat \n",
        "    yhat = X@What \n",
        "    # step2: loss\n",
        "    loss = torch.sum((y-yhat)**2)/100\n",
        "    # step3: 미분\n",
        "    loss.backward()\n",
        "    # step4: update\n",
        "    What.data = What.data - 0.1 * What.grad\n",
        "    What.grad = None"
      ],
      "id": "894be6c7-6e3c-4699-ae37-6c98f817b4e6"
    },
    {
      "cell_type": "code",
      "execution_count": 55,
      "metadata": {
        "tags": []
      },
      "outputs": [
        {
          "output_type": "display_data",
          "metadata": {},
          "data": {
            "image/png": "[encoded data removed]"
          }
        }
      ],
      "source": [
        "plt.plot(x,y,'o')\n",
        "plt.plot(x,X@What.data,'--')\n",
        "plt.title(f'What={What.data.reshape(-1)}');"
      ],
      "id": "b981d141-ff1f-495c-840b-734150780bc1"
    },
    {
      "cell_type": "markdown",
      "metadata": {},
      "source": [
        "## B. Step2의 수정 – `loss_fn` 이용"
      ],
      "id": "e69b77c1-2fe4-4083-9183-c99afefd0daf"
    },
    {
      "cell_type": "code",
      "execution_count": 56,
      "metadata": {
        "tags": []
      },
      "outputs": [],
      "source": [
        "What = torch.tensor([[-5.0],[10.0]],requires_grad = True)\n",
        "loss_fn = torch.nn.MSELoss()\n",
        "for epoc in range(30):\n",
        "    # step1: yhat \n",
        "    yhat = X@What \n",
        "    # step2: loss\n",
        "    #loss = torch.sum((y-yhat)**2)/100\n",
        "    loss = loss_fn(yhat,y) # 여기서는 큰 상관없지만 습관적으로 yhat을 먼저넣는 연습을 하자!!\n",
        "    # step3: 미분\n",
        "    loss.backward()\n",
        "    # step4: update\n",
        "    What.data = What.data - 0.1 * What.grad\n",
        "    What.grad = None"
      ],
      "id": "4a1a88ba-5f37-4e5a-bd05-31f93a7b8f49"
    },
    {
      "cell_type": "code",
      "execution_count": 57,
      "metadata": {
        "tags": []
      },
      "outputs": [
        {
          "output_type": "display_data",
          "metadata": {},
          "data": {
            "image/png": "[encoded data removed]"
          }
        }
      ],
      "source": [
        "plt.plot(x,y,'o')\n",
        "plt.plot(x,X@What.data,'--')\n",
        "plt.title(f'What={What.data.reshape(-1)}');"
      ],
      "id": "44510357-cc97-4ecf-ad24-229857fc49f9"
    },
    {
      "cell_type": "markdown",
      "metadata": {},
      "source": [
        "## C. Step1의 수정 – `net` 이용\n",
        "\n",
        "`# net` – net 오브젝트란?\n",
        "\n",
        "원래 yhat을 이런식으로 구했는데 ~"
      ],
      "id": "5a5189ef-93d6-406c-bc7c-4312fbde98df"
    },
    {
      "cell_type": "code",
      "execution_count": 60,
      "metadata": {
        "tags": []
      },
      "outputs": [],
      "source": [
        "What = torch.tensor([[-5.0],[10.0]],requires_grad = True)\n",
        "(X@What.data)[:5]"
      ],
      "id": "4efa0797-ba10-4abb-8466-3956629e52a3"
    },
    {
      "cell_type": "markdown",
      "metadata": {},
      "source": [
        "아래와 같은 방식으로 코드를 짜고 싶음..\n",
        "\n",
        "``` python\n",
        "yhat = net(X) # \n",
        "```\n",
        "\n",
        "위와 같은 코드를 가능하게 하는 `net`은 torch에서 지원하고 아래와 같이\n",
        "사용할 수 있음."
      ],
      "id": "fef845ab-9f51-40a7-8631-09a63dd2cb52"
    },
    {
      "cell_type": "code",
      "execution_count": 61,
      "metadata": {},
      "outputs": [],
      "source": [
        "# yhat = net(X) \n",
        "net = torch.nn.Linear(\n",
        "    in_features=2, # X:(n,2) --> 2 \n",
        "    out_features=1, # yhat:(n,1) --> 1 \n",
        "    bias=False \n",
        ")"
      ],
      "id": "e18c20d3-e056-4176-82aa-135a207acb2f"
    },
    {
      "cell_type": "code",
      "execution_count": 62,
      "metadata": {
        "tags": []
      },
      "outputs": [],
      "source": [
        "net.weight.data = torch.tensor([[-5.0,  10.0]]) # 차원이 틀렸는데?\n",
        "net.weight"
      ],
      "id": "d09eb978-477d-4f04-8bc6-40176fbfb20f"
    },
    {
      "cell_type": "code",
      "execution_count": 63,
      "metadata": {
        "tags": []
      },
      "outputs": [],
      "source": [
        "net(X)[:5]"
      ],
      "id": "0b49d6bb-5a0c-4478-abac-bfeea6bc1840"
    },
    {
      "cell_type": "code",
      "execution_count": 64,
      "metadata": {},
      "outputs": [],
      "source": [
        "(X@What)[:5]"
      ],
      "id": "56b49719-7477-4d74-a593-4664c481dda9"
    },
    {
      "cell_type": "code",
      "execution_count": 65,
      "metadata": {},
      "outputs": [],
      "source": [
        "(X@net.weight.T)[:5]"
      ],
      "id": "9f6d50d7-bca7-4d72-82c6-992f4c5e5bdc"
    },
    {
      "cell_type": "markdown",
      "metadata": {},
      "source": [
        "`#`\n",
        "\n",
        "`-` 수정된코드"
      ],
      "id": "3a57f411-7f63-4e67-8f53-7c8363c311ae"
    },
    {
      "cell_type": "code",
      "execution_count": 66,
      "metadata": {
        "tags": []
      },
      "outputs": [],
      "source": [
        "# step1을 위한 사전준비\n",
        "net = torch.nn.Linear(\n",
        "    in_features=2,\n",
        "    out_features=1,\n",
        "    bias=False\n",
        ")\n",
        "net.weight.data = torch.tensor([[-5.0,  10.0]])\n",
        "# step2를 위한 사전준비\n",
        "loss_fn = torch.nn.MSELoss()\n",
        "for epoc in range(30):\n",
        "    # step1: yhat \n",
        "    yhat = net(X)\n",
        "    # step2: loss\n",
        "    loss = loss_fn(yhat,y)\n",
        "    # step3: 미분\n",
        "    loss.backward()\n",
        "    # step4: update\n",
        "    net.weight.data = net.weight.data - 0.1 * net.weight.grad\n",
        "    net.weight.grad = None"
      ],
      "id": "d32bf5a6-37e7-4bad-af00-6bb059ce37dd"
    },
    {
      "cell_type": "code",
      "execution_count": 67,
      "metadata": {
        "tags": []
      },
      "outputs": [
        {
          "output_type": "display_data",
          "metadata": {},
          "data": {
            "image/png": "[encoded data removed]"
          }
        }
      ],
      "source": [
        "plt.plot(x,y,'o')\n",
        "plt.plot(x,net(X).data,'--')\n",
        "plt.title(f'net.weight={net.weight.data.reshape(-1)}');"
      ],
      "id": "028c20f9-c025-4dc3-9424-870084372618"
    },
    {
      "cell_type": "markdown",
      "metadata": {},
      "source": [
        "## D. Step4의 수정 – `optimizer`의 이용\n",
        "\n",
        "`-` 소망: 아래의 과정을 좀 더 편하게 했으면..\n",
        "\n",
        "``` python\n",
        "net.weight.data = net.weight.data - 0.1 * net.weight.grad\n",
        "net.weight.data = None \n",
        "```\n",
        "\n",
        "`# optimizer` – 이걸 이용하면 update 과정을 손쉽게 할 수 있음\n",
        "\n",
        "***기존코드***"
      ],
      "id": "9667e812-5b54-43af-9593-34f89da58fc4"
    },
    {
      "cell_type": "code",
      "execution_count": 68,
      "metadata": {},
      "outputs": [],
      "source": [
        "## -- 준비과정 -- ## \n",
        "# step1을 위한 사전준비\n",
        "net = torch.nn.Linear(\n",
        "    in_features=2,\n",
        "    out_features=1,\n",
        "    bias=False\n",
        ")\n",
        "net.weight.data = torch.tensor([[-5.0,  10.0]])\n",
        "# step2를 위한 사전준비\n",
        "loss_fn = torch.nn.MSELoss()"
      ],
      "id": "82170d8d-7b0a-499b-9bdb-eb566948d40f"
    },
    {
      "cell_type": "code",
      "execution_count": 69,
      "metadata": {},
      "outputs": [
        {
          "output_type": "stream",
          "name": "stdout",
          "text": [
            "tensor([[-5., 10.]])\n",
            "tensor([[-3.6577,  8.8111]])"
          ]
        }
      ],
      "source": [
        "## -- 1에폭진행 -- ## \n",
        "# step1: \n",
        "yhat = net(X)\n",
        "# step2: loss\n",
        "loss = loss_fn(yhat,y)\n",
        "# step3: 미분\n",
        "loss.backward()\n",
        "# step4: update\n",
        "print(net.weight.data)\n",
        "net.weight.data = net.weight.data - 0.1 * net.weight.grad\n",
        "print(net.weight.data)\n",
        "net.weight.grad = None"
      ],
      "id": "9d2cb91a-da61-41d1-8538-7da1caf28dcd"
    },
    {
      "cell_type": "code",
      "execution_count": 70,
      "metadata": {},
      "outputs": [
        {
          "output_type": "stream",
          "name": "stdout",
          "text": [
            "tensor([[-3.6577,  8.8111]])\n",
            "tensor([[-2.5548,  7.8612]])"
          ]
        }
      ],
      "source": [
        "## -- 2에폭진행 -- ## \n",
        "# step1: 2에폭진행\n",
        "yhat = net(X)\n",
        "# step2: loss\n",
        "loss = loss_fn(yhat,y)\n",
        "# step3: 미분\n",
        "loss.backward()\n",
        "# step4: update\n",
        "print(net.weight.data)\n",
        "net.weight.data = net.weight.data - 0.1 * net.weight.grad\n",
        "print(net.weight.data)\n",
        "net.weight.grad = None"
      ],
      "id": "edb0259f-45a6-4cc5-b4cb-32b920420688"
    },
    {
      "cell_type": "markdown",
      "metadata": {},
      "source": [
        "***새로운코드*** – `optimizer` 이용"
      ],
      "id": "20c5e98d-de83-427b-ab53-41bbdddc77a7"
    },
    {
      "cell_type": "code",
      "execution_count": 376,
      "metadata": {
        "tags": []
      },
      "outputs": [],
      "source": [
        "## -- 준비과정 -- ## \n",
        "# step1을 위한 사전준비\n",
        "net = torch.nn.Linear(\n",
        "    in_features=2,\n",
        "    out_features=1,\n",
        "    bias=False\n",
        ")\n",
        "net.weight.data = torch.tensor([[-5.0,  10.0]])\n",
        "# step2를 위한 사전준비\n",
        "loss_fn = torch.nn.MSELoss()\n",
        "# step4를 위한 사전준비\n",
        "optimizr = torch.optim.SGD(net.parameters(),lr=0.1)"
      ],
      "id": "945a3999-0446-4305-b300-ccd603f17760"
    },
    {
      "cell_type": "code",
      "execution_count": 377,
      "metadata": {},
      "outputs": [
        {
          "output_type": "stream",
          "name": "stdout",
          "text": [
            "tensor([[-5., 10.]])\n",
            "tensor([[-3.6577,  8.8111]])"
          ]
        }
      ],
      "source": [
        "## -- 1에폭진행 -- ## \n",
        "yhat = net(X)\n",
        "# step2: loss\n",
        "loss = loss_fn(yhat,y)\n",
        "# step3: 미분\n",
        "loss.backward()\n",
        "# step4: update\n",
        "print(net.weight.data)\n",
        "#net.weight.data = net.weight.data - 0.1 * net.weight.grad\n",
        "optimizr.step()\n",
        "print(net.weight.data)\n",
        "#net.weight.grad = None\n",
        "optimizr.zero_grad()"
      ],
      "id": "cf55ac0b-167b-48f8-b8a8-46d1802187dc"
    },
    {
      "cell_type": "code",
      "execution_count": 378,
      "metadata": {},
      "outputs": [
        {
          "output_type": "stream",
          "name": "stdout",
          "text": [
            "tensor([[-3.6577,  8.8111]])\n",
            "tensor([[-2.5548,  7.8612]])"
          ]
        }
      ],
      "source": [
        "## -- 2에폭진행 -- ## \n",
        "yhat = net(X)\n",
        "# step2: loss\n",
        "loss = loss_fn(yhat,y)\n",
        "# step3: 미분\n",
        "loss.backward()\n",
        "# step4: update\n",
        "print(net.weight.data)\n",
        "#net.weight.data = net.weight.data - 0.1 * net.weight.grad\n",
        "optimizr.step()\n",
        "print(net.weight.data)\n",
        "#net.weight.grad = None\n",
        "optimizr.zero_grad()"
      ],
      "id": "98e612ef-7f54-4d79-b0b4-7c9aa237747e"
    },
    {
      "cell_type": "markdown",
      "metadata": {},
      "source": [
        "`#`\n",
        "\n",
        "`-` 수정된코드"
      ],
      "id": "bb99212a-ded6-4f2d-b062-591956ed7907"
    },
    {
      "cell_type": "code",
      "execution_count": 58,
      "metadata": {
        "tags": []
      },
      "outputs": [],
      "source": [
        "# step1을 위한 사전준비\n",
        "net = torch.nn.Linear(\n",
        "    in_features=2,\n",
        "    out_features=1,\n",
        "    bias=False\n",
        ")\n",
        "net.weight.data = torch.tensor([[-5.0,  10.0]])\n",
        "# step2를 위한 사전준비\n",
        "loss_fn = torch.nn.MSELoss()\n",
        "# step4를 위한 사전준비 \n",
        "optimizr = torch.optim.SGD(net.parameters(),lr=0.1)\n",
        "for epoc in range(30):\n",
        "    # step1: yhat \n",
        "    yhat = net(X)\n",
        "    # step2: loss\n",
        "    loss = loss_fn(yhat,y)\n",
        "    # step3: 미분\n",
        "    loss.backward()\n",
        "    # step4: update\n",
        "    optimizr.step()\n",
        "    optimizr.zero_grad()"
      ],
      "id": "0afa6a8c-b6c3-46f3-8f30-dd30bd36f6a2"
    },
    {
      "cell_type": "code",
      "execution_count": 59,
      "metadata": {
        "tags": []
      },
      "outputs": [
        {
          "output_type": "display_data",
          "metadata": {},
          "data": {
            "image/png": "[encoded data removed]"
          }
        }
      ],
      "source": [
        "plt.plot(x,y,'o')\n",
        "plt.plot(x,yhat.data,'--')\n",
        "plt.title(f'net.weight={net.weight.data.reshape(-1)}');"
      ],
      "id": "5ecb1ea4-cbb1-460f-9e3f-a17d4ea1e7f3"
    },
    {
      "cell_type": "markdown",
      "metadata": {},
      "source": [
        "## E. 기타 가능한 코드\n",
        "\n",
        "***`# 방법1`*** – net에서 bias를 사용"
      ],
      "id": "427fc0a3-9759-4f6d-91b7-f192d652fd0d"
    },
    {
      "cell_type": "code",
      "execution_count": 386,
      "metadata": {},
      "outputs": [],
      "source": [
        "# step1을 위한 사전준비\n",
        "net = torch.nn.Linear(\n",
        "    in_features=1,\n",
        "    out_features=1,\n",
        "    bias=True\n",
        ") # net(x) = x@net.weight.T + net.bias \n",
        "net.bias.data = torch.tensor([-5.0])\n",
        "net.weight.data = torch.tensor([[10.0]])\n",
        "# step2를 위한 사전준비\n",
        "loss_fn = torch.nn.MSELoss()\n",
        "# step4를 위한 사전준비 \n",
        "optimizr = torch.optim.SGD(net.parameters(),lr=0.1)\n",
        "for epoc in range(30):\n",
        "    # step1: yhat \n",
        "    yhat = net(x)\n",
        "    # step2: loss\n",
        "    loss = loss_fn(yhat,y)\n",
        "    # step3: 미분\n",
        "    loss.backward()\n",
        "    # step4: update\n",
        "    optimizr.step()\n",
        "    optimizr.zero_grad()"
      ],
      "id": "63155bef-a4c0-4fc6-adb1-8666ea08be4c"
    },
    {
      "cell_type": "code",
      "execution_count": 387,
      "metadata": {},
      "outputs": [],
      "source": [
        "net.bias.data, net.weight.data"
      ],
      "id": "31452f0a-3cd8-4534-8fc8-7c7f3b2c8abf"
    },
    {
      "cell_type": "markdown",
      "metadata": {},
      "source": [
        "`#`\n",
        "\n",
        "***`# 방법2`*** – net를 쓰지않고 optimizer를 사용하는 방법 (1)"
      ],
      "id": "f1c207c9-9799-46b1-9993-b1323318cbe7"
    },
    {
      "cell_type": "code",
      "execution_count": 388,
      "metadata": {},
      "outputs": [],
      "source": [
        "# step1을 위한 사전준비\n",
        "what = torch.tensor(10.0,requires_grad=True)\n",
        "bhat = torch.tensor(-5.0,requires_grad=True)\n",
        "# step2를 위한 사전준비\n",
        "loss_fn = torch.nn.MSELoss()\n",
        "# step4를 위한 사전준비 \n",
        "optimizr = torch.optim.SGD([bhat,what],lr=0.1)\n",
        "for epoc in range(30):\n",
        "    # step1: yhat \n",
        "    yhat = what*x+bhat \n",
        "    # step2: loss\n",
        "    loss = loss_fn(yhat,y)\n",
        "    # step3: 미분\n",
        "    loss.backward()\n",
        "    # step4: update\n",
        "    optimizr.step()\n",
        "    optimizr.zero_grad()"
      ],
      "id": "3309d11a-2cbd-4a7d-b911-bc7195ac54df"
    },
    {
      "cell_type": "code",
      "execution_count": 389,
      "metadata": {},
      "outputs": [],
      "source": [
        "what,bhat"
      ],
      "id": "a726d082-868d-4699-8476-2e9cd79e31fe"
    },
    {
      "cell_type": "markdown",
      "metadata": {},
      "source": [
        "`#`\n",
        "\n",
        "***`# 방법3`*** – net를 쓰지않고 optimizer를 사용하는 방법 (2)"
      ],
      "id": "47a8fc1d-a668-4ee9-88f4-4c31ee1391e4"
    },
    {
      "cell_type": "code",
      "execution_count": 390,
      "metadata": {},
      "outputs": [],
      "source": [
        "# step1을 위한 사전준비\n",
        "What = torch.tensor([[-5.0],[10.0]],requires_grad=True)\n",
        "# step2를 위한 사전준비\n",
        "loss_fn = torch.nn.MSELoss()\n",
        "# step4를 위한 사전준비 \n",
        "optimizr = torch.optim.SGD([What],lr=0.1)\n",
        "for epoc in range(30):\n",
        "    # step1: yhat \n",
        "    yhat = X@What\n",
        "    # step2: loss\n",
        "    loss = loss_fn(yhat,y)\n",
        "    # step3: 미분\n",
        "    loss.backward()\n",
        "    # step4: update\n",
        "    optimizr.step()\n",
        "    optimizr.zero_grad()"
      ],
      "id": "64c15b80-f1dc-46c1-bb30-9447d8ae137c"
    },
    {
      "cell_type": "code",
      "execution_count": 391,
      "metadata": {},
      "outputs": [],
      "source": [
        "What"
      ],
      "id": "1d5b0bff-c17a-4417-9eb1-c8f8d64bc201"
    },
    {
      "cell_type": "markdown",
      "metadata": {},
      "source": [
        "`#`\n",
        "\n",
        "## F. 잘못된(?) 코드"
      ],
      "id": "e23291b0-ccc9-4e91-b796-ea209ed29121"
    },
    {
      "cell_type": "code",
      "execution_count": 72,
      "metadata": {},
      "outputs": [],
      "source": [
        "# step1을 위한 사전준비\n",
        "net = torch.nn.Linear(\n",
        "    in_features=2,\n",
        "    out_features=1,\n",
        ")\n",
        "net.weight.data = torch.tensor([[-5.0,  10.0]])\n",
        "# step2를 위한 사전준비\n",
        "loss_fn = torch.nn.MSELoss()\n",
        "# step4를 위한 사전준비 \n",
        "optimizr = torch.optim.SGD(net.parameters(),lr=0.1)\n",
        "for epoc in range(30):\n",
        "    # step1: yhat \n",
        "    yhat = net(X)\n",
        "    # step2: loss\n",
        "    loss = loss_fn(yhat,y)\n",
        "    # step3: 미분\n",
        "    loss.backward()\n",
        "    # step4: update\n",
        "    optimizr.step()\n",
        "    optimizr.zero_grad()"
      ],
      "id": "ab331a59-1fef-46cc-8d85-8353c847be32"
    },
    {
      "cell_type": "code",
      "execution_count": 73,
      "metadata": {},
      "outputs": [],
      "source": [
        "net.weight"
      ],
      "id": "539edae6-e319-4894-af69-c46ae385ccb8"
    },
    {
      "cell_type": "markdown",
      "metadata": {},
      "source": [
        "`-` 결과시각화"
      ],
      "id": "6111031a-5324-4b65-82ed-19c6d511b7ad"
    },
    {
      "cell_type": "code",
      "execution_count": 74,
      "metadata": {
        "tags": []
      },
      "outputs": [
        {
          "output_type": "display_data",
          "metadata": {},
          "data": {
            "image/png": "[encoded data removed]"
          }
        }
      ],
      "source": [
        "plt.plot(x,y,'o')\n",
        "plt.plot(x,yhat.data,'--')\n",
        "plt.title(f'net.weight={net.weight.data.reshape(-1)}');"
      ],
      "id": "084dfc49-4b77-4a20-9cad-41de1c11eeca"
    },
    {
      "cell_type": "markdown",
      "metadata": {},
      "source": [
        "`-` 나쁘지 않은 이유?"
      ],
      "id": "1e811778-cc5d-4794-9762-f8b5772844d4"
    },
    {
      "cell_type": "code",
      "execution_count": 76,
      "metadata": {},
      "outputs": [],
      "source": [
        "net.weight"
      ],
      "id": "94a78a4e-1002-4634-adae-b8e411c64e14"
    },
    {
      "cell_type": "code",
      "execution_count": 77,
      "metadata": {},
      "outputs": [],
      "source": [
        "net.bias"
      ],
      "id": "87665cda-73a3-4468-ad85-2f2aa915ffe2"
    }
  ],
  "nbformat": 4,
  "nbformat_minor": 5,
  "metadata": {
    "kernelspec": {
      "name": "python3",
      "display_name": "Python 3 (ipykernel)",
      "language": "python"
    },
    "language_info": {
      "name": "python",
      "codemirror_mode": {
        "name": "ipython",
        "version": "3"
      },
      "file_extension": ".py",
      "mimetype": "text/x-python",
      "nbconvert_exporter": "python",
      "pygments_lexer": "ipython3",
      "version": "3.9.21"
    }
  }
}