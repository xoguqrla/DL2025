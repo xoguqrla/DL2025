{
  "cells": [
    {
      "cell_type": "markdown",
      "metadata": {},
      "source": [
        "# 02wk-2: 회귀분석 (3) – Step1,2,4 의 변형\n",
        "\n",
        "최규빈  \n",
        "2024-03-13\n",
        "\n",
        "<a href=\"https://colab.research.google.com/github/guebin/DL2025/blob/main/posts/02wk-2.ipynb\"><img src=\"https://colab.research.google.com/assets/colab-badge.svg\" style=\"text-align: left\"></a>\n",
        "\n",
        "# 1. 강의영상\n",
        "\n",
        "<https://youtu.be/playlist?list=PLQqh36zP38-xrw8e2pQ1KqKFb-i3lVtsI&si=dDAjAteouM7Y30HU>\n",
        "\n",
        "# 2. Imports"
      ],
      "id": "d0ee61ee-96e6-4e60-bf21-89664acfa871"
    },
    {
      "cell_type": "code",
      "execution_count": 5,
      "metadata": {
        "tags": []
      },
      "outputs": [],
      "source": [
        "import torch\n",
        "import matplotlib.pyplot as plt \n",
        "import numpy as np"
      ],
      "id": "c0c54c1b-8839-4c46-b4c7-83e85bd7107d"
    },
    {
      "cell_type": "markdown",
      "metadata": {},
      "source": [
        "# 3. 회귀분석 예제의 다양한 구현\n",
        "\n",
        "## A. Data"
      ],
      "id": "49207fb4-9c50-485c-a237-a625b9a59773"
    },
    {
      "cell_type": "code",
      "execution_count": 6,
      "metadata": {
        "tags": []
      },
      "outputs": [],
      "source": [
        "temp = [-2.4821, -2.3621, -1.9973, -1.6239, -1.4792, -1.4635, -1.4509, -1.4435,\n",
        "        -1.3722, -1.3079, -1.1904, -1.1092, -1.1054, -1.0875, -0.9469, -0.9319,\n",
        "        -0.8643, -0.7858, -0.7549, -0.7421, -0.6948, -0.6103, -0.5830, -0.5621,\n",
        "        -0.5506, -0.5058, -0.4806, -0.4738, -0.4710, -0.4676, -0.3874, -0.3719,\n",
        "        -0.3688, -0.3159, -0.2775, -0.2772, -0.2734, -0.2721, -0.2668, -0.2155,\n",
        "        -0.2000, -0.1816, -0.1708, -0.1565, -0.1448, -0.1361, -0.1057, -0.0603,\n",
        "        -0.0559, -0.0214,  0.0655,  0.0684,  0.1195,  0.1420,  0.1521,  0.1568,\n",
        "         0.2646,  0.2656,  0.3157,  0.3220,  0.3461,  0.3984,  0.4190,  0.5443,\n",
        "         0.5579,  0.5913,  0.6148,  0.6469,  0.6469,  0.6523,  0.6674,  0.7059,\n",
        "         0.7141,  0.7822,  0.8154,  0.8668,  0.9291,  0.9804,  0.9853,  0.9941,\n",
        "         1.0376,  1.0393,  1.0697,  1.1024,  1.1126,  1.1532,  1.2289,  1.3403,\n",
        "         1.3494,  1.4279,  1.4994,  1.5031,  1.5437,  1.6789,  2.0832,  2.2444,\n",
        "         2.3935,  2.6056,  2.6057,  2.6632]\n",
        "sales= [-8.5420, -6.5767, -5.9496, -4.4794, -4.2516, -3.1326, -4.0239, -4.1862,\n",
        "        -3.3403, -2.2027, -2.0262, -2.5619, -1.3353, -2.0466, -0.4664, -1.3513,\n",
        "        -1.6472, -0.1089, -0.3071, -0.6299, -0.0438,  0.4163,  0.4166, -0.0943,\n",
        "         0.2662,  0.4591,  0.8905,  0.8998,  0.6314,  1.3845,  0.8085,  1.2594,\n",
        "         1.1211,  1.9232,  1.0619,  1.3552,  2.1161,  1.1437,  1.6245,  1.7639,\n",
        "         1.6022,  1.7465,  0.9830,  1.7824,  2.1116,  2.8621,  2.1165,  1.5226,\n",
        "         2.5572,  2.8361,  3.3956,  2.0679,  2.8140,  3.4852,  3.6059,  2.5966,\n",
        "         2.8854,  3.9173,  3.6527,  4.1029,  4.3125,  3.4026,  3.2180,  4.5686,\n",
        "         4.3772,  4.3075,  4.4895,  4.4827,  5.3170,  5.4987,  5.4632,  6.0328,\n",
        "         5.2842,  5.0539,  5.4538,  6.0337,  5.7250,  5.7587,  6.2020,  6.5992,\n",
        "         6.4621,  6.5140,  6.6846,  7.3497,  8.0909,  7.0794,  6.8667,  7.4229,\n",
        "         7.2544,  7.1967,  9.5006,  9.0339,  7.4887,  9.0759, 11.0946, 10.3260,\n",
        "        12.2665, 13.0983, 12.5468, 13.8340]\n",
        "x = torch.tensor(temp).reshape(-1,1)\n",
        "ones = torch.ones(100).reshape(-1,1)\n",
        "X = torch.concat([ones,x],axis=1)\n",
        "y = torch.tensor(sales).reshape(-1,1)"
      ],
      "id": "a9d8670a-75b9-4052-b93b-876986add1c3"
    },
    {
      "cell_type": "markdown",
      "metadata": {},
      "source": [
        "## B. 파이토치를 이용한 학습\n",
        "\n",
        "`-` 외우세여"
      ],
      "id": "5cb4def4-9b77-4340-ac8d-3a43b4ed10f4"
    },
    {
      "cell_type": "code",
      "execution_count": 19,
      "metadata": {
        "tags": []
      },
      "outputs": [],
      "source": [
        "What = torch.tensor([[-5.0],[10.0]],requires_grad = True)\n",
        "for epoc in range(30):\n",
        "    # step1: yhat \n",
        "    yhat = X@What \n",
        "    # step2: loss\n",
        "    loss = torch.sum((y-yhat)**2)\n",
        "    # step3: 미분\n",
        "    loss.backward()\n",
        "    # step4: update\n",
        "    What.data = What.data - 0.001 * What.grad\n",
        "    What.grad = None"
      ],
      "id": "c02830d0-1734-4414-ba3b-7ffb03c46216"
    },
    {
      "cell_type": "markdown",
      "metadata": {},
      "source": [
        "`-` 결과 시각화"
      ],
      "id": "649af75e-8da8-419c-8d59-6380fdc5ad98"
    },
    {
      "cell_type": "code",
      "execution_count": 42,
      "metadata": {
        "tags": []
      },
      "outputs": [
        {
          "output_type": "display_data",
          "metadata": {},
          "data": {
            "image/png": "[encoded data removed]"
          }
        }
      ],
      "source": [
        "plt.plot(x,y,'o')\n",
        "plt.plot(x,X@What.data,'--')\n",
        "plt.title(f'What={What.data.reshape(-1)}');"
      ],
      "id": "e80990ad-2915-45f6-8aa4-fc392ba226ac"
    },
    {
      "cell_type": "markdown",
      "metadata": {},
      "source": [
        "## C. Step2의 수정\n",
        "\n",
        "`-` 수정된 코드"
      ],
      "id": "185ed38a-3beb-4b7f-8a02-bb63dbacd6e0"
    },
    {
      "cell_type": "code",
      "execution_count": 110,
      "metadata": {
        "tags": []
      },
      "outputs": [],
      "source": [
        "What = torch.tensor([[-5.0],[10.0]],requires_grad = True)\n",
        "loss_fn = torch.nn.MSELoss()\n",
        "for epoc in range(30):\n",
        "    # step1: yhat \n",
        "    yhat = X@What \n",
        "    # step2: loss\n",
        "    #loss = torch.sum((y-yhat)**2)/100\n",
        "    #loss = torch.mean((y-yhat)**2) \n",
        "    loss = loss_fn(yhat,y) # 여기서는 큰 상관없지만 습관적으로 yhat을 먼저넣는 연습을 하자!!\n",
        "    # step3: 미분\n",
        "    loss.backward()\n",
        "    # step4: update\n",
        "    What.data = What.data - 0.1 * What.grad\n",
        "    What.grad = None"
      ],
      "id": "472d91ae-faa4-41d1-b79e-0a17640eef2a"
    },
    {
      "cell_type": "markdown",
      "metadata": {},
      "source": [
        "`-` 결과확인"
      ],
      "id": "ec354e41-b7a5-4a74-8689-860c08707c50"
    },
    {
      "cell_type": "code",
      "execution_count": 111,
      "metadata": {
        "tags": []
      },
      "outputs": [
        {
          "output_type": "display_data",
          "metadata": {},
          "data": {
            "image/png": "[encoded data removed]"
          }
        }
      ],
      "source": [
        "plt.plot(x,y,'o')\n",
        "plt.plot(x,X@What.data,'--')\n",
        "plt.title(f'What={What.data.reshape(-1)}');"
      ],
      "id": "00f21ab6-951e-4971-920e-606a7a754841"
    },
    {
      "cell_type": "markdown",
      "metadata": {},
      "source": [
        "## D. Step1의 수정 – `net`의 이용\n",
        "\n",
        "`-` net 오브젝트란?\n",
        "\n",
        "원래 yhat을 이런식으로 구했는데 ~"
      ],
      "id": "cdce9dbd-2f89-4dc0-aa42-e45fa6bdb458"
    },
    {
      "cell_type": "code",
      "execution_count": 112,
      "metadata": {
        "tags": []
      },
      "outputs": [],
      "source": [
        "What = torch.tensor([[-5.0],[10.0]],requires_grad = True)\n",
        "(X@What.data)[:5]"
      ],
      "id": "6245848b-2525-41da-9df2-705f6aa3695c"
    },
    {
      "cell_type": "markdown",
      "metadata": {},
      "source": [
        "이런식으로도 구할수 있음!"
      ],
      "id": "d4823fd0-5989-4d89-809d-6ea03a238e6e"
    },
    {
      "cell_type": "code",
      "execution_count": 113,
      "metadata": {
        "tags": []
      },
      "outputs": [],
      "source": [
        "net = torch.nn.Linear(\n",
        "    in_features=2,\n",
        "    out_features=1,\n",
        "    bias=False\n",
        ")"
      ],
      "id": "b45173f1-7b60-45f6-917d-68739eea2e5f"
    },
    {
      "cell_type": "code",
      "execution_count": 114,
      "metadata": {
        "tags": []
      },
      "outputs": [],
      "source": [
        "net.weight.data = torch.tensor([[-5.0,  10.0]])\n",
        "net.weight"
      ],
      "id": "2a75f423-b056-46f9-b1b9-88f0e6142d49"
    },
    {
      "cell_type": "code",
      "execution_count": 116,
      "metadata": {
        "tags": []
      },
      "outputs": [],
      "source": [
        "net(X)[:5]"
      ],
      "id": "c88ea242-e70a-493e-a975-bf3c28aa688b"
    },
    {
      "cell_type": "markdown",
      "metadata": {},
      "source": [
        "`-` 학습"
      ],
      "id": "a050d35f-3fec-4a5b-8d37-37cc4ba2a035"
    },
    {
      "cell_type": "code",
      "execution_count": 117,
      "metadata": {
        "tags": []
      },
      "outputs": [],
      "source": [
        "# step1을 위한 사전준비\n",
        "net = torch.nn.Linear(\n",
        "    in_features=2,\n",
        "    out_features=1,\n",
        "    bias=False\n",
        ")\n",
        "net.weight.data = torch.tensor([[-5.0,  10.0]])\n",
        "# step2를 위한 사전준비\n",
        "loss_fn = torch.nn.MSELoss()\n",
        "for epoc in range(30):\n",
        "    # step1: yhat \n",
        "    yhat = net(X)\n",
        "    # step2: loss\n",
        "    loss = loss_fn(yhat,y)\n",
        "    # step3: 미분\n",
        "    loss.backward()\n",
        "    # step4: update\n",
        "    net.weight.data = net.weight.data - 0.1 * net.weight.grad\n",
        "    net.weight.grad = None"
      ],
      "id": "c7bb0533-11f1-4658-8697-05cb72c27540"
    },
    {
      "cell_type": "markdown",
      "metadata": {},
      "source": [
        "`-` 결과확인"
      ],
      "id": "52e07bdb-ec4a-4df6-aa2a-abf1e9488980"
    },
    {
      "cell_type": "code",
      "execution_count": 118,
      "metadata": {
        "tags": []
      },
      "outputs": [
        {
          "output_type": "display_data",
          "metadata": {},
          "data": {
            "image/png": "[encoded data removed]"
          }
        }
      ],
      "source": [
        "plt.plot(x,y,'o')\n",
        "plt.plot(x,net(X).data,'--')\n",
        "plt.title(f'net.weight={net.weight.data.reshape(-1)}');"
      ],
      "id": "a1e1d8ca-19c1-466e-b90e-332d2075058b"
    },
    {
      "cell_type": "markdown",
      "metadata": {},
      "source": [
        "## E. Step4의 수정 – optimizer의 이용\n",
        "\n",
        "***기존코드의 에폭별분해***\n",
        "\n",
        "`-` 준비과정"
      ],
      "id": "eaac01c9-ff0b-400b-a217-77694aad9b3a"
    },
    {
      "cell_type": "code",
      "execution_count": 145,
      "metadata": {
        "tags": []
      },
      "outputs": [],
      "source": [
        "# step1을 위한 사전준비\n",
        "net = torch.nn.Linear(\n",
        "    in_features=2,\n",
        "    out_features=1,\n",
        "    bias=False\n",
        ")\n",
        "net.weight.data = torch.tensor([[-5.0,  10.0]])\n",
        "# step2를 위한 사전준비\n",
        "loss_fn = torch.nn.MSELoss()"
      ],
      "id": "801c4c0e-0cba-4fe0-92c1-65da50845c9f"
    },
    {
      "cell_type": "markdown",
      "metadata": {},
      "source": [
        "`-` 에폭별분해\n",
        "\n",
        "(미분전) – step1~2 완료"
      ],
      "id": "93fc795f-76bc-492a-bf72-9d7730d9dd16"
    },
    {
      "cell_type": "code",
      "execution_count": 146,
      "metadata": {
        "tags": []
      },
      "outputs": [],
      "source": [
        "yhat = net(X)\n",
        "loss = loss_fn(yhat,y)"
      ],
      "id": "55ef6c53-dbda-4204-b964-b663b37c0f3f"
    },
    {
      "cell_type": "code",
      "execution_count": 147,
      "metadata": {
        "tags": []
      },
      "outputs": [
        {
          "output_type": "stream",
          "name": "stdout",
          "text": [
            "파라메터 = tensor([[-5., 10.]])\n",
            "미분값 = None"
          ]
        }
      ],
      "source": [
        "print(f'파라메터 = {net.weight.data}')\n",
        "print(f'미분값 = {net.weight.grad}')"
      ],
      "id": "71366888-d58f-42f6-a378-abf4d8584c54"
    },
    {
      "cell_type": "markdown",
      "metadata": {},
      "source": [
        "(미분후, 업데이트 진행전) – step3 완료"
      ],
      "id": "40a990e9-d1a2-4f2c-8d37-59251ac1a6c4"
    },
    {
      "cell_type": "code",
      "execution_count": 148,
      "metadata": {
        "tags": []
      },
      "outputs": [],
      "source": [
        "loss.backward()"
      ],
      "id": "7d0f070d-4a55-494d-9a3b-7c7f190bc660"
    },
    {
      "cell_type": "code",
      "execution_count": 149,
      "metadata": {
        "tags": []
      },
      "outputs": [
        {
          "output_type": "stream",
          "name": "stdout",
          "text": [
            "파라메터 = tensor([[-5., 10.]])\n",
            "미분값 = tensor([[-13.4225,  11.8892]])"
          ]
        }
      ],
      "source": [
        "print(f'파라메터 = {net.weight.data}')\n",
        "print(f'미분값 = {net.weight.grad}')"
      ],
      "id": "06ae294b-0678-462f-ba90-98ab70d491a0"
    },
    {
      "cell_type": "markdown",
      "metadata": {},
      "source": [
        "(업데이트 진행후) – step4 의 첫째줄 완료"
      ],
      "id": "776bec59-55c3-4f36-b178-a1e6d80518e5"
    },
    {
      "cell_type": "code",
      "execution_count": 150,
      "metadata": {
        "tags": []
      },
      "outputs": [],
      "source": [
        "net.weight.data = net.weight.data - 0.1 * net.weight.grad"
      ],
      "id": "a2e3e002-c7e4-4a36-b7e4-8738b488a601"
    },
    {
      "cell_type": "code",
      "execution_count": 151,
      "metadata": {
        "tags": []
      },
      "outputs": [
        {
          "output_type": "stream",
          "name": "stdout",
          "text": [
            "파라메터 = tensor([[-3.6578,  8.8111]])\n",
            "미분값 = tensor([[-13.4225,  11.8892]])"
          ]
        }
      ],
      "source": [
        "print(f'파라메터 = {net.weight.data}')\n",
        "print(f'미분값 = {net.weight.grad}')"
      ],
      "id": "c5cf3873-e9f5-408b-9951-9d5d954d6054"
    },
    {
      "cell_type": "markdown",
      "metadata": {},
      "source": [
        "(업데이트 완료 후 초기화까지 끝냄) – step4 의 두번째줄 완료"
      ],
      "id": "e6f73abe-08a5-4167-b0e6-93bacaf1e80a"
    },
    {
      "cell_type": "code",
      "execution_count": 152,
      "metadata": {
        "tags": []
      },
      "outputs": [],
      "source": [
        "net.weight.grad = None"
      ],
      "id": "43bcf154-b9b4-4153-8368-e9ae2592dc4c"
    },
    {
      "cell_type": "code",
      "execution_count": 153,
      "metadata": {
        "tags": []
      },
      "outputs": [
        {
          "output_type": "stream",
          "name": "stdout",
          "text": [
            "파라메터 = tensor([[-3.6578,  8.8111]])\n",
            "미분값 = None"
          ]
        }
      ],
      "source": [
        "print(f'파라메터 = {net.weight.data}')\n",
        "print(f'미분값 = {net.weight.grad}')"
      ],
      "id": "37f036dd-4fa6-4a69-a7a4-79e05b23d0d0"
    },
    {
      "cell_type": "markdown",
      "metadata": {},
      "source": [
        "***새로운코드의 에폭별분해***\n",
        "\n",
        "`-` 준비과정 – 옵티마이저라는 오브젝트를 셋팅한다!"
      ],
      "id": "a47b5b4d-da05-44db-aeaa-1aa3adfe9c60"
    },
    {
      "cell_type": "code",
      "execution_count": 165,
      "metadata": {
        "tags": []
      },
      "outputs": [],
      "source": [
        "# step1을 위한 사전준비\n",
        "net = torch.nn.Linear(\n",
        "    in_features=2,\n",
        "    out_features=1,\n",
        "    bias=False\n",
        ")\n",
        "net.weight.data = torch.tensor([[-5.0,  10.0]])\n",
        "# step2를 위한 사전준비\n",
        "loss_fn = torch.nn.MSELoss()\n",
        "# step3을 위한 사전준비 \n",
        "optimizr = torch.optim.SGD(params=net.parameters(),lr=0.1)"
      ],
      "id": "821d9ec0-7bab-45ce-9f8b-db0b60cfa351"
    },
    {
      "cell_type": "markdown",
      "metadata": {},
      "source": [
        "`-` 에폭별분해\n",
        "\n",
        "(미분전) – step1~2 완료"
      ],
      "id": "188d62fb-d8ae-43ce-8fc1-58c3369773e7"
    },
    {
      "cell_type": "code",
      "execution_count": 167,
      "metadata": {
        "tags": []
      },
      "outputs": [],
      "source": [
        "yhat = net(X)\n",
        "loss = loss_fn(yhat,y)"
      ],
      "id": "8a8405ac-3629-4637-9d30-33e92aa94a3b"
    },
    {
      "cell_type": "code",
      "execution_count": 168,
      "metadata": {
        "tags": []
      },
      "outputs": [
        {
          "output_type": "stream",
          "name": "stdout",
          "text": [
            "파라메터 = tensor([[-5., 10.]])\n",
            "미분값 = None"
          ]
        }
      ],
      "source": [
        "print(f'파라메터 = {net.weight.data}')\n",
        "print(f'미분값 = {net.weight.grad}')"
      ],
      "id": "fb744ec3-3102-449a-bee4-9ac8ad8f2b79"
    },
    {
      "cell_type": "markdown",
      "metadata": {},
      "source": [
        "(미분후, 업데이트 진행전) – step3 완료"
      ],
      "id": "34fe4576-3ea6-4330-b2ba-a7f6903ac7fa"
    },
    {
      "cell_type": "code",
      "execution_count": 169,
      "metadata": {
        "tags": []
      },
      "outputs": [],
      "source": [
        "loss.backward()"
      ],
      "id": "9c1264fd-f836-42af-8836-0280f2b742ea"
    },
    {
      "cell_type": "code",
      "execution_count": 170,
      "metadata": {
        "tags": []
      },
      "outputs": [
        {
          "output_type": "stream",
          "name": "stdout",
          "text": [
            "파라메터 = tensor([[-5., 10.]])\n",
            "미분값 = tensor([[-13.4225,  11.8892]])"
          ]
        }
      ],
      "source": [
        "print(f'파라메터 = {net.weight.data}')\n",
        "print(f'미분값 = {net.weight.grad}')"
      ],
      "id": "64cb7cb3-11ea-48b8-9afb-a18630205508"
    },
    {
      "cell_type": "markdown",
      "metadata": {},
      "source": [
        "(업데이트 진행후) – step4 의 첫째줄 완료"
      ],
      "id": "306ef2ec-2911-4d65-a826-2df7d9ea2aed"
    },
    {
      "cell_type": "code",
      "execution_count": 171,
      "metadata": {
        "tags": []
      },
      "outputs": [],
      "source": [
        "#net.weight.data = net.weight.data - 0.1 * net.weight.grad\n",
        "optimizr.step()"
      ],
      "id": "6220984c-23f7-40ce-aa2c-6eab097f470b"
    },
    {
      "cell_type": "code",
      "execution_count": 172,
      "metadata": {
        "tags": []
      },
      "outputs": [
        {
          "output_type": "stream",
          "name": "stdout",
          "text": [
            "파라메터 = tensor([[-3.6578,  8.8111]])\n",
            "미분값 = tensor([[-13.4225,  11.8892]])"
          ]
        }
      ],
      "source": [
        "print(f'파라메터 = {net.weight.data}')\n",
        "print(f'미분값 = {net.weight.grad}')"
      ],
      "id": "056581d0-71c7-4ce6-9938-f0e232cba157"
    },
    {
      "cell_type": "markdown",
      "metadata": {},
      "source": [
        "(업데이트 완료 후 초기화까지 끝냄) – step4 의 두번째줄 완료"
      ],
      "id": "6b7c7193-18b3-4573-86e2-07963d03e73e"
    },
    {
      "cell_type": "code",
      "execution_count": 173,
      "metadata": {
        "tags": []
      },
      "outputs": [],
      "source": [
        "#net.weight.grad = None\n",
        "optimizr.zero_grad()"
      ],
      "id": "162c2046-abd9-4ead-818d-0d135c71ce0f"
    },
    {
      "cell_type": "code",
      "execution_count": 174,
      "metadata": {
        "tags": []
      },
      "outputs": [
        {
          "output_type": "stream",
          "name": "stdout",
          "text": [
            "파라메터 = tensor([[-3.6578,  8.8111]])\n",
            "미분값 = None"
          ]
        }
      ],
      "source": [
        "print(f'파라메터 = {net.weight.data}')\n",
        "print(f'미분값 = {net.weight.grad}')"
      ],
      "id": "1e06c04e-cc8f-4b22-bab3-bed2398f37e5"
    },
    {
      "cell_type": "markdown",
      "metadata": {},
      "source": [
        "***최종코드***\n",
        "\n",
        "`-` 학습"
      ],
      "id": "d87c9789-a8a5-46f7-b90d-d4f0b94f43fc"
    },
    {
      "cell_type": "code",
      "execution_count": 175,
      "metadata": {
        "tags": []
      },
      "outputs": [],
      "source": [
        "# step1을 위한 사전준비\n",
        "net = torch.nn.Linear(\n",
        "    in_features=2,\n",
        "    out_features=1,\n",
        "    bias=False\n",
        ")\n",
        "net.weight.data = torch.tensor([[-5.0,  10.0]])\n",
        "# step2를 위한 사전준비\n",
        "loss_fn = torch.nn.MSELoss()\n",
        "# step4를 위한 사전준비 \n",
        "optimizr = torch.optim.SGD(net.parameters(),lr=0.1)\n",
        "for epoc in range(30):\n",
        "    # step1: yhat \n",
        "    yhat = net(X)\n",
        "    # step2: loss\n",
        "    loss = loss_fn(yhat,y)\n",
        "    # step3: 미분\n",
        "    loss.backward()\n",
        "    # step4: update\n",
        "    optimizr.step()\n",
        "    optimizr.zero_grad()"
      ],
      "id": "318baa0a-00cd-4766-912a-d58bd1f42ca5"
    },
    {
      "cell_type": "markdown",
      "metadata": {},
      "source": [
        "`-` 결과확인"
      ],
      "id": "021637bc-8e16-46d9-8809-c268ef12b2be"
    },
    {
      "cell_type": "code",
      "execution_count": 177,
      "metadata": {
        "tags": []
      },
      "outputs": [
        {
          "output_type": "display_data",
          "metadata": {},
          "data": {
            "image/png": "[encoded data removed]"
          }
        }
      ],
      "source": [
        "plt.plot(x,y,'o')\n",
        "plt.plot(x,yhat.data,'--')\n",
        "plt.title(f'net.weight={net.weight.data.reshape(-1)}');"
      ],
      "id": "ab5007a3-46a8-40a8-8436-955b8f308bef"
    }
  ],
  "nbformat": 4,
  "nbformat_minor": 5,
  "metadata": {
    "kernelspec": {
      "name": "python3",
      "display_name": "Python 3 (ipykernel)",
      "language": "python"
    },
    "language_info": {
      "name": "python",
      "codemirror_mode": {
        "name": "ipython",
        "version": "3"
      },
      "file_extension": ".py",
      "mimetype": "text/x-python",
      "nbconvert_exporter": "python",
      "pygments_lexer": "ipython3",
      "version": "3.10.16"
    }
  }
}