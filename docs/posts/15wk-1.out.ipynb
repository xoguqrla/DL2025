{
  "cells": [
    {
      "cell_type": "markdown",
      "metadata": {},
      "source": [
        "# 15wk-1: 강화학습 (4) – LunarLander, A1, A2\n",
        "\n",
        "최규빈  \n",
        "2024-06-10\n",
        "\n",
        "<a href=\"https://colab.research.google.com/github/guebin/DL2025/blob/main/posts/15wk-1.ipynb\"><img src=\"https://colab.research.google.com/assets/colab-badge.svg\" style=\"text-align: left\"></a>\n",
        "\n",
        "# 1. 강의영상\n",
        "\n",
        "<https://youtu.be/playlist?list=PLQqh36zP38-zesXx2Ad1CQF3V85SBnmcl&si=1N-UhzaPrEwP2sNn>\n",
        "\n",
        "# 2. Imports"
      ],
      "id": "fdf02c8d-14bf-4d02-8c1d-372804905b39"
    },
    {
      "cell_type": "code",
      "execution_count": 14,
      "metadata": {
        "tags": []
      },
      "outputs": [],
      "source": [
        "#!apt-get install swig\n",
        "#!pip install gymnasium[box2d]\n",
        "import gymnasium as gym\n",
        "#--#\n",
        "import numpy as np\n",
        "import matplotlib.pyplot as plt\n",
        "from matplotlib.animation import FuncAnimation\n",
        "import IPython\n",
        "#--#\n",
        "import collections\n",
        "import random\n",
        "#--#\n",
        "import torch"
      ],
      "id": "03fd7323-3dc0-434e-ab1c-97d4c761082b"
    },
    {
      "cell_type": "code",
      "execution_count": 21,
      "metadata": {
        "tags": []
      },
      "outputs": [],
      "source": [
        "def show(ims,jump=10):\n",
        "    ims = ims[::jump]\n",
        "    fig = plt.Figure()\n",
        "    ax = fig.subplots()\n",
        "    def update(i):\n",
        "        ax.imshow(ims[i])\n",
        "    ani = FuncAnimation(fig,update,frames=len(ims))\n",
        "    display(IPython.display.HTML(ani.to_jshtml()))"
      ],
      "id": "96f012df-2b65-4c7f-a6cd-4158e908f68c"
    },
    {
      "cell_type": "markdown",
      "metadata": {},
      "source": [
        "# 3. 예비학습\n",
        "\n",
        "## A. `collections.deque`\n",
        "\n",
        "`-` `collections.deque` 의 기능"
      ],
      "id": "6bf68a0e-a944-484c-8b4c-b5201e5827e3"
    },
    {
      "cell_type": "code",
      "execution_count": 73,
      "metadata": {
        "tags": []
      },
      "outputs": [],
      "source": [
        "a = collections.deque([12,21,33], maxlen = 5)\n",
        "a"
      ],
      "id": "8d38a7dc-86e3-434e-97f9-3ccd610b98de"
    },
    {
      "cell_type": "code",
      "execution_count": 74,
      "metadata": {
        "tags": []
      },
      "outputs": [],
      "source": [
        "a.append(44)\n",
        "a"
      ],
      "id": "9e58eac0-8b8a-44cf-9892-c45e7fefd346"
    },
    {
      "cell_type": "code",
      "execution_count": 75,
      "metadata": {
        "tags": []
      },
      "outputs": [],
      "source": [
        "a.append(55)\n",
        "a"
      ],
      "id": "37c15ea1-4afb-4086-981e-8523c94c83e7"
    },
    {
      "cell_type": "code",
      "execution_count": 76,
      "metadata": {
        "tags": []
      },
      "outputs": [],
      "source": [
        "a.append(-66)\n",
        "a"
      ],
      "id": "43601bc6-b3cc-4de0-8c63-fe7c1db02365"
    },
    {
      "cell_type": "code",
      "execution_count": 77,
      "metadata": {
        "tags": []
      },
      "outputs": [],
      "source": [
        "a.append(-40)\n",
        "a"
      ],
      "id": "532a2ae4-5c26-4abe-bd52-3ff3ec2f4fd1"
    },
    {
      "cell_type": "markdown",
      "metadata": {},
      "source": [
        "`-` 단점? numpy array 보다는 list 느낌임 (연산에 특화된건 아님)"
      ],
      "id": "2ea83002-e3e1-4966-a2b2-cf21a0eb97c0"
    },
    {
      "cell_type": "code",
      "execution_count": 78,
      "metadata": {
        "tags": []
      },
      "outputs": [],
      "source": [
        "a + 1"
      ],
      "id": "c44f3d20-f0a4-4a87-a88e-3ba8139dbf32"
    },
    {
      "cell_type": "markdown",
      "metadata": {},
      "source": [
        "`-` 그렇지만 필요하다면 np.array 화 시킬 수 있음."
      ],
      "id": "62118760-97a5-4fbb-9af1-25b5dae1bac8"
    },
    {
      "cell_type": "code",
      "execution_count": 79,
      "metadata": {
        "tags": []
      },
      "outputs": [],
      "source": [
        "np.array(a) + 1 "
      ],
      "id": "79900a05-c590-454e-af46-e9390687ce44"
    },
    {
      "cell_type": "code",
      "execution_count": 80,
      "metadata": {
        "tags": []
      },
      "outputs": [],
      "source": [
        "torch.tensor(a) + 1"
      ],
      "id": "30c4a07f-bda3-4822-be7f-8b7d783183ee"
    },
    {
      "cell_type": "markdown",
      "metadata": {},
      "source": [
        "`-` collection.deque 는 리플레이 버퍼를 구현할때 유용한 자료구조이다.\n",
        "\n",
        "-   (우리가 했던) 기존방식: 모든 데이터를 저장하며 하나의 경험씩 학습함\n",
        "-   리플레이버퍼: 최근 $N$개의 데이터를 저장하여 여러경험을 샘플링하여\n",
        "    학습하는 방식\n",
        "-   리플레이버퍼의 장점: 메모리를 아낄 수 있다, 다양한 종류의 경험을\n",
        "    저장하고 무작위로 재사용하여 학습이 안정적으로 된다, “저장 -\\> 학습\n",
        "    -\\> 저장” 순으로 반드시 실시간으로 학습할 필요가 없어서 병렬처리에\n",
        "    용이하다, 강화학습에서 연속된 경험은 상관관계가 있을 수 있는데\n",
        "    무작위 샘플로 이러한 상관관계를 제거할 수 있음\n",
        "\n",
        "## B. `replay_buffer`"
      ],
      "id": "d4430ec1-db4b-4fab-bc1f-2cb7098f55b6"
    },
    {
      "cell_type": "code",
      "execution_count": 81,
      "metadata": {
        "tags": []
      },
      "outputs": [],
      "source": [
        "current_states = collections.deque([torch.tensor([0.23,0.1]),torch.tensor([0.34,0.2])],maxlen=5)\n",
        "actions = collections.deque([torch.tensor(0), torch.tensor(1)],maxlen=5)\n",
        "rewards = collections.deque([torch.tensor(3.43), torch.tensor(0.13)],maxlen=5)\n",
        "next_states = collections.deque([torch.tensor([0.34,0.2]),torch.tensor([0.45,0.3])],maxlen=5)\n",
        "terminations = collections.deque([torch.tensor(False),torch.tensor(False)],maxlen=5)"
      ],
      "id": "0f98b6c6-b5fc-4a3e-91fd-738b4bab320f"
    },
    {
      "cell_type": "code",
      "execution_count": 82,
      "metadata": {
        "tags": []
      },
      "outputs": [],
      "source": [
        "current_states, actions,rewards,next_states,terminations"
      ],
      "id": "4a4b672c-0296-4dc0-a4ab-454b04f31778"
    },
    {
      "cell_type": "code",
      "execution_count": 83,
      "metadata": {
        "tags": []
      },
      "outputs": [],
      "source": [
        "memory = list(zip(current_states,actions,rewards,next_states,terminations))\n",
        "memory"
      ],
      "id": "50dd479c-3aab-4bff-8d99-1638e91ea9fe"
    },
    {
      "cell_type": "code",
      "execution_count": 84,
      "metadata": {},
      "outputs": [],
      "source": [
        "random.sample(memory,1)"
      ],
      "id": "dc076c53-28f8-4541-a748-b01cbe4f95c7"
    },
    {
      "cell_type": "markdown",
      "metadata": {},
      "source": [
        "# 4. LunarLander\n",
        "\n",
        "`-` ref: <https://gymnasium.farama.org/environments/box2d/lunar_lander/>\n",
        "\n",
        "`-` Lunar Lander: 요약\n",
        "\n",
        "**Observation Space (State Space)** – 8개의 변수\n",
        "\n",
        "1.  착륙선의 x 좌표\n",
        "2.  착륙선의 y 좌표\n",
        "3.  착륙선의 x 속도\n",
        "4.  착륙선의 y 속도\n",
        "5.  착륙선의 각도\n",
        "6.  착륙선의 각속도\n",
        "7.  왼쪽 다리가 땅에 닿아있는지 여부 (1 또는 0)\n",
        "8.  오른쪽 다리가 땅에 닿아있는지 여부 (1 또는 0)\n",
        "\n",
        "**Action Space** – 4개의 변수\n",
        "\n",
        "1.  {0 : 아무 행동도 하지 않음}\n",
        "2.  {1 : 왼쪽 엔진 발사 (오른쪽으로 기울임)}\n",
        "3.  {2 : 메인 엔진 발사 (위로 밀어 올림)}\n",
        "4.  {3 : 오른쪽 엔진 발사 (왼쪽으로 기울임)}\n",
        "\n",
        "**Reward**\n",
        "\n",
        "-   **거리 보상**: 착륙 패드에 가까울수록 보상 증가\n",
        "-   **속도 보상**: 속도가 낮을수록 보상 증가\n",
        "-   **각도 보상**: 각도가 수직에 가까울수록 보상 증가\n",
        "-   **착륙 다리 보상**: 다리가 착륙 패드에 닿으면 보상\n",
        "-   **연료 사용 패널티**: 엔진 사용 시 패널티\n",
        "-   **안전한 착륙 보상**: 안정적으로 착륙 시 큰 보상 (+100~+140)\n",
        "-   **충돌 패널티**: 착륙 패드 이외의 장소에 충돌 시 패널티 (-100)\n",
        "\n",
        "`-` 환경생성"
      ],
      "id": "c054d40e-67fb-4e00-9da8-88aab0a7384f"
    },
    {
      "cell_type": "code",
      "execution_count": 85,
      "metadata": {
        "tags": []
      },
      "outputs": [],
      "source": [
        "env = gym.make(\"LunarLander-v2\",render_mode = 'rgb_array')\n",
        "env "
      ],
      "id": "33a2796d-86c5-4e97-863f-1abaa6f19b71"
    },
    {
      "cell_type": "markdown",
      "metadata": {},
      "source": [
        "`-` state_space"
      ],
      "id": "1b82a4c7-19f5-4bdb-ba6a-10f53ac517bf"
    },
    {
      "cell_type": "code",
      "execution_count": 86,
      "metadata": {
        "tags": []
      },
      "outputs": [],
      "source": [
        "env.observation_space"
      ],
      "id": "b05edbde-d1a3-496e-9c10-3738d9618bbc"
    },
    {
      "cell_type": "code",
      "execution_count": 87,
      "metadata": {
        "tags": []
      },
      "outputs": [],
      "source": [
        "env.observation_space.sample()"
      ],
      "id": "0ebe9af9-9581-4bfd-80f3-59c21548e6bc"
    },
    {
      "cell_type": "markdown",
      "metadata": {},
      "source": [
        "`-` action_space"
      ],
      "id": "10fb6009-0a3d-4cf3-9d45-ac423f605188"
    },
    {
      "cell_type": "code",
      "execution_count": 88,
      "metadata": {
        "tags": []
      },
      "outputs": [],
      "source": [
        "env.action_space"
      ],
      "id": "76a89adf-b4a4-4037-bc0a-8af6c7447ff6"
    },
    {
      "cell_type": "code",
      "execution_count": 89,
      "metadata": {
        "tags": []
      },
      "outputs": [],
      "source": [
        "env.action_space.sample()"
      ],
      "id": "991a786c-72a0-4b2b-968d-6edc4e4e676e"
    },
    {
      "cell_type": "markdown",
      "metadata": {},
      "source": [
        "`-` env.reset()"
      ],
      "id": "6cbb14b4-0217-4ffd-a902-aecfe29c2e98"
    },
    {
      "cell_type": "code",
      "execution_count": 90,
      "metadata": {
        "tags": []
      },
      "outputs": [],
      "source": [
        "state, _ = env.reset()\n",
        "state "
      ],
      "id": "fff5a9df-9dbf-453e-802f-fba6b9639a34"
    },
    {
      "cell_type": "markdown",
      "metadata": {},
      "source": [
        "`-` env.render()"
      ],
      "id": "8a829224-37c9-4f7f-9e87-a6655c507b98"
    },
    {
      "cell_type": "code",
      "execution_count": 91,
      "metadata": {
        "tags": []
      },
      "outputs": [
        {
          "output_type": "display_data",
          "metadata": {},
          "data": {
            "image/png": "[encoded data removed]"
          }
        }
      ],
      "source": [
        "plt.imshow(env.render())"
      ],
      "id": "d97c051d-a9be-4caf-ad95-963358cee7eb"
    },
    {
      "cell_type": "markdown",
      "metadata": {},
      "source": [
        "`-` env.step"
      ],
      "id": "429dad16-a4cf-4556-bd6a-5f782355f679"
    },
    {
      "cell_type": "code",
      "execution_count": 92,
      "metadata": {
        "tags": []
      },
      "outputs": [],
      "source": [
        "env.step??"
      ],
      "id": "210ce01d-0a07-48c1-85d6-707f33e7d878"
    },
    {
      "cell_type": "markdown",
      "metadata": {},
      "source": [
        "-   리턴되는 값은 (다음상태, 보상, 종료여부, 중단여부, 추가정보) 임.."
      ],
      "id": "1edbdb7d-0640-4fe7-b457-b0be5d98d57e"
    },
    {
      "cell_type": "code",
      "execution_count": 93,
      "metadata": {
        "tags": []
      },
      "outputs": [
        {
          "output_type": "display_data",
          "metadata": {},
          "data": {
            "image/png": "[encoded data removed]"
          }
        }
      ],
      "source": [
        "plt.imshow(env.render())"
      ],
      "id": "3100a95b-a606-470d-988d-952321e928f9"
    },
    {
      "cell_type": "code",
      "execution_count": 94,
      "metadata": {
        "tags": []
      },
      "outputs": [],
      "source": [
        "next_state, reward, terminated, _, _ = env.step(0)\n",
        "next_state, reward, terminated"
      ],
      "id": "371ecae3-a634-4f3f-ac9e-887cbc8294a5"
    },
    {
      "cell_type": "markdown",
      "metadata": {},
      "source": [
        "`-` play"
      ],
      "id": "72d73b78-2955-475d-a150-e854da317d85"
    },
    {
      "cell_type": "code",
      "execution_count": 95,
      "metadata": {
        "tags": []
      },
      "outputs": [
        {
          "output_type": "display_data",
          "metadata": {},
          "data": {
            "image/png": "[encoded data removed]"
          }
        }
      ],
      "source": [
        "env.reset()\n",
        "plt.imshow(env.render())"
      ],
      "id": "714f450e-d0e3-4cb1-9421-50b7d2ce8c92"
    },
    {
      "cell_type": "code",
      "execution_count": 96,
      "metadata": {
        "tags": []
      },
      "outputs": [
        {
          "output_type": "display_data",
          "metadata": {},
          "data": {
            "image/png": "[encoded data removed]"
          }
        }
      ],
      "source": [
        "env.step(1)\n",
        "plt.imshow(env.render())"
      ],
      "id": "f70e4b61-174b-47d7-a8c9-0897987a7a52"
    },
    {
      "cell_type": "markdown",
      "metadata": {},
      "source": [
        "-   0 : 아무행동도 하지 않음\n",
        "-   1 : 왼쪽\n",
        "-   2 : 위\n",
        "-   3 : 오른쪽\n",
        "\n",
        "# 5. 시각화"
      ],
      "id": "0b275bbb-affd-4c25-b497-4aea4335c1f0"
    },
    {
      "cell_type": "code",
      "execution_count": 97,
      "metadata": {
        "tags": []
      },
      "outputs": [],
      "source": [
        "current_state, _ = env.reset()\n",
        "ims = [] \n",
        "for t in range(500): \n",
        "    action = env.action_space.sample()\n",
        "    next_state, reward, terminated, _, _ = env.step(action)\n",
        "    ims.append(env.render()) \n",
        "    current_state = next_state \n",
        "    if terminated: break "
      ],
      "id": "6f6c3d2e-36a4-4591-8d5e-198baf62a1b9"
    },
    {
      "cell_type": "code",
      "execution_count": 98,
      "metadata": {
        "tags": []
      },
      "outputs": [],
      "source": [
        "show(ims) "
      ],
      "id": "aad2ec81-b1cc-48d3-98a2-73ff7cf2a070"
    },
    {
      "cell_type": "markdown",
      "metadata": {},
      "source": [
        "# 6. `AgentRandom`"
      ],
      "id": "43f70e6f-b21c-4808-902d-808a2cd43245"
    },
    {
      "cell_type": "code",
      "execution_count": 99,
      "metadata": {
        "tags": []
      },
      "outputs": [],
      "source": [
        "env.step(0)"
      ],
      "id": "1dd35ce1-414d-4274-bd6c-fb64c19d8fa7"
    },
    {
      "cell_type": "code",
      "execution_count": 15,
      "metadata": {
        "tags": []
      },
      "outputs": [],
      "source": [
        "class AgentRandom: \n",
        "    def __init__(self,env):\n",
        "        #--# define spaces \n",
        "        self.action_space = env.action_space\n",
        "        self.state_space = env.observation_space\n",
        "        #--# replay buffer \n",
        "        self.current_state =  None    ## 길이가 8인 np.array        \n",
        "        self.action = None            ## int, 0,1,2,3 중 하나\n",
        "        self.reward = None            ## float  \n",
        "        self.next_state =  None       ## np.array\n",
        "        self.terminated = None        ## bool \n",
        "        #-#\n",
        "        self.buffer_size = 5000 \n",
        "        self.current_states = collections.deque(maxlen=self.buffer_size) # 원소는 텐서         \n",
        "        self.actions = collections.deque(maxlen=self.buffer_size) # 원소는 텐서 \n",
        "        self.rewards = collections.deque(maxlen=self.buffer_size) # 원소는 텐서\n",
        "        self.next_states = collections.deque(maxlen=self.buffer_size) # 원소는 텐서 \n",
        "        self.terminations = collections.deque(maxlen=self.buffer_size) # 원소는 텐서 \n",
        "        #--# other information \n",
        "        self.n_episodes = 0         \n",
        "        self.n_experiences = 0\n",
        "        self.playtimes = [] \n",
        "        self.score = 0                \n",
        "        self.scores = []\n",
        "    def act(self):\n",
        "        self.action = self.action_space.sample()\n",
        "    def learn(self):\n",
        "        pass \n",
        "    def save_experience(self):\n",
        "        self.current_states.append(torch.tensor(self.current_state))\n",
        "        self.actions.append(torch.tensor(self.action))\n",
        "        self.rewards.append(torch.tensor(self.reward))\n",
        "        self.next_states.append(torch.tensor(self.next_state))\n",
        "        self.terminations.append(torch.tensor(self.terminated))           \n",
        "        #--#\n",
        "        self.n_experiences = self.n_experiences + 1 \n",
        "        self.score = self.score + self.reward"
      ],
      "id": "65170a8c-ebac-4fba-8e62-706392685423"
    },
    {
      "cell_type": "code",
      "execution_count": 101,
      "metadata": {
        "tags": []
      },
      "outputs": [
        {
          "output_type": "stream",
          "name": "stdout",
          "text": [
            "에피소드:100    경험(t):9227  점수(에피소드):-187.87    게임시간(에피소드):92.27\n",
            "에피소드:200    경험(t):19217 점수(에피소드):-180.42    게임시간(에피소드):99.90\n",
            "에피소드:300    경험(t):28415 점수(에피소드):-195.30    게임시간(에피소드):91.98\n",
            "에피소드:400    경험(t):37470 점수(에피소드):-179.93    게임시간(에피소드):90.55\n",
            "에피소드:500    경험(t):46602 점수(에피소드):-195.32    게임시간(에피소드):91.32"
          ]
        }
      ],
      "source": [
        "env = gym.make(\"LunarLander-v2\",render_mode = 'rgb_array')\n",
        "agent = AgentRandom(env)\n",
        "#--#\n",
        "for _ in range(500): \n",
        "    agent.current_state,_ = env.reset()\n",
        "    agent.score = 0\n",
        "    for t in range(1,1001):\n",
        "        ## step1: 행동 \n",
        "        agent.act()\n",
        "        ## step2: 보상\n",
        "        agent.next_state, agent.reward, agent.terminated, _, _ = env.step(agent.action)\n",
        "        ## step3: 저장 & 학습 \n",
        "        agent.save_experience()\n",
        "        agent.learn()\n",
        "        ## step4: \n",
        "        agent.current_state = agent.next_state \n",
        "        if agent.terminated: break \n",
        "    agent.scores.append(agent.score) \n",
        "    agent.playtimes.append(t) \n",
        "    agent.n_episodes = agent.n_episodes + 1 \n",
        "    #---#\n",
        "    logfreq = 100\n",
        "    if (agent.n_episodes % logfreq) == 0: \n",
        "        print(\n",
        "            f\"에피소드:{agent.n_episodes}\\t\"\n",
        "            f\"경험(t):{agent.n_experiences}\\t\"            \n",
        "            f\"점수(에피소드):{np.mean(agent.scores[-logfreq:]):.2f}\\t\"\n",
        "            f\"게임시간(에피소드):{np.mean(agent.playtimes[-logfreq:]):.2f}\"\n",
        "        )    "
      ],
      "id": "af82faec-b149-45f4-926a-01d2e4d25698"
    },
    {
      "cell_type": "markdown",
      "metadata": {},
      "source": [
        "# 7. `AgentExplorer`\n",
        "\n",
        "## A. `q_net`\n",
        "\n",
        "`-` 전략: 4x4에서 `q_table`에 대응하는 정보가 있으면 된다. 그런데\n",
        "`q_table`와 같이 테이블 형식으로는 힘들것 같다. $\\to$ `q_net`를 만들자.\n",
        "\n",
        "-   4x4 grid: 상태공간의 차원은 2차원이며 가질수 있는 값은 16개, 각\n",
        "    상태공간에서 할수 있는 행동이 4개 -\\> 총 16\\*4의 경우의 수에 대한\n",
        "    reward만 조사하면 되었음\n",
        "-   LunarLander: 상태공간의 차원은 8차원이지만 가질수 있는 값의 범위는\n",
        "    무한대 -\\> 무수히 많은 경우에 대한 reward 값을 조사하는건 현실적으로\n",
        "    불가능\n",
        "\n",
        "`-` 4x4 코드\n",
        "\n",
        "``` python\n",
        "class AgentGreedy(AgentRandom):\n",
        "    def __init__(self,env):\n",
        "        super().__init__(env)\n",
        "        #--#\n",
        "        self.q_table = np.zeros([4,4,4])\n",
        "    def learn(self): # q_table \n",
        "        s1,s2 = self.current_state\n",
        "        ss1,ss2 = self.next_state\n",
        "        a = self.action\n",
        "        r = self.reward\n",
        "        q_hat = self.q_table[s1,s2,a] \n",
        "        if self.terminated:\n",
        "            q = r \n",
        "        else:\n",
        "            future_reward = self.q_table[ss1,ss2,:].max()\n",
        "            q = r + 0.99 * future_reward \n",
        "        diff = q - q_hat\n",
        "        self.q_table[s1,s2,a] = q_hat + 0.05 * diff         \n",
        "    def act(self):\n",
        "        if self.n_experiences < 3000:\n",
        "            self.action = self.action_space.sample()\n",
        "        else: \n",
        "            s1,s2 = self.current_state \n",
        "            self.action = self.q_table[s1,s2,:].argmax()\n",
        "```\n",
        "\n",
        "`수정 1`. `agent.q_table` 에 대응하는 과정"
      ],
      "id": "b8b31bc7-b2c8-4d05-a409-6fa8e3c3138e"
    },
    {
      "cell_type": "code",
      "execution_count": 102,
      "metadata": {},
      "outputs": [],
      "source": [
        "agent.q_net = torch.nn.Sequential(\n",
        "    torch.nn.Linear(8,256),\n",
        "    torch.nn.ReLU(),\n",
        "    torch.nn.Linear(256,128),\n",
        "    torch.nn.ReLU(),\n",
        "    torch.nn.Linear(128,64),\n",
        "    torch.nn.ReLU(),    \n",
        "    torch.nn.Linear(64,4)\n",
        ")    "
      ],
      "id": "30790a05-1a92-4033-af74-7beb4170dc06"
    },
    {
      "cell_type": "code",
      "execution_count": 103,
      "metadata": {},
      "outputs": [],
      "source": [
        "agent.q_net # <- 8개의 숫작가 들어가면 4개의 숫자가 나옴 "
      ],
      "id": "9113fb6c-0938-45d5-88e6-1577c948a291"
    },
    {
      "cell_type": "code",
      "execution_count": 104,
      "metadata": {
        "tags": []
      },
      "outputs": [],
      "source": [
        "s = torch.tensor(agent.current_state)\n",
        "agent.q_net(s)"
      ],
      "id": "8ce8d1d7-84f5-45d5-90f6-64beb165b0c6"
    },
    {
      "cell_type": "markdown",
      "metadata": {},
      "source": [
        "-   `q_net`은 8개의 숫자가 입력으로 오면 4개의 숫자가 리턴되는 함수이다.\n",
        "-   해석을 하면 8개의 숫자는 state를 나타내는 숫자로 이해할 수 있고\n",
        "    4개의 숫자는 각 action에 대한 q값으로 해석할 수 있다.\n",
        "-   출력되는 4개의 숫자는 합리적인 숫자가 아님 (최초의 숫자임) 그렇지만\n",
        "    데이터를 학습하여 점점 합리적으로 변할 것임.\n",
        "\n",
        "`2`. `q_hat`"
      ],
      "id": "375d0eb3-a1b4-4ca8-a7b7-e9e9bbf0e909"
    },
    {
      "cell_type": "code",
      "execution_count": 105,
      "metadata": {
        "tags": []
      },
      "outputs": [],
      "source": [
        "s = torch.tensor(agent.current_state)\n",
        "a = torch.tensor(agent.action)\n",
        "q_hat = agent.q_net(s)[a]"
      ],
      "id": "48ce4790-c57a-4671-8df5-06dc9680081a"
    },
    {
      "cell_type": "code",
      "execution_count": 106,
      "metadata": {
        "tags": []
      },
      "outputs": [],
      "source": [
        "q_hat"
      ],
      "id": "23602a73-59af-4334-bf0a-0c14d777acef"
    },
    {
      "cell_type": "markdown",
      "metadata": {},
      "source": [
        "`3`. `q` ($q = r + 0.99 \\times {\\tt future\\_reward}$)"
      ],
      "id": "d7b8eff8-73c0-4a3b-8195-553d06e02f92"
    },
    {
      "cell_type": "code",
      "execution_count": 107,
      "metadata": {
        "tags": []
      },
      "outputs": [],
      "source": [
        "s = torch.tensor(agent.current_state)\n",
        "a = torch.tensor(agent.action)\n",
        "r = torch.tensor(agent.reward)\n",
        "ss = torch.tensor(agent.next_state)"
      ],
      "id": "a6eca33d-7cae-4adf-9ee0-0fc17b62332c"
    },
    {
      "cell_type": "code",
      "execution_count": 108,
      "metadata": {
        "tags": []
      },
      "outputs": [],
      "source": [
        "if agent.terminated:\n",
        "    q = r\n",
        "else:\n",
        "    future_reward = agent.q_net(ss).max().data\n",
        "    q = r + 0.99 * future_reward "
      ],
      "id": "463c6b32-8a7c-413e-97c1-8661942ec932"
    },
    {
      "cell_type": "markdown",
      "metadata": {},
      "source": [
        "`4`. `q_hat` 을 점점 `q` 와 비슷하게 만드는 과정"
      ],
      "id": "bbeef358-edfd-458f-a902-f576f199ebb7"
    },
    {
      "cell_type": "code",
      "execution_count": 109,
      "metadata": {},
      "outputs": [],
      "source": [
        "memory = list(zip(agent.current_states,agent.actions,agent.rewards,agent.next_states,agent.terminations))"
      ],
      "id": "e0c6814a-a808-4833-af49-ea34b7bd3e0b"
    },
    {
      "cell_type": "code",
      "execution_count": 110,
      "metadata": {
        "tags": []
      },
      "outputs": [],
      "source": [
        "agent.batch_size = 4 \n",
        "minibatch = random.sample(memory,agent.batch_size)\n",
        "minibatch[0] # s,a,r,ss,t "
      ],
      "id": "62a22c4c-6b22-4a2e-9060-70adc6f7df5b"
    },
    {
      "cell_type": "code",
      "execution_count": 111,
      "metadata": {
        "tags": []
      },
      "outputs": [],
      "source": [
        "agent.optimizr = torch.optim.Adam(agent.q_net.parameters())\n",
        "for epoc in range(5):\n",
        "    memory = list(zip(agent.current_states,agent.actions,agent.rewards,agent.next_states,agent.terminations))\n",
        "    minibatch = random.sample(memory,agent.batch_size)\n",
        "    ## step 1~2 \n",
        "    loss = 0 \n",
        "    for s,a,r,ss,terminated in minibatch:\n",
        "        # step1: q_hat \n",
        "        q_hat = agent.q_net(s)[a]        \n",
        "        # step2: loss를 계산한다. \n",
        "        if agent.terminated:\n",
        "            q = r\n",
        "        else:\n",
        "            future_reward = agent.q_net(ss).max().data\n",
        "            q = r + 0.99 * future_reward\n",
        "        loss = loss + (q_hat-q)**2 \n",
        "    loss = loss / agent.batch_size \n",
        "    # step3 \n",
        "    loss.backward()\n",
        "    # step4 \n",
        "    agent.optimizr.step()\n",
        "    agent.optimizr.zero_grad() "
      ],
      "id": "f8b90555-06e5-4f16-9b53-1ef68cc36b0f"
    },
    {
      "cell_type": "markdown",
      "metadata": {},
      "source": [
        "`5`. 행동..?"
      ],
      "id": "3c0bf03b-cadf-41a0-8fbf-d770ffff1f3d"
    },
    {
      "cell_type": "code",
      "execution_count": 112,
      "metadata": {},
      "outputs": [],
      "source": [
        "agent.q_net(s).argmax().item()"
      ],
      "id": "0f26f726-cba4-440d-91a1-1a0a265daa71"
    },
    {
      "cell_type": "code",
      "execution_count": 113,
      "metadata": {},
      "outputs": [],
      "source": [
        "agent.eps = 0.5 \n",
        "if np.random.rand() < agent.eps: \n",
        "    agent.action = agent.action_space.sample()\n",
        "else: \n",
        "    s = torch.tensor(agent.current_state)\n",
        "    agent.q_net(s).argmax().item()    "
      ],
      "id": "44db8edb-24b9-4c79-9561-facdce2fc7fe"
    },
    {
      "cell_type": "markdown",
      "metadata": {},
      "source": [
        "## B. 클래스의 설계"
      ],
      "id": "1242b453-793d-40ee-90ce-17c102e84f9b"
    },
    {
      "cell_type": "code",
      "execution_count": 16,
      "metadata": {},
      "outputs": [],
      "source": [
        "class AgentExplorer(AgentRandom):\n",
        "    def __init__(self,env):\n",
        "        super().__init__(env)\n",
        "        self.eps = 0 \n",
        "        self.q_net = torch.nn.Sequential(\n",
        "            torch.nn.Linear(8,256),\n",
        "            torch.nn.ReLU(),\n",
        "            torch.nn.Linear(256,128),\n",
        "            torch.nn.ReLU(),\n",
        "            torch.nn.Linear(128,64),\n",
        "            torch.nn.ReLU(),    \n",
        "            torch.nn.Linear(64,4)\n",
        "        )\n",
        "        self.optimizr = torch.optim.Adam(self.q_net.parameters(),lr=0.0001)\n",
        "        self.batch_size = 64\n",
        "    def act(self):\n",
        "        if np.random.rand() < self.eps: \n",
        "            self.action = self.action_space.sample()\n",
        "        else: \n",
        "            s = torch.tensor(self.current_state)\n",
        "            self.action = self.q_net(s).argmax().item() \n",
        "    def learn(self):\n",
        "        if self.n_experiences < self.batch_size:\n",
        "            pass \n",
        "        else: \n",
        "            for epoc in range(1):\n",
        "                memory = list(zip(\n",
        "                    self.current_states,\n",
        "                    self.actions,\n",
        "                    self.rewards,\n",
        "                    self.next_states,\n",
        "                    self.terminations\n",
        "                ))\n",
        "                minibatch = random.sample(memory,self.batch_size)\n",
        "                ## step 1~2 \n",
        "                loss = 0 \n",
        "                for s,a,r,ss,terminated in minibatch:\n",
        "                    # step1: q_hat \n",
        "                    q_hat = self.q_net(s)[a]        \n",
        "                    # step2: loss를 계산한다. \n",
        "                    if self.terminated:\n",
        "                        q = r\n",
        "                    else:\n",
        "                        future_reward = self.q_net(ss).max().data\n",
        "                        q = r + 0.99 * future_reward\n",
        "                    loss = loss + (q_hat-q)**2 \n",
        "                loss = loss / self.batch_size \n",
        "                # step3 \n",
        "                loss.backward()\n",
        "                # step4 \n",
        "                self.optimizr.step()\n",
        "                self.optimizr.zero_grad() "
      ],
      "id": "df5ee74a-5ede-4860-bdd1-894e3f16b2c8"
    },
    {
      "cell_type": "markdown",
      "metadata": {},
      "source": [
        "## C. 환경과 상호작용"
      ],
      "id": "6e9b924c-14a4-4dff-8456-481e860993da"
    },
    {
      "cell_type": "code",
      "execution_count": 70,
      "metadata": {
        "tags": []
      },
      "outputs": [
        {
          "output_type": "stream",
          "name": "stdout",
          "text": [
            "에피소드:100    경험(t):10838 점수(에피소드):-176.71    게임시간(에피소드):108.38   돌발행동(에피소드):0.61\n",
            "에피소드:200    경험(t):51270 점수(에피소드):-56.40 게임시간(에피소드):404.32   돌발행동(에피소드):0.37\n",
            "에피소드:300    경험(t):127024    점수(에피소드):97.89  게임시간(에피소드):757.54   돌발행동(에피소드):0.22\n",
            "에피소드:400    경험(t):181605    점수(에피소드):161.62 게임시간(에피소드):545.81   돌발행동(에피소드):0.13\n",
            "---game cleared in 468 episodes!---"
          ]
        }
      ],
      "source": [
        "env = gym.make(\"LunarLander-v2\",render_mode = 'rgb_array')\n",
        "agent = AgentExplorer(env)\n",
        "agent.eps = 1 \n",
        "#--#\n",
        "for _ in range(2000): \n",
        "    # STEP1: 에피소드 준비 \n",
        "    agent.current_state,_ = env.reset()\n",
        "    agent.score = 0\n",
        "    # STEP2: 에피소드 진행 \n",
        "    for t in range(1,1001):\n",
        "        ## step1: 행동 \n",
        "        agent.act()\n",
        "        ## step2: 보상\n",
        "        agent.next_state, agent.reward, agent.terminated, _, _ = env.step(agent.action)\n",
        "        ## step3: 저장 & 학습 \n",
        "        agent.save_experience()\n",
        "        agent.learn()\n",
        "        ## step4: \n",
        "        agent.current_state = agent.next_state \n",
        "        if agent.terminated: break \n",
        "    # STEP3: 다음에피소드준비 \n",
        "    agent.scores.append(agent.score) \n",
        "    agent.playtimes.append(t) \n",
        "    agent.n_episodes = agent.n_episodes + 1\n",
        "    agent.eps = agent.eps * 0.995 \n",
        "    if np.mean(agent.scores[-100:]) > 200: \n",
        "        print(f\"---game cleared in {agent.n_episodes} episodes! ---\")\n",
        "        torch.save(agent.q_net.state_dict(),f\"q_net_final.pth\")\n",
        "        break \n",
        "    #---#\n",
        "    logfreq = 100\n",
        "    if (agent.n_episodes % logfreq) == 0: \n",
        "        print(\n",
        "            f\"에피소드:{agent.n_episodes}\\t\"\n",
        "            f\"경험(t):{agent.n_experiences}\\t\"            \n",
        "            f\"점수(에피소드):{np.mean(agent.scores[-logfreq:]):.2f}\\t\"\n",
        "            f\"게임시간(에피소드):{np.mean(agent.playtimes[-logfreq:]):.2f}\\t\"\n",
        "            f\"돌발행동(에피소드):{agent.eps:.2f}\"\n",
        "        )\n",
        "        torch.save(agent.q_net.state_dict(),f\"q_net_{agent.n_episodes}.pth\")"
      ],
      "id": "f4801de3-ee06-4857-83cd-951ffb3dfac1"
    },
    {
      "cell_type": "markdown",
      "metadata": {},
      "source": [
        "------------------------------------------------------------------------\n",
        "\n",
        "***아래코드 실행하면 제가 실습에 사용한 파일 받아올수있어요***\n",
        "\n",
        "``` python\n",
        "!wget https://github.com/guebin/DL2024/raw/main/posts/LunarLander/q_net_100.pth\n",
        "!wget https://github.com/guebin/DL2024/raw/main/posts/LunarLander/q_net_200.pth\n",
        "!wget https://github.com/guebin/DL2024/raw/main/posts/LunarLander/q_net_300.pth\n",
        "!wget https://github.com/guebin/DL2024/raw/main/posts/LunarLander/q_net_400.pth\n",
        "!wget https://github.com/guebin/DL2024/raw/main/posts/LunarLander/q_net_final.pth\n",
        "```\n",
        "\n",
        "------------------------------------------------------------------------"
      ],
      "id": "de698247-6e16-4697-b6b4-b502cc71b73e"
    },
    {
      "cell_type": "code",
      "execution_count": 31,
      "metadata": {
        "tags": []
      },
      "outputs": [],
      "source": [
        "agent_dummy = AgentExplorer(env) \n",
        "#agent_dummy.q_net = agent.q_net # 비법전수 \n",
        "agent_dummy.q_net.load_state_dict(torch.load(\"q_net_final.pth\"))\n",
        "\n",
        "agent_dummy.current_state, _ = env.reset()\n",
        "agent_dummy.terminated = False \n",
        "ims = [] \n",
        "ims.append(env.render())\n",
        "for t in range(1001):\n",
        "    agent_dummy.act() \n",
        "    agent_dummy.next_state, agent_dummy.reward, agent_dummy.terminated, _, _  = env.step(agent_dummy.action)\n",
        "    ims.append(env.render())\n",
        "    agent_dummy.current_state = agent_dummy.next_state\n",
        "    if agent_dummy.terminated: break "
      ],
      "id": "043e8f48-7e6c-4055-820c-a35e1b94b064"
    },
    {
      "cell_type": "code",
      "execution_count": 32,
      "metadata": {
        "tags": []
      },
      "outputs": [],
      "source": [
        "show(ims)"
      ],
      "id": "de9ee484-ac4c-42f6-a51e-dac36ffe1a70"
    },
    {
      "cell_type": "markdown",
      "metadata": {},
      "source": [
        "# A1. 신경망관련 용어\n",
        "\n",
        "`-` 은근히 용어가 헷갈리는데, 뜻을 좀 살펴보자.\n",
        "\n",
        "-   ANN: 인공신경망\n",
        "-   MLP: 다층퍼셉트론 (레이어가 여러개 있어요)\n",
        "-   DNN: 깊은신경망, 심층신경망\n",
        "-   CNN: 합성곱신경망\n",
        "-   RNN: 순환신경망\n",
        "\n",
        "`# 예시1` – MLP, DNN\n",
        "\n",
        "``` python\n",
        "net = torch.nn.Sequential(\n",
        "    torch.nn.Linear(in_features=1,out_features=2),\n",
        "    torch.nn.ReLU(),\n",
        "    torch.nn.Linear(in_features=2,out_features=2),\n",
        "    torch.nn.ReLU(),\n",
        "    torch.nn.Linear(in_features=2,out_features=1),    \n",
        "    torch.nn.Sigmoid()\n",
        ")\n",
        "```\n",
        "\n",
        "-   ANN: O\n",
        "-   MLP: O\n",
        "-   DNN: O\n",
        "-   CNN: X (합성곱레이어가 없으므로)\n",
        "-   RNN: X (순환구조가 없으므로)\n",
        "\n",
        "`#`\n",
        "\n",
        "`# 예시2` – MLP, Shallow Network\n",
        "\n",
        "``` python\n",
        "net = torch.nn.Sequential(\n",
        "    torch.nn.Linear(in_features=1,out_features=2),\n",
        "    torch.nn.ReLU(),\n",
        "    torch.nn.Linear(in_features=2,out_features=1),\n",
        "    torch.nn.Sigmoid()\n",
        ")\n",
        "```\n",
        "\n",
        "-   ANN: O\n",
        "-   MLP: O\n",
        "-   DNN: X? (깊은 신경망으로 생각하려면 더 많은 레이어가 필요함. 합의된\n",
        "    기준은 히든레이어 2장이상, 이걸 설명하기 위해서 얕은 신경망이란\n",
        "    용어도 씀)\n",
        "-   CNN: X (합성곱레이어가 없으므로)\n",
        "-   RNN: X (순환구조가 없으므로)\n",
        "\n",
        "`#`\n",
        "\n",
        "`# 예시3` – MLP, DNN, Wide NN\n",
        "\n",
        "``` python\n",
        "net = torch.nn.Sequential(\n",
        "    torch.nn.Linear(in_features=1,out_features=1048576),\n",
        "    torch.nn.ReLU(),\n",
        "    torch.nn.Linear(in_features=1048576,out_features=1048576),\n",
        "    torch.nn.ReLU(),\n",
        "    torch.nn.Linear(in_features=1048576,out_features=1),\n",
        "    torch.nn.Sigmoid(),    \n",
        ")\n",
        "```\n",
        "\n",
        "-   ANN: O\n",
        "-   MLP: O\n",
        "-   DNN: O? (깊긴한데 이정도면 모양이 깊다기 보다는 넓은 신경망임,\n",
        "    그래서 어떤 연구세어는 이걸 넓은 신경망이라 부르기도 함)\n",
        "-   CNN: X (합성곱레이어가 없으므로)\n",
        "-   RNN: X (순환구조가 없으므로)\n",
        "\n",
        "`# 예시4` – CNN\n",
        "\n",
        "``` python\n",
        "net = torch.nn.Sequential(\n",
        "    # Layer1\n",
        "    torch.nn.Conv2d(1, 64, kernel_size=4, stride=2, padding=1, bias=False),\n",
        "    torch.nn.LeakyReLU(0.2),\n",
        "    # Layer2\n",
        "    torch.nn.Conv2d(64, 128, kernel_size=4, stride=2, padding=1, bias=False),\n",
        "    torch.nn.BatchNorm2d(128),\n",
        "    torch.nn.LeakyReLU(0.2),\n",
        "    # Layer3\n",
        "    torch.nn.Conv2d(128, 256, kernel_size=4, stride=2, padding=1, bias=False),\n",
        "    torch.nn.BatchNorm2d(256),\n",
        "    torch.nn.LeakyReLU(0.2),\n",
        "    # Layer4\n",
        "    torch.nn.Conv2d(256, 512, kernel_size=4, stride=2, padding=1, bias=False),\n",
        "    torch.nn.BatchNorm2d(512),\n",
        "    torch.nn.LeakyReLU(0.2),\n",
        "    # Layer5\n",
        "    torch.nn.Conv2d(512, 1, kernel_size=4, stride=1, padding=0, bias=False),\n",
        "    torch.nn.Sigmoid(),\n",
        "    torch.nn.Flatten()\n",
        ")\n",
        "```\n",
        "\n",
        "-   ANN: O\n",
        "-   MLP: X (합성곱연결이 포함되어있으므로, MLP가 아님, 완전연결만\n",
        "    포함해야 MLP임)  \n",
        "-   DNN: O\n",
        "-   CNN: O (합성곱레이어를 포함하고 있으므로)\n",
        "-   RNN: X (순환구조가 없으므로)\n",
        "\n",
        "`#`\n",
        "\n",
        "`# 예시5` – CNN\n",
        "\n",
        "``` python\n",
        "net = torch.nn.Sequential(\n",
        "    torch.nn.Conv2d(1,16,(5,5)),\n",
        "    torch.nn.ReLU(),\n",
        "    torch.nn.MaxPool2d((2,2)),\n",
        "    torch.nn.Flatten(),\n",
        "    torch.nn.Linear(2304,1),\n",
        "    torch.nn.Sigmoid()\n",
        ")\n",
        "```\n",
        "\n",
        "-   ANN: O\n",
        "-   MLP: X\n",
        "-   DNN: X? (히든레이어가 1장이므로..)\n",
        "-   CNN: O (합성곱레이어를 포함하고 있으므로)\n",
        "-   RNN: X (순환구조가 없으므로)\n",
        "\n",
        "> 근데 대부분의 문서에서는 CNN, RNN은 DNN의 한 종류로 설명하고\n",
        "> 있어서요.. 이런 네트워크에서는 개념충돌이 옵니다.\n",
        "\n",
        "`#`\n",
        "\n",
        "`# 예시6` – RNN\n",
        "\n",
        "``` python\n",
        "class Net(torch.nn.Module):\n",
        "    def __init__(self):\n",
        "        super().__init__()\n",
        "        self.rnn = torch.nn.RNN(4,2)\n",
        "        self.linr = torch.nn.Linear(2,2) \n",
        "    def forward(self,X):\n",
        "        h = self.rnn(X) \n",
        "        netout = self.linr(h)\n",
        "        return netout \n",
        "net = Net()     \n",
        "```\n",
        "\n",
        "-   ANN: O\n",
        "-   MLP: X\n",
        "-   DNN: X? (히든레이어가 1장이므로..)\n",
        "-   CNN: X (합성곱레이어가 없으므로)\n",
        "-   RNN: O\n",
        "\n",
        "> 이것도 비슷한 개념충돌\n",
        "\n",
        "`#`\n",
        "\n",
        "# A2. 학습\n",
        "\n",
        "`-` 모든 인공지능 관련 알고리즘은 아래의 분류로 가능함.\n",
        "\n",
        "|      **특징**       | **지도학습 (Supervised Learning)** | **비지도학습 (Unsupervised Learning)** | **강화학습 (Reinforcement Learning)**  |\n",
        "|:----------:|:------------------:|:-------------------:|:------------------:|\n",
        "|      **정의**       | 입력 데이터와 정답(레이블)을 사용  |           입력 데이터만 사용           |  에이전트가 환경과 상호작용하며 학습   |\n",
        "|      **목표**       |   입력에 대한 정확한 출력을 예측   |    데이터의 숨겨진 구조나 패턴 발견    | 최대 보상을 얻기 위한 최적의 정책 학습 |\n",
        "|      **예시**       |      이미지 분류, 스팸 필터링      |           군집화, 차원 축소            |         게임 플레이, 로봇 제어         |\n",
        "|  **주요 알고리즘**  |   선형 회귀, 로지스틱 회귀, SVM    |        K-평균, PCA, 오토인코더         |      Q-러닝, DQN, 정책 경사 방법       |\n",
        "|      **활용**       |             분류, 예측             |       데이터의 숨겨진 패턴 발견        |     복잡한 의사결정 문제 해결 가능     |\n",
        "| **데이터 요구사항** |       레이블링이 반드시 필요       |         많은 양의 데이터 필요          |     시뮬레이션 또는 실제 환경 필요     |\n",
        "\n",
        "`-` 그런데 사실 불가능함"
      ],
      "id": "85b06aa3-8dd7-41e6-89e4-81bfbcfd5c62"
    }
  ],
  "nbformat": 4,
  "nbformat_minor": 5,
  "metadata": {
    "kernelspec": {
      "name": "python3",
      "display_name": "Python 3 (ipykernel)",
      "language": "python"
    },
    "language_info": {
      "name": "python",
      "codemirror_mode": {
        "name": "ipython",
        "version": "3"
      },
      "file_extension": ".py",
      "mimetype": "text/x-python",
      "nbconvert_exporter": "python",
      "pygments_lexer": "ipython3",
      "version": "3.11.8"
    }
  }
}