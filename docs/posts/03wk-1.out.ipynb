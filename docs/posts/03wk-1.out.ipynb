{
  "cells": [
    {
      "cell_type": "markdown",
      "metadata": {},
      "source": [
        "# 03wk-1: 파이토치식 코딩패턴 (2),\n",
        "\n",
        "최규빈  \n",
        "2025-03-19\n",
        "\n",
        "<a href=\"https://colab.research.google.com/github/guebin/DL2025/blob/main/posts/03wk-1.ipynb\"><img src=\"https://colab.research.google.com/assets/colab-badge.svg\" style=\"text-align: left\"></a>\n",
        "\n",
        "# 1. 강의영상"
      ],
      "id": "b1fc09d4-7cf7-4ab4-8606-2eb3fe5b9ba6"
    },
    {
      "cell_type": "code",
      "execution_count": 1,
      "metadata": {
        "jp-MarkdownHeadingCollapsed": true
      },
      "outputs": [],
      "source": [
        "# {{<video https://youtu.be/playlist?list=PLQqh36zP38-yQTdybfgfAlnXsuJu2hfw1&si=ouac6dB6esRzkdT7 >}}"
      ],
      "id": "6598045c-0a28-4dbe-980a-90c0a12defa0"
    },
    {
      "cell_type": "markdown",
      "metadata": {},
      "source": [
        "# 2. 파이토치식 코딩패턴 (2)\n",
        "\n",
        "## A. 기타 가능한 코드\n",
        "\n",
        "***`# 방법1`*** – net에서 bias를 사용"
      ],
      "id": "9c16aa5f-ef6c-43c5-b303-bec91339f1b3"
    },
    {
      "cell_type": "code",
      "execution_count": 386,
      "metadata": {},
      "outputs": [],
      "source": [
        "# step1을 위한 사전준비\n",
        "net = torch.nn.Linear(\n",
        "    in_features=1,\n",
        "    out_features=1,\n",
        "    bias=True\n",
        ") # net(x) = x@net.weight.T + net.bias \n",
        "net.bias.data = torch.tensor([-5.0])\n",
        "net.weight.data = torch.tensor([[10.0]])\n",
        "# step2를 위한 사전준비\n",
        "loss_fn = torch.nn.MSELoss()\n",
        "# step4를 위한 사전준비 \n",
        "optimizr = torch.optim.SGD(net.parameters(),lr=0.1)\n",
        "for epoc in range(30):\n",
        "    # step1: yhat \n",
        "    yhat = net(x)\n",
        "    # step2: loss\n",
        "    loss = loss_fn(yhat,y)\n",
        "    # step3: 미분\n",
        "    loss.backward()\n",
        "    # step4: update\n",
        "    optimizr.step()\n",
        "    optimizr.zero_grad()"
      ],
      "id": "a411cf25-edb2-4270-bc28-203ecf654901"
    },
    {
      "cell_type": "code",
      "execution_count": 387,
      "metadata": {},
      "outputs": [],
      "source": [
        "net.bias.data, net.weight.data"
      ],
      "id": "21813b21-86ae-4aaa-8434-3d304d98136e"
    },
    {
      "cell_type": "markdown",
      "metadata": {},
      "source": [
        "`#`\n",
        "\n",
        "***`# 방법2`*** – net를 쓰지않고 optimizer를 사용하는 방법 (1)"
      ],
      "id": "d777b783-3de9-45cc-a828-5e355751803c"
    },
    {
      "cell_type": "code",
      "execution_count": 388,
      "metadata": {},
      "outputs": [],
      "source": [
        "# step1을 위한 사전준비\n",
        "what = torch.tensor(10.0,requires_grad=True)\n",
        "bhat = torch.tensor(-5.0,requires_grad=True)\n",
        "# step2를 위한 사전준비\n",
        "loss_fn = torch.nn.MSELoss()\n",
        "# step4를 위한 사전준비 \n",
        "optimizr = torch.optim.SGD([bhat,what],lr=0.1)\n",
        "for epoc in range(30):\n",
        "    # step1: yhat \n",
        "    yhat = what*x+bhat \n",
        "    # step2: loss\n",
        "    loss = loss_fn(yhat,y)\n",
        "    # step3: 미분\n",
        "    loss.backward()\n",
        "    # step4: update\n",
        "    optimizr.step()\n",
        "    optimizr.zero_grad()"
      ],
      "id": "05b2f7f6-3a46-42a1-b3f0-bf75fcc9e221"
    },
    {
      "cell_type": "code",
      "execution_count": 389,
      "metadata": {},
      "outputs": [],
      "source": [
        "what,bhat"
      ],
      "id": "14f69b24-59d9-40c1-bb0c-b5b155e843d9"
    },
    {
      "cell_type": "markdown",
      "metadata": {},
      "source": [
        "`#`\n",
        "\n",
        "***`# 방법3`*** – net를 쓰지않고 optimizer를 사용하는 방법 (2)"
      ],
      "id": "a228b9d1-78bd-4d2d-b89f-e0d05999d998"
    },
    {
      "cell_type": "code",
      "execution_count": 390,
      "metadata": {},
      "outputs": [],
      "source": [
        "# step1을 위한 사전준비\n",
        "What = torch.tensor([[-5.0],[10.0]],requires_grad=True)\n",
        "# step2를 위한 사전준비\n",
        "loss_fn = torch.nn.MSELoss()\n",
        "# step4를 위한 사전준비 \n",
        "optimizr = torch.optim.SGD([What],lr=0.1)\n",
        "for epoc in range(30):\n",
        "    # step1: yhat \n",
        "    yhat = X@What\n",
        "    # step2: loss\n",
        "    loss = loss_fn(yhat,y)\n",
        "    # step3: 미분\n",
        "    loss.backward()\n",
        "    # step4: update\n",
        "    optimizr.step()\n",
        "    optimizr.zero_grad()"
      ],
      "id": "dcd41aa2-c9e1-4e8a-bce4-3325f10d7603"
    },
    {
      "cell_type": "code",
      "execution_count": 391,
      "metadata": {},
      "outputs": [],
      "source": [
        "What"
      ],
      "id": "7d0e6999-fb4b-46fa-9e76-ee8e9d820ee4"
    },
    {
      "cell_type": "markdown",
      "metadata": {},
      "source": [
        "`#`\n",
        "\n",
        "## B. 잘못된(?) 코드"
      ],
      "id": "5f548fe8-7a73-448f-af7a-66d9b53635ef"
    },
    {
      "cell_type": "code",
      "execution_count": 72,
      "metadata": {},
      "outputs": [],
      "source": [
        "# step1을 위한 사전준비\n",
        "net = torch.nn.Linear(\n",
        "    in_features=2,\n",
        "    out_features=1,\n",
        ")\n",
        "net.weight.data = torch.tensor([[-5.0,  10.0]])\n",
        "# step2를 위한 사전준비\n",
        "loss_fn = torch.nn.MSELoss()\n",
        "# step4를 위한 사전준비 \n",
        "optimizr = torch.optim.SGD(net.parameters(),lr=0.1)\n",
        "for epoc in range(30):\n",
        "    # step1: yhat \n",
        "    yhat = net(X)\n",
        "    # step2: loss\n",
        "    loss = loss_fn(yhat,y)\n",
        "    # step3: 미분\n",
        "    loss.backward()\n",
        "    # step4: update\n",
        "    optimizr.step()\n",
        "    optimizr.zero_grad()"
      ],
      "id": "e9d9cc2f-be7b-47a5-8d52-88f9973659a8"
    },
    {
      "cell_type": "code",
      "execution_count": 73,
      "metadata": {},
      "outputs": [],
      "source": [
        "net.weight"
      ],
      "id": "6504237b-e5ba-41e9-bb81-9cebae1f9bba"
    },
    {
      "cell_type": "markdown",
      "metadata": {},
      "source": [
        "`-` 결과시각화"
      ],
      "id": "882052fb-c362-46db-b416-fdf6a8ea7d59"
    },
    {
      "cell_type": "code",
      "execution_count": 74,
      "metadata": {
        "tags": []
      },
      "outputs": [
        {
          "output_type": "display_data",
          "metadata": {},
          "data": {
            "image/png": "[encoded data removed]"
          }
        }
      ],
      "source": [
        "plt.plot(x,y,'o')\n",
        "plt.plot(x,yhat.data,'--')\n",
        "plt.title(f'net.weight={net.weight.data.reshape(-1)}');"
      ],
      "id": "62f3aa0b-206e-4eb2-94aa-4582037d8a36"
    },
    {
      "cell_type": "markdown",
      "metadata": {},
      "source": [
        "`-` 나쁘지 않은 이유?"
      ],
      "id": "d53e1a45-8e85-4044-a56c-518ea96cdc96"
    },
    {
      "cell_type": "code",
      "execution_count": 76,
      "metadata": {},
      "outputs": [],
      "source": [
        "net.weight"
      ],
      "id": "80c0c3a1-f84c-4a7d-87f5-87718878db8a"
    },
    {
      "cell_type": "code",
      "execution_count": 77,
      "metadata": {},
      "outputs": [],
      "source": [
        "net.bias"
      ],
      "id": "2add41f7-f22c-4a62-84c3-bc9ae5a60c2e"
    }
  ],
  "nbformat": 4,
  "nbformat_minor": 5,
  "metadata": {
    "kernelspec": {
      "name": "python3",
      "display_name": "Python 3 (ipykernel)",
      "language": "python"
    },
    "language_info": {
      "name": "python",
      "codemirror_mode": {
        "name": "ipython",
        "version": "3"
      },
      "file_extension": ".py",
      "mimetype": "text/x-python",
      "nbconvert_exporter": "python",
      "pygments_lexer": "ipython3",
      "version": "3.9.21"
    }
  }
}