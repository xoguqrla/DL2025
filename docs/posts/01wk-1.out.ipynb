{
  "cells": [
    {
      "cell_type": "markdown",
      "metadata": {},
      "source": [
        "# 01wk-1: 강의소개, 파이토치 기본\n",
        "\n",
        "최규빈  \n",
        "2025-03-05\n",
        "\n",
        "<a href=\"https://colab.research.google.com/github/guebin/DL2025/blob/main/posts/01wk-1.ipynb\"><img src=\"https://colab.research.google.com/assets/colab-badge.svg\" style=\"text-align: left\"></a>\n",
        "\n",
        "# 1. 강의영상\n",
        "\n",
        "<https://youtu.be/playlist?list=PLQqh36zP38-w2wjg7vQJHPP89wWGSq-MZ&si=J0lxSPEePOD-5BOL>\n",
        "\n",
        "# 2. Imports"
      ],
      "id": "53da6d2d-b625-4909-9076-3179fc99d07e"
    },
    {
      "cell_type": "code",
      "execution_count": 1,
      "metadata": {},
      "outputs": [],
      "source": [
        "import torch"
      ],
      "id": "903d2bef-18cf-436f-aba0-bbf57ea3bbcb"
    },
    {
      "cell_type": "markdown",
      "metadata": {},
      "source": [
        "# 3. 환경셋팅\n",
        "\n",
        "`-` 코랩이용자: 별도의 설치 필요 없음\n",
        "\n",
        "-   GPU 관리가 꼭 필요함!! (시험하루전날 수업 몰아서 듣지않기,\n",
        "    아이디만들어두기)\n",
        "-   특히 시험기간에 조심하세요\n",
        "\n",
        "`-` 리눅스서버 사용자 (ref: <https://pytorch.org/get-started/locally/>)\n",
        "\n",
        "``` bash\n",
        "conda create -n dl2025 python=3.9\n",
        "conda activate dl2025 \n",
        "pip3 install torch torchvision torchaudio --index-url https://download.pytorch.org/whl/cu126\n",
        "```\n",
        "\n",
        "# 4. 필요한 지식\n",
        "\n",
        "`-` 선형대수학\n",
        "\n",
        "-   벡터와 행렬\n",
        "-   행렬의 곱셉\n",
        "-   트랜스포즈\n",
        "\n",
        "`-` 기초통계학(수리통계)\n",
        "\n",
        "-   정규분포, 이항분포\n",
        "-   모수, 추정\n",
        "-   $X_i \\overset{i.i.d.}{\\sim} N(0,1)$\n",
        "\n",
        "`-` 회귀분석\n",
        "\n",
        "-   독립변수($y$), 설명변수($X$)\n",
        "-   ${\\boldsymbol y} = {\\bf X}{\\boldsymbol \\beta} + {\\boldsymbol \\epsilon}$\n",
        "\n",
        "`-` 파이썬\n",
        "\n",
        "-   파이썬 기본문법\n",
        "-   넘파이, 판다스\n",
        "-   전반적인 클래스 지식 (`__init__`, `self`, …)\n",
        "-   상속\n",
        "\n",
        "# 5. 파이토치 기본\n",
        "\n",
        "## A. torch\n",
        "\n",
        "`-` 벡터"
      ],
      "id": "f604c88e-f8ef-49d1-b1e0-0cdef468ef71"
    },
    {
      "cell_type": "code",
      "execution_count": 2,
      "metadata": {},
      "outputs": [],
      "source": [
        "torch.tensor([1,2,3])"
      ],
      "id": "f49a819d-6474-490d-bf3b-b14b2189caaa"
    },
    {
      "cell_type": "markdown",
      "metadata": {},
      "source": [
        "`-` 벡터의 덧셈"
      ],
      "id": "5eee4efe-1032-442d-be4d-c1033c553a68"
    },
    {
      "cell_type": "code",
      "execution_count": 5,
      "metadata": {},
      "outputs": [],
      "source": [
        "torch.tensor([1,2,3]) + torch.tensor([2,2,2])"
      ],
      "id": "1a9b9b4e-7a94-4c45-a7e4-a152f568ba4e"
    },
    {
      "cell_type": "markdown",
      "metadata": {},
      "source": [
        "`-` 브로드캐스팅"
      ],
      "id": "67e8473e-b352-40cc-96f6-0468ad826848"
    },
    {
      "cell_type": "code",
      "execution_count": 6,
      "metadata": {},
      "outputs": [],
      "source": [
        "torch.tensor([1,2,3]) + 2"
      ],
      "id": "0e6e6116-e148-4fcc-97af-148d4d30e1dd"
    },
    {
      "cell_type": "markdown",
      "metadata": {},
      "source": [
        "## B. 벡터와 매트릭스\n",
        "\n",
        "`-` $3 \\times 2$ matrix"
      ],
      "id": "3adf327b-5d2f-4735-918f-bbe43747cac2"
    },
    {
      "cell_type": "code",
      "execution_count": 9,
      "metadata": {},
      "outputs": [],
      "source": [
        "torch.tensor([[1,2],[3,4],[5,6]]) "
      ],
      "id": "385f1c2f-95fd-4612-9da6-c1173e0369ff"
    },
    {
      "cell_type": "markdown",
      "metadata": {},
      "source": [
        "`-` $3 \\times 1$ matrix = $3 \\times 1$ column vector"
      ],
      "id": "df7a4bd4-4d58-4368-97e0-0f222076865e"
    },
    {
      "cell_type": "code",
      "execution_count": 13,
      "metadata": {},
      "outputs": [],
      "source": [
        "torch.tensor([[1],[3],[5]]) "
      ],
      "id": "650c60bb-9a48-4878-82bf-7a48db23be8f"
    },
    {
      "cell_type": "markdown",
      "metadata": {},
      "source": [
        "`-` $1 \\times 2$ matrix = $1 \\times 2$ row vector"
      ],
      "id": "d9463fb8-c659-4160-b8cd-a8abd42ef337"
    },
    {
      "cell_type": "code",
      "execution_count": 14,
      "metadata": {},
      "outputs": [],
      "source": [
        "torch.tensor([[1,2]]) "
      ],
      "id": "950ceb01-dc8c-48f9-a72a-6ad56b2b71fe"
    },
    {
      "cell_type": "markdown",
      "metadata": {},
      "source": [
        "`-` 더하기\n",
        "\n",
        "***브로드캐스팅(편한거)***"
      ],
      "id": "4cbc793c-3619-4211-ac1e-b015b9c4e871"
    },
    {
      "cell_type": "code",
      "execution_count": 15,
      "metadata": {},
      "outputs": [],
      "source": [
        "torch.tensor([[1,2],[3,4],[5,6]]) - 1"
      ],
      "id": "ca7e7d66-a904-4101-8c72-7393126df3d0"
    },
    {
      "cell_type": "code",
      "execution_count": 17,
      "metadata": {},
      "outputs": [],
      "source": [
        "torch.tensor([[1,2],[3,4],[5,6]]) + torch.tensor([[-1],[-3],[-5]])"
      ],
      "id": "fed0bb9a-f882-416b-84a6-a5673395c211"
    },
    {
      "cell_type": "code",
      "execution_count": 19,
      "metadata": {},
      "outputs": [],
      "source": [
        "torch.tensor([[1,2],[3,4],[5,6]]) + torch.tensor([[-1,-2]])"
      ],
      "id": "b5c41b92-5ca3-496f-b2ec-884b09a64e8a"
    },
    {
      "cell_type": "markdown",
      "metadata": {},
      "source": [
        "***잘못된 브로드캐스팅***"
      ],
      "id": "09ea50ef-1e3a-4f2c-b803-8388f1111a32"
    },
    {
      "cell_type": "code",
      "execution_count": 21,
      "metadata": {},
      "outputs": [],
      "source": [
        "torch.tensor([[1,2],[3,4],[5,6]]) + torch.tensor([[-1,-3,-5]])"
      ],
      "id": "adcbf7c2-98bf-49af-8b04-fa2bb59bc70e"
    },
    {
      "cell_type": "code",
      "execution_count": 22,
      "metadata": {},
      "outputs": [],
      "source": [
        "torch.tensor([[1,2],[3,4],[5,6]]) + torch.tensor([[-1],[-2]])"
      ],
      "id": "28292256-c002-4f5b-af98-faab9411eac2"
    },
    {
      "cell_type": "markdown",
      "metadata": {},
      "source": [
        "***이상한 것***"
      ],
      "id": "b7d7c65d-eafc-478f-94dc-aa0ad5570f07"
    },
    {
      "cell_type": "code",
      "execution_count": 25,
      "metadata": {},
      "outputs": [],
      "source": [
        "torch.tensor([[1,2],[3,4],[5,6]]) + torch.tensor([-1,-2])"
      ],
      "id": "3bc6db41-4b59-427f-b51c-32533fa16694"
    },
    {
      "cell_type": "code",
      "execution_count": 26,
      "metadata": {},
      "outputs": [],
      "source": [
        "torch.tensor([[1,2],[3,4],[5,6]]) + torch.tensor([-1,-3,-5])"
      ],
      "id": "7a85150a-c777-4d62-a833-20605a5040cf"
    },
    {
      "cell_type": "markdown",
      "metadata": {},
      "source": [
        "`-` 행렬곱\n",
        "\n",
        "***정상적인 행렬곱***"
      ],
      "id": "43f306fc-72a1-46a0-837c-a0cf0c29b98b"
    },
    {
      "cell_type": "code",
      "execution_count": 27,
      "metadata": {},
      "outputs": [],
      "source": [
        "torch.tensor([[1,2],[3,4],[5,6]]) @ torch.tensor([[1],[2]])"
      ],
      "id": "70b0e64a-e10c-4be8-8025-4fc64e75c7b6"
    },
    {
      "cell_type": "code",
      "execution_count": 28,
      "metadata": {},
      "outputs": [],
      "source": [
        "torch.tensor([[1,2,3]]) @ torch.tensor([[1,2],[3,4],[5,6]]) "
      ],
      "id": "be672e2d-6ff7-410b-9534-5df651ce0f48"
    },
    {
      "cell_type": "markdown",
      "metadata": {},
      "source": [
        "***잘못된 행렬곱***"
      ],
      "id": "342ab2c5-a4e6-45ce-b8bc-3e95cac8e429"
    },
    {
      "cell_type": "code",
      "execution_count": 29,
      "metadata": {},
      "outputs": [],
      "source": [
        "torch.tensor([[1,2],[3,4],[5,6]]) @ torch.tensor([[1,2]])"
      ],
      "id": "70fd75c5-30a4-4d41-b52c-6bc97f6e87b7"
    },
    {
      "cell_type": "code",
      "execution_count": 30,
      "metadata": {},
      "outputs": [],
      "source": [
        "torch.tensor([[1],[2],[3]]) @ torch.tensor([[1,2],[3,4],[5,6]]) "
      ],
      "id": "97769005-262c-439e-a0af-9b8c17febab0"
    },
    {
      "cell_type": "markdown",
      "metadata": {},
      "source": [
        "***이상한 것***"
      ],
      "id": "4222bd52-1ce7-4a25-9f5d-93b2a397db12"
    },
    {
      "cell_type": "code",
      "execution_count": 31,
      "metadata": {},
      "outputs": [],
      "source": [
        "torch.tensor([[1,2],[3,4],[5,6]]) @ torch.tensor([1,2]) # 이게 왜 가능.."
      ],
      "id": "2ecd144a-076b-44ae-8c99-faf1050f590f"
    },
    {
      "cell_type": "code",
      "execution_count": 35,
      "metadata": {},
      "outputs": [],
      "source": [
        "torch.tensor([1,2,3]) @ torch.tensor([[1,2],[3,4],[5,6]]) # 이건 왜 가능?"
      ],
      "id": "4bfa92c5-5979-4b38-9db4-62053d7fd219"
    },
    {
      "cell_type": "markdown",
      "metadata": {},
      "source": [
        "## C. transpose, reshape\n",
        "\n",
        "`-` transpose"
      ],
      "id": "f6905e8c-720a-4d56-96c5-3ba113aa7fd4"
    },
    {
      "cell_type": "code",
      "execution_count": 157,
      "metadata": {},
      "outputs": [],
      "source": [
        "torch.tensor([[1,2],[3,4]]).T "
      ],
      "id": "c5966791-22f2-44b5-99ec-15ffec83c3e9"
    },
    {
      "cell_type": "code",
      "execution_count": 158,
      "metadata": {},
      "outputs": [],
      "source": [
        "torch.tensor([[1],[3]]).T "
      ],
      "id": "175a84b6-3cd1-4401-8ec6-eaa1c9e3fc08"
    },
    {
      "cell_type": "code",
      "execution_count": 160,
      "metadata": {},
      "outputs": [],
      "source": [
        "torch.tensor([[1,2]]).T "
      ],
      "id": "7850ddc7-1270-484c-9826-12a84e0c44fc"
    },
    {
      "cell_type": "markdown",
      "metadata": {},
      "source": [
        "`-` reshape\n",
        "\n",
        "***일반적인 사용***"
      ],
      "id": "bf49cc74-d932-4660-99f5-5e199deff29b"
    },
    {
      "cell_type": "code",
      "execution_count": 42,
      "metadata": {},
      "outputs": [],
      "source": [
        "torch.tensor([[1,2],[3,4],[5,6]]).reshape(2,3)"
      ],
      "id": "7f283d07-6c25-4f6d-be23-2e07d2019d21"
    },
    {
      "cell_type": "code",
      "execution_count": 43,
      "metadata": {},
      "outputs": [],
      "source": [
        "torch.tensor([[1,2],[3,4],[5,6]])"
      ],
      "id": "d2232c7c-7ff0-4228-9068-915f9830f2a7"
    },
    {
      "cell_type": "code",
      "execution_count": 44,
      "metadata": {},
      "outputs": [],
      "source": [
        "torch.tensor([[1,2],[3,4],[5,6]]).reshape(1,6)"
      ],
      "id": "aee2ba01-477d-4281-9e43-fe4c193a0b2c"
    },
    {
      "cell_type": "code",
      "execution_count": 45,
      "metadata": {},
      "outputs": [],
      "source": [
        "torch.tensor([[1,2],[3,4],[5,6]]).reshape(6)"
      ],
      "id": "b8a0115a-e026-4866-b3f6-76c9a142d1ff"
    },
    {
      "cell_type": "markdown",
      "metadata": {},
      "source": [
        "***편한 것***"
      ],
      "id": "5fd0d2dd-1dad-4361-892e-995b58f92483"
    },
    {
      "cell_type": "code",
      "execution_count": 49,
      "metadata": {},
      "outputs": [],
      "source": [
        "torch.tensor([[1,2],[3,4],[5,6]]).reshape(2,-1)"
      ],
      "id": "6bb579a4-fbf2-46f3-9425-431db2d32216"
    },
    {
      "cell_type": "code",
      "execution_count": 50,
      "metadata": {},
      "outputs": [],
      "source": [
        "torch.tensor([[1,2],[3,4],[5,6]]).reshape(6,-1)"
      ],
      "id": "f0e14499-f06c-495e-a8d1-b35a8f96ef70"
    },
    {
      "cell_type": "code",
      "execution_count": 51,
      "metadata": {},
      "outputs": [],
      "source": [
        "torch.tensor([[1,2],[3,4],[5,6]]).reshape(-1,6)"
      ],
      "id": "41d0454a-172c-4751-b888-7d05e5af2078"
    },
    {
      "cell_type": "code",
      "execution_count": 52,
      "metadata": {},
      "outputs": [],
      "source": [
        "torch.tensor([[1,2],[3,4],[5,6]]).reshape(-1)"
      ],
      "id": "06de0f8f-3d5a-40d3-a05f-b5437aac7c69"
    },
    {
      "cell_type": "markdown",
      "metadata": {},
      "source": [
        "## D. concat, stack $(\\star\\star\\star)$\n",
        "\n",
        "`-` concat"
      ],
      "id": "98d8f0cb-e94d-4d1f-97f1-2940870cb033"
    },
    {
      "cell_type": "code",
      "execution_count": 53,
      "metadata": {},
      "outputs": [],
      "source": [
        "a = torch.tensor([[1],[3],[5]])\n",
        "b = torch.tensor([[2],[4],[6]])\n",
        "torch.concat([a,b],axis=1)"
      ],
      "id": "5e12b960-9911-4e6a-a6f0-205b0d24183c"
    },
    {
      "cell_type": "code",
      "execution_count": 59,
      "metadata": {},
      "outputs": [],
      "source": [
        "torch.concat([a,b],axis=1)"
      ],
      "id": "4c6fe47f-f974-4aa2-9491-e87143a64607"
    },
    {
      "cell_type": "markdown",
      "metadata": {},
      "source": [
        "`-` stack"
      ],
      "id": "9e266195-c6ef-4263-a5f7-0233fd4857ed"
    },
    {
      "cell_type": "code",
      "execution_count": 60,
      "metadata": {},
      "outputs": [],
      "source": [
        "a = torch.tensor([1,3,5])\n",
        "b = torch.tensor([2,4,6])\n",
        "torch.stack([a,b],axis=1)"
      ],
      "id": "b2fc101c-7e0d-46d2-9d33-952cd2bbd6ba"
    },
    {
      "cell_type": "code",
      "execution_count": 69,
      "metadata": {},
      "outputs": [],
      "source": [
        "torch.concat([a.reshape(3,1),b.reshape(3,1)],axis=1)"
      ],
      "id": "8123e804-12c4-4993-989e-478042e3f5e1"
    },
    {
      "cell_type": "markdown",
      "metadata": {},
      "source": [
        "> **Warning**\n",
        ">\n",
        "> concat과 stack을 지금 처음본다면 아래를 복습하시는게 좋습니다.\n",
        ">\n",
        "> <https://guebin.github.io/PP2024/posts/06wk-2.html#numpy와-축axis>"
      ],
      "id": "f8cd04e8-d96e-4d9b-8edd-b33e2586be65"
    }
  ],
  "nbformat": 4,
  "nbformat_minor": 5,
  "metadata": {
    "kernelspec": {
      "name": "python3",
      "display_name": "Python 3 (ipykernel)",
      "language": "python"
    },
    "language_info": {
      "name": "python",
      "codemirror_mode": {
        "name": "ipython",
        "version": "3"
      },
      "file_extension": ".py",
      "mimetype": "text/x-python",
      "nbconvert_exporter": "python",
      "pygments_lexer": "ipython3",
      "version": "3.13.2"
    }
  }
}