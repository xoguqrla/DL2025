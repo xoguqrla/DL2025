{
  "cells": [
    {
      "cell_type": "markdown",
      "metadata": {},
      "source": [
        "# 05wk-1: 깊은 신경망 (4) – GPU 사용법, SGD, Softmax와 CrossEntropy\n",
        "\n",
        "최규빈  \n",
        "2024-04-01\n",
        "\n",
        "<a href=\"https://colab.research.google.com/github/guebin/DL2025/blob/main/posts/05wk-1.ipynb\"><img src=\"https://colab.research.google.com/assets/colab-badge.svg\" style=\"text-align: left\"></a>\n",
        "\n",
        "# 1. 강의영상\n",
        "\n",
        "<https://youtu.be/playlist?list=PLQqh36zP38-wjNGgd4gmQJbQ66NLjUC2y&si=dusDZAwGOJS9TOKJ>\n",
        "\n",
        "# 2. Imports"
      ],
      "id": "a881a9fc-31d8-49e6-825d-407acbc4c3fc"
    },
    {
      "cell_type": "code",
      "execution_count": 1,
      "metadata": {
        "tags": []
      },
      "outputs": [],
      "source": [
        "import torch\n",
        "import matplotlib.pyplot as plt\n",
        "import torchvision\n",
        "import fastai.data.all "
      ],
      "id": "a84306e3-564a-472e-ae0a-5322379da476"
    },
    {
      "cell_type": "markdown",
      "metadata": {},
      "source": [
        "# 3. CPU vs GPU\n",
        "\n",
        "`-` 파이토치에서 GPU를 쓰는 방법을 알아보자. (사실 지금까지 우리는 CPU만\n",
        "쓰고 있었음)\n",
        "\n",
        "`-` 코랩에서 GPU설정하는 방법: (아래영상참고)\n",
        "\n",
        "<https://youtu.be/GyBL2YBCzoc>\n",
        "\n",
        "## A. GPU 사용방법\n",
        "\n",
        "`-` cpu 연산이 가능한 메모리에 데이터 저장"
      ],
      "id": "163d4b0f-35fe-435e-9d7f-75588153d115"
    },
    {
      "cell_type": "code",
      "execution_count": 3,
      "metadata": {
        "tags": []
      },
      "outputs": [],
      "source": [
        "torch.manual_seed(43052)\n",
        "x_cpu = torch.tensor([0.0,0.1,0.2]).reshape(-1,1) \n",
        "y_cpu = torch.tensor([0.0,0.2,0.4]).reshape(-1,1) \n",
        "net_cpu = torch.nn.Linear(1,1) "
      ],
      "id": "3d54e22e-e238-4206-a7b6-ad0a42ea3048"
    },
    {
      "cell_type": "markdown",
      "metadata": {},
      "source": [
        "`-` gpu 연산이 가능한 메모리에 데이터 저장"
      ],
      "id": "7382b33d-001c-40f0-9c0a-eeb5cf75fdb8"
    },
    {
      "cell_type": "code",
      "execution_count": 4,
      "metadata": {
        "tags": []
      },
      "outputs": [
        {
          "output_type": "stream",
          "name": "stdout",
          "text": [
            "Mon Apr  1 16:42:53 2024       \n",
            "+---------------------------------------------------------------------------------------+\n",
            "| NVIDIA-SMI 535.161.07             Driver Version: 535.161.07   CUDA Version: 12.2     |\n",
            "|-----------------------------------------+----------------------+----------------------+\n",
            "| GPU  Name                 Persistence-M | Bus-Id        Disp.A | Volatile Uncorr. ECC |\n",
            "| Fan  Temp   Perf          Pwr:Usage/Cap |         Memory-Usage | GPU-Util  Compute M. |\n",
            "|                                         |                      |               MIG M. |\n",
            "|=========================================+======================+======================|\n",
            "|   0  NVIDIA GeForce RTX 3090        Off | 00000000:09:00.0 Off |                  N/A |\n",
            "|  0%   35C    P8              34W / 420W |     26MiB / 24576MiB |      0%      Default |\n",
            "|                                         |                      |                  N/A |\n",
            "+-----------------------------------------+----------------------+----------------------+\n",
            "                                                                                         \n",
            "+---------------------------------------------------------------------------------------+\n",
            "| Processes:                                                                            |\n",
            "|  GPU   GI   CI        PID   Type   Process name                            GPU Memory |\n",
            "|        ID   ID                                                             Usage      |\n",
            "|=======================================================================================|\n",
            "|    0   N/A  N/A      1130      G   /usr/lib/xorg/Xorg                            9MiB |\n",
            "|    0   N/A  N/A      1209      G   /usr/bin/gnome-shell                          8MiB |\n",
            "+---------------------------------------------------------------------------------------+"
          ]
        }
      ],
      "source": [
        "!nvidia-smi # before"
      ],
      "id": "91fc404a-ec68-4306-8c44-10f453373da7"
    },
    {
      "cell_type": "code",
      "execution_count": 5,
      "metadata": {
        "tags": []
      },
      "outputs": [],
      "source": [
        "torch.manual_seed(43052)\n",
        "x_gpu = x_cpu.to(\"cuda:0\")\n",
        "y_gpu = y_cpu.to(\"cuda:0\")\n",
        "net_gpu = torch.nn.Linear(1,1).to(\"cuda:0\") "
      ],
      "id": "f22b2e9c-9e14-4ad2-84ef-8885ffcea830"
    },
    {
      "cell_type": "code",
      "execution_count": 6,
      "metadata": {
        "tags": []
      },
      "outputs": [
        {
          "output_type": "stream",
          "name": "stdout",
          "text": [
            "Mon Apr  1 16:42:53 2024       \n",
            "+---------------------------------------------------------------------------------------+\n",
            "| NVIDIA-SMI 535.161.07             Driver Version: 535.161.07   CUDA Version: 12.2     |\n",
            "|-----------------------------------------+----------------------+----------------------+\n",
            "| GPU  Name                 Persistence-M | Bus-Id        Disp.A | Volatile Uncorr. ECC |\n",
            "| Fan  Temp   Perf          Pwr:Usage/Cap |         Memory-Usage | GPU-Util  Compute M. |\n",
            "|                                         |                      |               MIG M. |\n",
            "|=========================================+======================+======================|\n",
            "|   0  NVIDIA GeForce RTX 3090        Off | 00000000:09:00.0 Off |                  N/A |\n",
            "|  0%   37C    P2              39W / 420W |    287MiB / 24576MiB |      2%      Default |\n",
            "|                                         |                      |                  N/A |\n",
            "+-----------------------------------------+----------------------+----------------------+\n",
            "                                                                                         \n",
            "+---------------------------------------------------------------------------------------+\n",
            "| Processes:                                                                            |\n",
            "|  GPU   GI   CI        PID   Type   Process name                            GPU Memory |\n",
            "|        ID   ID                                                             Usage      |\n",
            "|=======================================================================================|\n",
            "|    0   N/A  N/A      1130      G   /usr/lib/xorg/Xorg                            9MiB |\n",
            "|    0   N/A  N/A      1209      G   /usr/bin/gnome-shell                          8MiB |\n",
            "|    0   N/A  N/A    362478      C   ...b3/anaconda3/envs/dl2024/bin/python      256MiB |\n",
            "+---------------------------------------------------------------------------------------+"
          ]
        }
      ],
      "source": [
        "!nvidia-smi"
      ],
      "id": "9601e845-9a4b-4bec-9053-879be0749db5"
    },
    {
      "cell_type": "markdown",
      "metadata": {},
      "source": [
        "> GPU에 메모리를 올리면 GPU메모리가 점유된다! (26MiB -\\> 287MiB)\n",
        "\n",
        "`-` cpu 혹은 gpu 연산이 가능한 메모리에 저장된 값들을 확인"
      ],
      "id": "1b716464-226f-4c0d-bf11-dbeb609fa1b2"
    },
    {
      "cell_type": "code",
      "execution_count": 7,
      "metadata": {
        "tags": []
      },
      "outputs": [],
      "source": [
        "x_cpu, y_cpu, net_cpu.weight, net_cpu.bias"
      ],
      "id": "4ed37ca9-745f-4e78-bea6-c17993c9fcc5"
    },
    {
      "cell_type": "code",
      "execution_count": 8,
      "metadata": {
        "tags": []
      },
      "outputs": [],
      "source": [
        "x_gpu, y_gpu, net_gpu.weight, net_gpu.bias"
      ],
      "id": "ae7cb375-73ca-4bdd-a290-ecedfc2bf7c0"
    },
    {
      "cell_type": "markdown",
      "metadata": {},
      "source": [
        "`-` gpu는 gpu끼리 연산가능하고 cpu는 cpu끼리 연산가능함\n",
        "\n",
        "(예시1)"
      ],
      "id": "1e60592a-909a-4693-a95b-c8c903a3c0ca"
    },
    {
      "cell_type": "code",
      "execution_count": 9,
      "metadata": {
        "tags": []
      },
      "outputs": [],
      "source": [
        "net_cpu(x_cpu) "
      ],
      "id": "9843f929-e8e0-46b3-a799-c99ba1e46fa3"
    },
    {
      "cell_type": "markdown",
      "metadata": {},
      "source": [
        "(예시2)"
      ],
      "id": "9b601ff5-16b1-46fd-827d-35b8c6acc7a7"
    },
    {
      "cell_type": "code",
      "execution_count": 10,
      "metadata": {
        "tags": []
      },
      "outputs": [],
      "source": [
        "net_gpu(x_gpu) "
      ],
      "id": "16bdd165-cb2c-4c9b-9d16-e03c2346f273"
    },
    {
      "cell_type": "markdown",
      "metadata": {},
      "source": [
        "(예시3)"
      ],
      "id": "164dd237-4cc2-425a-9abf-3bef8f4ee76e"
    },
    {
      "cell_type": "code",
      "execution_count": 11,
      "metadata": {
        "tags": []
      },
      "outputs": [],
      "source": [
        "net_cpu(x_gpu) "
      ],
      "id": "97bae322-4185-43e4-92c2-8b3229153934"
    },
    {
      "cell_type": "markdown",
      "metadata": {},
      "source": [
        "> **강의중 net을 재선언한 이유**\n",
        ">\n",
        "> `-` 아래와 같이 `x_cpu` 혹은 `y_cpu`에 `.to(\"cuda:0\")`메소드를 쓸 경우\n",
        ">\n",
        "> ``` python\n",
        "> x_cpu.to(\"cuda:0\")\n",
        "> y_cpu.to(\"cuda:0\")\n",
        "> ```\n",
        ">\n",
        "> `x_cpu`와 `y_cpu`는 cpu에 그대로 있음.\n",
        ">\n",
        "> `-` 그런데 아래와 같이 `net_cpu`에서 `.to(\"cuda:0\")`메소드를 쓸 경우\n",
        ">\n",
        "> ``` python\n",
        "> net_cpu.to(\"cuda:0\")\n",
        "> ```\n",
        ">\n",
        "> `net_cpu` 자체가 gpu에 올라가게 됨.\n",
        "\n",
        "(예시4)"
      ],
      "id": "b231cfaa-b98d-490b-8dfa-88fd43daa938"
    },
    {
      "cell_type": "code",
      "execution_count": 12,
      "metadata": {
        "tags": []
      },
      "outputs": [],
      "source": [
        "net_gpu(x_cpu)"
      ],
      "id": "e25a3a7a-bc4e-4007-83cb-d2f8c3f9a4fe"
    },
    {
      "cell_type": "markdown",
      "metadata": {},
      "source": [
        "(예시5)"
      ],
      "id": "f7eea43f-783e-49fb-9ff8-b29f3cd443b7"
    },
    {
      "cell_type": "code",
      "execution_count": 13,
      "metadata": {
        "tags": []
      },
      "outputs": [],
      "source": [
        "torch.mean((y_cpu-net_cpu(x_cpu))**2)"
      ],
      "id": "63858552-cc37-453f-8cf8-cac3d3d267c2"
    },
    {
      "cell_type": "markdown",
      "metadata": {},
      "source": [
        "(예시6)"
      ],
      "id": "10261efa-b42f-4def-981d-b92007d596f9"
    },
    {
      "cell_type": "code",
      "execution_count": 14,
      "metadata": {
        "tags": []
      },
      "outputs": [],
      "source": [
        "torch.mean((y_gpu-net_gpu(x_gpu))**2)"
      ],
      "id": "72472217-0944-4268-8a3f-6bee4b8c8b29"
    },
    {
      "cell_type": "markdown",
      "metadata": {},
      "source": [
        "(예시7)"
      ],
      "id": "a8e9f01c-0ae7-44ef-97c6-ebb24595fa90"
    },
    {
      "cell_type": "code",
      "execution_count": 15,
      "metadata": {
        "tags": []
      },
      "outputs": [],
      "source": [
        "torch.mean((y_gpu-net_cpu(x_cpu))**2)"
      ],
      "id": "6bc92139-3108-47c5-89b1-b01266c9d19c"
    },
    {
      "cell_type": "markdown",
      "metadata": {},
      "source": [
        "(예시8)"
      ],
      "id": "70bc2db7-c896-482e-bd28-6a153eb0bd85"
    },
    {
      "cell_type": "code",
      "execution_count": 16,
      "metadata": {
        "tags": []
      },
      "outputs": [],
      "source": [
        "torch.mean((y_cpu-net_gpu(x_gpu))**2)"
      ],
      "id": "07158f86-6034-411e-8530-633758eaad34"
    },
    {
      "cell_type": "markdown",
      "metadata": {},
      "source": [
        "## B. 시간측정 (예비학습)"
      ],
      "id": "6102308a-d85d-4f05-ba3c-4d3632717da1"
    },
    {
      "cell_type": "code",
      "execution_count": 17,
      "metadata": {
        "tags": []
      },
      "outputs": [],
      "source": [
        "import time "
      ],
      "id": "a19a108c-fa7a-411d-8a3e-67d40fe149aa"
    },
    {
      "cell_type": "code",
      "execution_count": 18,
      "metadata": {
        "tags": []
      },
      "outputs": [],
      "source": [
        "t1 = time.time()"
      ],
      "id": "adbdf1cd-a97a-44aa-93f1-fe3fa2b3c76f"
    },
    {
      "cell_type": "code",
      "execution_count": 19,
      "metadata": {
        "tags": []
      },
      "outputs": [],
      "source": [
        "t2 = time.time()"
      ],
      "id": "436f27b7"
    },
    {
      "cell_type": "code",
      "execution_count": 20,
      "metadata": {
        "tags": []
      },
      "outputs": [],
      "source": [
        "t2-t1"
      ],
      "id": "05d8cc30"
    },
    {
      "cell_type": "markdown",
      "metadata": {},
      "source": [
        "## C. CPU vs GPU (512 nodes)\n",
        "\n",
        "`-` CPU (512 nodes)"
      ],
      "id": "963065cb-f14c-4c63-819e-283b9e2451e4"
    },
    {
      "cell_type": "code",
      "execution_count": 21,
      "metadata": {
        "tags": []
      },
      "outputs": [],
      "source": [
        "torch.manual_seed(5) \n",
        "x=torch.linspace(0,1,100).reshape(-1,1)\n",
        "y=torch.randn(100).reshape(-1,1)*0.01\n",
        "#---#\n",
        "net = torch.nn.Sequential(\n",
        "    torch.nn.Linear(1,512),\n",
        "    torch.nn.ReLU(),\n",
        "    torch.nn.Linear(512,1)\n",
        ")\n",
        "loss_fn = torch.nn.MSELoss()\n",
        "optimizr = torch.optim.Adam(net.parameters())\n",
        "#---#\n",
        "t1 = time.time()\n",
        "for epoc in range(1000):\n",
        "    # 1 \n",
        "    yhat = net(x)\n",
        "    # 2 \n",
        "    loss = loss_fn(yhat,y)\n",
        "    # 3 \n",
        "    loss.backward()\n",
        "    # 4 \n",
        "    optimizr.step()\n",
        "    optimizr.zero_grad()\n",
        "t2 = time.time()\n",
        "t2-t1"
      ],
      "id": "8f6b1282"
    },
    {
      "cell_type": "markdown",
      "metadata": {},
      "source": [
        "`-` GPU (512 nodes)"
      ],
      "id": "0c58df39-fe2f-47d2-9d60-e546b752db2a"
    },
    {
      "cell_type": "code",
      "execution_count": 22,
      "metadata": {
        "tags": []
      },
      "outputs": [],
      "source": [
        "torch.manual_seed(5) \n",
        "x=torch.linspace(0,1,100).reshape(-1,1).to(\"cuda:0\")\n",
        "y=(torch.randn(100).reshape(-1,1)*0.01).to(\"cuda:0\")\n",
        "#---#\n",
        "net = torch.nn.Sequential(\n",
        "    torch.nn.Linear(1,512),\n",
        "    torch.nn.ReLU(),\n",
        "    torch.nn.Linear(512,1)\n",
        ").to(\"cuda:0\")\n",
        "loss_fn = torch.nn.MSELoss()\n",
        "optimizr = torch.optim.Adam(net.parameters())\n",
        "#---#\n",
        "t1 = time.time()\n",
        "for epoc in range(1000):\n",
        "    # 1 \n",
        "    yhat = net(x)\n",
        "    # 2 \n",
        "    loss = loss_fn(yhat,y)\n",
        "    # 3 \n",
        "    loss.backward()\n",
        "    # 4 \n",
        "    optimizr.step()\n",
        "    optimizr.zero_grad()\n",
        "t2 = time.time()\n",
        "t2-t1"
      ],
      "id": "8c5300c6"
    },
    {
      "cell_type": "markdown",
      "metadata": {},
      "source": [
        "-   CPU가 더 빠르다??\n",
        "\n",
        "## D. CPU vs GPU (20,480 nodes)\n",
        "\n",
        "`-` CPU (20,480)"
      ],
      "id": "ffac547d-5164-41a0-bc12-e88c254ae748"
    },
    {
      "cell_type": "code",
      "execution_count": 23,
      "metadata": {
        "tags": []
      },
      "outputs": [],
      "source": [
        "torch.manual_seed(5) \n",
        "x=torch.linspace(0,1,100).reshape(-1,1)\n",
        "y=torch.randn(100).reshape(-1,1)*0.01\n",
        "#---#\n",
        "net = torch.nn.Sequential(\n",
        "    torch.nn.Linear(1,20480),\n",
        "    torch.nn.ReLU(),\n",
        "    torch.nn.Linear(20480,1)\n",
        ")\n",
        "loss_fn = torch.nn.MSELoss()\n",
        "optimizr = torch.optim.Adam(net.parameters())\n",
        "#---#\n",
        "t1 = time.time()\n",
        "for epoc in range(1000):\n",
        "    # 1 \n",
        "    yhat = net(x)\n",
        "    # 2 \n",
        "    loss = loss_fn(yhat,y)\n",
        "    # 3 \n",
        "    loss.backward()\n",
        "    # 4 \n",
        "    optimizr.step()\n",
        "    optimizr.zero_grad()\n",
        "t2 = time.time()\n",
        "t2-t1"
      ],
      "id": "a35ebfb0"
    },
    {
      "cell_type": "markdown",
      "metadata": {},
      "source": [
        "`-` GPU (20,480)"
      ],
      "id": "3395f0a5-079a-42e0-b98d-3e324f58e56c"
    },
    {
      "cell_type": "code",
      "execution_count": 24,
      "metadata": {
        "tags": []
      },
      "outputs": [],
      "source": [
        "torch.manual_seed(5) \n",
        "x=torch.linspace(0,1,100).reshape(-1,1).to(\"cuda:0\")\n",
        "y=(torch.randn(100).reshape(-1,1)*0.01).to(\"cuda:0\")\n",
        "#---#\n",
        "net = torch.nn.Sequential(\n",
        "    torch.nn.Linear(1,20480),\n",
        "    torch.nn.ReLU(),\n",
        "    torch.nn.Linear(20480,1)\n",
        ").to(\"cuda:0\")\n",
        "loss_fn = torch.nn.MSELoss()\n",
        "optimizr = torch.optim.Adam(net.parameters())\n",
        "#---#\n",
        "t1 = time.time()\n",
        "for epoc in range(1000):\n",
        "    # 1 \n",
        "    yhat = net(x)\n",
        "    # 2 \n",
        "    loss = loss_fn(yhat,y)\n",
        "    # 3 \n",
        "    loss.backward()\n",
        "    # 4 \n",
        "    optimizr.step()\n",
        "    optimizr.zero_grad()\n",
        "t2 = time.time()\n",
        "t2-t1"
      ],
      "id": "4632bc05"
    },
    {
      "cell_type": "markdown",
      "metadata": {},
      "source": [
        "-   왜 이런 차이가 나는가?\n",
        "-   연산을 하는 주체는 코어인데 CPU는 수는 적지만 일을 잘하는 코어들을\n",
        "    가지고 있고 GPU는 일은 못하지만 다수의 코어를 가지고 있기 때문\n",
        "\n",
        "## E. CPU vs GPU (204,800 nodes)\n",
        "\n",
        "`-` CPU (204,800)"
      ],
      "id": "657d0831-e8ed-4328-962c-d4434cd1542b"
    },
    {
      "cell_type": "code",
      "execution_count": 25,
      "metadata": {
        "tags": []
      },
      "outputs": [],
      "source": [
        "torch.manual_seed(5) \n",
        "x=torch.linspace(0,1,100).reshape(-1,1)\n",
        "y=torch.randn(100).reshape(-1,1)*0.01\n",
        "#---#\n",
        "net = torch.nn.Sequential(\n",
        "    torch.nn.Linear(1,204800),\n",
        "    torch.nn.ReLU(),\n",
        "    torch.nn.Linear(204800,1)\n",
        ")\n",
        "loss_fn = torch.nn.MSELoss()\n",
        "optimizr = torch.optim.Adam(net.parameters())\n",
        "#---#\n",
        "t1 = time.time()\n",
        "for epoc in range(1000):\n",
        "    # 1 \n",
        "    yhat = net(x)\n",
        "    # 2 \n",
        "    loss = loss_fn(yhat,y)\n",
        "    # 3 \n",
        "    loss.backward()\n",
        "    # 4 \n",
        "    optimizr.step()\n",
        "    optimizr.zero_grad()\n",
        "t2 = time.time()\n",
        "t2-t1"
      ],
      "id": "2567de51"
    },
    {
      "cell_type": "markdown",
      "metadata": {},
      "source": [
        "`-` GPU (204,800)"
      ],
      "id": "44d92a0b-690e-4fdc-985a-146f3b82616a"
    },
    {
      "cell_type": "code",
      "execution_count": 26,
      "metadata": {
        "tags": []
      },
      "outputs": [],
      "source": [
        "torch.manual_seed(5) \n",
        "x=torch.linspace(0,1,100).reshape(-1,1).to(\"cuda:0\")\n",
        "y=(torch.randn(100).reshape(-1,1)*0.01).to(\"cuda:0\")\n",
        "#---#\n",
        "net = torch.nn.Sequential(\n",
        "    torch.nn.Linear(1,204800),\n",
        "    torch.nn.ReLU(),\n",
        "    torch.nn.Linear(204800,1)\n",
        ").to(\"cuda:0\")\n",
        "loss_fn = torch.nn.MSELoss()\n",
        "optimizr = torch.optim.Adam(net.parameters())\n",
        "#---#\n",
        "t1 = time.time()\n",
        "for epoc in range(1000):\n",
        "    # 1 \n",
        "    yhat = net(x)\n",
        "    # 2 \n",
        "    loss = loss_fn(yhat,y)\n",
        "    # 3 \n",
        "    loss.backward()\n",
        "    # 4 \n",
        "    optimizr.step()\n",
        "    optimizr.zero_grad()\n",
        "t2 = time.time()\n",
        "t2-t1"
      ],
      "id": "a76da7ec"
    },
    {
      "cell_type": "markdown",
      "metadata": {},
      "source": [
        "# 4. “확률적” 경사하강법\n",
        "\n",
        "## A. 의문: 좀 이상하지 않아요?\n",
        "\n",
        "`-` 국민상식: GPU 비싸요..\n",
        "<https://bbs.ruliweb.com/community/board/300143/read/61066881>\n",
        "\n",
        "-   GPU 메모리 많아봐야 24GB, 그래도 비싸요..\n",
        "    <http://shop.danawa.com/virtualestimate/?controller=estimateMain&methods=index&marketPlaceSeq=16>\n",
        "-   GPU 메모리가 80GB일 경우 가격:\n",
        "    <https://prod.danawa.com/info/?pcode=21458333>\n",
        "\n",
        "`-` 우리가 분석하는 데이터: 빅데이터..?"
      ],
      "id": "31f7aae3-5e22-4d0b-b275-8029037feb0f"
    },
    {
      "cell_type": "code",
      "execution_count": 27,
      "metadata": {
        "tags": []
      },
      "outputs": [],
      "source": [
        "x = torch.linspace(-10,10,100000).reshape(-1,1)\n",
        "eps = torch.randn(100000).reshape(-1,1)\n",
        "y = x*2 + eps "
      ],
      "id": "7c0e8920-2867-49f5-bb5c-7d88f7ebf771"
    },
    {
      "cell_type": "code",
      "execution_count": 28,
      "metadata": {
        "tags": []
      },
      "outputs": [
        {
          "output_type": "display_data",
          "metadata": {},
          "data": {
            "image/png": "[encoded data removed]"
          }
        }
      ],
      "source": [
        "plt.plot(x,y,'o',alpha=0.05)\n",
        "plt.plot(x,2*x,'--')"
      ],
      "id": "fe70984f-d684-4ddb-b948-113fb16d4f0d"
    },
    {
      "cell_type": "markdown",
      "metadata": {},
      "source": [
        "`-` 데이터의 크기가 커지는 순간 `X.to(\"cuda:0\")`, `y.to(\"cuda:0\")` 쓰면\n",
        "난리나겠는걸?\n",
        "\n",
        "`-` 데이터를 100개중에 1개만 꼴로만 쓰면 어떨까?"
      ],
      "id": "7189adf4-ee55-42d3-85cb-55636365dc0b"
    },
    {
      "cell_type": "code",
      "execution_count": 29,
      "metadata": {
        "tags": []
      },
      "outputs": [
        {
          "output_type": "display_data",
          "metadata": {},
          "data": {
            "image/png": "[encoded data removed]"
          }
        }
      ],
      "source": [
        "plt.plot(x[::100],y[::100],'o',alpha=0.05)\n",
        "plt.plot(x,2*x,'--')"
      ],
      "id": "90d0a457-d71c-4959-a357-4d53d43f3e6c"
    },
    {
      "cell_type": "markdown",
      "metadata": {},
      "source": [
        "-   대충 이거만 가지고 적합해도 충분히 정확할것 같은데?\n",
        "\n",
        "## B. X,y 데이터를 굳이 모두 GPU에 넘겨야 하는가?\n",
        "\n",
        "`-` 데이터셋을 짝홀로 나누어서 번갈아가면서 GPU에 올렸다 내렸다하면\n",
        "안되나?\n",
        "\n",
        "`-` 아래의 알고리즘을 생각해보자.\n",
        "\n",
        "1.  데이터를 반으로 나눈다.\n",
        "2.  짝수obs의 x,y 그리고 net의 모든 파라메터를 GPU에 올린다.\n",
        "3.  yhat, loss, grad, update 수행\n",
        "4.  짝수obs의 x,y를 GPU메모리에서 내린다. 그리고 홀수obs의 x,y를\n",
        "    GPU메모리에 올린다.\n",
        "5.  yhat, loss, grad, update 수행\n",
        "6.  홀수obs의 x,y를 GPU메모리에서 내린다. 그리고 짝수obs의 x,y를\n",
        "    GPU메모리에 올린다.\n",
        "7.  반복\n",
        "\n",
        "> 이러면 되는거아니야???? —\\> 맞아요\n",
        "\n",
        "## C. 경사하강법, 확률적경사하강법, 미니배치 경사하강법\n",
        "\n",
        "10개의 샘플이 있다고 가정. $\\{(x_i,y_i)\\}_{i=1}^{10}$\n",
        "\n",
        "`# ver1` – 모든 샘플을 이용하여 slope 계산\n",
        "\n",
        "(epoch 1) $loss=\\sum_{i=1}^{10}(y_i-w_0-w_1x_i)^2 \\to slope  \\to update$\n",
        "\n",
        "(epoch 2) $loss=\\sum_{i=1}^{10}(y_i-w_0-w_1x_i)^2 \\to slope  \\to update$\n",
        "\n",
        "…\n",
        "\n",
        "> 우리가 항상 이렇게 했죠!\n",
        "\n",
        "`# ver2` – 하나의 샘플만을 이용하여 slope 계산\n",
        "\n",
        "(epoch 1)\n",
        "\n",
        "-   $loss=(y_1-w_0-w_1x_1)^2 \\to slope \\to update$\n",
        "-   $loss=(y_2-w_0-w_1x_2)^2 \\to slope \\to update$\n",
        "-   …\n",
        "-   $loss=(y_{10}-w_0-w_1x_{10})^2  \\to  slope  \\to  update$\n",
        "\n",
        "(epoch 2)\n",
        "\n",
        "-   $loss=(y_1-w_0-w_1x_1)^2  \\to slope  \\to  update$\n",
        "-   $loss=(y_2-w_0-w_1x_2)^2  \\to slope  \\to  update$\n",
        "-   …\n",
        "-   $loss=(y_{10}-w_0-w_1x_{10})^2  \\to  slope  \\to  update$\n",
        "\n",
        "…\n",
        "\n",
        "`# ver3` – $m (\\leq n)$ 개의 샘플을 이용하여 slope 계산\n",
        "\n",
        "$m=3$이라고 하자.\n",
        "\n",
        "(epoch 1)\n",
        "\n",
        "-   $loss=\\sum_{i=1}^{3}(y_i-w_0-w_1x_i)^2  \\to  slope  \\to  update$\n",
        "-   $loss=\\sum_{i=4}^{6}(y_i-w_0-w_1x_i)^2  \\to  slope  \\to  update$\n",
        "-   $loss=\\sum_{i=7}^{9}(y_i-w_0-w_1x_i)^2  \\to  slope  \\to  update$\n",
        "-   $loss=(y_{10}-w_0-w_1x_{10})^2  \\to  slope  \\to  update$\n",
        "\n",
        "(epoch 2)\n",
        "\n",
        "-   $loss=\\sum_{i=1}^{3}(y_i-w_0-w_1x_i)^2  \\to  slope  \\to  update$\n",
        "-   $loss=\\sum_{i=4}^{6}(y_i-w_0-w_1x_i)^2  \\to  slope  \\to  update$\n",
        "-   $loss=\\sum_{i=7}^{9}(y_i-w_0-w_1x_i)^2  \\to  slope  \\to  update$\n",
        "-   $loss=(y_{10}-w_0-w_1x_{10})^2  \\to  slope  \\to  update$\n",
        "\n",
        "…\n",
        "\n",
        "## D. 용어의 정리\n",
        "\n",
        "**옛날**\n",
        "\n",
        "`-` ver1: gradient descent, batch gradient descent\n",
        "\n",
        "`-` ver2: stochastic gradient descent\n",
        "\n",
        "`-` ver3: mini-batch gradient descent, mini-batch stochastic gradient\n",
        "descent\n",
        "\n",
        "**요즘**\n",
        "\n",
        "`-` ver1: gradient descent\n",
        "\n",
        "`-` ver2: stochastic gradient descent with batch size = 1\n",
        "\n",
        "`-` **ver3: stochastic gradient descent** -\n",
        "https://www.deeplearningbook.org/contents/optimization.html, 알고리즘\n",
        "8-1 참고.\n",
        "\n",
        "## E. Dataset(`ds`), DataLoader(`dl`)\n",
        "\n",
        "> 취지는 알겠으나, C의 과정을 실제 구현하려면 진짜 힘들것 같아요..\n",
        "> (입코딩과 손코딩의 차이) –\\> 이걸 해결하기 위해서 파이토치에서는\n",
        "> DataLoader라는 오브젝트를 준비했음!\n",
        "\n",
        "`-` ds: 섭스크립터블함"
      ],
      "id": "833377e2-6443-4025-846f-efe15b35c833"
    },
    {
      "cell_type": "code",
      "execution_count": 30,
      "metadata": {
        "tags": []
      },
      "outputs": [],
      "source": [
        "x=torch.tensor(range(10)).float().reshape(-1,1)\n",
        "y=torch.tensor([1.0]*5+[0.0]*5).reshape(-1,1)\n",
        "torch.concat([x,y],axis=1)"
      ],
      "id": "fd133a9e-03df-4a28-80a1-eb07f327da25"
    },
    {
      "cell_type": "code",
      "execution_count": 31,
      "metadata": {
        "tags": []
      },
      "outputs": [],
      "source": [
        "ds=torch.utils.data.TensorDataset(x,y)\n",
        "ds"
      ],
      "id": "b339974a-d346-4aef-b991-eb737f4dbbba"
    },
    {
      "cell_type": "code",
      "execution_count": 32,
      "metadata": {
        "tags": []
      },
      "outputs": [],
      "source": [
        "ds.tensors \n",
        "# 생긴건 ds.tensors = (x,y) 임"
      ],
      "id": "38c41614-ece3-4067-8092-4ff8720279bd"
    },
    {
      "cell_type": "code",
      "execution_count": 33,
      "metadata": {
        "tags": []
      },
      "outputs": [],
      "source": [
        "ds[0],(x,y)[0] # (x,y) 튜플자체는 아님.. 인덱싱이 다르게 동작"
      ],
      "id": "d93c4c02"
    },
    {
      "cell_type": "markdown",
      "metadata": {},
      "source": [
        "> **Note**\n",
        ">\n",
        "> 여기서 제가 `__iter__` 가 숨겨져 있는 오브젝트일 경우만 `for`문이\n",
        "> 동작한다고 설명 했는데요, `__getitem__`이 있는 경우도 동작한다고\n",
        "> 합니다. **제가 잘못 알고 있었어요. 혼란을 드려 죄송합니다**.\n",
        ">\n",
        "> -   그래도 `dl`은 for 를 돌리기위해서 만든 오브젝트라는 설명은 맞는\n",
        ">     설명입니다.\n",
        "> -   `ds`역시 독특한 방식의 인덱싱을 지원하도록 한 오브젝트라는 설명도\n",
        ">     맞는 설명입니다.\n",
        "\n",
        "`-` dl: 섭스크립터블하지 않지만 이터러블함"
      ],
      "id": "10764b50-6037-40b7-9f7c-4b818abfda6d"
    },
    {
      "cell_type": "code",
      "execution_count": 34,
      "metadata": {
        "tags": []
      },
      "outputs": [],
      "source": [
        "dl=torch.utils.data.DataLoader(ds,batch_size=3)\n",
        "#set(dir(dl)) & {'__iter__'}"
      ],
      "id": "05b05710-3ee4-4f65-b6cf-d0702c884166"
    },
    {
      "cell_type": "code",
      "execution_count": 35,
      "metadata": {
        "tags": []
      },
      "outputs": [
        {
          "output_type": "stream",
          "name": "stdout",
          "text": [
            "x_batch:[[0.0], [1.0], [2.0]]    y_batch:[[1.0], [1.0], [1.0]]\n",
            "x_batch:[[3.0], [4.0], [5.0]]    y_batch:[[1.0], [1.0], [0.0]]\n",
            "x_batch:[[6.0], [7.0], [8.0]]    y_batch:[[0.0], [0.0], [0.0]]\n",
            "x_batch:[[9.0]]      y_batch:[[0.0]]"
          ]
        }
      ],
      "source": [
        "for xi,yi in dl:\n",
        "    print(f\"x_batch:{xi.tolist()} \\t y_batch:{yi.tolist()}\")"
      ],
      "id": "07cf4f98"
    },
    {
      "cell_type": "markdown",
      "metadata": {},
      "source": [
        "`-` 마지막관측치는 뭔데 단독으로 업데이트하냐?? –\\> shuffle True 같이\n",
        "자잘한 옵션도 있음.."
      ],
      "id": "72165767-8453-48b5-8cf5-0a755ff6f0cf"
    },
    {
      "cell_type": "code",
      "execution_count": 36,
      "metadata": {
        "tags": []
      },
      "outputs": [
        {
          "output_type": "stream",
          "name": "stdout",
          "text": [
            "x_batch=[[1.0], [8.0], [0.0]]    y_batch=[[1.0], [0.0], [1.0]]\n",
            "x_batch=[[2.0], [7.0], [6.0]]    y_batch=[[1.0], [0.0], [0.0]]\n",
            "x_batch=[[5.0], [3.0], [9.0]]    y_batch=[[0.0], [1.0], [0.0]]\n",
            "x_batch=[[4.0]]      y_batch=[[1.0]]"
          ]
        }
      ],
      "source": [
        "dl = torch.utils.data.DataLoader(ds,batch_size=3,shuffle=True)\n",
        "for xi,yi in dl:\n",
        "    print(f'x_batch={xi.tolist()} \\t y_batch={yi.tolist()}')"
      ],
      "id": "35537fb1"
    },
    {
      "cell_type": "markdown",
      "metadata": {},
      "source": [
        "## F. ds, dl을 이용한 MNIST 구현\n",
        "\n",
        "`-` 목표: 확률적경사하강법과 그냥 경사하강법의 성능을 “동일 반복횟수”로\n",
        "비교해보자.\n",
        "\n",
        "-   batch_size = 2048로 설정할것\n",
        "\n",
        "`-` 그냥 경사하강법 – 미니배치 안쓰는 학습, 우리가 맨날하는 그거"
      ],
      "id": "dc49d2e9-a6fd-4cca-95a1-43cc44f6c418"
    },
    {
      "cell_type": "code",
      "execution_count": 37,
      "metadata": {
        "tags": []
      },
      "outputs": [],
      "source": [
        "## Step1: 데이터준비 \n",
        "path = fastai.data.external.untar_data('https://s3.amazonaws.com/fast-ai-imageclas/mnist_png.tgz')\n",
        "X0 = torch.stack([torchvision.io.read_image(str(fname)) for fname in (path/'training/0').ls()])\n",
        "X1 = torch.stack([torchvision.io.read_image(str(fname)) for fname in (path/'training/1').ls()])\n",
        "X = torch.concat([X0,X1],axis=0).reshape(-1,1*28*28)/255\n",
        "y = torch.tensor([0.0]*len(X0) + [1.0]*len(X1)).reshape(-1,1)\n",
        "## Step2: 학습가능한 오브젝트 생성\n",
        "torch.manual_seed(1)\n",
        "net = torch.nn.Sequential(\n",
        "    torch.nn.Linear(784,32),\n",
        "    torch.nn.ReLU(),\n",
        "    torch.nn.Linear(32,1),\n",
        "    torch.nn.Sigmoid()\n",
        ")\n",
        "loss_fn = torch.nn.BCELoss()\n",
        "optimizr = torch.optim.SGD(net.parameters())\n",
        "## Step3: fit  \n",
        "for epoc in range(700):\n",
        "    # step1 \n",
        "    yhat = net(X)\n",
        "    # step2 \n",
        "    loss = loss_fn(yhat,y)\n",
        "    # step3     \n",
        "    loss.backward()\n",
        "    # step4 \n",
        "    optimizr.step()\n",
        "    optimizr.zero_grad()\n",
        "## Step4: Predict \n",
        "((yhat > 0.5)*1.0 ==  y).float().mean()"
      ],
      "id": "0e853019-48ca-4bb6-8b4d-f02e248cf9b8"
    },
    {
      "cell_type": "markdown",
      "metadata": {},
      "source": [
        "`-` “확률적”경사하강법 – 미니배치 쓰는 학습"
      ],
      "id": "d6588d75-b72e-4ec6-88f7-2e41538c188f"
    },
    {
      "cell_type": "code",
      "execution_count": 38,
      "metadata": {
        "tags": []
      },
      "outputs": [],
      "source": [
        "## Step1: 데이터준비 \n",
        "path = fastai.data.external.untar_data('https://s3.amazonaws.com/fast-ai-imageclas/mnist_png.tgz')\n",
        "X0 = torch.stack([torchvision.io.read_image(str(fname)) for fname in (path/'training/0').ls()])\n",
        "X1 = torch.stack([torchvision.io.read_image(str(fname)) for fname in (path/'training/1').ls()])\n",
        "X = torch.concat([X0,X1],axis=0).reshape(-1,1*28*28)/255\n",
        "y = torch.tensor([0.0]*len(X0) + [1.0]*len(X1)).reshape(-1,1)\n",
        "ds = torch.utils.data.TensorDataset(X,y)\n",
        "dl = torch.utils.data.DataLoader(ds,batch_size=2048)\n",
        "## Step2: 학습가능한 오브젝트 생성\n",
        "torch.manual_seed(1)\n",
        "net = torch.nn.Sequential(\n",
        "    torch.nn.Linear(784,32),\n",
        "    torch.nn.ReLU(),\n",
        "    torch.nn.Linear(32,1),\n",
        "    torch.nn.Sigmoid()\n",
        ")\n",
        "loss_fn = torch.nn.BCELoss()\n",
        "optimizr = torch.optim.SGD(net.parameters())\n",
        "# ## Step3: fit  \n",
        "for epoc in range(100):\n",
        "    for xi,yi in dl:        \n",
        "        # step1 \n",
        "        #yihat = net(xi)\n",
        "        # step2 \n",
        "        loss = loss_fn(net(xi),yi)\n",
        "        # step3     \n",
        "        loss.backward()\n",
        "        # step4 \n",
        "        optimizr.step()\n",
        "        optimizr.zero_grad()\n",
        "# ## Step4: Predict \n",
        "((net(X) > 0.5)*1.0 ==  y).float().mean()"
      ],
      "id": "79fd68fc"
    },
    {
      "cell_type": "markdown",
      "metadata": {},
      "source": [
        "`-` GPU를 활용하는 “확률적”경사하강법 – 실제적으로는 이게 최종알고리즘"
      ],
      "id": "3f758f2a-6438-46eb-869d-bfb4043c59dc"
    },
    {
      "cell_type": "code",
      "execution_count": 39,
      "metadata": {
        "tags": []
      },
      "outputs": [],
      "source": [
        "## Step1: 데이터준비 \n",
        "path = fastai.data.external.untar_data('https://s3.amazonaws.com/fast-ai-imageclas/mnist_png.tgz')\n",
        "X0 = torch.stack([torchvision.io.read_image(str(fname)) for fname in (path/'training/0').ls()])\n",
        "X1 = torch.stack([torchvision.io.read_image(str(fname)) for fname in (path/'training/1').ls()])\n",
        "X = torch.concat([X0,X1],axis=0).reshape(-1,1*28*28)/255\n",
        "y = torch.tensor([0.0]*len(X0) + [1.0]*len(X1)).reshape(-1,1)\n",
        "ds = torch.utils.data.TensorDataset(X,y)\n",
        "dl = torch.utils.data.DataLoader(ds,batch_size=2048)\n",
        "## Step2: 학습가능한 오브젝트 생성\n",
        "torch.manual_seed(1)\n",
        "net = torch.nn.Sequential(\n",
        "    torch.nn.Linear(784,32),\n",
        "    torch.nn.ReLU(),\n",
        "    torch.nn.Linear(32,1),\n",
        "    torch.nn.Sigmoid()\n",
        ").to(\"cuda:0\")\n",
        "loss_fn = torch.nn.BCELoss()\n",
        "optimizr = torch.optim.SGD(net.parameters())\n",
        "## Step3: fit  \n",
        "for epoc in range(100):\n",
        "    for xi,yi in dl:        \n",
        "        # step1 \n",
        "        # step2 \n",
        "        loss = loss_fn(net(xi.to(\"cuda:0\")),yi.to(\"cuda:0\"))\n",
        "        # step3     \n",
        "        loss.backward()\n",
        "        # step4 \n",
        "        optimizr.step()\n",
        "        optimizr.zero_grad()\n",
        "# ## Step4: Predict\n",
        "net.to(\"cpu\")\n",
        "((net(X) > 0.5)*1.0 ==  y).float().mean()"
      ],
      "id": "cb360dea-f518-48d4-81c3-095a80f235b7"
    },
    {
      "cell_type": "markdown",
      "metadata": {},
      "source": [
        "# 5. 다중클래스 분류\n",
        "\n",
        "## A. 결론 (그냥 외우세요)\n",
        "\n",
        "`-` 2개의 class를 구분하는 문제가 아니라 $k$개의 class를 구분해야\n",
        "한다면?\n",
        "\n",
        "***일반적인 개념***\n",
        "\n",
        "-   손실함수: BCE loss $\\to$ Cross Entropy loss\n",
        "-   마지막층의 선형변환: torch.nn.Linear(?,1) $\\to$ torch.nn.Linear(?,k)\n",
        "-   **마지막층의 활성화: sig $\\to$ softmax**\n",
        "\n",
        "***파이토치 한정***\n",
        "\n",
        "-   **y의형태: (n,) vector + int형 // (n,k) one-hot encoded matrix +\n",
        "    float형**\n",
        "-   손실함수: torch.nn.BCEWithLogitsLoss, $\\to$\n",
        "    torch.nn.CrossEntropyLoss\n",
        "-   마지막층의 선형변환: torch.nn.Linear(?,1) $\\to$ torch.nn.Linear(?,k)\n",
        "-   **마지막층의 활성화: None $\\to$ None (손실함수에 이미 마지막층의\n",
        "    활성화가 포함)**\n",
        "\n",
        "## B. 실습: 3개의 클래스를 구분\n",
        "\n",
        "`-` 정리된 코드1: 통계잘하는데 파이토치 못쓰는 사람의 코드"
      ],
      "id": "6c8d0869-e721-4659-934b-37a49a42cc9e"
    },
    {
      "cell_type": "code",
      "execution_count": 40,
      "metadata": {
        "tags": []
      },
      "outputs": [],
      "source": [
        "## Step1: 데이터준비 \n",
        "path = fastai.data.external.untar_data('https://s3.amazonaws.com/fast-ai-imageclas/mnist_png.tgz')\n",
        "X0 = torch.stack([torchvision.io.read_image(str(fname)) for fname in (path/'training/0').ls()])\n",
        "X1 = torch.stack([torchvision.io.read_image(str(fname)) for fname in (path/'training/1').ls()])\n",
        "X2 = torch.stack([torchvision.io.read_image(str(fname)) for fname in (path/'training/2').ls()])\n",
        "X = torch.concat([X0,X1,X2]).reshape(-1,1*28*28)/255\n",
        "y = torch.nn.functional.one_hot(torch.tensor([0]*len(X0) + [1]*len(X1)+ [2]*len(X2))).float()\n",
        "## Step2: 학습가능한 오브젝트 생성\n",
        "torch.manual_seed(43052)\n",
        "net = torch.nn.Sequential(\n",
        "    torch.nn.Linear(784,32),\n",
        "    torch.nn.ReLU(),\n",
        "    torch.nn.Linear(32,3),\n",
        "#    torch.nn.Softmax()\n",
        ")\n",
        "loss_fn = torch.nn.CrossEntropyLoss()\n",
        "optimizr = torch.optim.Adam(net.parameters())\n",
        "## Step3: 적합 \n",
        "for epoc in range(100):\n",
        "    ## step1 \n",
        "    netout = net(X)\n",
        "    ## step2 \n",
        "    loss = loss_fn(netout,y)\n",
        "    ## step3 \n",
        "    loss.backward()\n",
        "    ## step4 \n",
        "    optimizr.step()\n",
        "    optimizr.zero_grad()\n",
        "    \n",
        "## Step4: 적합 (혹은 적합결과확인)\n",
        "(netout.argmax(axis=1) == y.argmax(axis=1)).float().mean()"
      ],
      "id": "f6d19628-cdc0-40ed-aebc-2f5ff95e0d3c"
    },
    {
      "cell_type": "markdown",
      "metadata": {},
      "source": [
        "`-` 정리된 코드2: 파이토치를 잘하는 사람의 코드"
      ],
      "id": "2c29dd5e-e025-4e30-a6d5-352db8a4946f"
    },
    {
      "cell_type": "code",
      "execution_count": 41,
      "metadata": {
        "tags": []
      },
      "outputs": [],
      "source": [
        "## Step1: 데이터준비 \n",
        "path = fastai.data.external.untar_data('https://s3.amazonaws.com/fast-ai-imageclas/mnist_png.tgz')\n",
        "X0 = torch.stack([torchvision.io.read_image(str(fname)) for fname in (path/'training/0').ls()])\n",
        "X1 = torch.stack([torchvision.io.read_image(str(fname)) for fname in (path/'training/1').ls()])\n",
        "X2 = torch.stack([torchvision.io.read_image(str(fname)) for fname in (path/'training/2').ls()])\n",
        "X = torch.concat([X0,X1,X2]).reshape(-1,1*28*28)/255\n",
        "#y = torch.nn.functional.one_hot(torch.tensor([0]*len(X0) + [1]*len(X1)+ [2]*len(X2))).float()\n",
        "y = torch.tensor([0]*len(X0) + [1]*len(X1)+ [2]*len(X2))\n",
        "## Step2: 학습가능한 오브젝트 생성\n",
        "torch.manual_seed(43052)\n",
        "net = torch.nn.Sequential(\n",
        "    torch.nn.Linear(784,32),\n",
        "    torch.nn.ReLU(),\n",
        "    torch.nn.Linear(32,3),\n",
        "#    torch.nn.Softmax()\n",
        ")\n",
        "loss_fn = torch.nn.CrossEntropyLoss()\n",
        "optimizr = torch.optim.Adam(net.parameters())\n",
        "## Step3: 적합 \n",
        "for epoc in range(100):\n",
        "    ## step1 \n",
        "    netout = net(X)\n",
        "    ## step2 \n",
        "    loss = loss_fn(netout,y)\n",
        "    ## step3 \n",
        "    loss.backward()\n",
        "    ## step4 \n",
        "    optimizr.step()\n",
        "    optimizr.zero_grad()\n",
        "## Step4: 적합 (혹은 적합결과확인)    \n",
        "(netout.argmax(axis=1) == y).float().mean()"
      ],
      "id": "be8953ee-bd7a-489c-be88-0946917e949e"
    },
    {
      "cell_type": "markdown",
      "metadata": {},
      "source": [
        "-   완전같은코드임\n",
        "\n",
        "## C. Softmax\n",
        "\n",
        "`-` 눈치: softmax를 쓰기 직전의 숫자들은 (n,k)꼴로 되어있음. 각\n",
        "observation 마다 k개의 숫자가 있는데, 그중에서 유난히 큰 하나의 숫자가\n",
        "있음."
      ],
      "id": "a46f9097-1f00-412d-bd25-743750d8b069"
    },
    {
      "cell_type": "code",
      "execution_count": 42,
      "metadata": {
        "tags": []
      },
      "outputs": [],
      "source": [
        "net(X)"
      ],
      "id": "2356aac1-893d-485c-98c6-42c800d6cce4"
    },
    {
      "cell_type": "code",
      "execution_count": 43,
      "metadata": {
        "tags": []
      },
      "outputs": [],
      "source": [
        "y"
      ],
      "id": "cd9c8eff-8c9f-4460-b08d-2bc11812216c"
    },
    {
      "cell_type": "markdown",
      "metadata": {},
      "source": [
        "`-` 수식\n",
        "\n",
        "-   $\\text{sig}(u)=\\frac{e^u}{1+e^u}$\n",
        "-   $\\text{softmax}({\\boldsymbol u})=\\text{softmax}([u_1,u_2,\\dots,u_k])=\\big[ \\frac{e^{u_1}}{e^{u_1}+\\dots e^{u_k}},\\dots,\\frac{e^{u_k}}{e^{u_1}+\\dots e^{u_k}}\\big]$\n",
        "\n",
        "`-` torch.nn.Softmax() 손계산\n",
        "\n",
        "(예시1) – 잘못계산"
      ],
      "id": "a20010fd-6385-42e8-af4a-1357f96ea300"
    },
    {
      "cell_type": "code",
      "execution_count": 44,
      "metadata": {
        "tags": []
      },
      "outputs": [],
      "source": [
        "softmax = torch.nn.Softmax(dim=0)"
      ],
      "id": "4d3ee620-908d-4a66-9c2e-314f7ecfadce"
    },
    {
      "cell_type": "code",
      "execution_count": 45,
      "metadata": {
        "tags": []
      },
      "outputs": [],
      "source": [
        "netout = torch.tensor([[-2.0,-2.0,0.0],\n",
        "                        [3.14,3.14,3.14],\n",
        "                        [0.0,0.0,2.0],\n",
        "                        [2.0,2.0,4.0],\n",
        "                        [0.0,0.0,0.0]])\n",
        "netout"
      ],
      "id": "e6c35f4f-9b07-4de6-b7bb-6b8a09b9490c"
    },
    {
      "cell_type": "code",
      "execution_count": 46,
      "metadata": {
        "tags": []
      },
      "outputs": [],
      "source": [
        "softmax(netout) "
      ],
      "id": "e65a43be-188d-4304-a8b5-ba766136bee6"
    },
    {
      "cell_type": "markdown",
      "metadata": {},
      "source": [
        "(예시2) – 이게 맞게 계산되는 것임"
      ],
      "id": "c1804efa-de76-4ef9-9a66-98355094e18c"
    },
    {
      "cell_type": "code",
      "execution_count": 47,
      "metadata": {
        "tags": []
      },
      "outputs": [],
      "source": [
        "softmax = torch.nn.Softmax(dim=1)"
      ],
      "id": "bab3e4f5-2796-4399-b223-d910ea182e72"
    },
    {
      "cell_type": "code",
      "execution_count": 48,
      "metadata": {
        "tags": []
      },
      "outputs": [],
      "source": [
        "netout"
      ],
      "id": "0dafa544-0d9e-4977-8bb7-da1c945e0bb7"
    },
    {
      "cell_type": "code",
      "execution_count": 49,
      "metadata": {
        "tags": []
      },
      "outputs": [],
      "source": [
        "softmax(netout)"
      ],
      "id": "525e3435-eefa-49d9-82a8-13cb40571046"
    },
    {
      "cell_type": "markdown",
      "metadata": {},
      "source": [
        "(예시3) – 차원을 명시안하면 맞게 계산해주고 경고 줌"
      ],
      "id": "57aa6c04-92f3-4cc3-987b-90adb67ec09e"
    },
    {
      "cell_type": "code",
      "execution_count": 50,
      "metadata": {
        "tags": []
      },
      "outputs": [],
      "source": [
        "softmax = torch.nn.Softmax()"
      ],
      "id": "1c7c8926-7e1e-4994-a04c-4ca3ea3f14a3"
    },
    {
      "cell_type": "code",
      "execution_count": 51,
      "metadata": {
        "tags": []
      },
      "outputs": [],
      "source": [
        "netout"
      ],
      "id": "5e59a46d-e2c1-4247-aae3-ff6171bb1d17"
    },
    {
      "cell_type": "code",
      "execution_count": 52,
      "metadata": {
        "tags": []
      },
      "outputs": [
        {
          "output_type": "stream",
          "name": "stderr",
          "text": [
            "/home/cgb3/anaconda3/envs/dl2024/lib/python3.11/site-packages/torch/nn/modules/module.py:1511: UserWarning: Implicit dimension choice for softmax has been deprecated. Change the call to include dim=X as an argument.\n",
            "  return self._call_impl(*args, **kwargs)"
          ]
        }
      ],
      "source": [
        "softmax(netout)"
      ],
      "id": "040d3bb0-49d1-4bc4-9ffb-eaadbd1228bc"
    },
    {
      "cell_type": "markdown",
      "metadata": {},
      "source": [
        "(예시4) – 진짜 손계산"
      ],
      "id": "23c38ba2-4e1b-4bcb-bb51-edfec069af36"
    },
    {
      "cell_type": "code",
      "execution_count": 53,
      "metadata": {
        "tags": []
      },
      "outputs": [],
      "source": [
        "netout "
      ],
      "id": "e80c623f-eab4-4324-a079-16252ece7706"
    },
    {
      "cell_type": "code",
      "execution_count": 54,
      "metadata": {
        "tags": []
      },
      "outputs": [],
      "source": [
        "torch.exp(netout)"
      ],
      "id": "9551d3b6-a6c4-4d6a-a402-8be14fe1c0d1"
    },
    {
      "cell_type": "code",
      "execution_count": 55,
      "metadata": {
        "tags": []
      },
      "outputs": [],
      "source": [
        "0.1353/(0.1353 + 0.1353 + 1.0000), 0.1353/(0.1353 + 0.1353 + 1.0000), 1.0000/(0.1353 + 0.1353 + 1.0000) # 첫 obs"
      ],
      "id": "694b5993-06b0-469b-a8aa-dfb6ef26a9af"
    },
    {
      "cell_type": "code",
      "execution_count": 56,
      "metadata": {
        "tags": []
      },
      "outputs": [],
      "source": [
        "torch.exp(netout[1])/torch.exp(netout[1]).sum() # 두번째 obs "
      ],
      "id": "f7e12995-da3a-4c23-8146-301dbaec52dc"
    },
    {
      "cell_type": "markdown",
      "metadata": {},
      "source": [
        "## D. CrossEntropyLoss\n",
        "\n",
        "`-` 수식\n",
        "\n",
        "***`# 2개의 카테고리`***\n",
        "\n",
        "`-` 예제1: BCELoss vs BCEWithLogisticLoss"
      ],
      "id": "d9c41b29-ae6d-416d-beeb-003dbf1af815"
    },
    {
      "cell_type": "code",
      "execution_count": 57,
      "metadata": {
        "tags": []
      },
      "outputs": [],
      "source": [
        "y = torch.tensor([0,0,1]).reshape(-1,1).float()\n",
        "netout = torch.tensor([-1, 0, 1]).reshape(-1,1).float()\n",
        "y,netout"
      ],
      "id": "accd1529-6526-4a8f-85a2-e068d09f025b"
    },
    {
      "cell_type": "code",
      "execution_count": 58,
      "metadata": {
        "tags": []
      },
      "outputs": [],
      "source": [
        "# 계산방법1: 공식암기\n",
        "sig = torch.nn.Sigmoid()\n",
        "yhat = sig(netout)\n",
        "- torch.sum(torch.log(yhat)*y + torch.log(1-yhat)*(1-y))/3"
      ],
      "id": "9dfb02cb-1749-4391-8446-fdec0734f6cb"
    },
    {
      "cell_type": "code",
      "execution_count": 59,
      "metadata": {
        "tags": []
      },
      "outputs": [],
      "source": [
        "# 계산방법2: torch.nn.BCELoss() 이용\n",
        "sig = torch.nn.Sigmoid()\n",
        "yhat = sig(netout)\n",
        "loss_fn = torch.nn.BCELoss()\n",
        "loss_fn(yhat,y)"
      ],
      "id": "736829af-f7ab-440d-82b5-768c60bea69a"
    },
    {
      "cell_type": "code",
      "execution_count": 60,
      "metadata": {
        "tags": []
      },
      "outputs": [],
      "source": [
        "# 계산방법3: torch.nn.BCEWithLogitsLoss() 이용\n",
        "loss_fn = torch.nn.BCEWithLogitsLoss()\n",
        "loss_fn(netout,y)"
      ],
      "id": "244f971b-a33a-46b5-9c99-38e4e9638ede"
    },
    {
      "cell_type": "markdown",
      "metadata": {},
      "source": [
        "`-` 예제2: BCEWithLogisticLoss vs CrossEntropyLoss"
      ],
      "id": "f9336fbc-5665-41f2-ad1b-ad5f08096392"
    },
    {
      "cell_type": "code",
      "execution_count": 61,
      "metadata": {
        "tags": []
      },
      "outputs": [],
      "source": [
        "torch.concat([sig(netout),1-sig(netout)],axis=1)"
      ],
      "id": "7ff6ff61"
    },
    {
      "cell_type": "code",
      "execution_count": 62,
      "metadata": {
        "tags": []
      },
      "outputs": [],
      "source": [
        "netout = torch.tensor([[3,2],[2,2],[5,6]]).float()\n",
        "y = torch.tensor([[1,0],[1,0],[0,1]]).float()\n",
        "y,netout #,netout[:,[1]]-netout[:,[0]]"
      ],
      "id": "e54ce802-ab28-4f1b-b061-462feb61baf9"
    },
    {
      "cell_type": "code",
      "execution_count": 63,
      "metadata": {
        "tags": []
      },
      "outputs": [],
      "source": [
        "softmax(netout)"
      ],
      "id": "fcb10b2a"
    },
    {
      "cell_type": "code",
      "execution_count": 64,
      "metadata": {
        "tags": []
      },
      "outputs": [],
      "source": [
        "# 계산방법1: 공식암기\n",
        "-torch.sum(torch.log(softmax(netout))*y)/3"
      ],
      "id": "2cc88737-fd06-450d-ad23-0084d1924e71"
    },
    {
      "cell_type": "code",
      "execution_count": 65,
      "metadata": {
        "tags": []
      },
      "outputs": [],
      "source": [
        "# 계산방법2: torch.nn.CrossEntropyLoss() 이용 + y는 one-hot으로 정리\n",
        "loss_fn = torch.nn.CrossEntropyLoss()\n",
        "loss_fn(netout,y)"
      ],
      "id": "992b1412-3913-4ca1-87e7-829c2951658d"
    },
    {
      "cell_type": "code",
      "execution_count": 66,
      "metadata": {
        "tags": []
      },
      "outputs": [],
      "source": [
        "# 계산방법3: torch.nn.CrossEntropyLoss() 이용 + y는 0,1 로 정리\n",
        "loss_fn = torch.nn.CrossEntropyLoss()\n",
        "loss_fn(netout,y)"
      ],
      "id": "090abc37-f55c-42ae-8116-4e34097f2b78"
    },
    {
      "cell_type": "markdown",
      "metadata": {},
      "source": [
        "`#`\n",
        "\n",
        "***`# 3개의 카테고리`***"
      ],
      "id": "2bb1fb53-9f40-44ff-bd53-dfad909187f7"
    },
    {
      "cell_type": "code",
      "execution_count": 67,
      "metadata": {
        "tags": []
      },
      "outputs": [],
      "source": [
        "y = torch.tensor([2,1,2,2,0])\n",
        "y_onehot = torch.nn.functional.one_hot(y)\n",
        "netout = torch.tensor(\n",
        "    [[-2.0000, -2.0000,  0.0000],\n",
        "     [ 3.1400,  3.1400,  3.1400],\n",
        "     [ 0.0000,  0.0000,  2.0000],\n",
        "     [ 2.0000,  2.0000,  4.0000],\n",
        "     [ 0.0000,  0.0000,  0.0000]]\n",
        ")\n",
        "y,y_onehot"
      ],
      "id": "548b72d7-3caa-43be-83fa-c920eafb9654"
    },
    {
      "cell_type": "code",
      "execution_count": 68,
      "metadata": {
        "tags": []
      },
      "outputs": [],
      "source": [
        "## 방법1 -- 추천X\n",
        "loss_fn = torch.nn.CrossEntropyLoss()\n",
        "loss_fn(netout,y_onehot.float())"
      ],
      "id": "01854de7-1bf6-424e-8365-d7a99e74994f"
    },
    {
      "cell_type": "code",
      "execution_count": 69,
      "metadata": {
        "tags": []
      },
      "outputs": [],
      "source": [
        "## 방법2 -- 추천O\n",
        "loss_fn = torch.nn.CrossEntropyLoss()\n",
        "loss_fn(netout,y)"
      ],
      "id": "ea9ac430-21df-4477-90ed-f875e53b9316"
    },
    {
      "cell_type": "code",
      "execution_count": 71,
      "metadata": {
        "tags": []
      },
      "outputs": [],
      "source": [
        "## 방법3 -- 공식.. (이걸 쓰는사람은 없겠지?)\n",
        "softmax = torch.nn.Softmax() \n",
        "loss_fn = torch.nn.CrossEntropyLoss()\n",
        "- torch.sum(torch.log(softmax(netout))*y_onehot)/5"
      ],
      "id": "386860b6-e2ce-49e9-8bda-dccab3f625ae"
    },
    {
      "cell_type": "markdown",
      "metadata": {},
      "source": [
        "`#`\n",
        "\n",
        "`-` 계산하는 공식을 아는것도 중요한데 torch.nn.CrossEntropyLoss() 에는\n",
        "softmax 활성화함수가 이미 포함되어 있다는 것을 확인하는 것이 더 중요함.\n",
        "\n",
        "`-` torch.nn.CrossEntropyLoss() 는 사실 torch.nn.CEWithSoftmaxLoss()\n",
        "정도로 바꾸는 것이 더 말이 되는 것 같다.\n",
        "\n",
        "## E. Minor Topic: 이진분류와 CrossEntropy\n",
        "\n",
        "`-` 2개의 클래스일경우에도 CrossEntropy를 쓸 수 있지 않을까?"
      ],
      "id": "11604c7a-caf5-4e11-965a-f327adcbf641"
    },
    {
      "cell_type": "code",
      "execution_count": 72,
      "metadata": {
        "tags": []
      },
      "outputs": [],
      "source": [
        "## Step1: 데이터준비 \n",
        "path = fastai.data.external.untar_data(fastai.data.external.URLs.MNIST)\n",
        "X0 = torch.stack([torchvision.io.read_image(str(fname)) for fname in (path/'training/0').ls()])\n",
        "X1 = torch.stack([torchvision.io.read_image(str(fname)) for fname in (path/'training/1').ls()])\n",
        "X = torch.concat([X0,X1]).reshape(-1,1*28*28)/255\n",
        "y = torch.tensor([0]*len(X0) + [1]*len(X1))\n",
        "## Step2: 학습가능한 오브젝트 생성\n",
        "torch.manual_seed(43052)\n",
        "net = torch.nn.Sequential(\n",
        "    torch.nn.Linear(784,32),\n",
        "    torch.nn.ReLU(),\n",
        "    torch.nn.Linear(32,2),\n",
        "    #torch.nn.Softmax()\n",
        ")\n",
        "loss_fn = torch.nn.CrossEntropyLoss()\n",
        "optimizr = torch.optim.Adam(net.parameters())\n",
        "## Step3: fit  \n",
        "for epoc in range(70): \n",
        "    ## 1 \n",
        "    ## 2 \n",
        "    loss= loss_fn(net(X),y) \n",
        "    ## 3 \n",
        "    loss.backward()\n",
        "    ## 4 \n",
        "    optimizr.step()\n",
        "    optimizr.zero_grad() \n",
        "## Step4: Predict \n",
        "softmax = torch.nn.Softmax()\n",
        "(net(X).argmax(axis=1) == y).float().mean()"
      ],
      "id": "f3ebe3ec-d6b4-4f39-8ba7-84185ac104f2"
    },
    {
      "cell_type": "markdown",
      "metadata": {},
      "source": [
        "`-` 이진분류문제 = “y=0 or y=1” 을 맞추는 문제 = 성공과 실패를 맞추는\n",
        "문제 = 성공확률과 실패확률을 추정하는 문제\n",
        "\n",
        "`-` softmax, sigmoid\n",
        "\n",
        "-   softmax: (실패확률, 성공확률) 꼴로 결과가 나옴 // softmax는\n",
        "    실패확률과 성공확률을 둘다 추정한다.\n",
        "-   sigmoid: (성공확률) 꼴로 결과가 나옴 // sigmoid는 성공확률만\n",
        "    추정한다.\n",
        "\n",
        "`-` 그런데 “실패확률=1-성공확률” 이므로 사실상 둘은 같은걸 추정하는\n",
        "셈이다. (성공확률만 추정하면 실패확률은 저절로 추정되니까)\n",
        "\n",
        "`-` 즉 아래는 같은 표현력을 가진 모형이다.\n",
        "\n",
        "![](https://raw.githubusercontent.com/guebin/DL2024/cdbdf23589efc2198260ab9c749f1757f67a128d/posts/05wk-1-fig2.svg)\n",
        "\n",
        "![](https://raw.githubusercontent.com/guebin/DL2024/cdbdf23589efc2198260ab9c749f1757f67a128d/posts/05wk-1-fig1.svg)\n",
        "\n",
        "`-` 둘은 같은 표현력을 가진 모형인데 학습할 파라메터는 sigmoid의 경우가\n",
        "더 적다. $\\to$ sigmoid를 사용하는 모형이 비용은 싸고 효과는 동일하다는\n",
        "말 $\\to$ 이진분류 한정해서는 softmax를 쓰지말고 sigmoid를 써야함.\n",
        "\n",
        "-   softmax가 갑자기 너무 안좋아보이는데 sigmoid는 k개의 클래스로 확장이\n",
        "    불가능한 반면 softmax는 확장이 용이하다는 장점이 있음.\n",
        "\n",
        "## F. 정리\n",
        "\n",
        "`-` 결론\n",
        "\n",
        "1.  소프트맥스는 시그모이드의 확장이다.\n",
        "2.  클래스의 수가 2개일 경우에는 (Sigmoid, BCEloss) 조합을 사용해야 하고\n",
        "    클래스의 수가 2개보다 클 경우에는 (Softmax, CrossEntropyLoss) 를\n",
        "    사용해야 한다.\n",
        "\n",
        "`-` 그런데 사실.. 클래스의 수가 2개일 경우일때 (Softmax,\n",
        "CrossEntropyLoss)를 사용해도 그렇게 큰일나는것은 아니다. (그냥 좀\n",
        "비효율적인 느낌이 드는 것 뿐임. 흑백이미지를 칼라잉크로 출력하는 느낌)\n",
        "\n",
        "***참고***\n",
        "\n",
        "| $y$ | 분포가정 | 마지막층의 활성화함수 | 손실함수 |\n",
        "|:--:|:--:|:--:|:--:|\n",
        "| 3.45, 4.43, … (연속형) | 정규분포 | None (or Identity) | MSE |\n",
        "| 0 or 1 | 이항분포 with $n=1$ (=베르누이) | Sigmoid | BCE |\n",
        "| \\[0,0,1\\], \\[0,1,0\\], \\[1,0,0\\] | 다항분포 with $n=1$ | Softmax | Cross Entropy |\n",
        "\n",
        "# 6. HW\n",
        "\n",
        "아래와 같은 자료가 있다."
      ],
      "id": "84fedee3-df1e-4d4d-98af-e764021375ec"
    },
    {
      "cell_type": "code",
      "execution_count": 79,
      "metadata": {
        "tags": []
      },
      "outputs": [],
      "source": [
        "## Step1: 데이터준비 \n",
        "path = fastai.data.external.untar_data('https://s3.amazonaws.com/fast-ai-imageclas/mnist_png.tgz')\n",
        "X0 = torch.stack([torchvision.io.read_image(str(fname)) for fname in (path/'training/0').ls()])\n",
        "X1 = torch.stack([torchvision.io.read_image(str(fname)) for fname in (path/'training/1').ls()])\n",
        "X = torch.concat([X0,X1]).reshape(-1,1*28*28)/255\n",
        "y = torch.tensor([0]*len(X0) + [1]*len(X1))"
      ],
      "id": "46503051-c102-43ea-853a-9d369fd6d82b"
    },
    {
      "cell_type": "markdown",
      "metadata": {},
      "source": [
        "`(1)` 세부사항에 맞추어 위의 자료를 학습하고, accuracy를 구하라.\n",
        "\n",
        "-   네트워크는 1개의 은닉층을 가지도록 하고, 은닉노드수는 32개로\n",
        "    설정하라. 은닉층의 활성화함수는 ReLU로 설정하라.\n",
        "-   손실함수를 `torch.nn.BCELoss()`로 설정하라.\n",
        "-   epoch = 325로 설정하라.\n",
        "\n",
        "`(2)` 세부사항에 맞추어 위의 자료를 학습하고, accuracy를 구하라.\n",
        "\n",
        "-   네트워크는 1개의 은닉층을 가지도록 하고, 은닉노드수는 32개로\n",
        "    설정하라. 은닉층의 활성화함수는 ReLU로 설정하라.\n",
        "-   손실함수를 `torch.nn.BCEWithLogitsLoss()`로 설정하라.\n",
        "-   epoch = 325로 설정하라.\n",
        "\n",
        "`(3)` 세부사항에 맞추어 위의 자료를 학습하고, accuracy를 구하라.\n",
        "\n",
        "-   네트워크는 1개의 은닉층을 가지도록 하고, 은닉노드수는 32개로\n",
        "    설정하라. 은닉층의 활성화함수는 ReLU로 설정하라.\n",
        "-   y를 one_hot 인코딩하라.\n",
        "-   손실함수를 `torch.nn.CrossEntropyLoss()`로 설정하라.\n",
        "-   epoch = 325로 설정하라.\n",
        "\n",
        "**hint** 원핫인코딩을 위해 아래의 함수를 사용하라."
      ],
      "id": "87904ce7-8a75-4725-a456-0bba6b11420e"
    },
    {
      "cell_type": "code",
      "execution_count": 78,
      "metadata": {
        "tags": []
      },
      "outputs": [],
      "source": [
        "y, torch.nn.functional.one_hot(y)"
      ],
      "id": "b8229bc2-780f-46da-853a-2adf85dde805"
    },
    {
      "cell_type": "markdown",
      "metadata": {},
      "source": [
        "`(4)` 세부사항에 맞추어 위의 자료를 학습하고, accuracy를 구하라.\n",
        "\n",
        "-   네트워크는 1개의 은닉층을 가지도록 하고, 은닉노드수는 32개로\n",
        "    설정하라. 은닉층의 활성화함수는 ReLU로 설정하라.\n",
        "-   y를 (one-hot 인코딩 하지 않고) lenght-$n$인 벡터로 유지하라.\n",
        "-   손실함수를 `torch.nn.CrossEntropyLoss()`로 설정하라.\n",
        "-   epoch = 325로 설정하라.\n",
        "\n",
        "`(5)` 세부사항에 맞추어 위의 자료를 학습하고, accuracy를 구하라.\n",
        "\n",
        "-   네트워크는 1개의 은닉층을 가지도록 하고, 은닉노드수는 32개로\n",
        "    설정하라. 은닉층의 활성화함수는 ReLU로 설정하라.\n",
        "-   batch_size = 1024 로 설정한뒤 mini_batch를 이용한 학습을 하라.\n",
        "-   y를 (one-hot 인코딩 하지 않고) lenght-$n$인 벡터로 유지하라.  \n",
        "-   손실함수를 `torch.nn.CrossEntropyLoss()`로 설정하라.\n",
        "-   총 iteration 수가 325가 되도록 적절하게 epoch 을 설정하라.\n",
        "\n",
        "`(6)` 세부사항에 맞추어 위의 자료를 학습하고, accuracy를 구하라.\n",
        "\n",
        "-   네트워크는 1개의 은닉층을 가지도록 하고, 은닉노드수는 32개로\n",
        "    설정하라. 은닉층의 활성화함수는 ReLU로 설정하라.\n",
        "-   batch_size = 512 로 설정한뒤 mini_batch를 이용한 학습을 하라.\n",
        "-   y를 (one-hot 인코딩 하지 않고) lenght-$n$인 벡터로 유지하라.\n",
        "-   손실함수를 `torch.nn.CrossEntropyLoss()`로 설정하라.\n",
        "-   총 iteration 수가 325가 되도록 적절하게 epoch 을 설정하라.\n",
        "-   GPU를 활용하여 학습하라."
      ],
      "id": "6d619ae6-f4a6-4b1f-be18-a1a36ab9d4d4"
    }
  ],
  "nbformat": 4,
  "nbformat_minor": 5,
  "metadata": {
    "kernelspec": {
      "name": "python3",
      "display_name": "Python 3 (ipykernel)",
      "language": "python"
    },
    "language_info": {
      "name": "python",
      "codemirror_mode": {
        "name": "ipython",
        "version": "3"
      },
      "file_extension": ".py",
      "mimetype": "text/x-python",
      "nbconvert_exporter": "python",
      "pygments_lexer": "ipython3",
      "version": "3.11.8"
    }
  }
}