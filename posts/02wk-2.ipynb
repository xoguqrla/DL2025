{
 "cells": [
  {
   "cell_type": "raw",
   "id": "ad63f547-00a2-4f67-af6d-5956323a9e83",
   "metadata": {
    "id": "87b5cded-346b-4915-acf5-b5ec93a5207d",
    "vscode": {
     "languageId": "raw"
    }
   },
   "source": [
    "---\n",
    "title: \"02wk-2: 회귀분석 (3) -- Step1,2,4 의 변형\"\n",
    "author: \"최규빈\"\n",
    "date: \"03/13/2024\"\n",
    "draft: true\n",
    "---"
   ]
  },
  {
   "cell_type": "markdown",
   "id": "80f0ac2f-64ab-4941-af65-a3be2b4ace92",
   "metadata": {
    "id": "e67ab8e0"
   },
   "source": [
    "<a href=\"https://colab.research.google.com/github/guebin/DL2025/blob/main/posts/02wk-2.ipynb\"><img src=\"https://colab.research.google.com/assets/colab-badge.svg\" style=\"text-align: left\"></a>"
   ]
  },
  {
   "cell_type": "markdown",
   "id": "b07401da-f425-45dc-a183-345d65fa4911",
   "metadata": {
    "id": "4d47a7c9"
   },
   "source": [
    "# 1. 강의영상"
   ]
  },
  {
   "cell_type": "markdown",
   "id": "07cdba92",
   "metadata": {
    "tags": []
   },
   "source": [
    "{{<video https://youtu.be/playlist?list=PLQqh36zP38-xrw8e2pQ1KqKFb-i3lVtsI&si=dDAjAteouM7Y30HU >}}"
   ]
  },
  {
   "cell_type": "markdown",
   "id": "ef8cc96a-25a1-47c9-86a1-9364d9ed9c68",
   "metadata": {},
   "source": [
    "# 2. Imports"
   ]
  },
  {
   "cell_type": "code",
   "execution_count": 5,
   "id": "c0c54c1b-8839-4c46-b4c7-83e85bd7107d",
   "metadata": {
    "tags": []
   },
   "outputs": [],
   "source": [
    "import torch\n",
    "import matplotlib.pyplot as plt \n",
    "import numpy as np"
   ]
  },
  {
   "cell_type": "markdown",
   "id": "f9bec482-7e38-47f6-aab7-ca7728afc952",
   "metadata": {},
   "source": [
    "# 3. 회귀분석 예제의 다양한 구현"
   ]
  },
  {
   "cell_type": "markdown",
   "id": "bc14fe0b-d922-457e-ad42-c0e075c4be5d",
   "metadata": {},
   "source": [
    "## A. Data"
   ]
  },
  {
   "cell_type": "code",
   "execution_count": 6,
   "id": "a9d8670a-75b9-4052-b93b-876986add1c3",
   "metadata": {
    "tags": []
   },
   "outputs": [],
   "source": [
    "temp = [-2.4821, -2.3621, -1.9973, -1.6239, -1.4792, -1.4635, -1.4509, -1.4435,\n",
    "        -1.3722, -1.3079, -1.1904, -1.1092, -1.1054, -1.0875, -0.9469, -0.9319,\n",
    "        -0.8643, -0.7858, -0.7549, -0.7421, -0.6948, -0.6103, -0.5830, -0.5621,\n",
    "        -0.5506, -0.5058, -0.4806, -0.4738, -0.4710, -0.4676, -0.3874, -0.3719,\n",
    "        -0.3688, -0.3159, -0.2775, -0.2772, -0.2734, -0.2721, -0.2668, -0.2155,\n",
    "        -0.2000, -0.1816, -0.1708, -0.1565, -0.1448, -0.1361, -0.1057, -0.0603,\n",
    "        -0.0559, -0.0214,  0.0655,  0.0684,  0.1195,  0.1420,  0.1521,  0.1568,\n",
    "         0.2646,  0.2656,  0.3157,  0.3220,  0.3461,  0.3984,  0.4190,  0.5443,\n",
    "         0.5579,  0.5913,  0.6148,  0.6469,  0.6469,  0.6523,  0.6674,  0.7059,\n",
    "         0.7141,  0.7822,  0.8154,  0.8668,  0.9291,  0.9804,  0.9853,  0.9941,\n",
    "         1.0376,  1.0393,  1.0697,  1.1024,  1.1126,  1.1532,  1.2289,  1.3403,\n",
    "         1.3494,  1.4279,  1.4994,  1.5031,  1.5437,  1.6789,  2.0832,  2.2444,\n",
    "         2.3935,  2.6056,  2.6057,  2.6632]\n",
    "sales= [-8.5420, -6.5767, -5.9496, -4.4794, -4.2516, -3.1326, -4.0239, -4.1862,\n",
    "        -3.3403, -2.2027, -2.0262, -2.5619, -1.3353, -2.0466, -0.4664, -1.3513,\n",
    "        -1.6472, -0.1089, -0.3071, -0.6299, -0.0438,  0.4163,  0.4166, -0.0943,\n",
    "         0.2662,  0.4591,  0.8905,  0.8998,  0.6314,  1.3845,  0.8085,  1.2594,\n",
    "         1.1211,  1.9232,  1.0619,  1.3552,  2.1161,  1.1437,  1.6245,  1.7639,\n",
    "         1.6022,  1.7465,  0.9830,  1.7824,  2.1116,  2.8621,  2.1165,  1.5226,\n",
    "         2.5572,  2.8361,  3.3956,  2.0679,  2.8140,  3.4852,  3.6059,  2.5966,\n",
    "         2.8854,  3.9173,  3.6527,  4.1029,  4.3125,  3.4026,  3.2180,  4.5686,\n",
    "         4.3772,  4.3075,  4.4895,  4.4827,  5.3170,  5.4987,  5.4632,  6.0328,\n",
    "         5.2842,  5.0539,  5.4538,  6.0337,  5.7250,  5.7587,  6.2020,  6.5992,\n",
    "         6.4621,  6.5140,  6.6846,  7.3497,  8.0909,  7.0794,  6.8667,  7.4229,\n",
    "         7.2544,  7.1967,  9.5006,  9.0339,  7.4887,  9.0759, 11.0946, 10.3260,\n",
    "        12.2665, 13.0983, 12.5468, 13.8340]\n",
    "x = torch.tensor(temp).reshape(-1,1)\n",
    "ones = torch.ones(100).reshape(-1,1)\n",
    "X = torch.concat([ones,x],axis=1)\n",
    "y = torch.tensor(sales).reshape(-1,1)"
   ]
  },
  {
   "cell_type": "markdown",
   "id": "3718d759-28e4-4edf-937d-ef0529477b4b",
   "metadata": {
    "tags": []
   },
   "source": [
    "## B. 파이토치를 이용한 학습 "
   ]
  },
  {
   "cell_type": "markdown",
   "id": "cad3ed7c-6700-4a5f-9b9f-6779be4e670e",
   "metadata": {},
   "source": [
    "`-` 외우세여"
   ]
  },
  {
   "cell_type": "code",
   "execution_count": 19,
   "id": "c02830d0-1734-4414-ba3b-7ffb03c46216",
   "metadata": {
    "tags": []
   },
   "outputs": [],
   "source": [
    "What = torch.tensor([[-5.0],[10.0]],requires_grad = True)\n",
    "for epoc in range(30):\n",
    "    # step1: yhat \n",
    "    yhat = X@What \n",
    "    # step2: loss\n",
    "    loss = torch.sum((y-yhat)**2)\n",
    "    # step3: 미분\n",
    "    loss.backward()\n",
    "    # step4: update\n",
    "    What.data = What.data - 0.001 * What.grad\n",
    "    What.grad = None"
   ]
  },
  {
   "cell_type": "markdown",
   "id": "8afdc057-f260-419a-b409-38e65968320a",
   "metadata": {},
   "source": [
    "`-` 결과 시각화 "
   ]
  },
  {
   "cell_type": "code",
   "execution_count": 42,
   "id": "e80990ad-2915-45f6-8aa4-fc392ba226ac",
   "metadata": {
    "tags": []
   },
   "outputs": [
    {
     "data": {
      "image/png": "[encoded data removed]",
      "text/plain": [
       "<Figure size 640x480 with 1 Axes>"
      ]
     },
     "metadata": {},
     "output_type": "display_data"
    }
   ],
   "source": [
    "plt.plot(x,y,'o')\n",
    "plt.plot(x,X@What.data,'--')\n",
    "plt.title(f'What={What.data.reshape(-1)}');"
   ]
  },
  {
   "cell_type": "markdown",
   "id": "6afe135f-715c-4bc6-a1c9-230b8961fa76",
   "metadata": {},
   "source": [
    "## C. Step2의 수정"
   ]
  },
  {
   "cell_type": "markdown",
   "id": "b6a45b87-32da-4b65-bb1e-15de3fbb4efc",
   "metadata": {},
   "source": [
    "`-` 수정된 코드 "
   ]
  },
  {
   "cell_type": "code",
   "execution_count": 110,
   "id": "472d91ae-faa4-41d1-b79e-0a17640eef2a",
   "metadata": {
    "tags": []
   },
   "outputs": [],
   "source": [
    "What = torch.tensor([[-5.0],[10.0]],requires_grad = True)\n",
    "loss_fn = torch.nn.MSELoss()\n",
    "for epoc in range(30):\n",
    "    # step1: yhat \n",
    "    yhat = X@What \n",
    "    # step2: loss\n",
    "    #loss = torch.sum((y-yhat)**2)/100\n",
    "    #loss = torch.mean((y-yhat)**2) \n",
    "    loss = loss_fn(yhat,y) # 여기서는 큰 상관없지만 습관적으로 yhat을 먼저넣는 연습을 하자!!\n",
    "    # step3: 미분\n",
    "    loss.backward()\n",
    "    # step4: update\n",
    "    What.data = What.data - 0.1 * What.grad\n",
    "    What.grad = None"
   ]
  },
  {
   "cell_type": "markdown",
   "id": "16bc80c9-26c1-4f24-8090-319d66e8cb81",
   "metadata": {},
   "source": [
    "`-` 결과확인 "
   ]
  },
  {
   "cell_type": "code",
   "execution_count": 111,
   "id": "00f21ab6-951e-4971-920e-606a7a754841",
   "metadata": {
    "tags": []
   },
   "outputs": [
    {
     "data": {
      "image/png": "[encoded data removed]",
      "text/plain": [
       "<Figure size 640x480 with 1 Axes>"
      ]
     },
     "metadata": {},
     "output_type": "display_data"
    }
   ],
   "source": [
    "plt.plot(x,y,'o')\n",
    "plt.plot(x,X@What.data,'--')\n",
    "plt.title(f'What={What.data.reshape(-1)}');"
   ]
  },
  {
   "cell_type": "markdown",
   "id": "b6eb1ff4-e616-40be-81cd-d3305fac000f",
   "metadata": {},
   "source": [
    "## D. Step1의 수정 -- `net`의 이용"
   ]
  },
  {
   "cell_type": "markdown",
   "id": "1186f7e4-1250-436c-a361-77afca395fbf",
   "metadata": {},
   "source": [
    "`-` net 오브젝트란? "
   ]
  },
  {
   "cell_type": "markdown",
   "id": "e8e24290-6a83-4b65-958a-153abcd6e0d3",
   "metadata": {},
   "source": [
    "원래 yhat을 이런식으로 구했는데 ~"
   ]
  },
  {
   "cell_type": "code",
   "execution_count": 112,
   "id": "6245848b-2525-41da-9df2-705f6aa3695c",
   "metadata": {
    "tags": []
   },
   "outputs": [
    {
     "data": {
      "text/plain": [
       "tensor([[-29.8210],\n",
       "        [-28.6210],\n",
       "        [-24.9730],\n",
       "        [-21.2390],\n",
       "        [-19.7920]])"
      ]
     },
     "execution_count": 112,
     "metadata": {},
     "output_type": "execute_result"
    }
   ],
   "source": [
    "What = torch.tensor([[-5.0],[10.0]],requires_grad = True)\n",
    "(X@What.data)[:5]"
   ]
  },
  {
   "cell_type": "markdown",
   "id": "4f7e70b0-d18d-469f-8a52-6c862549d123",
   "metadata": {},
   "source": [
    "이런식으로도 구할수 있음!"
   ]
  },
  {
   "cell_type": "code",
   "execution_count": 113,
   "id": "b45173f1-7b60-45f6-917d-68739eea2e5f",
   "metadata": {
    "tags": []
   },
   "outputs": [],
   "source": [
    "net = torch.nn.Linear(\n",
    "    in_features=2,\n",
    "    out_features=1,\n",
    "    bias=False\n",
    ")"
   ]
  },
  {
   "cell_type": "code",
   "execution_count": 114,
   "id": "2a75f423-b056-46f9-b1b9-88f0e6142d49",
   "metadata": {
    "tags": []
   },
   "outputs": [
    {
     "data": {
      "text/plain": [
       "Parameter containing:\n",
       "tensor([[-5., 10.]], requires_grad=True)"
      ]
     },
     "execution_count": 114,
     "metadata": {},
     "output_type": "execute_result"
    }
   ],
   "source": [
    "net.weight.data = torch.tensor([[-5.0,  10.0]])\n",
    "net.weight"
   ]
  },
  {
   "cell_type": "code",
   "execution_count": 116,
   "id": "c88ea242-e70a-493e-a975-bf3c28aa688b",
   "metadata": {
    "tags": []
   },
   "outputs": [
    {
     "data": {
      "text/plain": [
       "tensor([[-29.8210],\n",
       "        [-28.6210],\n",
       "        [-24.9730],\n",
       "        [-21.2390],\n",
       "        [-19.7920]], grad_fn=<SliceBackward0>)"
      ]
     },
     "execution_count": 116,
     "metadata": {},
     "output_type": "execute_result"
    }
   ],
   "source": [
    "net(X)[:5]"
   ]
  },
  {
   "cell_type": "markdown",
   "id": "8b8e481c-3e0b-4b22-beed-8b8209e153f2",
   "metadata": {},
   "source": [
    "`-` 학습 "
   ]
  },
  {
   "cell_type": "code",
   "execution_count": 117,
   "id": "c7bb0533-11f1-4658-8697-05cb72c27540",
   "metadata": {
    "tags": []
   },
   "outputs": [],
   "source": [
    "# step1을 위한 사전준비\n",
    "net = torch.nn.Linear(\n",
    "    in_features=2,\n",
    "    out_features=1,\n",
    "    bias=False\n",
    ")\n",
    "net.weight.data = torch.tensor([[-5.0,  10.0]])\n",
    "# step2를 위한 사전준비\n",
    "loss_fn = torch.nn.MSELoss()\n",
    "for epoc in range(30):\n",
    "    # step1: yhat \n",
    "    yhat = net(X)\n",
    "    # step2: loss\n",
    "    loss = loss_fn(yhat,y)\n",
    "    # step3: 미분\n",
    "    loss.backward()\n",
    "    # step4: update\n",
    "    net.weight.data = net.weight.data - 0.1 * net.weight.grad\n",
    "    net.weight.grad = None"
   ]
  },
  {
   "cell_type": "markdown",
   "id": "b3646780-05bb-434f-bcd0-0dbec46046a3",
   "metadata": {},
   "source": [
    "`-` 결과확인"
   ]
  },
  {
   "cell_type": "code",
   "execution_count": 118,
   "id": "a1e1d8ca-19c1-466e-b90e-332d2075058b",
   "metadata": {
    "tags": []
   },
   "outputs": [
    {
     "data": {
      "image/png": "[encoded data removed]",
      "text/plain": [
       "<Figure size 640x480 with 1 Axes>"
      ]
     },
     "metadata": {},
     "output_type": "display_data"
    }
   ],
   "source": [
    "plt.plot(x,y,'o')\n",
    "plt.plot(x,net(X).data,'--')\n",
    "plt.title(f'net.weight={net.weight.data.reshape(-1)}');"
   ]
  },
  {
   "cell_type": "markdown",
   "id": "59a55bbd-759c-44d4-aa4f-36cc6b3ee245",
   "metadata": {},
   "source": [
    "## E. Step4의 수정 -- optimizer의 이용 "
   ]
  },
  {
   "cell_type": "markdown",
   "id": "ccde83f0-21e5-4ab0-9522-07af00019eb3",
   "metadata": {
    "tags": []
   },
   "source": [
    "***기존코드의 에폭별분해***"
   ]
  },
  {
   "cell_type": "markdown",
   "id": "c7265ad1-e207-429e-a25d-24935da378f8",
   "metadata": {},
   "source": [
    "`-` 준비과정"
   ]
  },
  {
   "cell_type": "code",
   "execution_count": 145,
   "id": "801c4c0e-0cba-4fe0-92c1-65da50845c9f",
   "metadata": {
    "tags": []
   },
   "outputs": [],
   "source": [
    "# step1을 위한 사전준비\n",
    "net = torch.nn.Linear(\n",
    "    in_features=2,\n",
    "    out_features=1,\n",
    "    bias=False\n",
    ")\n",
    "net.weight.data = torch.tensor([[-5.0,  10.0]])\n",
    "# step2를 위한 사전준비\n",
    "loss_fn = torch.nn.MSELoss()"
   ]
  },
  {
   "cell_type": "markdown",
   "id": "9bbcf618-9532-425a-91ea-8d6c78efeea6",
   "metadata": {},
   "source": [
    "`-` 에폭별분해 "
   ]
  },
  {
   "cell_type": "markdown",
   "id": "af282af0-9fa2-466b-b003-db3420dce39c",
   "metadata": {},
   "source": [
    "(미분전) -- step1~2 완료"
   ]
  },
  {
   "cell_type": "code",
   "execution_count": 146,
   "id": "55ef6c53-dbda-4204-b964-b663b37c0f3f",
   "metadata": {
    "tags": []
   },
   "outputs": [],
   "source": [
    "yhat = net(X)\n",
    "loss = loss_fn(yhat,y)"
   ]
  },
  {
   "cell_type": "code",
   "execution_count": 147,
   "id": "71366888-d58f-42f6-a378-abf4d8584c54",
   "metadata": {
    "tags": []
   },
   "outputs": [
    {
     "name": "stdout",
     "output_type": "stream",
     "text": [
      "파라메터 = tensor([[-5., 10.]])\n",
      "미분값 = None\n"
     ]
    }
   ],
   "source": [
    "print(f'파라메터 = {net.weight.data}')\n",
    "print(f'미분값 = {net.weight.grad}')"
   ]
  },
  {
   "cell_type": "markdown",
   "id": "42f91913-2fe6-47df-a2d5-b67edfe59f86",
   "metadata": {},
   "source": [
    "(미분후, 업데이트 진행전) -- step3 완료"
   ]
  },
  {
   "cell_type": "code",
   "execution_count": 148,
   "id": "7d0f070d-4a55-494d-9a3b-7c7f190bc660",
   "metadata": {
    "tags": []
   },
   "outputs": [],
   "source": [
    "loss.backward()"
   ]
  },
  {
   "cell_type": "code",
   "execution_count": 149,
   "id": "06ae294b-0678-462f-ba90-98ab70d491a0",
   "metadata": {
    "tags": []
   },
   "outputs": [
    {
     "name": "stdout",
     "output_type": "stream",
     "text": [
      "파라메터 = tensor([[-5., 10.]])\n",
      "미분값 = tensor([[-13.4225,  11.8892]])\n"
     ]
    }
   ],
   "source": [
    "print(f'파라메터 = {net.weight.data}')\n",
    "print(f'미분값 = {net.weight.grad}')"
   ]
  },
  {
   "cell_type": "markdown",
   "id": "bcbe409e-2745-4bb4-b66a-36febcb7513d",
   "metadata": {},
   "source": [
    "(업데이트 진행후) -- step4 의 첫째줄 완료 "
   ]
  },
  {
   "cell_type": "code",
   "execution_count": 150,
   "id": "a2e3e002-c7e4-4a36-b7e4-8738b488a601",
   "metadata": {
    "tags": []
   },
   "outputs": [],
   "source": [
    "net.weight.data = net.weight.data - 0.1 * net.weight.grad"
   ]
  },
  {
   "cell_type": "code",
   "execution_count": 151,
   "id": "c5cf3873-e9f5-408b-9951-9d5d954d6054",
   "metadata": {
    "tags": []
   },
   "outputs": [
    {
     "name": "stdout",
     "output_type": "stream",
     "text": [
      "파라메터 = tensor([[-3.6578,  8.8111]])\n",
      "미분값 = tensor([[-13.4225,  11.8892]])\n"
     ]
    }
   ],
   "source": [
    "print(f'파라메터 = {net.weight.data}')\n",
    "print(f'미분값 = {net.weight.grad}')"
   ]
  },
  {
   "cell_type": "markdown",
   "id": "4bfb2904-6bce-4dc6-bd11-e8bfd824a1f3",
   "metadata": {},
   "source": [
    "(업데이트 완료 후 초기화까지 끝냄) -- step4 의 두번째줄 완료 "
   ]
  },
  {
   "cell_type": "code",
   "execution_count": 152,
   "id": "43bcf154-b9b4-4153-8368-e9ae2592dc4c",
   "metadata": {
    "tags": []
   },
   "outputs": [],
   "source": [
    "net.weight.grad = None"
   ]
  },
  {
   "cell_type": "code",
   "execution_count": 153,
   "id": "37f036dd-4fa6-4a69-a7a4-79e05b23d0d0",
   "metadata": {
    "tags": []
   },
   "outputs": [
    {
     "name": "stdout",
     "output_type": "stream",
     "text": [
      "파라메터 = tensor([[-3.6578,  8.8111]])\n",
      "미분값 = None\n"
     ]
    }
   ],
   "source": [
    "print(f'파라메터 = {net.weight.data}')\n",
    "print(f'미분값 = {net.weight.grad}')"
   ]
  },
  {
   "cell_type": "markdown",
   "id": "55c61b69-d8dc-4bc9-84b5-2c5973680aeb",
   "metadata": {
    "tags": []
   },
   "source": [
    "***새로운코드의 에폭별분해***"
   ]
  },
  {
   "cell_type": "markdown",
   "id": "2afa06bd-2494-4b81-aad7-868b42e63036",
   "metadata": {},
   "source": [
    "`-` 준비과정 -- 옵티마이저라는 오브젝트를 셋팅한다!"
   ]
  },
  {
   "cell_type": "code",
   "execution_count": 165,
   "id": "821d9ec0-7bab-45ce-9f8b-db0b60cfa351",
   "metadata": {
    "tags": []
   },
   "outputs": [],
   "source": [
    "# step1을 위한 사전준비\n",
    "net = torch.nn.Linear(\n",
    "    in_features=2,\n",
    "    out_features=1,\n",
    "    bias=False\n",
    ")\n",
    "net.weight.data = torch.tensor([[-5.0,  10.0]])\n",
    "# step2를 위한 사전준비\n",
    "loss_fn = torch.nn.MSELoss()\n",
    "# step3을 위한 사전준비 \n",
    "optimizr = torch.optim.SGD(params=net.parameters(),lr=0.1)"
   ]
  },
  {
   "cell_type": "markdown",
   "id": "6b2e3af8-29a1-4a9a-8753-60e78fefa4d5",
   "metadata": {},
   "source": [
    "`-` 에폭별분해 "
   ]
  },
  {
   "cell_type": "markdown",
   "id": "8096d860-e4c6-48fc-8084-abd8a04e9a62",
   "metadata": {},
   "source": [
    "(미분전) -- step1~2 완료"
   ]
  },
  {
   "cell_type": "code",
   "execution_count": 167,
   "id": "8a8405ac-3629-4637-9d30-33e92aa94a3b",
   "metadata": {
    "tags": []
   },
   "outputs": [],
   "source": [
    "yhat = net(X)\n",
    "loss = loss_fn(yhat,y)"
   ]
  },
  {
   "cell_type": "code",
   "execution_count": 168,
   "id": "fb744ec3-3102-449a-bee4-9ac8ad8f2b79",
   "metadata": {
    "tags": []
   },
   "outputs": [
    {
     "name": "stdout",
     "output_type": "stream",
     "text": [
      "파라메터 = tensor([[-5., 10.]])\n",
      "미분값 = None\n"
     ]
    }
   ],
   "source": [
    "print(f'파라메터 = {net.weight.data}')\n",
    "print(f'미분값 = {net.weight.grad}')"
   ]
  },
  {
   "cell_type": "markdown",
   "id": "0c49eccb-1c2f-4ed4-93b0-58720b0a41b1",
   "metadata": {},
   "source": [
    "(미분후, 업데이트 진행전) -- step3 완료"
   ]
  },
  {
   "cell_type": "code",
   "execution_count": 169,
   "id": "9c1264fd-f836-42af-8836-0280f2b742ea",
   "metadata": {
    "tags": []
   },
   "outputs": [],
   "source": [
    "loss.backward()"
   ]
  },
  {
   "cell_type": "code",
   "execution_count": 170,
   "id": "64cb7cb3-11ea-48b8-9afb-a18630205508",
   "metadata": {
    "tags": []
   },
   "outputs": [
    {
     "name": "stdout",
     "output_type": "stream",
     "text": [
      "파라메터 = tensor([[-5., 10.]])\n",
      "미분값 = tensor([[-13.4225,  11.8892]])\n"
     ]
    }
   ],
   "source": [
    "print(f'파라메터 = {net.weight.data}')\n",
    "print(f'미분값 = {net.weight.grad}')"
   ]
  },
  {
   "cell_type": "markdown",
   "id": "688400b4-93fa-415f-90a4-67d1dc0c0398",
   "metadata": {},
   "source": [
    "(업데이트 진행후) -- step4 의 첫째줄 완료 "
   ]
  },
  {
   "cell_type": "code",
   "execution_count": 171,
   "id": "6220984c-23f7-40ce-aa2c-6eab097f470b",
   "metadata": {
    "tags": []
   },
   "outputs": [],
   "source": [
    "#net.weight.data = net.weight.data - 0.1 * net.weight.grad\n",
    "optimizr.step()"
   ]
  },
  {
   "cell_type": "code",
   "execution_count": 172,
   "id": "056581d0-71c7-4ce6-9938-f0e232cba157",
   "metadata": {
    "tags": []
   },
   "outputs": [
    {
     "name": "stdout",
     "output_type": "stream",
     "text": [
      "파라메터 = tensor([[-3.6578,  8.8111]])\n",
      "미분값 = tensor([[-13.4225,  11.8892]])\n"
     ]
    }
   ],
   "source": [
    "print(f'파라메터 = {net.weight.data}')\n",
    "print(f'미분값 = {net.weight.grad}')"
   ]
  },
  {
   "cell_type": "markdown",
   "id": "426e91ac-94c5-4ce3-8469-61d47cfabbe0",
   "metadata": {},
   "source": [
    "(업데이트 완료 후 초기화까지 끝냄) -- step4 의 두번째줄 완료 "
   ]
  },
  {
   "cell_type": "code",
   "execution_count": 173,
   "id": "162c2046-abd9-4ead-818d-0d135c71ce0f",
   "metadata": {
    "tags": []
   },
   "outputs": [],
   "source": [
    "#net.weight.grad = None\n",
    "optimizr.zero_grad()"
   ]
  },
  {
   "cell_type": "code",
   "execution_count": 174,
   "id": "1e06c04e-cc8f-4b22-bab3-bed2398f37e5",
   "metadata": {
    "tags": []
   },
   "outputs": [
    {
     "name": "stdout",
     "output_type": "stream",
     "text": [
      "파라메터 = tensor([[-3.6578,  8.8111]])\n",
      "미분값 = None\n"
     ]
    }
   ],
   "source": [
    "print(f'파라메터 = {net.weight.data}')\n",
    "print(f'미분값 = {net.weight.grad}')"
   ]
  },
  {
   "cell_type": "markdown",
   "id": "8af1819a-5cfe-4bc6-a8c7-eaf365414bd2",
   "metadata": {},
   "source": [
    "***최종코드***"
   ]
  },
  {
   "cell_type": "markdown",
   "id": "bed865dd-96cc-41ee-922d-965c68866c8d",
   "metadata": {},
   "source": [
    "`-` 학습 "
   ]
  },
  {
   "cell_type": "code",
   "execution_count": 175,
   "id": "318baa0a-00cd-4766-912a-d58bd1f42ca5",
   "metadata": {
    "tags": []
   },
   "outputs": [],
   "source": [
    "# step1을 위한 사전준비\n",
    "net = torch.nn.Linear(\n",
    "    in_features=2,\n",
    "    out_features=1,\n",
    "    bias=False\n",
    ")\n",
    "net.weight.data = torch.tensor([[-5.0,  10.0]])\n",
    "# step2를 위한 사전준비\n",
    "loss_fn = torch.nn.MSELoss()\n",
    "# step4를 위한 사전준비 \n",
    "optimizr = torch.optim.SGD(net.parameters(),lr=0.1)\n",
    "for epoc in range(30):\n",
    "    # step1: yhat \n",
    "    yhat = net(X)\n",
    "    # step2: loss\n",
    "    loss = loss_fn(yhat,y)\n",
    "    # step3: 미분\n",
    "    loss.backward()\n",
    "    # step4: update\n",
    "    optimizr.step()\n",
    "    optimizr.zero_grad()"
   ]
  },
  {
   "cell_type": "markdown",
   "id": "8acaa3ad-4c9f-430d-bc07-fbedef75f6bb",
   "metadata": {},
   "source": [
    "`-` 결과확인 "
   ]
  },
  {
   "cell_type": "code",
   "execution_count": 177,
   "id": "ab5007a3-46a8-40a8-8436-955b8f308bef",
   "metadata": {
    "tags": []
   },
   "outputs": [
    {
     "data": {
      "image/png": "[encoded data removed]",
      "text/plain": [
       "<Figure size 640x480 with 1 Axes>"
      ]
     },
     "metadata": {},
     "output_type": "display_data"
    }
   ],
   "source": [
    "plt.plot(x,y,'o')\n",
    "plt.plot(x,yhat.data,'--')\n",
    "plt.title(f'net.weight={net.weight.data.reshape(-1)}');"
   ]
  }
 ],
 "metadata": {
  "kernelspec": {
   "display_name": "Python 3 (ipykernel)",
   "language": "python",
   "name": "python3"
  },
  "language_info": {
   "codemirror_mode": {
    "name": "ipython",
    "version": 3
   },
   "file_extension": ".py",
   "mimetype": "text/x-python",
   "name": "python",
   "nbconvert_exporter": "python",
   "pygments_lexer": "ipython3",
   "version": "3.9.21"
  }
 },
 "nbformat": 4,
 "nbformat_minor": 5
}
