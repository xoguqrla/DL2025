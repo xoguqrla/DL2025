{
 "cells": [
  {
   "cell_type": "raw",
   "id": "2bae03b7-5d24-42fd-be93-2e55250903ba",
   "metadata": {
    "id": "87b5cded-346b-4915-acf5-b5ec93a5207d"
   },
   "source": [
    "---\n",
    "title: \"01wk-2, 02wk-1: 회귀모형, 손실함수, 파이토치를 이용한 추정\"\n",
    "author: \"최규빈\"\n",
    "date: \"03/10/2025\"\n",
    "draft: false\n",
    "---"
   ]
  },
  {
   "cell_type": "markdown",
   "id": "7acc27eb-dbc2-4906-bed2-beeb5ebc533f",
   "metadata": {
    "id": "e67ab8e0"
   },
   "source": [
    "<a href=\"https://colab.research.google.com/github/guebin/DL2025/blob/main/posts/01wk-2.ipynb\"><img src=\"https://colab.research.google.com/assets/colab-badge.svg\" style=\"text-align: left\"></a>"
   ]
  },
  {
   "cell_type": "markdown",
   "id": "42283ea5-9988-4d62-9f32-50b9ab00be58",
   "metadata": {
    "id": "4d47a7c9"
   },
   "source": [
    "# 1. 강의영상"
   ]
  },
  {
   "cell_type": "markdown",
   "id": "d587d2da-659e-4955-b5b2-0491206df19e",
   "metadata": {},
   "source": [
    "***2025-03-10 (01wk-2) 강의***"
   ]
  },
  {
   "cell_type": "markdown",
   "id": "ab2782e5-f60b-4f52-866e-7dde035d6a4d",
   "metadata": {},
   "source": [
    "{{<video https://youtu.be/playlist?list=PLQqh36zP38-w8UdF7IDYX8PV-PCGXTwPY&si=YLu7y_jGU_MC6yHH >}}"
   ]
  },
  {
   "cell_type": "markdown",
   "id": "a7b77940-1398-4322-9ab3-40410f433bd7",
   "metadata": {},
   "source": [
    "***2025-03-12 (02wk-1) 강의***"
   ]
  },
  {
   "cell_type": "markdown",
   "id": "106f9012-97ce-4b07-a5b8-a632d2d510db",
   "metadata": {},
   "source": [
    "{{<video https://youtu.be/playlist?list=PLQqh36zP38-zoOoXFPBCjKP7ipWth43-N&si=Rg6xrZA1peD-w_Q6 >}}"
   ]
  },
  {
   "cell_type": "markdown",
   "id": "9bd3e77a-8106-4a29-b159-7e84ac786a9d",
   "metadata": {},
   "source": [
    "# 2. Imports"
   ]
  },
  {
   "cell_type": "code",
   "execution_count": 1,
   "id": "b3492227-5150-4882-a846-1012c1c7c416",
   "metadata": {},
   "outputs": [],
   "source": [
    "import torch\n",
    "import matplotlib.pyplot as plt "
   ]
  },
  {
   "cell_type": "code",
   "execution_count": 2,
   "id": "c4db1262-e218-413e-8f5a-419766fd1f33",
   "metadata": {},
   "outputs": [],
   "source": [
    "plt.rcParams['figure.figsize'] = (4.5, 3.0)"
   ]
  },
  {
   "cell_type": "markdown",
   "id": "176bd428-5462-40b6-b7c6-a7c9ce896aad",
   "metadata": {},
   "source": [
    "# 3. 회귀모형 -- intro"
   ]
  },
  {
   "cell_type": "markdown",
   "id": "a95d7b99-f07a-41f4-9a7b-9c238f78fad9",
   "metadata": {},
   "source": [
    "## A. 아이스 아메리카노 (가짜자료)"
   ]
  },
  {
   "cell_type": "markdown",
   "id": "78efffed-d6c9-47ed-8c4f-91b23160c14c",
   "metadata": {},
   "source": [
    "`-` 카페주인인 박혜원씨는 온도와 아이스아메리카노 판매량이 관계가 있다는 것을 알았다. 구체적으로는 \n",
    "\n",
    "> \"온도가 높아질 수록 (=날씨가 더울수록) 아이스아메리카노의 판매량이 증가\"\n",
    "\n",
    "한다는 사실을 알게 되었다. 이를 확인하기 위해서 아래와 같이 100개의 데이터를 모았다. "
   ]
  },
  {
   "cell_type": "code",
   "execution_count": 3,
   "id": "f7a3fde5-1c9e-4c10-bf4d-57f0c7c542e4",
   "metadata": {
    "tags": []
   },
   "outputs": [],
   "source": [
    "temp = [-2.4821, -2.3621, -1.9973, -1.6239, -1.4792, -1.4635, -1.4509, -1.4435,\n",
    "        -1.3722, -1.3079, -1.1904, -1.1092, -1.1054, -1.0875, -0.9469, -0.9319,\n",
    "        -0.8643, -0.7858, -0.7549, -0.7421, -0.6948, -0.6103, -0.5830, -0.5621,\n",
    "        -0.5506, -0.5058, -0.4806, -0.4738, -0.4710, -0.4676, -0.3874, -0.3719,\n",
    "        -0.3688, -0.3159, -0.2775, -0.2772, -0.2734, -0.2721, -0.2668, -0.2155,\n",
    "        -0.2000, -0.1816, -0.1708, -0.1565, -0.1448, -0.1361, -0.1057, -0.0603,\n",
    "        -0.0559, -0.0214,  0.0655,  0.0684,  0.1195,  0.1420,  0.1521,  0.1568,\n",
    "         0.2646,  0.2656,  0.3157,  0.3220,  0.3461,  0.3984,  0.4190,  0.5443,\n",
    "         0.5579,  0.5913,  0.6148,  0.6469,  0.6469,  0.6523,  0.6674,  0.7059,\n",
    "         0.7141,  0.7822,  0.8154,  0.8668,  0.9291,  0.9804,  0.9853,  0.9941,\n",
    "         1.0376,  1.0393,  1.0697,  1.1024,  1.1126,  1.1532,  1.2289,  1.3403,\n",
    "         1.3494,  1.4279,  1.4994,  1.5031,  1.5437,  1.6789,  2.0832,  2.2444,\n",
    "         2.3935,  2.6056,  2.6057,  2.6632]"
   ]
  },
  {
   "cell_type": "code",
   "execution_count": 4,
   "id": "47fc7404-3b20-49bb-8969-9708f61e7847",
   "metadata": {
    "tags": []
   },
   "outputs": [],
   "source": [
    "sales= [-8.5420, -6.5767, -5.9496, -4.4794, -4.2516, -3.1326, -4.0239, -4.1862,\n",
    "        -3.3403, -2.2027, -2.0262, -2.5619, -1.3353, -2.0466, -0.4664, -1.3513,\n",
    "        -1.6472, -0.1089, -0.3071, -0.6299, -0.0438,  0.4163,  0.4166, -0.0943,\n",
    "         0.2662,  0.4591,  0.8905,  0.8998,  0.6314,  1.3845,  0.8085,  1.2594,\n",
    "         1.1211,  1.9232,  1.0619,  1.3552,  2.1161,  1.1437,  1.6245,  1.7639,\n",
    "         1.6022,  1.7465,  0.9830,  1.7824,  2.1116,  2.8621,  2.1165,  1.5226,\n",
    "         2.5572,  2.8361,  3.3956,  2.0679,  2.8140,  3.4852,  3.6059,  2.5966,\n",
    "         2.8854,  3.9173,  3.6527,  4.1029,  4.3125,  3.4026,  3.2180,  4.5686,\n",
    "         4.3772,  4.3075,  4.4895,  4.4827,  5.3170,  5.4987,  5.4632,  6.0328,\n",
    "         5.2842,  5.0539,  5.4538,  6.0337,  5.7250,  5.7587,  6.2020,  6.5992,\n",
    "         6.4621,  6.5140,  6.6846,  7.3497,  8.0909,  7.0794,  6.8667,  7.4229,\n",
    "         7.2544,  7.1967,  9.5006,  9.0339,  7.4887,  9.0759, 11.0946, 10.3260,\n",
    "        12.2665, 13.0983, 12.5468, 13.8340]"
   ]
  },
  {
   "cell_type": "markdown",
   "id": "b4409a02-a1e4-48ab-8253-2b484dcf8a78",
   "metadata": {},
   "source": [
    "여기에서 `temp`는 평균기온이고, `sales`는 아이스아메리카노 판매량이다. 평균기온과 판매량의 그래프를 그려보면 아래와 같다. "
   ]
  },
  {
   "cell_type": "code",
   "execution_count": 5,
   "id": "3417fa7a-c386-4a30-8c43-b2f94e3ffae2",
   "metadata": {
    "tags": []
   },
   "outputs": [
    {
     "data": {
      "text/plain": [
       "[<matplotlib.lines.Line2D at 0x7f304baf4820>]"
      ]
     },
     "execution_count": 5,
     "metadata": {},
     "output_type": "execute_result"
    },
    {
     "data": {
      "image/png": "[encoded data removed]",
      "text/plain": [
       "<Figure size 450x300 with 1 Axes>"
      ]
     },
     "metadata": {},
     "output_type": "display_data"
    }
   ],
   "source": [
    "plt.plot(temp,sales,'o')"
   ]
  },
  {
   "cell_type": "markdown",
   "id": "dc4e1ae2-9f8f-41f3-ae5e-a714cb4f24df",
   "metadata": {},
   "source": [
    "오늘 바깥의 온도는 0.5도 이다. 아이스 아메라카노를 몇잔정도 만들어 두면 좋을까? "
   ]
  },
  {
   "cell_type": "markdown",
   "id": "0d17f9e3-112b-42c3-ad71-4fdb6e66bd7a",
   "metadata": {},
   "source": [
    "## B. 가짜자료를 만든 방법"
   ]
  },
  {
   "cell_type": "markdown",
   "id": "1fbdea9f-c0cd-4d54-86d4-e9d9e60c2318",
   "metadata": {},
   "source": [
    "`-` 방법1:\n",
    "$y_i= w_0+w_1 x_i +\\epsilon_i = 2.5 + 4x_i +\\epsilon_i, \\quad i=1,2,\\dots,n$"
   ]
  },
  {
   "cell_type": "code",
   "execution_count": 6,
   "id": "1e42dd61-e19e-4277-a004-2ea847b044d5",
   "metadata": {},
   "outputs": [],
   "source": [
    "torch.manual_seed(43052)\n",
    "x,_ = torch.randn(100).sort()\n",
    "eps = torch.randn(100)*0.5\n",
    "y = x * 4 + 2.5 + eps"
   ]
  },
  {
   "cell_type": "code",
   "execution_count": 7,
   "id": "059036cd-298d-453f-9649-f98473cd8541",
   "metadata": {},
   "outputs": [
    {
     "data": {
      "text/plain": [
       "(tensor([-2.4821, -2.3621, -1.9973, -1.6239, -1.4792]),\n",
       " tensor([-8.5420, -6.5767, -5.9496, -4.4794, -4.2516]))"
      ]
     },
     "execution_count": 7,
     "metadata": {},
     "output_type": "execute_result"
    }
   ],
   "source": [
    "x[:5], y[:5]"
   ]
  },
  {
   "cell_type": "markdown",
   "id": "9f3b31a8-d7cc-416c-8a1e-4b30108dd4dc",
   "metadata": {},
   "source": [
    "`-` 방법2: ${\\bf y}={\\bf X}{\\bf W} +\\boldsymbol{\\epsilon}$\n",
    "\n",
    "-   ${\\bf y}=\\begin{bmatrix} y_1 \\\\ y_2 \\\\ \\dots \\\\ y_n\\end{bmatrix}, \\quad {\\bf X}=\\begin{bmatrix} 1 & x_1 \\\\ 1 & x_2 \\\\ \\dots \\\\ 1 & x_n\\end{bmatrix}, \\quad {\\bf W}=\\begin{bmatrix} 2.5 \\\\ 4 \\end{bmatrix}, \\quad \\boldsymbol{\\epsilon}= \\begin{bmatrix} \\epsilon_1 \\\\ \\dots \\\\ \\epsilon_n\\end{bmatrix}$"
   ]
  },
  {
   "cell_type": "code",
   "execution_count": 8,
   "id": "1c21240b-bef0-42cc-aa8a-93a38c45b226",
   "metadata": {},
   "outputs": [],
   "source": [
    "X = torch.stack([torch.ones(100),x],axis=1)\n",
    "W = torch.tensor([[2.5],[4.0]])\n",
    "y = X@W + eps.reshape(100,1)\n",
    "x = X[:,[1]]"
   ]
  },
  {
   "cell_type": "code",
   "execution_count": 9,
   "id": "30ca0400-f667-4c45-8983-92a7ba9b0848",
   "metadata": {},
   "outputs": [
    {
     "data": {
      "text/plain": [
       "(tensor([[ 1.0000, -2.4821],\n",
       "         [ 1.0000, -2.3621],\n",
       "         [ 1.0000, -1.9973],\n",
       "         [ 1.0000, -1.6239],\n",
       "         [ 1.0000, -1.4792]]),\n",
       " tensor([[-8.5420],\n",
       "         [-6.5767],\n",
       "         [-5.9496],\n",
       "         [-4.4794],\n",
       "         [-4.2516]]))"
      ]
     },
     "execution_count": 9,
     "metadata": {},
     "output_type": "execute_result"
    }
   ],
   "source": [
    "X[:5,:], y[:5,:]"
   ]
  },
  {
   "cell_type": "markdown",
   "id": "863e2c0a-4b66-444e-8b7f-3be05aec6cf3",
   "metadata": {},
   "source": [
    "`-` ture와 observed data를 동시에 시각화 "
   ]
  },
  {
   "cell_type": "code",
   "execution_count": 10,
   "id": "2e5a3001-bb29-4fb5-a852-ef4ed285917d",
   "metadata": {},
   "outputs": [
    {
     "data": {
      "text/plain": [
       "<matplotlib.legend.Legend at 0x7f3049a1cdf0>"
      ]
     },
     "execution_count": 10,
     "metadata": {},
     "output_type": "execute_result"
    },
    {
     "data": {
      "image/png": "[encoded data removed]",
      "text/plain": [
       "<Figure size 450x300 with 1 Axes>"
      ]
     },
     "metadata": {},
     "output_type": "display_data"
    }
   ],
   "source": [
    "plt.plot(x,y,'o',label=r\"observed data: $(x_i,y_i)$\")\n",
    "#plt.plot(x,2.5+4*x,'--',label=r\"true: $(x_i, 4x_i+2.5)$ // $y=4x+2.5$ \")\n",
    "plt.legend()"
   ]
  },
  {
   "cell_type": "markdown",
   "id": "e9fabde2-8279-47a8-86dc-3f12d44424d5",
   "metadata": {},
   "source": [
    "## C. 회귀분석이란?"
   ]
  },
  {
   "cell_type": "markdown",
   "id": "53309363-d53f-422b-aa79-a1f2722b18ce",
   "metadata": {},
   "source": [
    "`-` 클리셰: 관측한 자료 $(x_i,y_i)$ 가 있음 $\\to$ 우리는 $(x_i,y_i)$의 관계를 파악하여 새로운 $x$가 왔을때 그것에 대한 예측값(predicted value) $\\hat{y}$을 알아내는 법칙을 알고 싶음 $\\to$ 관계를 파악하기 위해서 $(x_i, y_i)$의 산점도를 그려보니 $x_i$와 $y_i$는 선형성을 가지고 있다는 것이 파악됨 $\\to$ 오차항이 등분산성을 가지고 어쩌고 저쩌고... $\\to$ 하여튼 $(x_i,y_i)$ 를 **\"적당히 잘 관통하는\"** 어떠한 하나의 추세선을 잘 추정하면 된다. "
   ]
  },
  {
   "cell_type": "markdown",
   "id": "a1e54786-c68f-4dcd-ad6d-1377392f9396",
   "metadata": {},
   "source": [
    "`-` 회귀분석이란 산점도를 보고 적당한 추세선을 찾는 것이다. 좀 더 정확하게 말하면\n",
    "$(x_1,y_1) \\dots (x_n,y_n)$ 으로 $\\begin{bmatrix} \\hat{w}_0 \\\\ \\hat{w}_1 \\end{bmatrix}$ 를 최대한 $\\begin{bmatrix} 2.5 \\\\ 4 \\end{bmatrix}$와 비슷하게 찾는 것.\n",
    "\n",
    "-   given data : $\\big\\{(x_i,y_i) \\big\\}_{i=1}^{n}$\n",
    "\n",
    "-   parameter: ${\\bf W}=\\begin{bmatrix} w_0 \\\\ w_1 \\end{bmatrix}$\n",
    "\n",
    "-   estimated parameter:\n",
    "    ${\\bf \\hat{W}}=\\begin{bmatrix} \\hat{w}_0 \\\\ \\hat{w}_1 \\end{bmatrix}$"
   ]
  },
  {
   "cell_type": "markdown",
   "id": "af04bc94-3624-47c3-8cd4-2e2e3190e0ce",
   "metadata": {},
   "source": [
    "`-` 더 쉽게 말하면 아래의 그림을 보고 **\"적당한\"** 추세선을 찾는 것이다."
   ]
  },
  {
   "cell_type": "code",
   "execution_count": 11,
   "id": "282e6b94-ad11-4662-a297-974154f667e9",
   "metadata": {},
   "outputs": [
    {
     "data": {
      "text/plain": [
       "<matplotlib.legend.Legend at 0x7f3049843d00>"
      ]
     },
     "execution_count": 11,
     "metadata": {},
     "output_type": "execute_result"
    },
    {
     "data": {
      "image/png": "[encoded data removed]",
      "text/plain": [
       "<Figure size 450x300 with 1 Axes>"
      ]
     },
     "metadata": {},
     "output_type": "display_data"
    }
   ],
   "source": [
    "plt.plot(x,y,'o',label=r\"observed data: $(x_i,y_i)$\")\n",
    "plt.legend()"
   ]
  },
  {
   "cell_type": "markdown",
   "id": "c5d19911-7410-4b4e-85b1-e79ac522d7fd",
   "metadata": {},
   "source": [
    "`-` 추세선을 그리는 행위 = $(w_0,w_1)$을 선택하는일 "
   ]
  },
  {
   "cell_type": "markdown",
   "id": "6f643b53-6547-4a46-b6e4-24ad3398ed39",
   "metadata": {},
   "source": [
    "# 4. 손실함수 "
   ]
  },
  {
   "cell_type": "markdown",
   "id": "93e30746-ac6f-4206-9d91-502f1de87054",
   "metadata": {},
   "source": [
    "`# 예제1` -- $(\\hat{w}_0,\\hat{w}_1)=(-5,10)$을 선택하여 선을 그려보고 적당한지 판단해보자"
   ]
  },
  {
   "cell_type": "code",
   "execution_count": 12,
   "id": "6a80e79b-6b5e-4bf3-b45c-76a95ce43a18",
   "metadata": {},
   "outputs": [
    {
     "data": {
      "text/plain": [
       "<matplotlib.legend.Legend at 0x7f3049834310>"
      ]
     },
     "execution_count": 12,
     "metadata": {},
     "output_type": "execute_result"
    },
    {
     "data": {
      "image/png": "[encoded data removed]",
      "text/plain": [
       "<Figure size 450x300 with 1 Axes>"
      ]
     },
     "metadata": {},
     "output_type": "display_data"
    }
   ],
   "source": [
    "plt.plot(x,y,'o',label=r\"observed data: $(x_i,y_i)$\") \n",
    "What = torch.tensor([[-5.0],[10.0]])\n",
    "plt.plot(x,X@What,'--',label=r\"estimated line: $(x_i,\\hat{y}_i)$\")\n",
    "plt.legend()"
   ]
  },
  {
   "cell_type": "markdown",
   "id": "b2568833-7e94-4605-b4c3-208628768a13",
   "metadata": {},
   "source": [
    "`#`"
   ]
  },
  {
   "cell_type": "markdown",
   "id": "d99f8b29-4d74-4b38-96bf-dd4e33fbb75d",
   "metadata": {},
   "source": [
    "`# 예제2` -- $(\\hat{w}_0,\\hat{w}_1)=(2.5,3.5)$을 선택하여 선을 그려보고 적당한지 판단해보자"
   ]
  },
  {
   "cell_type": "code",
   "execution_count": 13,
   "id": "2e81abb0-29b8-458a-b596-042aedcccc33",
   "metadata": {},
   "outputs": [
    {
     "data": {
      "text/plain": [
       "<matplotlib.legend.Legend at 0x7f30497b40d0>"
      ]
     },
     "execution_count": 13,
     "metadata": {},
     "output_type": "execute_result"
    },
    {
     "data": {
      "image/png": "[encoded data removed]",
      "text/plain": [
       "<Figure size 450x300 with 1 Axes>"
      ]
     },
     "metadata": {},
     "output_type": "display_data"
    }
   ],
   "source": [
    "plt.plot(x,y,'o',label=r\"observed data: $(x_i,y_i)$\") \n",
    "What = torch.tensor([[2.5],[3.5]])\n",
    "plt.plot(x,X@What,'--',label=r\"estimated line: $(x_i,\\hat{y}_i)$\")\n",
    "plt.legend()"
   ]
  },
  {
   "cell_type": "markdown",
   "id": "b361e003-7db4-4ab2-b30d-1893bdd739b0",
   "metadata": {},
   "source": [
    "`#`"
   ]
  },
  {
   "cell_type": "markdown",
   "id": "309fb32e-655a-41ad-87d7-32aa605b17c5",
   "metadata": {},
   "source": [
    "`# 예제3` -- $(\\hat{w}_0,\\hat{w}_1)=(2.3,3.5)$을 선택하여 선을 그려보고 적당한지 판단해보자"
   ]
  },
  {
   "cell_type": "code",
   "execution_count": 14,
   "id": "ea6dc899-6bdb-4b77-884b-fd0fffe5a02e",
   "metadata": {},
   "outputs": [
    {
     "data": {
      "text/plain": [
       "<matplotlib.legend.Legend at 0x7f3049727940>"
      ]
     },
     "execution_count": 14,
     "metadata": {},
     "output_type": "execute_result"
    },
    {
     "data": {
      "image/png": "[encoded data removed]",
      "text/plain": [
       "<Figure size 450x300 with 1 Axes>"
      ]
     },
     "metadata": {},
     "output_type": "display_data"
    }
   ],
   "source": [
    "plt.plot(x,y,'o',label=r\"observed data: $(x_i,y_i)$\") \n",
    "What = torch.tensor([[2.3],[3.5]])\n",
    "plt.plot(x,X@What,'--',label=r\"estimated line: $(x_i,\\hat{y}_i)$\")\n",
    "plt.legend()"
   ]
  },
  {
   "cell_type": "code",
   "execution_count": 15,
   "id": "3080dfd5-40ab-466f-8616-ca054053fe23",
   "metadata": {
    "scrolled": true
   },
   "outputs": [
    {
     "data": {
      "text/plain": [
       "<matplotlib.legend.Legend at 0x7f3049785730>"
      ]
     },
     "execution_count": 15,
     "metadata": {},
     "output_type": "execute_result"
    },
    {
     "data": {
      "image/png": "[encoded data removed]",
      "text/plain": [
       "<Figure size 450x300 with 1 Axes>"
      ]
     },
     "metadata": {},
     "output_type": "display_data"
    }
   ],
   "source": [
    "plt.plot(x,y,'o',label=r\"observed data: $(x_i,y_i)$\") \n",
    "What = torch.tensor([[2.3],[3.5]])\n",
    "plt.plot(x,X@What,'--',label=r\"estimated: $(x_i,\\hat{y}_i)$\")\n",
    "plt.legend()"
   ]
  },
  {
   "cell_type": "markdown",
   "id": "93e073ca-7e8b-4978-ac1c-738f9ab5b3fd",
   "metadata": {},
   "source": [
    "`#`"
   ]
  },
  {
   "cell_type": "markdown",
   "id": "dbbc1750-360e-4957-80f2-e1046694c42d",
   "metadata": {},
   "source": [
    "`# 예제4` -- 예제2의 추세선과 예제3의 추세선 중 뭐가 더 적당한가?"
   ]
  },
  {
   "cell_type": "markdown",
   "id": "c2352eb2-82b2-4ff4-9169-ac7a26d18c47",
   "metadata": {},
   "source": [
    "`-` (고민) 왠지 예제2가 더 적당하다고 답해야할 것 같은데.. 육안으로 판단하기 까다롭다.. "
   ]
  },
  {
   "cell_type": "markdown",
   "id": "4653b107-9d6d-4bdb-8d70-60558a2f3acf",
   "metadata": {},
   "source": [
    "`-` 적당함을 수식화 할 수 없을까? "
   ]
  },
  {
   "cell_type": "markdown",
   "id": "8d5e50a0-600a-4d42-8d10-1f4146ff6bf2",
   "metadata": {},
   "source": [
    "`-` \"적당한 정도\"를 판단하기 위한 장치: loss의 개념 도입 \n",
    "\n",
    "$loss = \\sum_{i=1}^{n}(y_i- \\hat{y}_i)^2 = \\sum_{i=1}^{n}\\big(y_i - (\\hat{w}_0+\\hat{w}_1x_i)\\big)^2$\n",
    "\n",
    "$=({\\bf y}-\\hat{\\bf y})^\\top({\\bf y}-\\hat{\\bf y})=({\\bf y}-{\\bf X}\\hat{\\bf W})^\\top({\\bf y}-{\\bf X}\\hat{\\bf W})$\n"
   ]
  },
  {
   "cell_type": "markdown",
   "id": "eab31640-4d1c-4559-879b-3818d32544f9",
   "metadata": {},
   "source": [
    "`-` loss의 특징\n",
    "\n",
    "- $y_i \\approx \\hat{y}_i$ 일수록 loss 값이 작음\n",
    "- $y_i \\approx \\hat{y}_i$ 이 되도록 $(\\hat{w}_0, \\hat{w}_1)$을 잘 찍으면 loss 값이 작음\n",
    "- 주황색 점선이 \"적당할수록\" loss 값이 작음 (그럼 우리 의도대로 된거네?)"
   ]
  },
  {
   "cell_type": "markdown",
   "id": "be41705e-0547-40a2-8dd3-2874b643236a",
   "metadata": {},
   "source": [
    "`-` loss를 써먹어보자. "
   ]
  },
  {
   "cell_type": "code",
   "execution_count": 16,
   "id": "209d72df-02a5-4f93-945c-f29ec56bcf6e",
   "metadata": {},
   "outputs": [
    {
     "name": "stdout",
     "output_type": "stream",
     "text": [
      "loss: 55.074012756347656\n",
      "loss: 59.3805046081543\n"
     ]
    }
   ],
   "source": [
    "What = torch.tensor([[2.5],[3.5]]) # 예제2에서 찍은 What값 \n",
    "print(f\"loss: {torch.sum((y - X@What)**2)}\")\n",
    "\n",
    "What = torch.tensor([[2.3],[3.5]]) # 예제3에서 찍은 What값\n",
    "print(f\"loss: {torch.sum((y - X@What)**2)}\")"
   ]
  },
  {
   "cell_type": "code",
   "execution_count": 17,
   "id": "4efa6269-9e5d-4787-85aa-6dd1989589fb",
   "metadata": {},
   "outputs": [
    {
     "name": "stdout",
     "output_type": "stream",
     "text": [
      "loss: tensor([[55.0740]])\n",
      "loss: tensor([[59.3805]])\n"
     ]
    }
   ],
   "source": [
    "What = torch.tensor([[2.5],[3.5]]) # 예제2에서 찍은 What값 \n",
    "print(f\"loss: {(y - X@What).T @ (y - X@What)}\")\n",
    "\n",
    "What = torch.tensor([[2.3],[3.5]]) # 예제3에서 찍은 What값\n",
    "print(f\"loss: {(y - X@What).T @ (y - X@What)}\")"
   ]
  },
  {
   "cell_type": "markdown",
   "id": "16c9260e-b045-4a82-b1e7-319ff79654e3",
   "metadata": {},
   "source": [
    "`#`"
   ]
  },
  {
   "cell_type": "markdown",
   "id": "56e32cb9-7855-49bd-8590-756c85197a97",
   "metadata": {},
   "source": [
    "# 5. 파이토치를 이용한 반복추정 "
   ]
  },
  {
   "cell_type": "markdown",
   "id": "8c44027c-b5b8-42af-98f1-70bbac2b745f",
   "metadata": {},
   "source": [
    "`-` **추정의 전략 (손실함수도입 + 경사하강법)**\n",
    "\n",
    "-   1단계: 아무 점선이나 그어본다..\n",
    "-   2단계: 1단계에서 그은 점선보다 더 좋은 점선으로 바꾼다. (=1단계에서 그은 점선보다 손실값이 작은 하나의 직선을 찾는다) \n",
    "-   3단계: 1-2단계를 반복한다."
   ]
  },
  {
   "cell_type": "markdown",
   "id": "88cc22b9-9ec8-4032-a79a-4c27ae799c58",
   "metadata": {},
   "source": [
    "## A. 1단계 -- 최초의 점선 "
   ]
  },
  {
   "cell_type": "code",
   "execution_count": 18,
   "id": "4b23b8aa-08aa-4e33-aebd-4f0962be810b",
   "metadata": {
    "tags": []
   },
   "outputs": [
    {
     "data": {
      "text/plain": [
       "tensor([[-5.],\n",
       "        [10.]])"
      ]
     },
     "execution_count": 18,
     "metadata": {},
     "output_type": "execute_result"
    }
   ],
   "source": [
    "What = torch.tensor([[-5.0],[10.0]])\n",
    "What"
   ]
  },
  {
   "cell_type": "code",
   "execution_count": 19,
   "id": "39ce57eb-8069-412b-9134-f1cc26c2e183",
   "metadata": {
    "tags": []
   },
   "outputs": [],
   "source": [
    "yhat = X@What "
   ]
  },
  {
   "cell_type": "code",
   "execution_count": 20,
   "id": "038ae8eb-17fe-4490-83a7-87340258d6e7",
   "metadata": {
    "tags": []
   },
   "outputs": [
    {
     "data": {
      "text/plain": [
       "[<matplotlib.lines.Line2D at 0x7f304957a250>]"
      ]
     },
     "execution_count": 20,
     "metadata": {},
     "output_type": "execute_result"
    },
    {
     "data": {
      "image/png": "[encoded data removed]",
      "text/plain": [
       "<Figure size 450x300 with 1 Axes>"
      ]
     },
     "metadata": {},
     "output_type": "display_data"
    }
   ],
   "source": [
    "plt.plot(x,y,'o')\n",
    "plt.plot(x,yhat.data,'--')"
   ]
  },
  {
   "cell_type": "markdown",
   "id": "9e26eae0-b9dc-4f2c-b66f-97af6fadc320",
   "metadata": {},
   "source": [
    "## B. 2단계 -- update "
   ]
  },
  {
   "cell_type": "markdown",
   "id": "2017b86b-8d4a-4454-9bf7-80da720f0c97",
   "metadata": {},
   "source": [
    "`-` ’적당한 정도’를 판단하기 위한 장치: loss function 도입!\n",
    "\n",
    "$$loss=\\sum_{i=1}^{n}(y_i-\\hat{y}_i)^2=\\sum_{i=1}^{n}(y_i-(\\hat{w}_0+\\hat{w}_1x_i))^2=({\\bf y}-{\\bf\\hat{y}})^\\top({\\bf y}-{\\bf\\hat{y}})=({\\bf y}-{\\bf X}{\\bf \\hat{W}})^\\top({\\bf y}-{\\bf X}{\\bf \\hat{W}})$$"
   ]
  },
  {
   "cell_type": "markdown",
   "id": "f4364c2c-9f50-4458-af69-41b7b0ecd82b",
   "metadata": {},
   "source": [
    "`-` loss 함수의 특징: 위 그림의 주황색 점선이 ‘적당할 수록’ loss값이 작다."
   ]
  },
  {
   "cell_type": "code",
   "execution_count": 21,
   "id": "ea6ff4c3-f92b-4b6a-a38a-28506180aa1b",
   "metadata": {},
   "outputs": [
    {
     "data": {
      "text/plain": [
       "[<matplotlib.lines.Line2D at 0x7f304989aca0>]"
      ]
     },
     "execution_count": 21,
     "metadata": {},
     "output_type": "execute_result"
    },
    {
     "data": {
      "image/png": "[encoded data removed]",
      "text/plain": [
       "<Figure size 450x300 with 1 Axes>"
      ]
     },
     "metadata": {},
     "output_type": "display_data"
    }
   ],
   "source": [
    "plt.plot(x,y,'o')\n",
    "plt.plot(x,yhat)"
   ]
  },
  {
   "cell_type": "code",
   "execution_count": 22,
   "id": "cb13ab47-94a0-459c-8416-6990c2ad06d1",
   "metadata": {
    "tags": []
   },
   "outputs": [
    {
     "data": {
      "text/plain": [
       "tensor(8587.6875)"
      ]
     },
     "execution_count": 22,
     "metadata": {},
     "output_type": "execute_result"
    }
   ],
   "source": [
    "loss = torch.sum((y-yhat)**2)\n",
    "loss"
   ]
  },
  {
   "cell_type": "markdown",
   "id": "0c78e08b-3848-4a2a-bfb7-ab0286971519",
   "metadata": {},
   "source": [
    "`-` 우리의 목표: 이 loss(=8587.6275)을 더 줄이자. \n",
    "\n",
    "- 궁극적으로는 아예 모든 조합 $(\\hat{w}_0,\\hat{w}_1)$에 대하여 가장 작은 loss를 찾으면 좋겠다. "
   ]
  },
  {
   "cell_type": "markdown",
   "id": "c43daf15-4fa5-48fa-b2b0-213bc391490b",
   "metadata": {},
   "source": [
    "`-` 문제의 치환: 생각해보니까 우리의 문제는 아래와 같이 수학적으로 단순화 되었다.\n",
    "\n",
    "-   가장 적당한 주황색 선을 찾자 $\\to$ $loss(\\hat{w}_0,\\hat{w}_1)$를 최소로하는 $(\\hat{w}_0,\\hat{w}_1)$의 값을 찾자.\n",
    "\n",
    "`-` 수정된 목표: $loss(\\hat{w}_0,\\hat{w}_1)$를 최소로 하는 $(\\hat{w}_0,\\hat{w}_1)$을 구하라.\n",
    "\n",
    "-   단순한 수학문제가 되었다. 이것은 마치 $f(x,y)$를 최소화하는\n",
    "    $(x,y)$를 찾으라는 것임.\n",
    "-   함수의 최대값 혹은 최소값을 컴퓨터를 이용하여 찾는것을 “최적화”라고 하며 이는 산공교수님들이 가장 잘하는 분야임. (산공교수님들에게 부탁하면 잘해줌, 산공교수님들은 보통 최적화해서 어디에 쓸지보다 최적화 자체에 더 관심을 가지고 연구하심)\n",
    "-   최적화를 하는 방법? 경사하강법\n"
   ]
  },
  {
   "cell_type": "markdown",
   "id": "d0bf0cef-9258-4725-892e-d0a8a7026792",
   "metadata": {},
   "source": [
    "`# 경사하강법 아이디어 (1차원)`\n",
    "\n",
    "1.  임의의 점을 찍는다.\n",
    "2.  그 점에서 순간기울기를 구한다. (접선) \\<– 미분\n",
    "3.  순간기울기(=미분계수)의 부호를 살펴보고 부호와 반대방향으로 움직인다.\n",
    "\n",
    "> 팁: 기울기의 절대값 크기와 비례하여 보폭(=움직이는 정도)을 조절한다.\n",
    "> $\\to$ $\\alpha$를 도입\n",
    "\n",
    "> 최종수식:\n",
    "> $\\hat{w} \\leftarrow \\hat{w} - \\alpha \\times \\frac{\\partial}{\\partial w}loss(w)$\n",
    "\n",
    "`#`"
   ]
  },
  {
   "cell_type": "markdown",
   "id": "601d9203-6e86-4ad9-9e77-c3c4ee3649a6",
   "metadata": {},
   "source": [
    "`# 경사하강법 아이디어 (2차원)`\n",
    "\n",
    "![](https://guebin.github.io/DL2024/posts/02wk-1_files/figure-html/cell-37-output-1.png)\n",
    "\n",
    "1.  임의의 점을 찍는다.\n",
    "2.  그 점에서 순간기울기를 구한다. (접평면) \\<– 편미분\n",
    "3.  순간기울기(=미분계수)의 부호를 살펴보고 부호와 반대방향으로 각각 움직인다.\n",
    "\n",
    "> 팁: 여기서도 기울기의 절대값 크기와 비례하여 보폭(=움직이는 정도)을 각각 조절한다. $\\to$ $\\alpha$를 도입.\n",
    "\n",
    "\n",
    "`#`"
   ]
  },
  {
   "cell_type": "markdown",
   "id": "cddf58d9-1718-4209-a5ff-b5e12d339545",
   "metadata": {},
   "source": [
    "`-` 경사하강법 = **loss를 줄이도록 ${\\bf \\hat{W}}$를 개선하는 방법**\n",
    "\n",
    "-   업데이트 공식: 수정값 = 원래값 - $\\alpha$ $\\times$ 기울어진크기(=미분계수)\n",
    "-   여기에서 $\\alpha$는 전체적인 보폭의 크기를 결정한다. 즉 $\\alpha$값이 클수록 한번의 update에 움직이는 양이 크다."
   ]
  },
  {
   "cell_type": "markdown",
   "id": "943a5388-7382-404b-aff0-e6b243e68931",
   "metadata": {},
   "source": [
    "`-` loss는 $\\hat{\\bf W} =\\begin{bmatrix} \\hat{w}_0 \\\\ \\hat{w}_1 \\end{bmatrix}$ 에 따라서 값이 바뀌는 함수로 해석가능하고 구체적인 형태는 아래와 같음."
   ]
  },
  {
   "cell_type": "markdown",
   "id": "44bceaea-8f7f-4304-b2d7-a1e16d754bb7",
   "metadata": {},
   "source": [
    "$$ loss(\\hat{w}_0,\\hat{w}_1) := loss(\\hat{\\bf W})=\\sum_{i=1}^{n}(y_i-(\\hat{w}_0+\\hat{w}_1x_i))^2=({\\bf y}-{\\bf X}{\\bf \\hat{W}})^\\top({\\bf y}-{\\bf X}{\\bf \\hat{W}})$$"
   ]
  },
  {
   "cell_type": "markdown",
   "id": "b3c46aca-7c92-45bf-95bc-c0a09278b485",
   "metadata": {},
   "source": [
    "따라서 구하고 싶은것은 아래와 같음 "
   ]
  },
  {
   "cell_type": "markdown",
   "id": "d2d0e8b0-12f2-4555-9471-37427e85e847",
   "metadata": {},
   "source": [
    "$$\\hat{\\bf W}^{LSE} = \\underset{\\bf \\hat{W}}{\\operatorname{argmin}} ~ loss(\\hat{\\bf W})$$"
   ]
  },
  {
   "cell_type": "markdown",
   "id": "68e29b21-9659-4ae7-bb26-3b3453dc2ca9",
   "metadata": {},
   "source": [
    ":::{.callout-warning}\n",
    "\n",
    "아래의 수식\n",
    "\n",
    "$$\\hat{\\bf W}^{LSE} = \\underset{\\bf \\hat{W}}{\\operatorname{argmin}} ~ loss(\\hat{\\bf W})$$\n",
    "\n",
    "은 아래와 같이 표현해도 무방합니다. \n",
    "\n",
    "$$\\hat{\\bf W} = \\underset{\\bf W}{\\operatorname{argmin}} ~ loss({\\bf W})$$ \n",
    "\n",
    "마치 함수 $f(\\hat{x})=({\\hat x}-1)^2$ 을 $f(x)=(x-1)^2$ 이라고 표현할 수 있는 것 처럼요..\n",
    ":::"
   ]
  },
  {
   "cell_type": "markdown",
   "id": "192a0ed3-5c85-477c-a429-52c6f2394b9e",
   "metadata": {},
   "source": [
    "***여기까지 01wk-2에서 수업했습니다~***"
   ]
  },
  {
   "cell_type": "markdown",
   "id": "b5a3538f-2ed2-44e1-96e8-4297d0fcbd50",
   "metadata": {},
   "source": [
    "--- "
   ]
  },
  {
   "cell_type": "markdown",
   "id": "753bf232-7fc2-4d72-82fd-7cd3f09cf904",
   "metadata": {},
   "source": [
    "***여기부터는 02wk-1에서..***"
   ]
  },
  {
   "cell_type": "markdown",
   "id": "ba581c37-f92d-4a26-b150-3c0d3313b049",
   "metadata": {},
   "source": [
    "`# 지난시간 복습`"
   ]
  },
  {
   "cell_type": "code",
   "execution_count": 23,
   "id": "f39cc40d-b915-488b-bcb8-74ba18285bb1",
   "metadata": {},
   "outputs": [],
   "source": [
    "# x,X,W,y // X = [1 x], W = [w0, w1]' # 회귀분석에서는 W=β\n",
    "# 회귀모형: y=X@W+ϵ = X@β+ϵ\n",
    "# true: E(y)=X@W\n",
    "# observed: (x,y)\n",
    "# estimated W = What = [w0hat, w1hat]' <-- 아무값이나넣었음.. \n",
    "# estimated y = yhat = X@What = X@β̂ \n",
    "# loss = yhat이랑 y랑 얼마나 비슷한지 = sum((y-yhat)^2)\n",
    "# (x,y) 보고 최적의 선분을 그리는것 = loss를 가장 작게 만드는 What = [w0hat, w1hat] 를 찾는것\n",
    "# 전략: (1) 아무 What나 찍는다 (2) 그거보다 더 나은 What을 찾는다. (3) 1-2를 반복한다. \n",
    "# 전략2가 어려운데, 이를 수행하는 방법이 경사하강법 \n",
    "# 경사하강법 알고리즘: 더나은What = 원래What - 0.1*미분값"
   ]
  },
  {
   "cell_type": "code",
   "execution_count": 24,
   "id": "a6b604d3-905e-4b0f-ae54-8b447e387382",
   "metadata": {},
   "outputs": [
    {
     "data": {
      "text/plain": [
       "tensor([[-5.],\n",
       "        [10.]])"
      ]
     },
     "execution_count": 24,
     "metadata": {},
     "output_type": "execute_result"
    }
   ],
   "source": [
    "What = torch.tensor([[-5.0],[10.0]])\n",
    "What"
   ]
  },
  {
   "cell_type": "code",
   "execution_count": 25,
   "id": "ed5a064b-2558-46d1-be3a-4fd3316cce86",
   "metadata": {},
   "outputs": [
    {
     "data": {
      "text/plain": [
       "[<matplotlib.lines.Line2D at 0x7f30498d1a60>]"
      ]
     },
     "execution_count": 25,
     "metadata": {},
     "output_type": "execute_result"
    },
    {
     "data": {
      "image/png": "[encoded data removed]",
      "text/plain": [
       "<Figure size 450x300 with 1 Axes>"
      ]
     },
     "metadata": {},
     "output_type": "display_data"
    }
   ],
   "source": [
    "yhat = X@What \n",
    "plt.plot(x,y,'o')\n",
    "plt.plot(x,yhat,'--')"
   ]
  },
  {
   "cell_type": "code",
   "execution_count": 26,
   "id": "dfeab035-ffcb-4553-9471-a144ee07a274",
   "metadata": {},
   "outputs": [
    {
     "data": {
      "text/plain": [
       "tensor(8587.6875)"
      ]
     },
     "execution_count": 26,
     "metadata": {},
     "output_type": "execute_result"
    }
   ],
   "source": [
    "loss = torch.sum((y-yhat)**2)\n",
    "loss"
   ]
  },
  {
   "cell_type": "markdown",
   "id": "aefafe7a-86ff-4e94-8940-b8571b53ac5a",
   "metadata": {},
   "source": [
    "복습끝~"
   ]
  },
  {
   "cell_type": "markdown",
   "id": "ae8ee57a-29db-4a5f-9313-e38901c33640",
   "metadata": {},
   "source": [
    "`#`"
   ]
  },
  {
   "cell_type": "markdown",
   "id": "9e6aea82-d2e4-4d2d-9f48-c511a504cf6e",
   "metadata": {},
   "source": [
    "`-` 더 나은 선으로 업데이트하기 위해서는 공식 \"`더나은What = 원래What - 0.1*미분값`\" 를 적용해야하고 이를 위해서는 `미분값`을 계산할 수 있어야 함. "
   ]
  },
  {
   "cell_type": "markdown",
   "id": "a1319828-68c8-4bf5-8564-8eba2bcdef3b",
   "metadata": {},
   "source": [
    ":::{.callout-important}\n",
    "\n",
    "경사하강법을 좀 더 엄밀하게 써보자. 경사하강법은 $loss(\\hat{\\bf W})$를 최소로 만드는 $\\hat{\\bf W}$를 컴퓨터로 구하는 방법인데, 구체적으로는 아래와 같다. \n",
    "\n",
    "`1`. 임의의 점 $\\hat{\\bf W}$를 찍는다. \n",
    "\n",
    "`2`. 그 점에서 순간기울기를 구한다. 즉 $\\left.\\frac{\\partial}{\\partial {\\bf W}}loss({\\bf W})\\right|_{{\\bf W}=\\hat{\\bf W}}$ 를 계산한다. \n",
    "\n",
    "`3`. $\\hat{\\bf W}$에서의 순간기울기의 부호를 살펴보고 부호와 반대방향으로 움직인다. 이때 기울기의 절대값 크기와 비례하여 보폭(=움직이는 정도)을 각각 조절한다. 즉 아래의 수식에 따라 업데이트 한다. \n",
    "\n",
    "$$\\hat{\\bf W} \\leftarrow \\hat{\\bf W} - \\alpha \\times \\left.\\frac{\\partial}{\\partial {\\bf W}}loss({\\bf W})\\right|_{{\\bf W}=\\hat{\\bf W}}$$\n",
    "\n",
    "여기에서 맨 마지막 수식을 간단하게 쓴 것이 `더나은What = 원래What - 0.1*미분값` 이다.\n",
    ":::"
   ]
  },
  {
   "cell_type": "markdown",
   "id": "b554741b-df64-41b7-ae3f-34f215f6f543",
   "metadata": {},
   "source": [
    "`-` 미분값을 계산하는 방법1"
   ]
  },
  {
   "cell_type": "code",
   "execution_count": 27,
   "id": "e5539aae-397d-478b-bdf4-81173d76bf22",
   "metadata": {},
   "outputs": [],
   "source": [
    "# 손실 8587.6875 를 계산하는 또 다른 방식\n",
    "def l(w0,w1):\n",
    "    yhat = w0 + w1*x\n",
    "    return torch.sum((y-yhat)**2)"
   ]
  },
  {
   "cell_type": "code",
   "execution_count": 28,
   "id": "6f8c88af-57d9-4459-81e4-655802c03a7c",
   "metadata": {},
   "outputs": [
    {
     "data": {
      "text/plain": [
       "tensor(8587.6875)"
      ]
     },
     "execution_count": 28,
     "metadata": {},
     "output_type": "execute_result"
    }
   ],
   "source": [
    "l(-5,10)"
   ]
  },
  {
   "cell_type": "code",
   "execution_count": 29,
   "id": "a6c72dc5-1320-48f7-8a46-2c1e6a074502",
   "metadata": {},
   "outputs": [
    {
     "name": "stdout",
     "output_type": "stream",
     "text": [
      "tensor(-1341.7968)\n",
      "tensor(1190.4297)\n"
     ]
    }
   ],
   "source": [
    "h=0.001\n",
    "print((l(-5+h,10) - l(-5,10))/h)\n",
    "print((l(-5,10+h) - l(-5,10))/h)"
   ]
  },
  {
   "cell_type": "markdown",
   "id": "24c29ae2-6929-470d-9498-37655c95c4e8",
   "metadata": {},
   "source": [
    "*일단 이거로 업데이트해볼까?*"
   ]
  },
  {
   "cell_type": "code",
   "execution_count": 30,
   "id": "aeacfb01-521b-4141-8b31-5c4ce11f7667",
   "metadata": {},
   "outputs": [],
   "source": [
    "# 더나은What = 원래What - 0.1*미분값\n",
    "# [-5,10] - 0.001 * [-1341.7968,1190.4297]"
   ]
  },
  {
   "cell_type": "code",
   "execution_count": 31,
   "id": "70e18a7b-888a-4a1e-ac2c-75edeaae182c",
   "metadata": {},
   "outputs": [
    {
     "data": {
      "text/plain": [
       "tensor([[-3.6582],\n",
       "        [ 8.8096]])"
      ]
     },
     "execution_count": 31,
     "metadata": {},
     "output_type": "execute_result"
    }
   ],
   "source": [
    "sssss = What - 0.001 * torch.tensor([[-1341.7968],[1190.4297]])\n",
    "sssss"
   ]
  },
  {
   "cell_type": "code",
   "execution_count": 32,
   "id": "db3c82ce-ad4d-4769-9f8d-dfd476e80f2b",
   "metadata": {},
   "outputs": [
    {
     "data": {
      "text/plain": [
       "[<matplotlib.lines.Line2D at 0x7f30494d7400>]"
      ]
     },
     "execution_count": 32,
     "metadata": {},
     "output_type": "execute_result"
    },
    {
     "data": {
      "image/png": "[encoded data removed]",
      "text/plain": [
       "<Figure size 450x300 with 1 Axes>"
      ]
     },
     "metadata": {},
     "output_type": "display_data"
    }
   ],
   "source": [
    "plt.plot(x,y,'o')\n",
    "plt.plot(x,X@What,'-') # 원래What: 주황색\n",
    "plt.plot(x,X@sssss,'-') # 더나은What: 초록색"
   ]
  },
  {
   "cell_type": "markdown",
   "id": "441631a3-34d1-4ab1-8459-d9a7d846066d",
   "metadata": {},
   "source": [
    "- 잘 된 것 같긴한데..\n",
    "- 미분구하는게 너무 어려워.. \n",
    "- 다른 방법 없을까? "
   ]
  },
  {
   "cell_type": "markdown",
   "id": "8bfdc58a-13b2-4838-935d-b3c29bde05e9",
   "metadata": {},
   "source": [
    ":::{.callout-important}\n",
    "\n",
    "사실 이 방법은 \n",
    "\n",
    "- $\\frac{\\partial}{\\partial w_0}loss(w_0,w_1) \\approx \\frac{loss(w_0+h,w_1)-loss(w_0,w_1)}{h}$\n",
    "- $\\frac{\\partial}{\\partial w_1}loss(w_0,w_1) \\approx \\frac{loss(w_0,w_1+h)-loss(w_0,w_1)}{h}$\n",
    "\n",
    "이 계산을 이용하여 \n",
    "\n",
    "$$\\frac{\\partial}{\\partial {\\bf W}}loss({\\bf W}):= \\begin{bmatrix} \\frac{\\partial}{\\partial w_0} \\\\ \\frac{\\partial}{\\partial w_1}\\end{bmatrix}loss({\\bf W}) =  \\begin{bmatrix} \\frac{\\partial}{\\partial w_0}loss({\\bf W}) \\\\ \\frac{\\partial}{\\partial w_1}loss({\\bf W})\\end{bmatrix}  =  \\begin{bmatrix} \\frac{\\partial}{\\partial w_0}loss(w_0,w_1) \\\\ \\frac{\\partial}{\\partial w_1}loss(w_0,w_1)\\end{bmatrix}$$\n",
    "\n",
    "를 계산한 것이라 볼 수 있죠\n",
    ":::"
   ]
  },
  {
   "cell_type": "markdown",
   "id": "53c9652f-0358-4d11-87cd-f3f4c3e0c0fc",
   "metadata": {},
   "source": [
    "`-` 미분값을 계산하는 방법2 "
   ]
  },
  {
   "cell_type": "code",
   "execution_count": 33,
   "id": "ad9eb248-1ac2-4647-8c97-00203d511747",
   "metadata": {},
   "outputs": [],
   "source": [
    "## 약간의 지식이 필요함. \n",
    "# loss = (y-XWhat)'(y-XWhat)\n",
    "# = (y'-What'X')(y-XWhat)\n",
    "# = y'y-y'XWhat -What'X'y + What'X'XWhat \n",
    "# loss를 What으로 미분\n",
    "# loss' = -X'y - X'y + 2X'XWhat"
   ]
  },
  {
   "cell_type": "code",
   "execution_count": 34,
   "id": "f78e09f0-1855-4a88-8165-0ec9a0bf8c6f",
   "metadata": {},
   "outputs": [
    {
     "data": {
      "text/plain": [
       "tensor([[-1342.2524],\n",
       "        [ 1188.9302]])"
      ]
     },
     "execution_count": 34,
     "metadata": {},
     "output_type": "execute_result"
    }
   ],
   "source": [
    "-2*X.T@y + 2*X.T@X@What"
   ]
  },
  {
   "cell_type": "markdown",
   "id": "08ea6790-2715-4ded-9e1d-75bbfdfa21f3",
   "metadata": {},
   "source": [
    ":::{.callout-important}\n",
    "\n",
    "이 방법은 $loss({\\bf W})$의 미분을 구할수 있어야 사용가능합니다. 즉 \n",
    "\n",
    "$$\\frac{\\partial}{\\partial {\\bf W}}loss({\\bf W})= -2{\\bf X}^\\top {\\bf y} + 2{\\bf X}^\\top {\\bf X}{\\bf W}$$\n",
    "\n",
    "를 계산할 수 있어야 합니다.\n",
    ":::"
   ]
  },
  {
   "cell_type": "markdown",
   "id": "6036a42f-4fe2-40c9-b93e-ce22176092da",
   "metadata": {},
   "source": [
    "`-` 미분값을 계산하는 방법3 -- 이 패턴을 외우세여"
   ]
  },
  {
   "cell_type": "code",
   "execution_count": 35,
   "id": "fcdc72d1-42b6-4628-8517-f1355c2de30c",
   "metadata": {},
   "outputs": [
    {
     "data": {
      "text/plain": [
       "tensor([[-5.],\n",
       "        [10.]], requires_grad=True)"
      ]
     },
     "execution_count": 35,
     "metadata": {},
     "output_type": "execute_result"
    }
   ],
   "source": [
    "What = torch.tensor([[-5.0],[10.0]],requires_grad=True)\n",
    "What"
   ]
  },
  {
   "cell_type": "code",
   "execution_count": 36,
   "id": "bd074b70-06d1-49a1-958e-fa06963cd5ba",
   "metadata": {},
   "outputs": [
    {
     "data": {
      "text/plain": [
       "tensor(8587.6875, grad_fn=<SumBackward0>)"
      ]
     },
     "execution_count": 36,
     "metadata": {},
     "output_type": "execute_result"
    }
   ],
   "source": [
    "yhat = X@What\n",
    "loss = torch.sum((y-yhat)**2)\n",
    "loss"
   ]
  },
  {
   "cell_type": "code",
   "execution_count": 37,
   "id": "871a9b1b-23c9-4533-93b3-81d24035bd07",
   "metadata": {},
   "outputs": [],
   "source": [
    "loss.backward() # loss를 미분하라.. 꼬리표가 있게 한 What으로.. "
   ]
  },
  {
   "cell_type": "code",
   "execution_count": 38,
   "id": "f62617fd-ca0d-4aa1-8189-63391a6b7afd",
   "metadata": {},
   "outputs": [
    {
     "data": {
      "text/plain": [
       "tensor([[-1342.2524],\n",
       "        [ 1188.9305]])"
      ]
     },
     "execution_count": 38,
     "metadata": {},
     "output_type": "execute_result"
    }
   ],
   "source": [
    "What.grad"
   ]
  },
  {
   "cell_type": "markdown",
   "id": "a0dd8752-a2fa-4cad-acbc-314b231e19a9",
   "metadata": {},
   "source": [
    "`-` 위의 코드를 다시 복습해보자. "
   ]
  },
  {
   "cell_type": "markdown",
   "id": "f4af4e21-5576-42d3-9dd5-f98e5c9426d0",
   "metadata": {},
   "source": [
    "-- *`loss.backward()`실행전* --"
   ]
  },
  {
   "cell_type": "code",
   "execution_count": 39,
   "id": "5a2c20eb-a38d-481d-a8dc-7001a57eb599",
   "metadata": {},
   "outputs": [],
   "source": [
    "What = torch.tensor([[-5.0],[10.0]],requires_grad=True)\n",
    "yhat = X@What\n",
    "loss = torch.sum((y-yhat)**2)"
   ]
  },
  {
   "cell_type": "code",
   "execution_count": 40,
   "id": "f01a7a69-2fe6-4293-8080-7f5cd49a41c8",
   "metadata": {
    "tags": []
   },
   "outputs": [
    {
     "data": {
      "text/plain": [
       "(tensor([[-5.],\n",
       "         [10.]]),\n",
       " None)"
      ]
     },
     "execution_count": 40,
     "metadata": {},
     "output_type": "execute_result"
    }
   ],
   "source": [
    "What.data, What.grad"
   ]
  },
  {
   "cell_type": "markdown",
   "id": "2afb0586-90be-4f4e-8e44-01f107ec62e8",
   "metadata": {},
   "source": [
    "-- *`loss.backward()`실행후* --"
   ]
  },
  {
   "cell_type": "code",
   "execution_count": 41,
   "id": "fcd96a47-e546-4026-9731-761f6f048a45",
   "metadata": {
    "tags": []
   },
   "outputs": [],
   "source": [
    "loss.backward()"
   ]
  },
  {
   "cell_type": "code",
   "execution_count": 42,
   "id": "3ca78b73-e2ec-4d2a-ba11-8dc8a1759992",
   "metadata": {
    "tags": []
   },
   "outputs": [
    {
     "data": {
      "text/plain": [
       "(tensor([[-5.],\n",
       "         [10.]]),\n",
       " tensor([[-1342.2524],\n",
       "         [ 1188.9305]]))"
      ]
     },
     "execution_count": 42,
     "metadata": {},
     "output_type": "execute_result"
    }
   ],
   "source": [
    "What.data, What.grad"
   ]
  },
  {
   "cell_type": "markdown",
   "id": "c77e229b-e7f5-400f-85cb-050ff3edf437",
   "metadata": {},
   "source": [
    "`#` 1회 업데이트 과정을 차근차근 시각화하며 정리해보자. "
   ]
  },
  {
   "cell_type": "code",
   "execution_count": 43,
   "id": "598ad742-d584-47d2-8acd-1feceadb7ec3",
   "metadata": {
    "tags": []
   },
   "outputs": [
    {
     "name": "stdout",
     "output_type": "stream",
     "text": [
      "tensor([[-5.],\n",
      "        [10.]]) -- 수정전\n",
      "tensor([[ 1.3423],\n",
      "        [-1.1889]]) -- 수정하는폭\n",
      "tensor([[-3.6577],\n",
      "        [ 8.8111]]) -- 수정후\n",
      "tensor([[2.5000],\n",
      "        [4.0000]]) -- 참값(이건 비밀~~)\n"
     ]
    }
   ],
   "source": [
    "alpha = 0.001 \n",
    "print(f\"{What.data} -- 수정전\")\n",
    "print(f\"{-alpha*What.grad} -- 수정하는폭\")\n",
    "print(f\"{What.data-alpha*What.grad} -- 수정후\")\n",
    "print(f\"{torch.tensor([[2.5],[4]])} -- 참값(이건 비밀~~)\")"
   ]
  },
  {
   "cell_type": "code",
   "execution_count": 44,
   "id": "768ff921-810c-4271-b428-2bf4e8f386e7",
   "metadata": {
    "tags": []
   },
   "outputs": [
    {
     "data": {
      "text/plain": [
       "(tensor([[-5.],\n",
       "         [10.]]),\n",
       " tensor([[-3.6577],\n",
       "         [ 8.8111]]))"
      ]
     },
     "execution_count": 44,
     "metadata": {},
     "output_type": "execute_result"
    }
   ],
   "source": [
    "Wbefore = What.data\n",
    "Wafter = What.data - alpha * What.grad \n",
    "Wbefore, Wafter"
   ]
  },
  {
   "cell_type": "code",
   "execution_count": 45,
   "id": "2ca2ce3d-3d65-447f-ab71-8a2c8b66da3a",
   "metadata": {
    "tags": []
   },
   "outputs": [
    {
     "data": {
      "text/plain": [
       "<matplotlib.legend.Legend at 0x7f304948c490>"
      ]
     },
     "execution_count": 45,
     "metadata": {},
     "output_type": "execute_result"
    },
    {
     "data": {
      "image/png": "[encoded data removed]",
      "text/plain": [
       "<Figure size 450x300 with 1 Axes>"
      ]
     },
     "metadata": {},
     "output_type": "display_data"
    }
   ],
   "source": [
    "plt.plot(x,y,'o',label=r'observed data')\n",
    "plt.plot(x,X@Wbefore,'--', label=r\"$\\hat{\\bf y}_{before}={\\bf X}@\\hat{\\bf W}_{before}$\")\n",
    "plt.plot(x,X@Wafter,'--', label=r\"$\\hat{\\bf y}_{after}={\\bf X}@\\hat{\\bf W}_{after}$\")\n",
    "plt.legend()"
   ]
  },
  {
   "cell_type": "markdown",
   "id": "2e876f5f-3094-46e4-abca-ef192162b9fa",
   "metadata": {},
   "source": [
    "`#`"
   ]
  },
  {
   "cell_type": "markdown",
   "id": "3d5bf8f0-455f-491d-b316-ecd67c5f71cc",
   "metadata": {},
   "source": [
    "## C. 3단계 -- iteration (=learn = estimate $\\bf{\\hat W}$)"
   ]
  },
  {
   "cell_type": "markdown",
   "id": "e39e89df-02a1-4358-a598-21dc163a6a75",
   "metadata": {},
   "source": [
    "`-` 이제 1단계와 2단계를 반복만하면된다. 그래서 아래와 같은 코드를 작성하면 될 것 같은데... \n",
    "\n",
    "```Python\n",
    "What = torch.tensor([[-5.0],[10.0]],requires_grad=True) # 최초의 직선을 만드는 값\n",
    "for epoc in range(30):\n",
    "    yhat = X@What \n",
    "    loss = torch.sum((y-yhat)**2)\n",
    "    loss.backward()\n",
    "    What.data = What.data - 0.001 * What.grad\n",
    "```\n",
    "\n",
    "돌려보면 잘 안된다. "
   ]
  },
  {
   "cell_type": "markdown",
   "id": "a5a20acf-d126-44c1-8412-043b494a44e3",
   "metadata": {},
   "source": [
    "`-` 아래와 같이 해야한다. "
   ]
  },
  {
   "cell_type": "code",
   "execution_count": 46,
   "id": "b63ed56d-c3cd-4f95-9637-1a34c8ac2f62",
   "metadata": {},
   "outputs": [],
   "source": [
    "What = torch.tensor([[-5.0],[10.0]],requires_grad=True) # 최초의 직선을 만드는 값\n",
    "for epoc in range(30):\n",
    "    yhat = X@What \n",
    "    loss = torch.sum((y-yhat)**2)\n",
    "    loss.backward()\n",
    "    What.data = What.data - 0.001 * What.grad\n",
    "    What.grad = None "
   ]
  },
  {
   "cell_type": "code",
   "execution_count": 47,
   "id": "ee9d120b-2d6f-4070-bd78-3f217dee52ab",
   "metadata": {},
   "outputs": [
    {
     "data": {
      "text/plain": [
       "<matplotlib.legend.Legend at 0x7f3022911f70>"
      ]
     },
     "execution_count": 47,
     "metadata": {},
     "output_type": "execute_result"
    },
    {
     "data": {
      "image/png": "[encoded data removed]",
      "text/plain": [
       "<Figure size 450x300 with 1 Axes>"
      ]
     },
     "metadata": {},
     "output_type": "display_data"
    }
   ],
   "source": [
    "plt.plot(x,y,'o',label=r\"observed: $(x_i,y_i)$\")\n",
    "plt.plot(x,X@What.data,'--o', label=r\"estimated: $(x_i,\\hat{y}_i)$ -- after 30 iterations (=epochs)\", alpha=0.4 )\n",
    "plt.legend()"
   ]
  },
  {
   "cell_type": "markdown",
   "id": "9ae5e2cf-ae27-460b-887a-92826b43eba3",
   "metadata": {},
   "source": [
    "`-` 왜? `loss.backward()` 는 아래의 역할을 하는것 처럼 이해되었지만 \n",
    "\n",
    "- `What.grad` $\\leftarrow$ `What에서미분값`\n",
    "\n",
    "실제로는 아래의 역할을 수행하기 때문이다. (컴퓨터공학적인 이유로..)\n",
    "\n",
    "- `What.grad` $\\leftarrow$ `What.grad` + `What에서미분값`"
   ]
  },
  {
   "cell_type": "markdown",
   "id": "0bdacf5b-6191-46e9-826e-2923bad1f82c",
   "metadata": {},
   "source": [
    ":::{.callout-note}\n",
    "\n",
    "`What.grad` $\\leftarrow$ `What.grad` + `What에서미분값` 임을 확인하기 위해서.. 약간의 테스트를 했습니다. \n",
    "\n",
    "먼저 \n",
    "\n",
    "```Python\n",
    "What = torch.tensor([[-5.0],[10.0]],requires_grad=True) # 최초의 직선을 만드는 값\n",
    "print(What.data)\n",
    "print(What.grad)\n",
    "```\n",
    "\n",
    "를 확인한뒤 아래를 반복실행해봤을때 \n",
    "\n",
    "```Python\n",
    "yhat = X@What \n",
    "loss = torch.sum((y-yhat)**2)\n",
    "loss.backward() # \n",
    "print(What.data)\n",
    "print(What.grad)\n",
    "```\n",
    "\n",
    "`What.data`와 `What.grad` 값이 계속 일정하게 나온다면 \n",
    "\n",
    "- `What.grad` $\\leftarrow$ `What에서미분값`\n",
    "\n",
    "이와 같은 계산이 진행되는 것이겠고, `What.grad`의 값이 자꾸 커진다면 \n",
    "\n",
    "- `What.grad` $\\leftarrow$ `What.grad` + `What에서미분값`\n",
    "\n",
    "이와 같은 계산이 진행되는 것이겠죠? \n",
    ":::"
   ]
  }
 ],
 "metadata": {
  "kernelspec": {
   "display_name": "Python 3 (ipykernel)",
   "language": "python",
   "name": "python3"
  },
  "language_info": {
   "codemirror_mode": {
    "name": "ipython",
    "version": 3
   },
   "file_extension": ".py",
   "mimetype": "text/x-python",
   "name": "python",
   "nbconvert_exporter": "python",
   "pygments_lexer": "ipython3",
   "version": "3.9.21"
  }
 },
 "nbformat": 4,
 "nbformat_minor": 5
}
