{
 "cells": [
  {
   "cell_type": "raw",
   "id": "1d42d6a9-6ee9-46df-b9c0-0a2119e36b78",
   "metadata": {
    "id": "87b5cded-346b-4915-acf5-b5ec93a5207d"
   },
   "source": [
    "---\n",
    "title: \"01wk-1: 강의소개, 파이토치 기본\"\n",
    "author: \"최규빈\"\n",
    "date: \"03/05/2025\"\n",
    "---"
   ]
  },
  {
   "cell_type": "markdown",
   "id": "5c537530-3cb5-4e76-bc98-c6fbb43b082c",
   "metadata": {
    "id": "e67ab8e0"
   },
   "source": [
    "<a href=\"https://colab.research.google.com/github/guebin/DL2025/blob/main/posts/01wk-1.ipynb\"><img src=\"https://colab.research.google.com/assets/colab-badge.svg\" style=\"text-align: left\"></a>"
   ]
  },
  {
   "cell_type": "markdown",
   "id": "22a4476f-6d45-4f1c-bc1d-7084d3491ce3",
   "metadata": {
    "id": "4d47a7c9"
   },
   "source": [
    "# 1. 강의영상"
   ]
  },
  {
   "cell_type": "markdown",
   "id": "64617e8e-708f-44d5-85e2-52508316e04e",
   "metadata": {},
   "source": [
    "{{<video https://youtu.be/playlist?list=PLQqh36zP38-w2wjg7vQJHPP89wWGSq-MZ&si=J0lxSPEePOD-5BOL >}}"
   ]
  },
  {
   "cell_type": "markdown",
   "id": "c4d9e2b5-c601-42e1-8b0b-37279aaed6a3",
   "metadata": {},
   "source": [
    "# 2. Imports"
   ]
  },
  {
   "cell_type": "code",
   "execution_count": 1,
   "id": "903d2bef-18cf-436f-aba0-bbf57ea3bbcb",
   "metadata": {},
   "outputs": [],
   "source": [
    "import torch"
   ]
  },
  {
   "cell_type": "markdown",
   "id": "558f58cb-3274-40a2-a18b-8ca09708de2b",
   "metadata": {},
   "source": [
    "# 3. 환경셋팅 "
   ]
  },
  {
   "cell_type": "markdown",
   "id": "69b7d76e-6605-4961-9b82-6f17d2e62e54",
   "metadata": {},
   "source": [
    "`-` 코랩이용자: 별도의 설치 필요 없음 \n",
    "\n",
    "- GPU 관리가 꼭 필요함!! (시험하루전날 수업 몰아서 듣지않기, 아이디만들어두기)\n",
    "- 특히 시험기간에 조심하세요 "
   ]
  },
  {
   "cell_type": "markdown",
   "id": "4ca12b61-7871-462a-8384-97f0803e5bfa",
   "metadata": {},
   "source": [
    "`-` 리눅스서버 사용자 (ref: <https://pytorch.org/get-started/locally/>)"
   ]
  },
  {
   "cell_type": "markdown",
   "id": "ace0e0b6-9b6e-4862-a64c-64e19ab7dac9",
   "metadata": {},
   "source": [
    "```bash\n",
    "conda create -n dl2025 python=3.9\n",
    "conda activate dl2025 \n",
    "pip3 install torch torchvision torchaudio --index-url https://download.pytorch.org/whl/cu126\n",
    "```"
   ]
  },
  {
   "cell_type": "markdown",
   "id": "601962a7-753c-4170-a753-cfbd7648cb74",
   "metadata": {},
   "source": [
    "# 4. 필요한 지식 "
   ]
  },
  {
   "cell_type": "markdown",
   "id": "edcb5a0b-543b-4d7b-af8c-7404536d472a",
   "metadata": {},
   "source": [
    "`-` 선형대수학\n",
    "\n",
    "- 벡터와 행렬\n",
    "- 행렬의 곱셉\n",
    "- 트랜스포즈"
   ]
  },
  {
   "cell_type": "markdown",
   "id": "596f05a1-8c61-411c-8f55-c8fe868c5d70",
   "metadata": {},
   "source": [
    "`-` 기초통계학(수리통계)\n",
    "\n",
    "- 정규분포, 이항분포\n",
    "- 모수, 추정\n",
    "- $X_i \\overset{i.i.d.}{\\sim} N(0,1)$\n"
   ]
  },
  {
   "cell_type": "markdown",
   "id": "7041a648-1a4c-4836-a3c6-0e6e4b63c483",
   "metadata": {},
   "source": [
    "`-` 회귀분석 \n",
    "\n",
    "- 독립변수($y$), 설명변수($X$)\n",
    "- ${\\boldsymbol y} = {\\bf X}{\\boldsymbol \\beta} + {\\boldsymbol \\epsilon}$"
   ]
  },
  {
   "cell_type": "markdown",
   "id": "a6de61f5-82bf-4901-9713-b54b02696622",
   "metadata": {},
   "source": [
    "`-` 파이썬\n",
    "\n",
    "- 파이썬 기본문법\n",
    "- 넘파이, 판다스\n",
    "- 전반적인 클래스 지식 (`__init__`, `self`, ...)\n",
    "- 상속"
   ]
  },
  {
   "cell_type": "markdown",
   "id": "3e931662-90f2-4b08-adb6-2af24dd867ce",
   "metadata": {},
   "source": [
    "# 5. 파이토치 기본"
   ]
  },
  {
   "cell_type": "markdown",
   "id": "a7982e7f-4484-4348-b8dc-f2cc7fdc7b77",
   "metadata": {},
   "source": [
    "## A. torch "
   ]
  },
  {
   "cell_type": "markdown",
   "id": "e822671a-a125-478c-a772-03ace27f4879",
   "metadata": {},
   "source": [
    "`-` 벡터"
   ]
  },
  {
   "cell_type": "code",
   "execution_count": 2,
   "id": "f49a819d-6474-490d-bf3b-b14b2189caaa",
   "metadata": {},
   "outputs": [
    {
     "data": {
      "text/plain": [
       "tensor([1, 2, 3])"
      ]
     },
     "execution_count": 2,
     "metadata": {},
     "output_type": "execute_result"
    }
   ],
   "source": [
    "torch.tensor([1,2,3])"
   ]
  },
  {
   "cell_type": "markdown",
   "id": "6dd80008-787e-48c1-9509-2e380dbd0333",
   "metadata": {},
   "source": [
    "`-` 벡터의 덧셈"
   ]
  },
  {
   "cell_type": "code",
   "execution_count": 5,
   "id": "1a9b9b4e-7a94-4c45-a7e4-a152f568ba4e",
   "metadata": {},
   "outputs": [
    {
     "data": {
      "text/plain": [
       "tensor([3, 4, 5])"
      ]
     },
     "execution_count": 5,
     "metadata": {},
     "output_type": "execute_result"
    }
   ],
   "source": [
    "torch.tensor([1,2,3]) + torch.tensor([2,2,2])"
   ]
  },
  {
   "cell_type": "markdown",
   "id": "9b5b90bb-3a91-4eee-8d7e-b0ab0feaf4ad",
   "metadata": {},
   "source": [
    "`-` 브로드캐스팅 "
   ]
  },
  {
   "cell_type": "code",
   "execution_count": 6,
   "id": "0e6e6116-e148-4fcc-97af-148d4d30e1dd",
   "metadata": {},
   "outputs": [
    {
     "data": {
      "text/plain": [
       "tensor([3, 4, 5])"
      ]
     },
     "execution_count": 6,
     "metadata": {},
     "output_type": "execute_result"
    }
   ],
   "source": [
    "torch.tensor([1,2,3]) + 2"
   ]
  },
  {
   "cell_type": "markdown",
   "id": "356df037-68a3-4b6d-bba4-f51bcdbfdbd2",
   "metadata": {},
   "source": [
    "## B. 벡터와 매트릭스 "
   ]
  },
  {
   "cell_type": "markdown",
   "id": "3bffe9f3-ab88-4935-8eec-9e4a78a02e86",
   "metadata": {},
   "source": [
    "`-` $3 \\times 2$ matrix"
   ]
  },
  {
   "cell_type": "code",
   "execution_count": 9,
   "id": "385f1c2f-95fd-4612-9da6-c1173e0369ff",
   "metadata": {},
   "outputs": [
    {
     "data": {
      "text/plain": [
       "tensor([[1, 2],\n",
       "        [3, 4],\n",
       "        [5, 6]])"
      ]
     },
     "execution_count": 9,
     "metadata": {},
     "output_type": "execute_result"
    }
   ],
   "source": [
    "torch.tensor([[1,2],[3,4],[5,6]]) "
   ]
  },
  {
   "cell_type": "markdown",
   "id": "60b68973-6e4d-4614-b17e-f5ba52c5eaf0",
   "metadata": {},
   "source": [
    "`-` $3 \\times 1$ matrix = $3 \\times 1$ column vector"
   ]
  },
  {
   "cell_type": "code",
   "execution_count": 13,
   "id": "650c60bb-9a48-4878-82bf-7a48db23be8f",
   "metadata": {},
   "outputs": [
    {
     "data": {
      "text/plain": [
       "tensor([[1],\n",
       "        [3],\n",
       "        [5]])"
      ]
     },
     "execution_count": 13,
     "metadata": {},
     "output_type": "execute_result"
    }
   ],
   "source": [
    "torch.tensor([[1],[3],[5]]) "
   ]
  },
  {
   "cell_type": "markdown",
   "id": "c5cdea88-6fed-47ad-925f-dce1abde2b01",
   "metadata": {},
   "source": [
    "`-` $1 \\times 2$ matrix = $1 \\times 2$ row vector"
   ]
  },
  {
   "cell_type": "code",
   "execution_count": 14,
   "id": "950ceb01-dc8c-48f9-a72a-6ad56b2b71fe",
   "metadata": {},
   "outputs": [
    {
     "data": {
      "text/plain": [
       "tensor([[1, 2]])"
      ]
     },
     "execution_count": 14,
     "metadata": {},
     "output_type": "execute_result"
    }
   ],
   "source": [
    "torch.tensor([[1,2]]) "
   ]
  },
  {
   "cell_type": "markdown",
   "id": "cd4f34f8-de0c-41d4-8072-85c56ea29df8",
   "metadata": {},
   "source": [
    "`-` 더하기 "
   ]
  },
  {
   "cell_type": "markdown",
   "id": "23ad6e29-4d2f-4c89-8b07-5f610fdd367c",
   "metadata": {},
   "source": [
    "***브로드캐스팅(편한거)***"
   ]
  },
  {
   "cell_type": "code",
   "execution_count": 15,
   "id": "ca7e7d66-a904-4101-8c72-7393126df3d0",
   "metadata": {},
   "outputs": [
    {
     "data": {
      "text/plain": [
       "tensor([[0, 1],\n",
       "        [2, 3],\n",
       "        [4, 5]])"
      ]
     },
     "execution_count": 15,
     "metadata": {},
     "output_type": "execute_result"
    }
   ],
   "source": [
    "torch.tensor([[1,2],[3,4],[5,6]]) - 1"
   ]
  },
  {
   "cell_type": "code",
   "execution_count": 17,
   "id": "fed0bb9a-f882-416b-84a6-a5673395c211",
   "metadata": {},
   "outputs": [
    {
     "data": {
      "text/plain": [
       "tensor([[0, 1],\n",
       "        [0, 1],\n",
       "        [0, 1]])"
      ]
     },
     "execution_count": 17,
     "metadata": {},
     "output_type": "execute_result"
    }
   ],
   "source": [
    "torch.tensor([[1,2],[3,4],[5,6]]) + torch.tensor([[-1],[-3],[-5]])"
   ]
  },
  {
   "cell_type": "code",
   "execution_count": 19,
   "id": "b5c41b92-5ca3-496f-b2ec-884b09a64e8a",
   "metadata": {},
   "outputs": [
    {
     "data": {
      "text/plain": [
       "tensor([[0, 0],\n",
       "        [2, 2],\n",
       "        [4, 4]])"
      ]
     },
     "execution_count": 19,
     "metadata": {},
     "output_type": "execute_result"
    }
   ],
   "source": [
    "torch.tensor([[1,2],[3,4],[5,6]]) + torch.tensor([[-1,-2]])"
   ]
  },
  {
   "cell_type": "markdown",
   "id": "773513f1-f965-45dd-ba60-b2afba5c1f31",
   "metadata": {},
   "source": [
    "***잘못된 브로드캐스팅***"
   ]
  },
  {
   "cell_type": "code",
   "execution_count": 21,
   "id": "adcbf7c2-98bf-49af-8b04-fa2bb59bc70e",
   "metadata": {},
   "outputs": [
    {
     "ename": "RuntimeError",
     "evalue": "The size of tensor a (2) must match the size of tensor b (3) at non-singleton dimension 1",
     "output_type": "error",
     "traceback": [
      "\u001b[0;31m---------------------------------------------------------------------------\u001b[0m",
      "\u001b[0;31mRuntimeError\u001b[0m                              Traceback (most recent call last)",
      "Cell \u001b[0;32mIn[21], line 1\u001b[0m\n\u001b[0;32m----> 1\u001b[0m \u001b[43mtorch\u001b[49m\u001b[38;5;241;43m.\u001b[39;49m\u001b[43mtensor\u001b[49m\u001b[43m(\u001b[49m\u001b[43m[\u001b[49m\u001b[43m[\u001b[49m\u001b[38;5;241;43m1\u001b[39;49m\u001b[43m,\u001b[49m\u001b[38;5;241;43m2\u001b[39;49m\u001b[43m]\u001b[49m\u001b[43m,\u001b[49m\u001b[43m[\u001b[49m\u001b[38;5;241;43m3\u001b[39;49m\u001b[43m,\u001b[49m\u001b[38;5;241;43m4\u001b[39;49m\u001b[43m]\u001b[49m\u001b[43m,\u001b[49m\u001b[43m[\u001b[49m\u001b[38;5;241;43m5\u001b[39;49m\u001b[43m,\u001b[49m\u001b[38;5;241;43m6\u001b[39;49m\u001b[43m]\u001b[49m\u001b[43m]\u001b[49m\u001b[43m)\u001b[49m\u001b[43m \u001b[49m\u001b[38;5;241;43m+\u001b[39;49m\u001b[43m \u001b[49m\u001b[43mtorch\u001b[49m\u001b[38;5;241;43m.\u001b[39;49m\u001b[43mtensor\u001b[49m\u001b[43m(\u001b[49m\u001b[43m[\u001b[49m\u001b[43m[\u001b[49m\u001b[38;5;241;43m-\u001b[39;49m\u001b[38;5;241;43m1\u001b[39;49m\u001b[43m,\u001b[49m\u001b[38;5;241;43m-\u001b[39;49m\u001b[38;5;241;43m3\u001b[39;49m\u001b[43m,\u001b[49m\u001b[38;5;241;43m-\u001b[39;49m\u001b[38;5;241;43m5\u001b[39;49m\u001b[43m]\u001b[49m\u001b[43m]\u001b[49m\u001b[43m)\u001b[49m\n",
      "\u001b[0;31mRuntimeError\u001b[0m: The size of tensor a (2) must match the size of tensor b (3) at non-singleton dimension 1"
     ]
    }
   ],
   "source": [
    "torch.tensor([[1,2],[3,4],[5,6]]) + torch.tensor([[-1,-3,-5]])"
   ]
  },
  {
   "cell_type": "code",
   "execution_count": 22,
   "id": "28292256-c002-4f5b-af98-faab9411eac2",
   "metadata": {},
   "outputs": [
    {
     "ename": "RuntimeError",
     "evalue": "The size of tensor a (3) must match the size of tensor b (2) at non-singleton dimension 0",
     "output_type": "error",
     "traceback": [
      "\u001b[0;31m---------------------------------------------------------------------------\u001b[0m",
      "\u001b[0;31mRuntimeError\u001b[0m                              Traceback (most recent call last)",
      "Cell \u001b[0;32mIn[22], line 1\u001b[0m\n\u001b[0;32m----> 1\u001b[0m \u001b[43mtorch\u001b[49m\u001b[38;5;241;43m.\u001b[39;49m\u001b[43mtensor\u001b[49m\u001b[43m(\u001b[49m\u001b[43m[\u001b[49m\u001b[43m[\u001b[49m\u001b[38;5;241;43m1\u001b[39;49m\u001b[43m,\u001b[49m\u001b[38;5;241;43m2\u001b[39;49m\u001b[43m]\u001b[49m\u001b[43m,\u001b[49m\u001b[43m[\u001b[49m\u001b[38;5;241;43m3\u001b[39;49m\u001b[43m,\u001b[49m\u001b[38;5;241;43m4\u001b[39;49m\u001b[43m]\u001b[49m\u001b[43m,\u001b[49m\u001b[43m[\u001b[49m\u001b[38;5;241;43m5\u001b[39;49m\u001b[43m,\u001b[49m\u001b[38;5;241;43m6\u001b[39;49m\u001b[43m]\u001b[49m\u001b[43m]\u001b[49m\u001b[43m)\u001b[49m\u001b[43m \u001b[49m\u001b[38;5;241;43m+\u001b[39;49m\u001b[43m \u001b[49m\u001b[43mtorch\u001b[49m\u001b[38;5;241;43m.\u001b[39;49m\u001b[43mtensor\u001b[49m\u001b[43m(\u001b[49m\u001b[43m[\u001b[49m\u001b[43m[\u001b[49m\u001b[38;5;241;43m-\u001b[39;49m\u001b[38;5;241;43m1\u001b[39;49m\u001b[43m]\u001b[49m\u001b[43m,\u001b[49m\u001b[43m[\u001b[49m\u001b[38;5;241;43m-\u001b[39;49m\u001b[38;5;241;43m2\u001b[39;49m\u001b[43m]\u001b[49m\u001b[43m]\u001b[49m\u001b[43m)\u001b[49m\n",
      "\u001b[0;31mRuntimeError\u001b[0m: The size of tensor a (3) must match the size of tensor b (2) at non-singleton dimension 0"
     ]
    }
   ],
   "source": [
    "torch.tensor([[1,2],[3,4],[5,6]]) + torch.tensor([[-1],[-2]])"
   ]
  },
  {
   "cell_type": "markdown",
   "id": "39d64e21-623e-4fac-b660-3166cbf3b3e8",
   "metadata": {},
   "source": [
    "***이상한 것***"
   ]
  },
  {
   "cell_type": "code",
   "execution_count": 25,
   "id": "3bc6db41-4b59-427f-b51c-32533fa16694",
   "metadata": {},
   "outputs": [
    {
     "data": {
      "text/plain": [
       "tensor([[0, 0],\n",
       "        [2, 2],\n",
       "        [4, 4]])"
      ]
     },
     "execution_count": 25,
     "metadata": {},
     "output_type": "execute_result"
    }
   ],
   "source": [
    "torch.tensor([[1,2],[3,4],[5,6]]) + torch.tensor([-1,-2])"
   ]
  },
  {
   "cell_type": "code",
   "execution_count": 26,
   "id": "7a85150a-c777-4d62-a833-20605a5040cf",
   "metadata": {},
   "outputs": [
    {
     "ename": "RuntimeError",
     "evalue": "The size of tensor a (2) must match the size of tensor b (3) at non-singleton dimension 1",
     "output_type": "error",
     "traceback": [
      "\u001b[0;31m---------------------------------------------------------------------------\u001b[0m",
      "\u001b[0;31mRuntimeError\u001b[0m                              Traceback (most recent call last)",
      "Cell \u001b[0;32mIn[26], line 1\u001b[0m\n\u001b[0;32m----> 1\u001b[0m \u001b[43mtorch\u001b[49m\u001b[38;5;241;43m.\u001b[39;49m\u001b[43mtensor\u001b[49m\u001b[43m(\u001b[49m\u001b[43m[\u001b[49m\u001b[43m[\u001b[49m\u001b[38;5;241;43m1\u001b[39;49m\u001b[43m,\u001b[49m\u001b[38;5;241;43m2\u001b[39;49m\u001b[43m]\u001b[49m\u001b[43m,\u001b[49m\u001b[43m[\u001b[49m\u001b[38;5;241;43m3\u001b[39;49m\u001b[43m,\u001b[49m\u001b[38;5;241;43m4\u001b[39;49m\u001b[43m]\u001b[49m\u001b[43m,\u001b[49m\u001b[43m[\u001b[49m\u001b[38;5;241;43m5\u001b[39;49m\u001b[43m,\u001b[49m\u001b[38;5;241;43m6\u001b[39;49m\u001b[43m]\u001b[49m\u001b[43m]\u001b[49m\u001b[43m)\u001b[49m\u001b[43m \u001b[49m\u001b[38;5;241;43m+\u001b[39;49m\u001b[43m \u001b[49m\u001b[43mtorch\u001b[49m\u001b[38;5;241;43m.\u001b[39;49m\u001b[43mtensor\u001b[49m\u001b[43m(\u001b[49m\u001b[43m[\u001b[49m\u001b[38;5;241;43m-\u001b[39;49m\u001b[38;5;241;43m1\u001b[39;49m\u001b[43m,\u001b[49m\u001b[38;5;241;43m-\u001b[39;49m\u001b[38;5;241;43m3\u001b[39;49m\u001b[43m,\u001b[49m\u001b[38;5;241;43m-\u001b[39;49m\u001b[38;5;241;43m5\u001b[39;49m\u001b[43m]\u001b[49m\u001b[43m)\u001b[49m\n",
      "\u001b[0;31mRuntimeError\u001b[0m: The size of tensor a (2) must match the size of tensor b (3) at non-singleton dimension 1"
     ]
    }
   ],
   "source": [
    "torch.tensor([[1,2],[3,4],[5,6]]) + torch.tensor([-1,-3,-5])"
   ]
  },
  {
   "cell_type": "markdown",
   "id": "93812cd2-c0c1-4431-9d80-b9c24c009371",
   "metadata": {},
   "source": [
    "`-` 행렬곱"
   ]
  },
  {
   "cell_type": "markdown",
   "id": "fdc178a7-a983-47da-b36e-99cdaa291d0a",
   "metadata": {},
   "source": [
    "***정상적인 행렬곱***"
   ]
  },
  {
   "cell_type": "code",
   "execution_count": 27,
   "id": "70b0e64a-e10c-4be8-8025-4fc64e75c7b6",
   "metadata": {},
   "outputs": [
    {
     "data": {
      "text/plain": [
       "tensor([[ 5],\n",
       "        [11],\n",
       "        [17]])"
      ]
     },
     "execution_count": 27,
     "metadata": {},
     "output_type": "execute_result"
    }
   ],
   "source": [
    "torch.tensor([[1,2],[3,4],[5,6]]) @ torch.tensor([[1],[2]])"
   ]
  },
  {
   "cell_type": "code",
   "execution_count": 28,
   "id": "be672e2d-6ff7-410b-9534-5df651ce0f48",
   "metadata": {},
   "outputs": [
    {
     "data": {
      "text/plain": [
       "tensor([[22, 28]])"
      ]
     },
     "execution_count": 28,
     "metadata": {},
     "output_type": "execute_result"
    }
   ],
   "source": [
    "torch.tensor([[1,2,3]]) @ torch.tensor([[1,2],[3,4],[5,6]]) "
   ]
  },
  {
   "cell_type": "markdown",
   "id": "28803d22-c837-4538-976e-b1c4835265a0",
   "metadata": {},
   "source": [
    "***잘못된 행렬곱***"
   ]
  },
  {
   "cell_type": "code",
   "execution_count": 29,
   "id": "70fd75c5-30a4-4d41-b52c-6bc97f6e87b7",
   "metadata": {},
   "outputs": [
    {
     "ename": "RuntimeError",
     "evalue": "mat1 and mat2 shapes cannot be multiplied (3x2 and 1x2)",
     "output_type": "error",
     "traceback": [
      "\u001b[0;31m---------------------------------------------------------------------------\u001b[0m",
      "\u001b[0;31mRuntimeError\u001b[0m                              Traceback (most recent call last)",
      "Cell \u001b[0;32mIn[29], line 1\u001b[0m\n\u001b[0;32m----> 1\u001b[0m \u001b[43mtorch\u001b[49m\u001b[38;5;241;43m.\u001b[39;49m\u001b[43mtensor\u001b[49m\u001b[43m(\u001b[49m\u001b[43m[\u001b[49m\u001b[43m[\u001b[49m\u001b[38;5;241;43m1\u001b[39;49m\u001b[43m,\u001b[49m\u001b[38;5;241;43m2\u001b[39;49m\u001b[43m]\u001b[49m\u001b[43m,\u001b[49m\u001b[43m[\u001b[49m\u001b[38;5;241;43m3\u001b[39;49m\u001b[43m,\u001b[49m\u001b[38;5;241;43m4\u001b[39;49m\u001b[43m]\u001b[49m\u001b[43m,\u001b[49m\u001b[43m[\u001b[49m\u001b[38;5;241;43m5\u001b[39;49m\u001b[43m,\u001b[49m\u001b[38;5;241;43m6\u001b[39;49m\u001b[43m]\u001b[49m\u001b[43m]\u001b[49m\u001b[43m)\u001b[49m\u001b[43m \u001b[49m\u001b[38;5;241;43m@\u001b[39;49m\u001b[43m \u001b[49m\u001b[43mtorch\u001b[49m\u001b[38;5;241;43m.\u001b[39;49m\u001b[43mtensor\u001b[49m\u001b[43m(\u001b[49m\u001b[43m[\u001b[49m\u001b[43m[\u001b[49m\u001b[38;5;241;43m1\u001b[39;49m\u001b[43m,\u001b[49m\u001b[38;5;241;43m2\u001b[39;49m\u001b[43m]\u001b[49m\u001b[43m]\u001b[49m\u001b[43m)\u001b[49m\n",
      "\u001b[0;31mRuntimeError\u001b[0m: mat1 and mat2 shapes cannot be multiplied (3x2 and 1x2)"
     ]
    }
   ],
   "source": [
    "torch.tensor([[1,2],[3,4],[5,6]]) @ torch.tensor([[1,2]])"
   ]
  },
  {
   "cell_type": "code",
   "execution_count": 30,
   "id": "97769005-262c-439e-a0af-9b8c17febab0",
   "metadata": {},
   "outputs": [
    {
     "ename": "RuntimeError",
     "evalue": "mat1 and mat2 shapes cannot be multiplied (3x1 and 3x2)",
     "output_type": "error",
     "traceback": [
      "\u001b[0;31m---------------------------------------------------------------------------\u001b[0m",
      "\u001b[0;31mRuntimeError\u001b[0m                              Traceback (most recent call last)",
      "Cell \u001b[0;32mIn[30], line 1\u001b[0m\n\u001b[0;32m----> 1\u001b[0m \u001b[43mtorch\u001b[49m\u001b[38;5;241;43m.\u001b[39;49m\u001b[43mtensor\u001b[49m\u001b[43m(\u001b[49m\u001b[43m[\u001b[49m\u001b[43m[\u001b[49m\u001b[38;5;241;43m1\u001b[39;49m\u001b[43m]\u001b[49m\u001b[43m,\u001b[49m\u001b[43m[\u001b[49m\u001b[38;5;241;43m2\u001b[39;49m\u001b[43m]\u001b[49m\u001b[43m,\u001b[49m\u001b[43m[\u001b[49m\u001b[38;5;241;43m3\u001b[39;49m\u001b[43m]\u001b[49m\u001b[43m]\u001b[49m\u001b[43m)\u001b[49m\u001b[43m \u001b[49m\u001b[38;5;241;43m@\u001b[39;49m\u001b[43m \u001b[49m\u001b[43mtorch\u001b[49m\u001b[38;5;241;43m.\u001b[39;49m\u001b[43mtensor\u001b[49m\u001b[43m(\u001b[49m\u001b[43m[\u001b[49m\u001b[43m[\u001b[49m\u001b[38;5;241;43m1\u001b[39;49m\u001b[43m,\u001b[49m\u001b[38;5;241;43m2\u001b[39;49m\u001b[43m]\u001b[49m\u001b[43m,\u001b[49m\u001b[43m[\u001b[49m\u001b[38;5;241;43m3\u001b[39;49m\u001b[43m,\u001b[49m\u001b[38;5;241;43m4\u001b[39;49m\u001b[43m]\u001b[49m\u001b[43m,\u001b[49m\u001b[43m[\u001b[49m\u001b[38;5;241;43m5\u001b[39;49m\u001b[43m,\u001b[49m\u001b[38;5;241;43m6\u001b[39;49m\u001b[43m]\u001b[49m\u001b[43m]\u001b[49m\u001b[43m)\u001b[49m\n",
      "\u001b[0;31mRuntimeError\u001b[0m: mat1 and mat2 shapes cannot be multiplied (3x1 and 3x2)"
     ]
    }
   ],
   "source": [
    "torch.tensor([[1],[2],[3]]) @ torch.tensor([[1,2],[3,4],[5,6]]) "
   ]
  },
  {
   "cell_type": "markdown",
   "id": "540ab0a0-e197-4024-9b23-30889bcc575c",
   "metadata": {},
   "source": [
    "***이상한 것***"
   ]
  },
  {
   "cell_type": "code",
   "execution_count": 31,
   "id": "2ecd144a-076b-44ae-8c99-faf1050f590f",
   "metadata": {},
   "outputs": [
    {
     "data": {
      "text/plain": [
       "tensor([ 5, 11, 17])"
      ]
     },
     "execution_count": 31,
     "metadata": {},
     "output_type": "execute_result"
    }
   ],
   "source": [
    "torch.tensor([[1,2],[3,4],[5,6]]) @ torch.tensor([1,2]) # 이게 왜 가능.."
   ]
  },
  {
   "cell_type": "code",
   "execution_count": 35,
   "id": "4bfa92c5-5979-4b38-9db4-62053d7fd219",
   "metadata": {},
   "outputs": [
    {
     "data": {
      "text/plain": [
       "tensor([22, 28])"
      ]
     },
     "execution_count": 35,
     "metadata": {},
     "output_type": "execute_result"
    }
   ],
   "source": [
    "torch.tensor([1,2,3]) @ torch.tensor([[1,2],[3,4],[5,6]]) # 이건 왜 가능?"
   ]
  },
  {
   "cell_type": "markdown",
   "id": "815af9ab-c310-4136-bd32-cda4c94ff8a6",
   "metadata": {},
   "source": [
    "## C. transpose, reshape"
   ]
  },
  {
   "cell_type": "markdown",
   "id": "3375ad42-aa34-4cf0-9c88-5b2ee11b5e05",
   "metadata": {},
   "source": [
    "`-` transpose "
   ]
  },
  {
   "cell_type": "code",
   "execution_count": 157,
   "id": "c5966791-22f2-44b5-99ec-15ffec83c3e9",
   "metadata": {},
   "outputs": [
    {
     "data": {
      "text/plain": [
       "tensor([[1, 3],\n",
       "        [2, 4]])"
      ]
     },
     "execution_count": 157,
     "metadata": {},
     "output_type": "execute_result"
    }
   ],
   "source": [
    "torch.tensor([[1,2],[3,4]]).T "
   ]
  },
  {
   "cell_type": "code",
   "execution_count": 158,
   "id": "175a84b6-3cd1-4401-8ec6-eaa1c9e3fc08",
   "metadata": {},
   "outputs": [
    {
     "data": {
      "text/plain": [
       "tensor([[1, 3]])"
      ]
     },
     "execution_count": 158,
     "metadata": {},
     "output_type": "execute_result"
    }
   ],
   "source": [
    "torch.tensor([[1],[3]]).T "
   ]
  },
  {
   "cell_type": "code",
   "execution_count": 160,
   "id": "7850ddc7-1270-484c-9826-12a84e0c44fc",
   "metadata": {},
   "outputs": [
    {
     "data": {
      "text/plain": [
       "tensor([[1],\n",
       "        [2]])"
      ]
     },
     "execution_count": 160,
     "metadata": {},
     "output_type": "execute_result"
    }
   ],
   "source": [
    "torch.tensor([[1,2]]).T "
   ]
  },
  {
   "cell_type": "markdown",
   "id": "0fc0aa81-5344-4a63-a8fa-7ebf52b4d56b",
   "metadata": {},
   "source": [
    "`-` reshape"
   ]
  },
  {
   "cell_type": "markdown",
   "id": "191934b1-cf80-4acd-8cea-3feada5c38b8",
   "metadata": {},
   "source": [
    "***일반적인 사용***"
   ]
  },
  {
   "cell_type": "code",
   "execution_count": 42,
   "id": "7f283d07-6c25-4f6d-be23-2e07d2019d21",
   "metadata": {},
   "outputs": [
    {
     "data": {
      "text/plain": [
       "tensor([[1, 2, 3],\n",
       "        [4, 5, 6]])"
      ]
     },
     "execution_count": 42,
     "metadata": {},
     "output_type": "execute_result"
    }
   ],
   "source": [
    "torch.tensor([[1,2],[3,4],[5,6]]).reshape(2,3)"
   ]
  },
  {
   "cell_type": "code",
   "execution_count": 43,
   "id": "d2232c7c-7ff0-4228-9068-915f9830f2a7",
   "metadata": {},
   "outputs": [
    {
     "data": {
      "text/plain": [
       "tensor([[1, 2],\n",
       "        [3, 4],\n",
       "        [5, 6]])"
      ]
     },
     "execution_count": 43,
     "metadata": {},
     "output_type": "execute_result"
    }
   ],
   "source": [
    "torch.tensor([[1,2],[3,4],[5,6]])"
   ]
  },
  {
   "cell_type": "code",
   "execution_count": 44,
   "id": "aee2ba01-477d-4281-9e43-fe4c193a0b2c",
   "metadata": {},
   "outputs": [
    {
     "data": {
      "text/plain": [
       "tensor([[1, 2, 3, 4, 5, 6]])"
      ]
     },
     "execution_count": 44,
     "metadata": {},
     "output_type": "execute_result"
    }
   ],
   "source": [
    "torch.tensor([[1,2],[3,4],[5,6]]).reshape(1,6)"
   ]
  },
  {
   "cell_type": "code",
   "execution_count": 45,
   "id": "b8a0115a-e026-4866-b3f6-76c9a142d1ff",
   "metadata": {},
   "outputs": [
    {
     "data": {
      "text/plain": [
       "tensor([1, 2, 3, 4, 5, 6])"
      ]
     },
     "execution_count": 45,
     "metadata": {},
     "output_type": "execute_result"
    }
   ],
   "source": [
    "torch.tensor([[1,2],[3,4],[5,6]]).reshape(6)"
   ]
  },
  {
   "cell_type": "markdown",
   "id": "2900a644-2eca-4ef9-9801-3700883bb54b",
   "metadata": {},
   "source": [
    "***편한 것***"
   ]
  },
  {
   "cell_type": "code",
   "execution_count": 49,
   "id": "6bb579a4-fbf2-46f3-9425-431db2d32216",
   "metadata": {},
   "outputs": [
    {
     "data": {
      "text/plain": [
       "tensor([[1, 2, 3],\n",
       "        [4, 5, 6]])"
      ]
     },
     "execution_count": 49,
     "metadata": {},
     "output_type": "execute_result"
    }
   ],
   "source": [
    "torch.tensor([[1,2],[3,4],[5,6]]).reshape(2,-1)"
   ]
  },
  {
   "cell_type": "code",
   "execution_count": 50,
   "id": "f0e14499-f06c-495e-a8d1-b35a8f96ef70",
   "metadata": {},
   "outputs": [
    {
     "data": {
      "text/plain": [
       "tensor([[1],\n",
       "        [2],\n",
       "        [3],\n",
       "        [4],\n",
       "        [5],\n",
       "        [6]])"
      ]
     },
     "execution_count": 50,
     "metadata": {},
     "output_type": "execute_result"
    }
   ],
   "source": [
    "torch.tensor([[1,2],[3,4],[5,6]]).reshape(6,-1)"
   ]
  },
  {
   "cell_type": "code",
   "execution_count": 51,
   "id": "41d0454a-172c-4751-b888-7d05e5af2078",
   "metadata": {},
   "outputs": [
    {
     "data": {
      "text/plain": [
       "tensor([[1, 2, 3, 4, 5, 6]])"
      ]
     },
     "execution_count": 51,
     "metadata": {},
     "output_type": "execute_result"
    }
   ],
   "source": [
    "torch.tensor([[1,2],[3,4],[5,6]]).reshape(-1,6)"
   ]
  },
  {
   "cell_type": "code",
   "execution_count": 52,
   "id": "06de0f8f-3d5a-40d3-a05f-b5437aac7c69",
   "metadata": {},
   "outputs": [
    {
     "data": {
      "text/plain": [
       "tensor([1, 2, 3, 4, 5, 6])"
      ]
     },
     "execution_count": 52,
     "metadata": {},
     "output_type": "execute_result"
    }
   ],
   "source": [
    "torch.tensor([[1,2],[3,4],[5,6]]).reshape(-1)"
   ]
  },
  {
   "cell_type": "markdown",
   "id": "1c7dbc31-aa01-45de-8752-d4a58a429bba",
   "metadata": {},
   "source": [
    "## D. concat, stack $(\\star\\star\\star)$"
   ]
  },
  {
   "cell_type": "markdown",
   "id": "4b43bd01-5a2e-4544-82a4-77d131d65fd7",
   "metadata": {},
   "source": [
    "`-` concat "
   ]
  },
  {
   "cell_type": "code",
   "execution_count": 53,
   "id": "5e12b960-9911-4e6a-a6f0-205b0d24183c",
   "metadata": {},
   "outputs": [
    {
     "data": {
      "text/plain": [
       "tensor([[1, 2],\n",
       "        [3, 4],\n",
       "        [5, 6]])"
      ]
     },
     "execution_count": 53,
     "metadata": {},
     "output_type": "execute_result"
    }
   ],
   "source": [
    "a = torch.tensor([[1],[3],[5]])\n",
    "b = torch.tensor([[2],[4],[6]])\n",
    "torch.concat([a,b],axis=1)"
   ]
  },
  {
   "cell_type": "code",
   "execution_count": 59,
   "id": "4c6fe47f-f974-4aa2-9491-e87143a64607",
   "metadata": {},
   "outputs": [
    {
     "data": {
      "text/plain": [
       "tensor([[1, 2],\n",
       "        [3, 4],\n",
       "        [5, 6]])"
      ]
     },
     "execution_count": 59,
     "metadata": {},
     "output_type": "execute_result"
    }
   ],
   "source": [
    "torch.concat([a,b],axis=1)"
   ]
  },
  {
   "cell_type": "markdown",
   "id": "67a4a78e-133a-4432-95ad-de95232cdcba",
   "metadata": {},
   "source": [
    "`-` stack"
   ]
  },
  {
   "cell_type": "code",
   "execution_count": 60,
   "id": "b2fc101c-7e0d-46d2-9d33-952cd2bbd6ba",
   "metadata": {},
   "outputs": [
    {
     "data": {
      "text/plain": [
       "tensor([[1, 2],\n",
       "        [3, 4],\n",
       "        [5, 6]])"
      ]
     },
     "execution_count": 60,
     "metadata": {},
     "output_type": "execute_result"
    }
   ],
   "source": [
    "a = torch.tensor([1,3,5])\n",
    "b = torch.tensor([2,4,6])\n",
    "torch.stack([a,b],axis=1)"
   ]
  },
  {
   "cell_type": "code",
   "execution_count": 69,
   "id": "8123e804-12c4-4993-989e-478042e3f5e1",
   "metadata": {},
   "outputs": [
    {
     "data": {
      "text/plain": [
       "tensor([[1, 2],\n",
       "        [3, 4],\n",
       "        [5, 6]])"
      ]
     },
     "execution_count": 69,
     "metadata": {},
     "output_type": "execute_result"
    }
   ],
   "source": [
    "torch.concat([a.reshape(3,1),b.reshape(3,1)],axis=1)"
   ]
  },
  {
   "cell_type": "markdown",
   "id": "09d73e16-290c-42ae-90c8-450ecc319d3f",
   "metadata": {},
   "source": [
    ":::{.callout-warning}\n",
    "\n",
    "concat과 stack을 지금 처음본다면 아래를 복습하시는게 좋습니다. \n",
    "\n",
    "<https://guebin.github.io/PP2024/posts/06wk-2.html#numpy와-축axis>\n",
    ":::"
   ]
  }
 ],
 "metadata": {
  "kernelspec": {
   "display_name": "Python 3 (ipykernel)",
   "language": "python",
   "name": "python3"
  },
  "language_info": {
   "codemirror_mode": {
    "name": "ipython",
    "version": 3
   },
   "file_extension": ".py",
   "mimetype": "text/x-python",
   "name": "python",
   "nbconvert_exporter": "python",
   "pygments_lexer": "ipython3",
   "version": "3.13.2"
  }
 },
 "nbformat": 4,
 "nbformat_minor": 5
}
