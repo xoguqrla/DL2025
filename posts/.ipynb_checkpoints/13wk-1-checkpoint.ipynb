{
 "cells": [
  {
   "cell_type": "raw",
   "id": "fc790e4e-de4b-44f0-bb7e-dfca30d357db",
   "metadata": {},
   "source": [
    "---\n",
    "title: \"13wk-1: 순환신경망 (4) -- LSTM 계산과정 재현, LSTM은 왜 강한가?\"\n",
    "author: \"최규빈\"\n",
    "date: \"05/27/2024\"\n",
    "---"
   ]
  },
  {
   "cell_type": "markdown",
   "id": "2869c77c-bd19-48b6-8e69-64d16ea89005",
   "metadata": {
    "id": "e67ab8e0"
   },
   "source": [
    "<a href=\"https://colab.research.google.com/github/guebin/DL2024/blob/main/posts/13wk-1.ipynb\"><img src=\"https://colab.research.google.com/assets/colab-badge.svg\" style=\"text-align: left\"></a>"
   ]
  },
  {
   "cell_type": "markdown",
   "id": "dcc77aaa-6c62-4cce-9485-c6027fd9fac9",
   "metadata": {
    "tags": []
   },
   "source": [
    "# 1. 강의영상 "
   ]
  },
  {
   "cell_type": "markdown",
   "id": "c9c0379a-bfef-473b-998c-78b156740ac2",
   "metadata": {
    "tags": []
   },
   "source": [
    "{{<video https://youtu.be/playlist?list=PLQqh36zP38-x9DomHaojnXVqjdb0nqd_c&si=sh8nkPmHQb9ofrrL >}}"
   ]
  },
  {
   "cell_type": "markdown",
   "id": "d5df4f12-37c3-459c-9ba2-e693be3f3973",
   "metadata": {
    "tags": []
   },
   "source": [
    "# 2. Import"
   ]
  },
  {
   "cell_type": "code",
   "execution_count": 2,
   "id": "46662b63-dee5-453b-8539-9d1d0e7929c2",
   "metadata": {
    "tags": []
   },
   "outputs": [],
   "source": [
    "import torch\n",
    "import pandas as pd\n",
    "import matplotlib.pyplot as plt"
   ]
  },
  {
   "cell_type": "code",
   "execution_count": 3,
   "id": "61756f58-25dc-4f07-8f93-0ed355f58c02",
   "metadata": {
    "tags": []
   },
   "outputs": [],
   "source": [
    "soft = torch.nn.Softmax(dim=1)\n",
    "sig = torch.nn.Sigmoid()\n",
    "tanh = torch.nn.Tanh()"
   ]
  },
  {
   "cell_type": "markdown",
   "id": "dee675f6-3c2f-428c-847c-eb085fd53b9e",
   "metadata": {},
   "source": [
    "# 3. Data -- `abcabC`"
   ]
  },
  {
   "cell_type": "code",
   "execution_count": 4,
   "id": "86a18822-5d02-4b72-915d-f434ba4a5a69",
   "metadata": {
    "tags": []
   },
   "outputs": [
    {
     "data": {
      "text/plain": [
       "['a', 'b', 'c', 'a', 'b', 'C', 'a', 'b', 'c', 'a']"
      ]
     },
     "execution_count": 4,
     "metadata": {},
     "output_type": "execute_result"
    }
   ],
   "source": [
    "txt = list('abcabC')*50\n",
    "txt[:10]"
   ]
  },
  {
   "cell_type": "code",
   "execution_count": 5,
   "id": "94c9e9bc-e4e4-4e04-b717-a3080d09f2e4",
   "metadata": {
    "tags": []
   },
   "outputs": [
    {
     "data": {
      "text/html": [
       "<div>\n",
       "<style scoped>\n",
       "    .dataframe tbody tr th:only-of-type {\n",
       "        vertical-align: middle;\n",
       "    }\n",
       "\n",
       "    .dataframe tbody tr th {\n",
       "        vertical-align: top;\n",
       "    }\n",
       "\n",
       "    .dataframe thead th {\n",
       "        text-align: right;\n",
       "    }\n",
       "</style>\n",
       "<table border=\"1\" class=\"dataframe\">\n",
       "  <thead>\n",
       "    <tr style=\"text-align: right;\">\n",
       "      <th></th>\n",
       "      <th>x</th>\n",
       "      <th>y</th>\n",
       "    </tr>\n",
       "  </thead>\n",
       "  <tbody>\n",
       "    <tr>\n",
       "      <th>0</th>\n",
       "      <td>a</td>\n",
       "      <td>b</td>\n",
       "    </tr>\n",
       "    <tr>\n",
       "      <th>1</th>\n",
       "      <td>b</td>\n",
       "      <td>c</td>\n",
       "    </tr>\n",
       "    <tr>\n",
       "      <th>2</th>\n",
       "      <td>c</td>\n",
       "      <td>a</td>\n",
       "    </tr>\n",
       "    <tr>\n",
       "      <th>3</th>\n",
       "      <td>a</td>\n",
       "      <td>b</td>\n",
       "    </tr>\n",
       "    <tr>\n",
       "      <th>4</th>\n",
       "      <td>b</td>\n",
       "      <td>C</td>\n",
       "    </tr>\n",
       "  </tbody>\n",
       "</table>\n",
       "</div>"
      ],
      "text/plain": [
       "   x  y\n",
       "0  a  b\n",
       "1  b  c\n",
       "2  c  a\n",
       "3  a  b\n",
       "4  b  C"
      ]
     },
     "execution_count": 5,
     "metadata": {},
     "output_type": "execute_result"
    }
   ],
   "source": [
    "df_train = pd.DataFrame({'x':txt[:-1], 'y':txt[1:]})\n",
    "df_train[:5]"
   ]
  },
  {
   "cell_type": "code",
   "execution_count": 6,
   "id": "910fd73a-46c9-4545-b2bc-db0e1720d441",
   "metadata": {
    "tags": []
   },
   "outputs": [],
   "source": [
    "x = torch.tensor(df_train.x.map({'a':0,'b':1,'c':2,'C':3}))\n",
    "y = torch.tensor(df_train.y.map({'a':0,'b':1,'c':2,'C':3}))\n",
    "X = torch.nn.functional.one_hot(x).float()\n",
    "y = torch.nn.functional.one_hot(y).float()"
   ]
  },
  {
   "cell_type": "markdown",
   "id": "4a9d6902-7aea-4ac9-9312-8190bb3680e5",
   "metadata": {},
   "source": [
    "# 4. LSTM 계산과정 재현"
   ]
  },
  {
   "cell_type": "markdown",
   "id": "b0f8c6ee-0015-4788-9ef2-ec926272ce9f",
   "metadata": {},
   "source": [
    "## A. `torch.nn.LSTMCell`"
   ]
  },
  {
   "cell_type": "code",
   "execution_count": 7,
   "id": "5ab20de4-0757-45a2-82b0-71ca68896365",
   "metadata": {
    "tags": []
   },
   "outputs": [],
   "source": [
    "torch.manual_seed(43052)\n",
    "lstmcell = torch.nn.LSTMCell(4,2) # 숙성담당\n",
    "cook = torch.nn.Linear(2,4)\n",
    "loss_fn = torch.nn.CrossEntropyLoss()\n",
    "optimizr = torch.optim.Adam(list(lstmcell.parameters())+list(cook.parameters()),lr=0.1) \n",
    "#---#\n",
    "L = len(X)\n",
    "for epoc in range(1):\n",
    "    # 1~2 \n",
    "    loss = 0 \n",
    "    ht = torch.zeros(2)\n",
    "    ct = torch.zeros(2)\n",
    "    for t in range(L):\n",
    "        Xt,yt = X[t],y[t]\n",
    "        ht,ct = lstmcell(Xt,(ht,ct))\n",
    "        netout_t = cook(ht)\n",
    "        loss = loss + loss_fn(netout_t,yt) \n",
    "    loss = loss/L\n",
    "    # 3\n",
    "    loss.backward()\n",
    "    # 4 \n",
    "    optimizr.step()\n",
    "    optimizr.zero_grad()"
   ]
  },
  {
   "cell_type": "code",
   "execution_count": 8,
   "id": "c92202a8-2847-48e5-86f8-771b497bc3cc",
   "metadata": {
    "tags": []
   },
   "outputs": [
    {
     "data": {
      "text/plain": [
       "(tensor([0.0533, 0.2075], grad_fn=<SqueezeBackward1>),\n",
       " tensor([0.1218, 0.5590], grad_fn=<SqueezeBackward1>))"
      ]
     },
     "execution_count": 8,
     "metadata": {},
     "output_type": "execute_result"
    }
   ],
   "source": [
    "ht,ct"
   ]
  },
  {
   "cell_type": "markdown",
   "id": "d79aba11-3e6b-4c1c-9edf-b73708a86346",
   "metadata": {},
   "source": [
    "## B. 직접구현 "
   ]
  },
  {
   "cell_type": "markdown",
   "id": "6734e1be-f9d4-48fc-a656-eb6cfe235930",
   "metadata": {},
   "source": [
    "### ***t=0 $\\to$ t=1***"
   ]
  },
  {
   "cell_type": "markdown",
   "id": "d240eba7-babe-4fdd-8f04-d8fdd79c159d",
   "metadata": {},
   "source": [
    "`-` `lstmcell`을 이용하여 $t=0 \\to t=1$을 구현해보자. (결과비교용)"
   ]
  },
  {
   "cell_type": "code",
   "execution_count": 9,
   "id": "206cb5a9-00c4-409b-9d1b-6e3bf3c54b97",
   "metadata": {
    "tags": []
   },
   "outputs": [],
   "source": [
    "torch.manual_seed(43052)\n",
    "lstmcell = torch.nn.LSTMCell(4,2) # 숙성담당\n",
    "cook = torch.nn.Linear(2,4)\n",
    "loss_fn = torch.nn.CrossEntropyLoss()\n",
    "optimizr = torch.optim.Adam(list(lstmcell.parameters())+list(cook.parameters()),lr=0.1) \n",
    "#---#\n",
    "L = len(X)\n",
    "for epoc in range(1):\n",
    "    # 1~2 \n",
    "    loss = 0 \n",
    "    ht = torch.zeros(2)\n",
    "    ct = torch.zeros(2)\n",
    "    for t in range(1):\n",
    "        Xt,yt = X[t],y[t]\n",
    "        ht,ct = lstmcell(Xt,(ht,ct))\n",
    "        netout_t = cook(ht)\n",
    "        loss = loss + loss_fn(netout_t,yt) \n",
    "    loss = loss/L\n",
    "    # 3\n",
    "    loss.backward()\n",
    "    # 4 \n",
    "    optimizr.step()\n",
    "    optimizr.zero_grad()"
   ]
  },
  {
   "cell_type": "code",
   "execution_count": 10,
   "id": "a714f717-0571-4c61-8ba4-9e737891a8e9",
   "metadata": {
    "tags": []
   },
   "outputs": [
    {
     "data": {
      "text/plain": [
       "(tensor([0.1067, 0.1069], grad_fn=<SqueezeBackward1>),\n",
       " tensor([0.1734, 0.2688], grad_fn=<SqueezeBackward1>))"
      ]
     },
     "execution_count": 10,
     "metadata": {},
     "output_type": "execute_result"
    }
   ],
   "source": [
    "ht,ct"
   ]
  },
  {
   "cell_type": "markdown",
   "id": "f483cc16-0c04-4f7b-aaad-039d05416da1",
   "metadata": {},
   "source": [
    "- 이런결과를 어떻게 만드는걸까? \n",
    "- <https://pytorch.org/docs/stable/generated/torch.nn.LSTM.html>"
   ]
  },
  {
   "cell_type": "markdown",
   "id": "9d32997f-139a-4306-b8f9-6ef69aefb8e6",
   "metadata": {},
   "source": [
    "`-` 직접계산 (${\\boldsymbol i}_t, {\\boldsymbol f}_t, {\\boldsymbol g}_t, {\\boldsymbol o}_t$)"
   ]
  },
  {
   "cell_type": "code",
   "execution_count": 11,
   "id": "32fc61c5-071d-4f1e-91e2-4a1d66661040",
   "metadata": {
    "tags": []
   },
   "outputs": [],
   "source": [
    "torch.manual_seed(43052)\n",
    "lstmcell = torch.nn.LSTMCell(4,2) # 숙성담당"
   ]
  },
  {
   "cell_type": "code",
   "execution_count": 12,
   "id": "bd84a2d6-23a7-4e88-be20-b4649b4f2a65",
   "metadata": {
    "tags": []
   },
   "outputs": [],
   "source": [
    "Wih = lstmcell.weight_ih.T\n",
    "Wih02 = Wih[:,0:2]\n",
    "Wih24 = Wih[:,2:4]\n",
    "Wih46 = Wih[:,4:6]\n",
    "Wih68 = Wih[:,6:8]\n",
    "#--#\n",
    "Whh = lstmcell.weight_hh.T\n",
    "Whh02 = Whh[:,0:2]\n",
    "Whh24 = Whh[:,2:4]\n",
    "Whh46 = Whh[:,4:6]\n",
    "Whh68 = Whh[:,6:8]\n",
    "#--#\n",
    "bih02 = lstmcell.bias_ih[0:2]\n",
    "bih24 = lstmcell.bias_ih[2:4]\n",
    "bih46 = lstmcell.bias_ih[4:6]\n",
    "bih68 = lstmcell.bias_ih[6:8]\n",
    "#--#\n",
    "bhh02 = lstmcell.bias_hh[0:2]\n",
    "bhh24 = lstmcell.bias_hh[2:4]\n",
    "bhh46 = lstmcell.bias_hh[4:6]\n",
    "bhh68 = lstmcell.bias_hh[6:8]"
   ]
  },
  {
   "cell_type": "code",
   "execution_count": 13,
   "id": "081f8f9b-cc35-4cb9-9cfe-58117ab96309",
   "metadata": {
    "tags": []
   },
   "outputs": [],
   "source": [
    "ht = torch.zeros(2)\n",
    "ct = torch.zeros(2)\n",
    "#--#\n",
    "it = sig(Xt@Wih02 + bih02 + ht@Whh02 + bhh02)\n",
    "ft = sig(Xt@Wih24 + bih24 + ht@Whh24 + bhh24)\n",
    "gt = tanh(Xt@Wih46 + bih46 + ht@Whh46 + bhh46)\n",
    "ot = sig(Xt@Wih68 + bih68 + ht@Whh68 + bhh68)"
   ]
  },
  {
   "cell_type": "code",
   "execution_count": 14,
   "id": "6a6f42e8-47f2-486c-81c0-cddf869a51a5",
   "metadata": {
    "tags": []
   },
   "outputs": [
    {
     "data": {
      "text/plain": [
       "(tensor([0.3081, 0.5949], grad_fn=<SigmoidBackward0>),\n",
       " tensor([0.5065, 0.4264], grad_fn=<SigmoidBackward0>),\n",
       " tensor([0.5629, 0.4518], grad_fn=<TanhBackward0>),\n",
       " tensor([0.6216, 0.4072], grad_fn=<SigmoidBackward0>))"
      ]
     },
     "execution_count": 14,
     "metadata": {},
     "output_type": "execute_result"
    }
   ],
   "source": [
    "it,ft,gt,ot"
   ]
  },
  {
   "cell_type": "markdown",
   "id": "167b2259-e92a-4f85-8310-ce090bcd48ad",
   "metadata": {},
   "source": [
    "그런데 아래와 같이 계산할수도 있음. "
   ]
  },
  {
   "cell_type": "code",
   "execution_count": 15,
   "id": "b00426c0-d330-4e1a-b41a-a097b58904fb",
   "metadata": {
    "tags": []
   },
   "outputs": [],
   "source": [
    "ifgo = Xt @ lstmcell.weight_ih.T +  lstmcell.bias_ih +\\\n",
    "ht @ lstmcell.weight_hh.T +  lstmcell.bias_hh"
   ]
  },
  {
   "cell_type": "code",
   "execution_count": 16,
   "id": "986e497c-ce5d-4be0-8a69-b2b85b40908e",
   "metadata": {
    "tags": []
   },
   "outputs": [
    {
     "name": "stdout",
     "output_type": "stream",
     "text": [
      "it = tensor([0.3081, 0.5949], grad_fn=<SigmoidBackward0>)\n",
      "ft = tensor([0.5065, 0.4264], grad_fn=<SigmoidBackward0>)\n",
      "gt = tensor([0.5629, 0.4518], grad_fn=<TanhBackward0>)\n",
      "ot = tensor([0.6216, 0.4072], grad_fn=<SigmoidBackward0>)\n"
     ]
    }
   ],
   "source": [
    "print(f\"it = {sig(ifgo[0:2])}\")\n",
    "print(f\"ft = {sig(ifgo[2:4])}\")\n",
    "print(f\"gt = {tanh(ifgo[4:6])}\")\n",
    "print(f\"ot = {sig(ifgo[6:8])}\")"
   ]
  },
  {
   "cell_type": "markdown",
   "id": "b25238e6-8736-4e1a-a3db-211145b347e5",
   "metadata": {},
   "source": [
    "`-` 직접계산 (${\\boldsymbol c}_t, {\\boldsymbol h}_t$)"
   ]
  },
  {
   "cell_type": "code",
   "execution_count": 19,
   "id": "af028ce3-a056-4083-b6bd-e33fe00f98f0",
   "metadata": {
    "tags": []
   },
   "outputs": [],
   "source": [
    "ct = it*gt + ft*ct \n",
    "ht = ot*tanh(ct)"
   ]
  },
  {
   "cell_type": "code",
   "execution_count": 20,
   "id": "735c92bf-d197-4a63-946f-fcfe54c138df",
   "metadata": {
    "tags": []
   },
   "outputs": [
    {
     "data": {
      "text/plain": [
       "(tensor([0.1588, 0.1489], grad_fn=<MulBackward0>),\n",
       " tensor([0.2613, 0.3834], grad_fn=<AddBackward0>))"
      ]
     },
     "execution_count": 20,
     "metadata": {},
     "output_type": "execute_result"
    }
   ],
   "source": [
    "ht,ct"
   ]
  },
  {
   "cell_type": "markdown",
   "id": "2ca3f2e0-7cbd-461a-b0cc-c7d4f2de4670",
   "metadata": {},
   "source": [
    "### `#` ***t=0 $\\to$ t=L***"
   ]
  },
  {
   "cell_type": "markdown",
   "id": "3c490f4e-a375-4ec6-8adc-c6a050575045",
   "metadata": {},
   "source": [
    "`-` `lstmcell`을 이용하여 구현해보자. (결과비교용)"
   ]
  },
  {
   "cell_type": "code",
   "execution_count": 21,
   "id": "4219bb6f-0275-41f4-81d9-c97b35803feb",
   "metadata": {
    "tags": []
   },
   "outputs": [],
   "source": [
    "torch.manual_seed(43052)\n",
    "lstmcell = torch.nn.LSTMCell(4,2) # 숙성담당\n",
    "cook = torch.nn.Linear(2,4)\n",
    "loss_fn = torch.nn.CrossEntropyLoss()\n",
    "optimizr = torch.optim.Adam(list(lstmcell.parameters())+list(cook.parameters()),lr=0.1) \n",
    "#---#\n",
    "L = len(X)\n",
    "for epoc in range(1):\n",
    "    # 1~2 \n",
    "    loss = 0 \n",
    "    ht = torch.zeros(2)\n",
    "    ct = torch.zeros(2)\n",
    "    for t in range(L):\n",
    "        Xt,yt = X[t],y[t]\n",
    "        ht,ct = lstmcell(Xt,(ht,ct))\n",
    "        netout_t = cook(ht)\n",
    "        loss = loss + loss_fn(netout_t,yt) \n",
    "    loss = loss/L\n",
    "    # 3\n",
    "    loss.backward()\n",
    "    # 4 \n",
    "    optimizr.step()\n",
    "    optimizr.zero_grad()"
   ]
  },
  {
   "cell_type": "code",
   "execution_count": 22,
   "id": "0aa701ff-b7e6-4036-b8c6-ee4cd69b80a9",
   "metadata": {
    "tags": []
   },
   "outputs": [
    {
     "data": {
      "text/plain": [
       "(tensor([0.0533, 0.2075], grad_fn=<SqueezeBackward1>),\n",
       " tensor([0.1218, 0.5590], grad_fn=<SqueezeBackward1>))"
      ]
     },
     "execution_count": 22,
     "metadata": {},
     "output_type": "execute_result"
    }
   ],
   "source": [
    "ht,ct"
   ]
  },
  {
   "cell_type": "markdown",
   "id": "4b7e1cde-8ee1-4b7d-a59f-3ecd3cc26dd8",
   "metadata": {},
   "source": [
    "`-` 직접구현 "
   ]
  },
  {
   "cell_type": "code",
   "execution_count": 23,
   "id": "46c85c22-20c5-4648-b362-7b706fc69ff2",
   "metadata": {
    "tags": []
   },
   "outputs": [],
   "source": [
    "torch.manual_seed(43052)\n",
    "lstmcell = torch.nn.LSTMCell(4,2) # 숙성담당\n",
    "cook = torch.nn.Linear(2,4)\n",
    "loss_fn = torch.nn.CrossEntropyLoss()\n",
    "optimizr = torch.optim.Adam(list(lstmcell.parameters())+list(cook.parameters()),lr=0.1) \n",
    "#---#\n",
    "L = len(X)\n",
    "for epoc in range(1):\n",
    "    # 1~2 \n",
    "    loss = 0 \n",
    "    ht = torch.zeros(2)\n",
    "    ct = torch.zeros(2)\n",
    "    for t in range(L):\n",
    "        Xt,yt = X[t],y[t]\n",
    "        ifgo = Xt @ lstmcell.weight_ih.T +  lstmcell.bias_ih +\\\n",
    "                ht @ lstmcell.weight_hh.T +  lstmcell.bias_hh\n",
    "        it,ft,gt,ot = sig(ifgo[0:2]),sig(ifgo[2:4]),tanh(ifgo[4:6]),sig(ifgo[6:8])\n",
    "        ct = it*gt + ft*ct\n",
    "        ht = ot*tanh(ct)\n",
    "        netout_t = cook(ht)\n",
    "        loss = loss + loss_fn(netout_t,yt) \n",
    "    loss = loss/L\n",
    "    # 3\n",
    "    loss.backward()\n",
    "    # 4 \n",
    "    optimizr.step()\n",
    "    optimizr.zero_grad()"
   ]
  },
  {
   "cell_type": "code",
   "execution_count": 24,
   "id": "aa871391-e37a-4f3d-aa5d-7dad101f6f1c",
   "metadata": {
    "tags": []
   },
   "outputs": [
    {
     "data": {
      "text/plain": [
       "(tensor([0.0533, 0.2075], grad_fn=<MulBackward0>),\n",
       " tensor([0.1218, 0.5590], grad_fn=<AddBackward0>))"
      ]
     },
     "execution_count": 24,
     "metadata": {},
     "output_type": "execute_result"
    }
   ],
   "source": [
    "ht,ct"
   ]
  },
  {
   "cell_type": "markdown",
   "id": "68b531d3-1aac-461d-9d7f-2fa1dbd3f8c1",
   "metadata": {},
   "source": [
    "## C. `torch.nn.LSTM`"
   ]
  },
  {
   "cell_type": "code",
   "execution_count": 25,
   "id": "684038c5-dca4-4db0-8a56-58ccf2d06fee",
   "metadata": {
    "tags": []
   },
   "outputs": [],
   "source": [
    "torch.manual_seed(43052)\n",
    "lstmcell = torch.nn.LSTMCell(4,2) # 숙성담당\n",
    "cook = torch.nn.Linear(2,4)\n",
    "lstm = torch.nn.LSTM(4,2) # <-- 이거로 학습\n",
    "lstm.weight_ih_l0.data = lstmcell.weight_ih.data\n",
    "lstm.weight_hh_l0.data = lstmcell.weight_hh.data \n",
    "lstm.bias_ih_l0.data = lstmcell.bias_ih.data\n",
    "lstm.bias_hh_l0.data = lstmcell.bias_hh.data\n",
    "loss_fn = torch.nn.CrossEntropyLoss()\n",
    "optimizr = torch.optim.Adam(list(lstmcell.parameters())+list(cook.parameters()),lr=0.1) \n",
    "#---#\n",
    "L = len(X)\n",
    "Water = torch.zeros(1,2)\n",
    "for epoc in range(1):\n",
    "    # 1 \n",
    "    h,(hL,cL) = lstm(X,(Water,Water))\n",
    "    netout = cook(h)\n",
    "    # 2 \n",
    "    loss = loss_fn(netout,y)\n",
    "    # 3\n",
    "    loss.backward()\n",
    "    # 4 \n",
    "    optimizr.step()\n",
    "    optimizr.zero_grad()"
   ]
  },
  {
   "cell_type": "code",
   "execution_count": 26,
   "id": "7f78e4d4-91ec-44a9-a72a-e2f203601eb2",
   "metadata": {
    "tags": []
   },
   "outputs": [
    {
     "data": {
      "text/plain": [
       "(tensor([[0.0533, 0.2075]], grad_fn=<SqueezeBackward1>),\n",
       " tensor([[0.1218, 0.5590]], grad_fn=<SqueezeBackward1>))"
      ]
     },
     "execution_count": 26,
     "metadata": {},
     "output_type": "execute_result"
    }
   ],
   "source": [
    "hL,cL"
   ]
  },
  {
   "cell_type": "markdown",
   "id": "d4b511c4-a72c-4e17-b784-60ef5ab8fcb5",
   "metadata": {},
   "source": [
    "# 5. LSTM은 왜 강한가? "
   ]
  },
  {
   "cell_type": "markdown",
   "id": "86276262-4585-4b7a-b449-f4b35934588a",
   "metadata": {},
   "source": [
    "## A. 적합 및 시각화 "
   ]
  },
  {
   "cell_type": "markdown",
   "id": "e2606b2e-f46d-4c0f-8981-d379f0df581e",
   "metadata": {},
   "source": [
    "`-` 적합"
   ]
  },
  {
   "cell_type": "code",
   "execution_count": 27,
   "id": "bced9cca-dcf7-4471-9bcf-99e30264db34",
   "metadata": {
    "tags": []
   },
   "outputs": [],
   "source": [
    "torch.manual_seed(43052)\n",
    "lstm = torch.nn.LSTM(4,2)\n",
    "cook = torch.nn.Linear(2,4)\n",
    "loss_fn = torch.nn.CrossEntropyLoss() \n",
    "optimizr = torch.optim.Adam(list(lstm.parameters())+ list(cook.parameters()),lr=0.1)\n",
    "#--#\n",
    "Water = torch.zeros(1,2) \n",
    "for epoc in range(200): \n",
    "    ## step1 \n",
    "    h, (hL,cL) = lstm(X,(Water,Water))\n",
    "    netout = cook(h)\n",
    "    ## step2\n",
    "    loss = loss_fn(netout,y) \n",
    "    ## step3\n",
    "    loss.backward()\n",
    "    ## step4 \n",
    "    optimizr.step()\n",
    "    optimizr.zero_grad() "
   ]
  },
  {
   "cell_type": "markdown",
   "id": "ea39590d-8439-4a96-9e40-29b784eaacb1",
   "metadata": {},
   "source": [
    "`-` 시각화 "
   ]
  },
  {
   "cell_type": "code",
   "execution_count": 28,
   "id": "92933a9f-34e7-48af-93a2-214369af9a89",
   "metadata": {
    "tags": []
   },
   "outputs": [],
   "source": [
    "L = len(X)\n",
    "i = input_gate = torch.zeros(L,2)\n",
    "f = forget_gate = torch.zeros(L,2)\n",
    "g = gihhen_state = torch.zeros(L,2)\n",
    "o = output_gate = torch.zeros(L,2)\n",
    "c = cell_state = torch.zeros(L,2)\n",
    "h = hidden_state = torch.zeros(L,2) \n",
    "#--#\n",
    "water = torch.zeros(2)\n",
    "ifgo = X[0] @ lstm.weight_ih_l0.T + lstm.bias_ih_l0 +\\\n",
    "        water @ lstm.weight_hh_l0.T + lstm.bias_hh_l0 \n",
    "# 위에서 water는 h0에 대응\n",
    "i[0] = sig(ifgo[0:2])\n",
    "f[0] = sig(ifgo[2:4])\n",
    "g[0] = tanh(ifgo[4:6])\n",
    "o[0] = sig(ifgo[6:8])\n",
    "c[0] = f[0] * water + i[0] * g[0] # water는 c0에 대응 \n",
    "h[0] = o[0] * tanh(c[0])\n",
    "#--#\n",
    "for t in range(1,L): \n",
    "    ## 1: calculate ifgo \n",
    "    ifgo = X[t] @ lstm.weight_ih_l0.T + lstm.bias_ih_l0 +\\\n",
    "            h[t-1] @ lstm.weight_hh_l0.T +  lstm.bias_hh_l0 \n",
    "    ## 2: decompose ifgo \n",
    "    i[t] = sig(ifgo[0:2])\n",
    "    f[t] = sig(ifgo[2:4])\n",
    "    g[t] = tanh(ifgo[4:6])\n",
    "    o[t] = sig(ifgo[6:8])\n",
    "    ## 3: calculate ht,ct \n",
    "    c[t] = f[t] * c[t-1] + i[t] * g[t]\n",
    "    h[t] = o[t] * tanh(c[t])"
   ]
  },
  {
   "cell_type": "code",
   "execution_count": 29,
   "id": "2a840f6a-c978-4a9e-9fa2-a9982e405fb9",
   "metadata": {
    "tags": []
   },
   "outputs": [
    {
     "data": {
      "text/plain": [
       "<matplotlib.colorbar.Colorbar at 0x74b7aa5c1390>"
      ]
     },
     "execution_count": 29,
     "metadata": {},
     "output_type": "execute_result"
    },
    {
     "data": {
      "image/png": "[encoded data removed]",
      "text/plain": [
       "<Figure size 480x480 with 2 Axes>"
      ]
     },
     "metadata": {},
     "output_type": "display_data"
    }
   ],
   "source": [
    "mat = torch.concat([g,h,soft(netout)],axis=1)[:8].data\n",
    "plt.matshow(mat,cmap='bwr',vmin=-1,vmax=1);\n",
    "plt.axvline(x=3.5,color=\"lime\")\n",
    "plt.xticks(\n",
    "    ticks=range(mat.shape[-1]),\n",
    "    labels=[r\"$g_0$\",r\"$g_1$\",r\"$h_0$\",r\"$h_1$\",\n",
    "            r\"$P_a$\",r\"$P_b$\",r\"$P_c$\",r\"$P_C$\"]\n",
    ")\n",
    "plt.colorbar()"
   ]
  },
  {
   "cell_type": "markdown",
   "id": "4eb4efc6-2cb0-4866-b8ba-c6b8fe298cf5",
   "metadata": {},
   "source": [
    "## B. 시각화1: $({\\boldsymbol g}_t, {\\boldsymbol c}_{t-1}) \\to {\\boldsymbol c}_{t}$"
   ]
  },
  {
   "cell_type": "code",
   "execution_count": 30,
   "id": "3dd1ed7b-47af-4cbf-84fb-9762ec630baf",
   "metadata": {
    "tags": []
   },
   "outputs": [],
   "source": [
    "mat1 = torch.concat([g[1:9],i[1:9],g[1:9]*i[1:9]],axis=1).data\n",
    "mat2 = torch.concat([c[:8],f[1:9],c[:8]*f[1:9]],axis=1).data\n",
    "mat3 = torch.concat([g[1:9]*i[1:9],c[:8]*f[1:9],c[1:9]],axis=1).data"
   ]
  },
  {
   "cell_type": "code",
   "execution_count": 32,
   "id": "60a3f9bc-998c-49c6-a36e-8ebdc6409014",
   "metadata": {
    "tags": []
   },
   "outputs": [
    {
     "data": {
      "text/plain": [
       "(tensor(-1.0900, grad_fn=<MinBackward1>),\n",
       " tensor(0.9979, grad_fn=<MaxBackward1>))"
      ]
     },
     "execution_count": 32,
     "metadata": {},
     "output_type": "execute_result"
    }
   ],
   "source": [
    "c[:8].min(),c[:8].max() "
   ]
  },
  {
   "cell_type": "markdown",
   "id": "24072693-8080-49f7-8886-4b8369ed07fd",
   "metadata": {},
   "source": [
    "- ${\\boldsymbol c}_t$의 경우 원래 출력값이 -1, 1 사이라는 보장은 없으나, 이 예제의 경우에는 거의 -1, 1 사이임. \n",
    "- `matshow`로 시각화할때 `vmin=-1`, `vmax=1`로 설정해도 ${\\boldsymbol c}_t$를 표현함에 부족함이 없을듯 "
   ]
  },
  {
   "cell_type": "code",
   "execution_count": 33,
   "id": "20c4d4a6-2449-4540-a458-7993f1f58bbc",
   "metadata": {
    "tags": []
   },
   "outputs": [
    {
     "data": {
      "image/png": "[encoded data removed]",
      "text/plain": [
       "<Figure size 1000x1000 with 3 Axes>"
      ]
     },
     "metadata": {},
     "output_type": "display_data"
    }
   ],
   "source": [
    "fig,ax = plt.subplots(1,3,figsize=(10,10))\n",
    "ax[0].matshow(mat1,cmap='bwr',vmin=-1,vmax=1);\n",
    "ax[0].axvline(x=1.5,linestyle=\"dashed\",color=\"lime\")\n",
    "ax[0].axvline(x=3.5,linestyle=\"dashed\",color=\"lime\")\n",
    "ax[0].set_xticks(ticks= [0.5,2.5,4.5],labels=[r'${\\bf g}_t$',r'${\\bf i}_t$',r'${\\bf g}_t \\odot {\\bf i}_t$']);\n",
    "ax[1].matshow(mat2,cmap='bwr',vmin=-1,vmax=1);\n",
    "ax[1].axvline(x=1.5,linestyle=\"dashed\",color=\"lime\")\n",
    "ax[1].axvline(x=3.5,linestyle=\"dashed\",color=\"lime\")\n",
    "ax[1].set_xticks(ticks= [0.5,2.5,4.5],labels=[r'${\\bf c}_{t-1}$',r'${\\bf f}_t$',r'${\\bf c}_{t-1} \\odot {\\bf f}_t$']);\n",
    "ax[2].matshow(mat3,cmap='bwr',vmin=-1,vmax=1);\n",
    "ax[2].axvline(x=1.5,linestyle=\"dashed\",color=\"lime\")\n",
    "ax[2].axvline(x=3.5,linestyle=\"dashed\",color=\"lime\")\n",
    "ax[2].set_xticks(ticks= [0.5,2.5,4.5],labels=[r'${\\bf g}_t \\odot {\\bf i}_t$',r'${\\bf c}_{t-1} \\odot {\\bf f}_t$',r'${\\bf c}_t$']);\n",
    "fig.tight_layout()"
   ]
  },
  {
   "cell_type": "markdown",
   "id": "c6b2ac16-dcd6-416a-adbd-78744475b419",
   "metadata": {},
   "source": [
    "`-` ${\\boldsymbol g}_t$ 특징: 보통 -1,1 중 하나의 값을 가지도록 학습되어 있다. (마치 RNN의 hidden node처럼!) \n",
    "\n",
    "- $\\boldsymbol{g}_t = \\tanh({\\boldsymbol x}_t {\\bf W}_{ig} + {\\boldsymbol h}_{t-1} {\\bf W}_{hg}+ {\\boldsymbol b}_{ig}+{\\boldsymbol b}_{hg})$"
   ]
  },
  {
   "cell_type": "markdown",
   "id": "40c60a28-130d-479d-b629-68347066e0b9",
   "metadata": {},
   "source": [
    "`-` ${\\boldsymbol c}_t$ 특징: ${\\boldsymbol g}_t$와 매우 비슷하지만 약간 다른값을 가진다. 그래서 ${\\boldsymbol g}_t$와는 달리 \n",
    "-1,1 이외의 값도 종종 등장. \n",
    "\n",
    "- ${\\boldsymbol c}_t$의 값은 이론상 제한이 없음. (꼭 -1,1 사이에 있지 않음)"
   ]
  },
  {
   "cell_type": "markdown",
   "id": "779f8e42-1ea8-4680-90e7-f0e1207e083c",
   "metadata": {},
   "source": [
    "## C. 시각화2: ${\\boldsymbol g}_t \\to {\\boldsymbol h}_{t}$"
   ]
  },
  {
   "cell_type": "code",
   "execution_count": 44,
   "id": "42001553-4640-4a69-a8ec-69b8f0e0846a",
   "metadata": {
    "tags": []
   },
   "outputs": [],
   "source": [
    "mat = torch.concat([g[:8],tanh(c[:8]),o[:8],h[:8]],axis=1).data"
   ]
  },
  {
   "cell_type": "code",
   "execution_count": 46,
   "id": "2dc8a94f-ecfc-46ec-9874-e6ce310b78a0",
   "metadata": {
    "tags": []
   },
   "outputs": [
    {
     "data": {
      "text/plain": [
       "<matplotlib.lines.Line2D at 0x74b6b4c67190>"
      ]
     },
     "execution_count": 46,
     "metadata": {},
     "output_type": "execute_result"
    },
    {
     "data": {
      "image/png": "[encoded data removed]",
      "text/plain": [
       "<Figure size 480x480 with 1 Axes>"
      ]
     },
     "metadata": {},
     "output_type": "display_data"
    }
   ],
   "source": [
    "plt.matshow(mat.data,cmap='bwr',vmin=-1,vmax=1)\n",
    "plt.xticks([0.5,2.5,4.5,6.5],[r'${\\bf g}_t$',r'$tanh({\\bf c}_t)$',r'${\\bf o}_t$',r'${\\bf h}_t$']);\n",
    "plt.axvline(x=1.5,color=\"lime\",linewidth=3)\n",
    "plt.axvline(x=3.5,linestyle=\"dashed\",color=\"lime\")\n",
    "plt.axvline(x=5.5,linestyle=\"dashed\",color=\"lime\")\n",
    "plt.axvline(x=7.5,color=\"lime\",linewidth=3)"
   ]
  },
  {
   "cell_type": "markdown",
   "id": "8ca367bb-58f6-45c3-8a2e-75d08988aa6f",
   "metadata": {},
   "source": [
    "`-` ${\\boldsymbol h}_t$ 특징: (1) ${\\boldsymbol c}_t$에서 원하는 것만 선택적으로 특징으로 삼은 느낌. (2) $c_t$보다 훨씬 값을 다양하게 가진다. ($\\odot$ 의 효과 )"
   ]
  },
  {
   "cell_type": "markdown",
   "id": "3275330e-82f7-40a4-9a15-d999d5d62f7f",
   "metadata": {},
   "source": [
    "## D. LSTM의 알고리즘 리뷰 I (수식위주)"
   ]
  },
  {
   "cell_type": "markdown",
   "id": "8f5391d4-3816-431a-9da4-99f6f7f311cb",
   "metadata": {},
   "source": [
    "**(step1)** calculate ${\\tt ifgo}$"
   ]
  },
  {
   "cell_type": "markdown",
   "id": "edb106ff-b976-4215-816b-a237568b2542",
   "metadata": {},
   "source": [
    "${\\tt ifgo} = {\\boldsymbol x}_t  \\big[{\\bf W}_{ii} | {\\bf W}_{if}| {\\bf W}_{ig} |{\\bf W}_{io}\\big] + {\\boldsymbol h}_{t-1}  \\big[ {\\bf W}_{hi}|{\\bf W}_{hf} |{\\bf W}_{hg} | {\\bf W}_{ho} \\big] + bias$\n",
    "\n",
    "$=\\big[{\\boldsymbol x}_t{\\bf W}_{ii} + {\\boldsymbol h}_{t-1}{\\bf W}_{hi} ~\\big|~ {\\boldsymbol x}_t{\\bf W}_{if}+ {\\boldsymbol h}_{t-1}{\\bf W}_{hf}~ \\big|~ {\\boldsymbol x}_t{\\bf W}_{ig} + {\\boldsymbol h}_{t-1}{\\bf W}_{hg}  ~\\big|~ {\\boldsymbol x}_t{\\bf W}_{io} + {\\boldsymbol h}_{t-1}{\\bf W}_{ho} \\big] + bias$"
   ]
  },
  {
   "cell_type": "markdown",
   "id": "395fe3d5-1738-4ce3-9559-1f72e16ff5ac",
   "metadata": {},
   "source": [
    "참고: 위의 수식은 아래코드에 해당하는 부분\n",
    "\n",
    "```Python\n",
    "ifgo = Xt @ lstm_cell.weight_ih.T +\\\n",
    "       ht @ lstm_cell.weight_hh.T +\\\n",
    "       lstm_cell.bias_ih + lstm_cell.bias_hh\n",
    "```"
   ]
  },
  {
   "cell_type": "markdown",
   "id": "0392d124-ba87-4b5e-b962-662192e8c824",
   "metadata": {},
   "source": [
    "**(step2)** decompose ${\\tt ifgo}$ and get ${\\boldsymbol i}_t$, ${\\boldsymbol f}_t$, ${\\boldsymbol g}_t$, ${\\boldsymbol o}_t$"
   ]
  },
  {
   "cell_type": "markdown",
   "id": "dd5008e1-1bfd-4e56-8b0e-cc40c1effd7e",
   "metadata": {},
   "source": [
    "${\\boldsymbol i}_t = \\sigma({\\boldsymbol x}_t {\\bf W}_{ii} + {\\boldsymbol h}_{t-1} {\\bf W}_{hi} +bias )$ "
   ]
  },
  {
   "cell_type": "markdown",
   "id": "3a1e2b12-c81e-4f4d-9c64-0b81f0f1b412",
   "metadata": {},
   "source": [
    "${\\boldsymbol f}_t = \\sigma({\\boldsymbol x}_t {\\bf W}_{if} + {\\boldsymbol h}_{t-1} {\\bf W}_{hf} +bias )$ "
   ]
  },
  {
   "cell_type": "markdown",
   "id": "e0ca1d6b-3877-410d-8f76-5fdf7f5be61a",
   "metadata": {},
   "source": [
    "${\\boldsymbol g}_t = \\tanh({\\boldsymbol x}_t {\\bf W}_{ig} + {\\boldsymbol h}_{t-1} {\\bf W}_{hg} +bias )$ "
   ]
  },
  {
   "cell_type": "markdown",
   "id": "3581dff4-d113-4d79-8631-23954ab990fc",
   "metadata": {},
   "source": [
    "${\\boldsymbol o}_t = \\sigma({\\boldsymbol x}_t {\\bf W}_{io} + {\\boldsymbol h}_{t-1} {\\bf W}_{ho} +bias )$ "
   ]
  },
  {
   "cell_type": "markdown",
   "id": "a7708ebb-0035-45de-ae92-d439dffc27b1",
   "metadata": {},
   "source": [
    "**(step3)** calculate ${\\boldsymbol c}_t$ and ${\\boldsymbol h}_t$"
   ]
  },
  {
   "cell_type": "markdown",
   "id": "e6d6a7d6-2797-4326-881e-269d468a46e2",
   "metadata": {},
   "source": [
    "${\\boldsymbol c}_t = {\\boldsymbol i}_t \\odot {\\boldsymbol g}_t+ {\\boldsymbol f}_t \\odot {\\boldsymbol c}_{t-1}$"
   ]
  },
  {
   "cell_type": "markdown",
   "id": "5301e05b-83cd-4b71-8a24-4ee3cf7ca2a5",
   "metadata": {},
   "source": [
    "${\\boldsymbol h}_t = {\\boldsymbol o}_t \\odot \\tanh({\\boldsymbol c}_t)$"
   ]
  },
  {
   "cell_type": "markdown",
   "id": "a0594c26-b1c2-4594-8f9c-7e6237ee32ad",
   "metadata": {},
   "source": [
    "## E. LSTM의 알고리즘 리뷰 II (느낌위주)"
   ]
  },
  {
   "cell_type": "markdown",
   "id": "7fb5fa1e-7fe8-40eb-bc68-ddae1a06910a",
   "metadata": {},
   "source": [
    "- 이해 및 암기를 돕기위해서 비유적으로 설명한 챕터입니다.."
   ]
  },
  {
   "cell_type": "markdown",
   "id": "b99f3dad-5d62-4f49-ba11-33fd294e41a3",
   "metadata": {},
   "source": [
    "`-` 느낌: RNN이 콩물에서 간장을 한번에 숙성시키는 방법이라면 LSTM은 콩물에서 간장을 단계를 나누어 숙성하는 느낌이다. \n",
    "\n",
    "- RNN: ${\\boldsymbol x}_t \\overset{{\\boldsymbol h}_{t-1}}{\\longrightarrow} {\\boldsymbol h}_t$\n",
    "- LSTM: ${\\boldsymbol x}_t \\overset{{\\boldsymbol h}_{t-1}}{\\longrightarrow} {\\boldsymbol g}_t \\overset{{\\boldsymbol c}_{t-1}}{\\longrightarrow} \\Big({\\boldsymbol c}_t \\to {\\boldsymbol h}_t \\Big)$"
   ]
  },
  {
   "cell_type": "markdown",
   "id": "a593725c-ebfd-4e74-8cc1-5ba56b684366",
   "metadata": {},
   "source": [
    "`-` ${\\boldsymbol g}_t$에 대하여\n",
    "\n",
    "- 과거와 현재의 결합 (선형변환): ${\\boldsymbol x}_t$와 ${\\boldsymbol h}_{t-1}$를 ${\\bf W}_{ig}, {\\bf W}_{hg}$를 이용해 선형결합\n",
    "- 숙성(비선형변환): $\\tanh$\n",
    "- 느낌: RNN에서 간장을 만들던 그 수식에서 $h_t$를 $g_t$로 바꾼것 그래서 RNN의 간장과 비슷하다고 생각하면 된다. \n",
    "- 노트: RNN의 간장은 한계를 가지고 있는데 그 한계를 극복하기 위해 만든 것이 ${\\boldsymbol c}_t$"
   ]
  },
  {
   "cell_type": "markdown",
   "id": "d0754f9e-7e27-423e-931f-809352affa34",
   "metadata": {},
   "source": [
    "`-` ${\\boldsymbol c}_t$에 대하여\n",
    "\n",
    "- 과거와 현재의 결합 (선형변환): ${\\boldsymbol g}_{t}$와 ${\\boldsymbol c}_{t-1}$를 요소별로 선택하고 더하는 과정 \n",
    "- 숙성 (비선형변환): 없음. \n",
    "- 느낌: 과거와 현재의 정보중 유리한것만 기억하여 선택적으로 결합함. 이때 결합방식에 대한 노하우는 ${\\tt input-gate}$, ${\\tt forget-gate}$ 에 있으며 그러한 결합의 결과가 ${\\boldsymbol c}_t$에 있음. 이 ${\\boldsymbol c}_t$에 대한 정보는 그대로 \"냉동보관(?)\"되어 다음세대로 내려옴.\n",
    "- 비고: ${\\boldsymbol c}_t$는 사실상 LSTM 알고리즘의 꽃이라 할 수 있음. LSTM은 long short term memory의 약자임. 기존의 RNN은 장기기억을 활용함에 약점이 있는데 LSTM은 단기기억/장기기억 모두 잘 활용함. LSTM이 장기기억을 잘 활용하는 비법은 바로 ${\\boldsymbol c}_t$에 있다."
   ]
  },
  {
   "cell_type": "markdown",
   "id": "83cd3ce6-ee1a-4e98-9f80-b53493ef50b6",
   "metadata": {},
   "source": [
    "`-` ${\\boldsymbol h}_t$에 대하여\n",
    "\n",
    "- 과거와 현재의 결합 (선형변환): 없음 \n",
    "- 숙성 (비선형변환): $\\tanh({\\boldsymbol c}_t)$를 요소별로 선택하여 숙성"
   ]
  },
  {
   "cell_type": "markdown",
   "id": "b4e674b3-e0c8-47b4-886c-65a7f5f992f7",
   "metadata": {},
   "source": [
    "> RNN은 기억할 과거정보가 ${\\boldsymbol h}_{t-1}$ 하나이지만 LSTM은 ${\\boldsymbol c}_{t-1}$, ${\\boldsymbol h}_{t-1}$ 2개이다. "
   ]
  },
  {
   "cell_type": "markdown",
   "id": "e7e3e926-9f0f-4b01-af2b-a3ccaebcc16e",
   "metadata": {},
   "source": [
    "## F. LSTM이 강한이유 "
   ]
  },
  {
   "cell_type": "markdown",
   "id": "c991a409-b56f-4918-b559-97b1c1825cb8",
   "metadata": {},
   "source": [
    "`-` 답변1: LSTM이 장기기억에 유리함. 그 이유는 input, forget, output gate 들이 장기기억을 위한 역할을 하기 때문. \n",
    "\n",
    "- 비판: 아키텍처에 대한 이론적 근거는 없음. 장기기억을 위하여 꼭 LSTM같은 구조일 필요는 없음. (게이트는 꼭3개이어야 하는지?)"
   ]
  },
  {
   "cell_type": "markdown",
   "id": "f1153a9c-c77a-4814-9382-54833df96443",
   "metadata": {},
   "source": [
    "`-` 답변2: 저는 사실 아까 살펴본 아래의 이유로 이해하고 있습니다. \n",
    "\n",
    "- 실험적으로 살펴보니 LSTM이 RNN보다 장기기억에 유리했음.\n",
    "- 그 이유: RNN은 ${\\boldsymbol h}_t$의 값이 -1 혹은 1로 결정되는 경우가 많았음. 그러나 경우에 따라서는 ${\\boldsymbol h}_t$이 -1~1의 값을 가지는 것이 문맥적 뉘앙스를 포착하기에는 유리한데 LSTM이 이러한 방식으로 학습되는 경우가 많았음. \n",
    "- 왜 LSTM의 ${\\boldsymbol h}_t$은 -1,1 이외의 값을 쉽게 가질 수 있는가? $\\odot$ 때문에.. 즉 게이트때문에.."
   ]
  },
  {
   "cell_type": "markdown",
   "id": "16b6e9a9-0504-4f85-9b66-d2e221f07baa",
   "metadata": {},
   "source": [
    "# 6. Ref "
   ]
  },
  {
   "cell_type": "markdown",
   "id": "34613a63-7a2d-4bfb-ace4-608cc1dbc320",
   "metadata": {},
   "source": [
    "`-` 참고자료들 "
   ]
  },
  {
   "cell_type": "markdown",
   "id": "ab037ab6-9fa8-4884-b37a-622babdec311",
   "metadata": {},
   "source": [
    "- <https://colah.github.io/posts/2015-08-Understanding-LSTMs/>\n",
    "- <https://pytorch.org/docs/stable/generated/torch.nn.LSTM.html>\n",
    "- <https://arxiv.org/abs/1402.1128>"
   ]
  }
 ],
 "metadata": {
  "kernelspec": {
   "display_name": "Python 3 (ipykernel)",
   "language": "python",
   "name": "python3"
  },
  "language_info": {
   "codemirror_mode": {
    "name": "ipython",
    "version": 3
   },
   "file_extension": ".py",
   "mimetype": "text/x-python",
   "name": "python",
   "nbconvert_exporter": "python",
   "pygments_lexer": "ipython3",
   "version": "3.11.8"
  }
 },
 "nbformat": 4,
 "nbformat_minor": 5
}
